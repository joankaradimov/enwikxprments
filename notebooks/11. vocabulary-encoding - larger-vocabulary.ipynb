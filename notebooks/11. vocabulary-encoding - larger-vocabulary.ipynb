{
 "cells": [
  {
   "cell_type": "code",
   "execution_count": 1,
   "metadata": {},
   "outputs": [],
   "source": [
    "import tensorflow as tf\n",
    "import tensorflow_datasets as tfds"
   ]
  },
  {
   "cell_type": "code",
   "execution_count": 2,
   "metadata": {},
   "outputs": [],
   "source": [
    "def articles():\n",
    "    with open('page_revisions_text', 'rb') as text_file:\n",
    "        pending_article_data = b''\n",
    "        while True:\n",
    "            data = text_file.read(1024 * 1024)\n",
    "            if len(data) == 0:\n",
    "                break\n",
    "\n",
    "            articles = data.split(b'\\0')\n",
    "            articles[0] = pending_article_data + articles[0]\n",
    "            for index, article in enumerate(articles):\n",
    "                if index + 1 == len(articles):\n",
    "                    pending_article_data = article\n",
    "                else:\n",
    "                    yield article\n",
    "\n",
    "        print(pending_article_data)\n",
    "        if len(pending_article_data) != 0:\n",
    "            yield pending_article_data"
   ]
  },
  {
   "cell_type": "code",
   "execution_count": 3,
   "metadata": {},
   "outputs": [
    {
     "name": "stdout",
     "output_type": "stream",
     "text": [
      "b''\n"
     ]
    }
   ],
   "source": [
    "subword_text_encoder = tfds.features.text.SubwordTextEncoder.build_from_corpus(articles(), 4096)\n",
    "subword_text_encoder.save_to_file('vocab_4096')"
   ]
  },
  {
   "cell_type": "markdown",
   "metadata": {},
   "source": [
    "Да видим как би изглеждало обучение с кодираните статии..."
   ]
  },
  {
   "cell_type": "code",
   "execution_count": 4,
   "metadata": {},
   "outputs": [],
   "source": [
    "import os\n",
    "\n",
    "import numpy as np\n",
    "import itertools"
   ]
  },
  {
   "cell_type": "code",
   "execution_count": 5,
   "metadata": {},
   "outputs": [
    {
     "data": {
      "text/plain": [
       "<MapDataset shapes: ((64, None), (64, None)), types: (tf.uint16, tf.uint16)>"
      ]
     },
     "execution_count": 5,
     "metadata": {},
     "output_type": "execute_result"
    }
   ],
   "source": [
    "BATCH_SIZE = 64\n",
    "BATCHED_ITEM_LENGTH = 128\n",
    "BUFFER_SIZE = 256\n",
    "TYPE=np.uint16\n",
    "\n",
    "def articles_generator():\n",
    "    for index, article in enumerate(itertools.islice(articles(), 0, 2000)):\n",
    "        yield np.array(subword_text_encoder.encode(article + b'\\0'), dtype=TYPE)\n",
    "\n",
    "    # Pad the article count to the batch size\n",
    "    # We do this to ensure that no data is dropped\n",
    "    index += 1\n",
    "    while index % BATCH_SIZE != 0:\n",
    "        yield np.array([0], dtype=TYPE)\n",
    "        index += 1\n",
    "\n",
    "def subbatches():\n",
    "    dataset = tf.data.Dataset.from_generator(articles_generator, output_types=TYPE)\n",
    "    dataset = dataset.shuffle(BUFFER_SIZE)\n",
    "    dataset = dataset.padded_batch(BATCH_SIZE, padded_shapes=([None]), drop_remainder=True)\n",
    "\n",
    "    for batch in dataset.as_numpy_iterator():\n",
    "        remaining = batch\n",
    "        while remaining.shape[1] > 1:\n",
    "            yield remaining[:, :BATCHED_ITEM_LENGTH]\n",
    "            remaining = remaining[:, BATCHED_ITEM_LENGTH-1:]\n",
    "\n",
    "dataset = tf.data.Dataset.from_generator(subbatches, output_types=TYPE, output_shapes=(BATCH_SIZE, None))\n",
    "dataset = dataset.map(lambda batch: (batch[:, :-1], batch[:, 1:]))\n",
    "\n",
    "dataset"
   ]
  },
  {
   "cell_type": "code",
   "execution_count": 6,
   "metadata": {},
   "outputs": [],
   "source": [
    "def build_model(vocab_size, embedding_dim, rnn_units, batch_size):\n",
    "    return tf.keras.Sequential([\n",
    "        tf.keras.layers.Embedding(vocab_size, embedding_dim, batch_input_shape=[batch_size, None]),\n",
    "        tf.keras.layers.LSTM(rnn_units, return_sequences=True, stateful=True, recurrent_initializer='glorot_uniform'),\n",
    "        tf.keras.layers.Dense(vocab_size),\n",
    "    ])"
   ]
  },
  {
   "cell_type": "code",
   "execution_count": 7,
   "metadata": {},
   "outputs": [],
   "source": [
    "def loss(labels, logits):\n",
    "    return tf.keras.losses.sparse_categorical_crossentropy(labels, logits, from_logits=True)\n",
    "\n",
    "def average_batch_length(true_labels, predictions):\n",
    "    return tf.shape(true_labels)[1]\n",
    "\n",
    "model = build_model(vocab_size = subword_text_encoder.vocab_size, embedding_dim=256, rnn_units=1024, batch_size=BATCH_SIZE)\n",
    "model.compile(optimizer='adam', loss=loss, metrics=[average_batch_length])"
   ]
  },
  {
   "cell_type": "code",
   "execution_count": 8,
   "metadata": {},
   "outputs": [],
   "source": [
    "checkpoint_dir = './training_checkpoints' # Directory where the checkpoints will be saved\n",
    "checkpoint_prefix = os.path.join(checkpoint_dir, \"ckpt_{epoch}\") # Name of the checkpoint files\n",
    "\n",
    "checkpoint_callback = tf.keras.callbacks.ModelCheckpoint(filepath=checkpoint_prefix, save_weights_only=True)"
   ]
  },
  {
   "cell_type": "code",
   "execution_count": 9,
   "metadata": {},
   "outputs": [],
   "source": [
    "class ModelStateResetter(tf.keras.callbacks.Callback):\n",
    "    def __init__(self):\n",
    "        self.last_total_length = 0\n",
    "\n",
    "    def on_batch_end(self, batch, logs={}):\n",
    "        average_batch_length = logs.get('average_batch_length', 0)\n",
    "        total_length = int(round(average_batch_length * (batch + 1)))\n",
    "        current_batch_length = total_length - self.last_total_length\n",
    "        self.last_total_length = total_length\n",
    "        \n",
    "        if current_batch_length < BATCHED_ITEM_LENGTH - 1:\n",
    "            self.model.reset_states()\n",
    "        \n",
    "model_state_resetter_callback = ModelStateResetter()"
   ]
  },
  {
   "cell_type": "code",
   "execution_count": 10,
   "metadata": {
    "scrolled": false
   },
   "outputs": [
    {
     "name": "stdout",
     "output_type": "stream",
     "text": [
      "Epoch 1/17\n",
      "4499/4499 [==============================] - 444s 99ms/step - loss: 0.7158 - average_batch_length: 126.5603\n",
      "Epoch 2/17\n",
      "4653/4653 [==============================] - 459s 99ms/step - loss: 0.5042 - average_batch_length: 126.5846\n",
      "Epoch 3/17\n",
      "4426/4426 [==============================] - 438s 99ms/step - loss: 0.4700 - average_batch_length: 126.5465\n",
      "Epoch 4/17\n",
      "4567/4567 [==============================] - 453s 99ms/step - loss: 0.4212 - average_batch_length: 126.5297\n",
      "Epoch 5/17\n",
      "4283/4283 [==============================] - 423s 99ms/step - loss: 0.4228 - average_batch_length: 126.5326\n",
      "Epoch 6/17\n",
      "4657/4657 [==============================] - 461s 99ms/step - loss: 0.3706 - average_batch_length: 126.5443\n",
      "Epoch 7/17\n",
      "4599/4599 [==============================] - 456s 99ms/step - loss: 0.3600 - average_batch_length: 126.5714\n",
      "Epoch 8/17\n",
      "4533/4533 [==============================] - 449s 99ms/step - loss: 0.3520 - average_batch_length: 126.5577\n",
      "Epoch 9/17\n",
      "4313/4313 [==============================] - 427s 99ms/step - loss: 0.3574 - average_batch_length: 126.5217\n",
      "Epoch 10/17\n",
      "4462/4462 [==============================] - 442s 99ms/step - loss: 0.3357 - average_batch_length: 126.5681\n",
      "Epoch 11/17\n",
      "4630/4630 [==============================] - 458s 99ms/step - loss: 0.3160 - average_batch_length: 126.5469\n",
      "Epoch 12/17\n",
      "4428/4428 [==============================] - 438s 99ms/step - loss: 0.3229 - average_batch_length: 126.5056\n",
      "Epoch 13/17\n",
      "4475/4475 [==============================] - 443s 99ms/step - loss: 0.3126 - average_batch_length: 126.5971\n",
      "Epoch 14/17\n",
      "4540/4540 [==============================] - 450s 99ms/step - loss: 0.3042 - average_batch_length: 126.5692\n",
      "Epoch 15/17\n",
      "4248/4248 [==============================] - 421s 99ms/step - loss: 0.3193 - average_batch_length: 126.5297\n",
      "Epoch 16/17\n",
      "4420/4420 [==============================] - 438s 99ms/step - loss: 0.3040 - average_batch_length: 126.5195\n",
      "Epoch 17/17\n",
      "4533/4533 [==============================] - 449s 99ms/step - loss: 0.2926 - average_batch_length: 126.6058\n"
     ]
    }
   ],
   "source": [
    "total_epochs = 17\n",
    "\n",
    "for epoch in range(total_epochs):\n",
    "    print('Epoch %d/%d' % (epoch + 1, total_epochs))\n",
    "    model.fit(dataset, callbacks=[checkpoint_callback, model_state_resetter_callback])"
   ]
  },
  {
   "cell_type": "code",
   "execution_count": 11,
   "metadata": {},
   "outputs": [
    {
     "name": "stdout",
     "output_type": "stream",
     "text": [
      "Raw: 25541\n",
      "Encded: 8000\n"
     ]
    }
   ],
   "source": [
    "with open('page_revisions_text', 'rb') as text_file:\n",
    "    data = text_file.read()\n",
    "\n",
    "article = data.split(b'\\0')[120]\n",
    "del data\n",
    "\n",
    "encoded_article = np.array(subword_text_encoder.encode(article + b'\\0'), dtype=TYPE)\n",
    "\n",
    "print('Raw:', len(article))\n",
    "print('Encded:', len(encoded_article))"
   ]
  },
  {
   "cell_type": "code",
   "execution_count": 12,
   "metadata": {},
   "outputs": [],
   "source": [
    "import huffman\n",
    "\n",
    "def huffman_archive_size(model, text):\n",
    "    archived_size = 0\n",
    "    ones = 0\n",
    "    input_eval = np.array([[0]], dtype=TYPE)\n",
    "\n",
    "    text_generated = []\n",
    "\n",
    "    model.reset_states()\n",
    "\n",
    "    for index, byte in enumerate(text):\n",
    "        predictions = model(input_eval)\n",
    "        predictions = tf.squeeze(predictions, 0) # remove the batch dimension\n",
    "  \n",
    "        probabilities = tf.nn.softmax(predictions[0])\n",
    "        codebook = huffman.codebook([index, tensor.numpy()] for index, tensor in enumerate(probabilities))\n",
    "\n",
    "        code = codebook[byte]\n",
    "        ones += code.count('1')\n",
    "        archived_size += len(code)\n",
    "\n",
    "        input_eval = tf.expand_dims([byte], 0)\n",
    "  \n",
    "    return ones, archived_size"
   ]
  },
  {
   "cell_type": "code",
   "execution_count": 13,
   "metadata": {},
   "outputs": [],
   "source": [
    "tf.train.latest_checkpoint(checkpoint_dir)\n",
    "model = build_model(vocab_size = subword_text_encoder.vocab_size, embedding_dim=256, rnn_units=1024, batch_size=1)\n",
    "model.load_weights(tf.train.latest_checkpoint(checkpoint_dir))\n",
    "model.build(tf.TensorShape([1, None]))"
   ]
  },
  {
   "cell_type": "code",
   "execution_count": 14,
   "metadata": {
    "scrolled": false
   },
   "outputs": [
    {
     "name": "stdout",
     "output_type": "stream",
     "text": [
      "\n",
      "Compressed length: 32239\n",
      "Compression ratio for encoded: 0.503734375\n",
      "Compression ratio for raw: 0.1577806272268118\n",
      "Potential compression ratio with arithmetic coding: 0.1561948526435945\n"
     ]
    }
   ],
   "source": [
    "ones, archived_size = huffman_archive_size(model, encoded_article)\n",
    "print('\\nCompressed length:', archived_size)\n",
    "\n",
    "compression_ratio = archived_size / (len(encoded_article) * 8)\n",
    "print('Compression ratio for encoded:', compression_ratio)\n",
    "\n",
    "compression_ratio = archived_size / (len(article) * 8)\n",
    "print('Compression ratio for raw:', compression_ratio)\n",
    "\n",
    "k = (ones / archived_size)\n",
    "compression_ratio = compression_ratio * (-k * np.log2(k) - (1-k) * np.log2(1-k))\n",
    "print('Potential compression ratio with arithmetic coding:', compression_ratio)"
   ]
  },
  {
   "cell_type": "markdown",
   "metadata": {},
   "source": [
    "Да пробваме да тренираме още!"
   ]
  },
  {
   "cell_type": "code",
   "execution_count": 15,
   "metadata": {},
   "outputs": [],
   "source": [
    "model = build_model(vocab_size = subword_text_encoder.vocab_size, embedding_dim=256, rnn_units=1024, batch_size=BATCH_SIZE)\n",
    "model.load_weights(tf.train.latest_checkpoint(checkpoint_dir))\n",
    "model.compile(optimizer='adam', loss=loss, metrics=[average_batch_length])"
   ]
  },
  {
   "cell_type": "code",
   "execution_count": 16,
   "metadata": {
    "scrolled": false
   },
   "outputs": [
    {
     "name": "stdout",
     "output_type": "stream",
     "text": [
      "Epoch 1/10\n",
      "4582/4582 [==============================] - 456s 100ms/step - loss: 0.2887 - average_batch_length: 126.5884\n",
      "Epoch 2/10\n",
      "4354/4354 [==============================] - 434s 100ms/step - loss: 0.3009 - average_batch_length: 126.5783\n",
      "Epoch 3/10\n",
      "4464/4464 [==============================] - 445s 100ms/step - loss: 0.2917 - average_batch_length: 126.5197\n",
      "Epoch 4/10\n",
      "WARNING:tensorflow:Unresolved object in checkpoint: (root).optimizer\n"
     ]
    },
    {
     "name": "stderr",
     "output_type": "stream",
     "text": [
      "WARNING:tensorflow:Unresolved object in checkpoint: (root).optimizer\n"
     ]
    },
    {
     "name": "stdout",
     "output_type": "stream",
     "text": [
      "WARNING:tensorflow:Unresolved object in checkpoint: (root).optimizer.iter\n"
     ]
    },
    {
     "name": "stderr",
     "output_type": "stream",
     "text": [
      "WARNING:tensorflow:Unresolved object in checkpoint: (root).optimizer.iter\n"
     ]
    },
    {
     "name": "stdout",
     "output_type": "stream",
     "text": [
      "WARNING:tensorflow:Unresolved object in checkpoint: (root).optimizer.beta_1\n"
     ]
    },
    {
     "name": "stderr",
     "output_type": "stream",
     "text": [
      "WARNING:tensorflow:Unresolved object in checkpoint: (root).optimizer.beta_1\n"
     ]
    },
    {
     "name": "stdout",
     "output_type": "stream",
     "text": [
      "WARNING:tensorflow:Unresolved object in checkpoint: (root).optimizer.beta_2\n"
     ]
    },
    {
     "name": "stderr",
     "output_type": "stream",
     "text": [
      "WARNING:tensorflow:Unresolved object in checkpoint: (root).optimizer.beta_2\n"
     ]
    },
    {
     "name": "stdout",
     "output_type": "stream",
     "text": [
      "WARNING:tensorflow:Unresolved object in checkpoint: (root).optimizer.decay\n"
     ]
    },
    {
     "name": "stderr",
     "output_type": "stream",
     "text": [
      "WARNING:tensorflow:Unresolved object in checkpoint: (root).optimizer.decay\n"
     ]
    },
    {
     "name": "stdout",
     "output_type": "stream",
     "text": [
      "WARNING:tensorflow:Unresolved object in checkpoint: (root).optimizer.learning_rate\n"
     ]
    },
    {
     "name": "stderr",
     "output_type": "stream",
     "text": [
      "WARNING:tensorflow:Unresolved object in checkpoint: (root).optimizer.learning_rate\n"
     ]
    },
    {
     "name": "stdout",
     "output_type": "stream",
     "text": [
      "WARNING:tensorflow:Unresolved object in checkpoint: (root).optimizer's state 'm' for (root).layer_with_weights-0.embeddings\n"
     ]
    },
    {
     "name": "stderr",
     "output_type": "stream",
     "text": [
      "WARNING:tensorflow:Unresolved object in checkpoint: (root).optimizer's state 'm' for (root).layer_with_weights-0.embeddings\n"
     ]
    },
    {
     "name": "stdout",
     "output_type": "stream",
     "text": [
      "WARNING:tensorflow:Unresolved object in checkpoint: (root).optimizer's state 'm' for (root).layer_with_weights-2.kernel\n"
     ]
    },
    {
     "name": "stderr",
     "output_type": "stream",
     "text": [
      "WARNING:tensorflow:Unresolved object in checkpoint: (root).optimizer's state 'm' for (root).layer_with_weights-2.kernel\n"
     ]
    },
    {
     "name": "stdout",
     "output_type": "stream",
     "text": [
      "WARNING:tensorflow:Unresolved object in checkpoint: (root).optimizer's state 'm' for (root).layer_with_weights-2.bias\n"
     ]
    },
    {
     "name": "stderr",
     "output_type": "stream",
     "text": [
      "WARNING:tensorflow:Unresolved object in checkpoint: (root).optimizer's state 'm' for (root).layer_with_weights-2.bias\n"
     ]
    },
    {
     "name": "stdout",
     "output_type": "stream",
     "text": [
      "WARNING:tensorflow:Unresolved object in checkpoint: (root).optimizer's state 'm' for (root).layer_with_weights-1.cell.kernel\n"
     ]
    },
    {
     "name": "stderr",
     "output_type": "stream",
     "text": [
      "WARNING:tensorflow:Unresolved object in checkpoint: (root).optimizer's state 'm' for (root).layer_with_weights-1.cell.kernel\n"
     ]
    },
    {
     "name": "stdout",
     "output_type": "stream",
     "text": [
      "WARNING:tensorflow:Unresolved object in checkpoint: (root).optimizer's state 'm' for (root).layer_with_weights-1.cell.recurrent_kernel\n"
     ]
    },
    {
     "name": "stderr",
     "output_type": "stream",
     "text": [
      "WARNING:tensorflow:Unresolved object in checkpoint: (root).optimizer's state 'm' for (root).layer_with_weights-1.cell.recurrent_kernel\n"
     ]
    },
    {
     "name": "stdout",
     "output_type": "stream",
     "text": [
      "WARNING:tensorflow:Unresolved object in checkpoint: (root).optimizer's state 'm' for (root).layer_with_weights-1.cell.bias\n"
     ]
    },
    {
     "name": "stderr",
     "output_type": "stream",
     "text": [
      "WARNING:tensorflow:Unresolved object in checkpoint: (root).optimizer's state 'm' for (root).layer_with_weights-1.cell.bias\n"
     ]
    },
    {
     "name": "stdout",
     "output_type": "stream",
     "text": [
      "WARNING:tensorflow:Unresolved object in checkpoint: (root).optimizer's state 'v' for (root).layer_with_weights-0.embeddings\n"
     ]
    },
    {
     "name": "stderr",
     "output_type": "stream",
     "text": [
      "WARNING:tensorflow:Unresolved object in checkpoint: (root).optimizer's state 'v' for (root).layer_with_weights-0.embeddings\n"
     ]
    },
    {
     "name": "stdout",
     "output_type": "stream",
     "text": [
      "WARNING:tensorflow:Unresolved object in checkpoint: (root).optimizer's state 'v' for (root).layer_with_weights-2.kernel\n"
     ]
    },
    {
     "name": "stderr",
     "output_type": "stream",
     "text": [
      "WARNING:tensorflow:Unresolved object in checkpoint: (root).optimizer's state 'v' for (root).layer_with_weights-2.kernel\n"
     ]
    },
    {
     "name": "stdout",
     "output_type": "stream",
     "text": [
      "WARNING:tensorflow:Unresolved object in checkpoint: (root).optimizer's state 'v' for (root).layer_with_weights-2.bias\n"
     ]
    },
    {
     "name": "stderr",
     "output_type": "stream",
     "text": [
      "WARNING:tensorflow:Unresolved object in checkpoint: (root).optimizer's state 'v' for (root).layer_with_weights-2.bias\n"
     ]
    },
    {
     "name": "stdout",
     "output_type": "stream",
     "text": [
      "WARNING:tensorflow:Unresolved object in checkpoint: (root).optimizer's state 'v' for (root).layer_with_weights-1.cell.kernel\n"
     ]
    },
    {
     "name": "stderr",
     "output_type": "stream",
     "text": [
      "WARNING:tensorflow:Unresolved object in checkpoint: (root).optimizer's state 'v' for (root).layer_with_weights-1.cell.kernel\n"
     ]
    },
    {
     "name": "stdout",
     "output_type": "stream",
     "text": [
      "WARNING:tensorflow:Unresolved object in checkpoint: (root).optimizer's state 'v' for (root).layer_with_weights-1.cell.recurrent_kernel\n"
     ]
    },
    {
     "name": "stderr",
     "output_type": "stream",
     "text": [
      "WARNING:tensorflow:Unresolved object in checkpoint: (root).optimizer's state 'v' for (root).layer_with_weights-1.cell.recurrent_kernel\n"
     ]
    },
    {
     "name": "stdout",
     "output_type": "stream",
     "text": [
      "WARNING:tensorflow:Unresolved object in checkpoint: (root).optimizer's state 'v' for (root).layer_with_weights-1.cell.bias\n"
     ]
    },
    {
     "name": "stderr",
     "output_type": "stream",
     "text": [
      "WARNING:tensorflow:Unresolved object in checkpoint: (root).optimizer's state 'v' for (root).layer_with_weights-1.cell.bias\n"
     ]
    },
    {
     "name": "stdout",
     "output_type": "stream",
     "text": [
      "WARNING:tensorflow:A checkpoint was restored (e.g. tf.train.Checkpoint.restore or tf.keras.Model.load_weights) but not all checkpointed values were used. See above for specific issues. Use expect_partial() on the load status object, e.g. tf.train.Checkpoint.restore(...).expect_partial(), to silence these warnings, or use assert_consumed() to make the check explicit. See https://www.tensorflow.org/guide/checkpoint#loading_mechanics for details.\n"
     ]
    },
    {
     "name": "stderr",
     "output_type": "stream",
     "text": [
      "WARNING:tensorflow:A checkpoint was restored (e.g. tf.train.Checkpoint.restore or tf.keras.Model.load_weights) but not all checkpointed values were used. See above for specific issues. Use expect_partial() on the load status object, e.g. tf.train.Checkpoint.restore(...).expect_partial(), to silence these warnings, or use assert_consumed() to make the check explicit. See https://www.tensorflow.org/guide/checkpoint#loading_mechanics for details.\n"
     ]
    },
    {
     "name": "stdout",
     "output_type": "stream",
     "text": [
      "4349/4349 [==============================] - 433s 100ms/step - loss: 0.2980 - average_batch_length: 126.5532\n",
      "Epoch 5/10\n",
      "4571/4571 [==============================] - 453s 99ms/step - loss: 0.2823 - average_batch_length: 126.5874\n",
      "Epoch 6/10\n",
      "4341/4341 [==============================] - 428s 99ms/step - loss: 0.2972 - average_batch_length: 126.5185\n",
      "Epoch 7/10\n",
      "4563/4563 [==============================] - 450s 99ms/step - loss: 0.2821 - average_batch_length: 126.5268\n",
      "Epoch 8/10\n",
      "4384/4384 [==============================] - 432s 99ms/step - loss: 0.2938 - average_batch_length: 126.5167\n",
      "Epoch 9/10\n",
      "4482/4482 [==============================] - 441s 98ms/step - loss: 0.2868 - average_batch_length: 126.4697\n",
      "Epoch 10/10\n",
      "4349/4349 [==============================] - 429s 99ms/step - loss: 0.2965 - average_batch_length: 126.5256\n"
     ]
    }
   ],
   "source": [
    "total_epochs = 10\n",
    "\n",
    "for epoch in range(total_epochs):\n",
    "    print('Epoch %d/%d' % (epoch + 1, total_epochs))\n",
    "    model.fit(dataset, callbacks=[checkpoint_callback, model_state_resetter_callback])"
   ]
  },
  {
   "cell_type": "code",
   "execution_count": 17,
   "metadata": {
    "scrolled": false
   },
   "outputs": [
    {
     "name": "stdout",
     "output_type": "stream",
     "text": [
      "Epoch 1/10\n",
      "4628/4628 [==============================] - 453s 98ms/step - loss: 0.2786 - average_batch_length: 126.5445\n",
      "Epoch 2/10\n",
      "4298/4298 [==============================] - 423s 98ms/step - loss: 0.2998 - average_batch_length: 126.5407\n",
      "Epoch 3/10\n",
      "4445/4445 [==============================] - 437s 98ms/step - loss: 0.2900 - average_batch_length: 126.5442\n",
      "Epoch 4/10\n",
      "4577/4577 [==============================] - 452s 99ms/step - loss: 0.2869 - average_batch_length: 126.5820\n",
      "Epoch 5/10\n",
      "4290/4290 [==============================] - 429s 100ms/step - loss: 0.3024 - average_batch_length: 126.5189\n",
      "Epoch 6/10\n",
      "4345/4345 [==============================] - 435s 100ms/step - loss: 0.2996 - average_batch_length: 126.5496\n",
      "Epoch 7/10\n",
      "4465/4465 [==============================] - 447s 100ms/step - loss: 0.2917 - average_batch_length: 126.5350\n",
      "Epoch 8/10\n",
      "4465/4465 [==============================] - 446s 100ms/step - loss: 0.2946 - average_batch_length: 126.5534\n",
      "Epoch 9/10\n",
      "4348/4348 [==============================] - 434s 100ms/step - loss: 0.3016 - average_batch_length: 126.5384\n",
      "Epoch 10/10\n",
      "4453/4453 [==============================] - 445s 100ms/step - loss: 0.2958 - average_batch_length: 126.5158\n"
     ]
    }
   ],
   "source": [
    "total_epochs = 10\n",
    "\n",
    "for epoch in range(total_epochs):\n",
    "    print('Epoch %d/%d' % (epoch + 1, total_epochs))\n",
    "    model.fit(dataset, callbacks=[checkpoint_callback, model_state_resetter_callback])"
   ]
  },
  {
   "cell_type": "markdown",
   "metadata": {},
   "source": [
    "Да пробваме да намалим скоростта на обучение след определен брой итерации:"
   ]
  },
  {
   "cell_type": "code",
   "execution_count": 23,
   "metadata": {
    "scrolled": false
   },
   "outputs": [
    {
     "name": "stdout",
     "output_type": "stream",
     "text": [
      "Epoch 1/5\n",
      "4632/4632 [==============================] - 455s 98ms/step - loss: 0.2922 - average_batch_length: 126.5607\n",
      "Epoch 2/5\n",
      "4544/4544 [==============================] - 448s 99ms/step - loss: 0.2994 - average_batch_length: 126.5376\n",
      "Epoch 3/5\n",
      "4415/4415 [==============================] - 439s 99ms/step - loss: 0.3065 - average_batch_length: 126.5925\n",
      "Epoch 4/5\n",
      "4470/4470 [==============================] - 447s 100ms/step - loss: 0.2998 - average_batch_length: 126.5011\n",
      "Epoch 5/5\n",
      "4389/4389 [==============================] - 435s 99ms/step - loss: 0.3063 - average_batch_length: 126.5616\n"
     ]
    }
   ],
   "source": [
    "total_epochs = 5\n",
    "\n",
    "reduce_lr = tf.keras.callbacks.ReduceLROnPlateau(monitor='loss', verbose=1)\n",
    "\n",
    "for epoch in range(total_epochs):\n",
    "    print('Epoch %d/%d' % (epoch + 1, total_epochs))\n",
    "    model.fit(dataset, callbacks=[checkpoint_callback, model_state_resetter_callback, reduce_lr])"
   ]
  },
  {
   "cell_type": "markdown",
   "metadata": {},
   "source": [
    "Изглежда няма да постигнем нещо смислено с повече учене"
   ]
  }
 ],
 "metadata": {
  "kernelspec": {
   "display_name": "Python 3",
   "language": "python",
   "name": "python3"
  },
  "language_info": {
   "codemirror_mode": {
    "name": "ipython",
    "version": 3
   },
   "file_extension": ".py",
   "mimetype": "text/x-python",
   "name": "python",
   "nbconvert_exporter": "python",
   "pygments_lexer": "ipython3",
   "version": "3.7.5"
  }
 },
 "nbformat": 4,
 "nbformat_minor": 4
}
