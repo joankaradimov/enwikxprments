{
 "cells": [
  {
   "cell_type": "markdown",
   "metadata": {},
   "source": [
    "В предишната терадка установхиме, че обработката на цели статии не използва ефективно GPU-то. Освен това скоростта на учене не беше добра - вероятно заради малкия размер на batch-овете.\n",
    "\n",
    "Ще опитаме да използваме batch-ове с по-голям размер. За целта ще съставим batch-овете от малки парчета от статиит. Ще използваме stateful LSTM модел, за да запазим състоянието на LSTM клетките между batch-ове съставящи една и съща статия.\n",
    "\n",
    "След последния batch от дадена статия ще рестартираме състоянието на клетките."
   ]
  },
  {
   "cell_type": "code",
   "execution_count": 1,
   "metadata": {},
   "outputs": [],
   "source": [
    "import os\n",
    "\n",
    "import tensorflow as tf\n",
    "import numpy as np"
   ]
  },
  {
   "cell_type": "code",
   "execution_count": 38,
   "metadata": {},
   "outputs": [
    {
     "data": {
      "text/plain": [
       "<MapDataset shapes: ((64, None), (64, None)), types: (tf.uint8, tf.uint8)>"
      ]
     },
     "execution_count": 38,
     "metadata": {},
     "output_type": "execute_result"
    }
   ],
   "source": [
    "BATCH_SIZE = 64\n",
    "BATCHED_ITEM_LENGTH = 128\n",
    "BUFFER_SIZE = 256\n",
    "\n",
    "with open('page_revisions_text', 'rb') as text_file:\n",
    "    data = text_file.read()\n",
    "\n",
    "articles = sorted(data.split(b'\\0')[:2000], key=len)\n",
    "\n",
    "def articles_generator():\n",
    "    for index, article in enumerate(articles):\n",
    "        yield np.frombuffer(article + b'\\0', dtype=np.uint8)\n",
    "\n",
    "    # Pad the article count to the batch size\n",
    "    # We do this to ensure that no data is dropped\n",
    "    index += 1\n",
    "    while index % BATCH_SIZE != 0:\n",
    "        yield np.frombuffer(b'\\0', dtype=np.uint8)\n",
    "        index += 1\n",
    "        \n",
    "def subbatches():\n",
    "    dataset = tf.data.Dataset.from_generator(articles_generator, output_types=tf.uint8)\n",
    "    dataset = dataset.shuffle(BUFFER_SIZE)\n",
    "    dataset = dataset.padded_batch(BATCH_SIZE, padded_shapes=([None]), drop_remainder=True)\n",
    "\n",
    "    for batch in dataset.as_numpy_iterator():\n",
    "        remaining = batch\n",
    "        while remaining.shape[1] > 1:\n",
    "            yield remaining[:, :BATCHED_ITEM_LENGTH]\n",
    "            remaining = remaining[:, BATCHED_ITEM_LENGTH-1:]\n",
    "\n",
    "dataset = tf.data.Dataset.from_generator(subbatches, output_types=tf.uint8, output_shapes=(BATCH_SIZE, None))\n",
    "dataset = dataset.map(lambda batch: (batch[:, :-1], batch[:, 1:]))\n",
    "\n",
    "dataset"
   ]
  },
  {
   "cell_type": "code",
   "execution_count": 39,
   "metadata": {},
   "outputs": [],
   "source": [
    "vocab_size = 256\n",
    "embedding_dim = 256\n",
    "rnn_units = 1024\n",
    "\n",
    "def build_model(vocab_size, embedding_dim, rnn_units, batch_size):\n",
    "    return tf.keras.Sequential([\n",
    "        tf.keras.layers.Embedding(vocab_size, embedding_dim, batch_input_shape=[batch_size, None]),\n",
    "        tf.keras.layers.LSTM(rnn_units, return_sequences=True, stateful=True, recurrent_initializer='glorot_uniform'),\n",
    "        tf.keras.layers.Dense(vocab_size),\n",
    "    ])"
   ]
  },
  {
   "cell_type": "code",
   "execution_count": 40,
   "metadata": {},
   "outputs": [],
   "source": [
    "def loss(labels, logits):\n",
    "    return tf.keras.losses.sparse_categorical_crossentropy(labels, logits, from_logits=True)"
   ]
  },
  {
   "cell_type": "code",
   "execution_count": 41,
   "metadata": {},
   "outputs": [],
   "source": [
    "from tensorflow.keras import metrics\n",
    "\n",
    "def average_batch_length(true_labels, predictions):\n",
    "    return tf.shape(true_labels)[1]\n",
    "\n",
    "model = build_model(vocab_size = vocab_size, embedding_dim=embedding_dim, rnn_units=rnn_units, batch_size=BATCH_SIZE)\n",
    "model.compile(optimizer='adam', loss=loss, metrics=[average_batch_length])"
   ]
  },
  {
   "cell_type": "code",
   "execution_count": 42,
   "metadata": {},
   "outputs": [],
   "source": [
    "checkpoint_dir = './training_checkpoints' # Directory where the checkpoints will be saved\n",
    "checkpoint_prefix = os.path.join(checkpoint_dir, \"ckpt_{epoch}\") # Name of the checkpoint files\n",
    "\n",
    "checkpoint_callback = tf.keras.callbacks.ModelCheckpoint(filepath=checkpoint_prefix, save_weights_only=True)"
   ]
  },
  {
   "cell_type": "code",
   "execution_count": 81,
   "metadata": {},
   "outputs": [],
   "source": [
    "class ModelStateResetter(tf.keras.callbacks.Callback):\n",
    "    def __init__(self):\n",
    "        self.last_total_length = 0\n",
    "\n",
    "    def on_batch_end(self, batch, logs={}):\n",
    "        total_length = int(round(logs['average_batch_length'] * (batch + 1)))\n",
    "        current_batch_length = total_length - self.last_total_length\n",
    "        self.last_total_length = total_length\n",
    "        \n",
    "        if current_batch_length < BATCHED_ITEM_LENGTH - 1:\n",
    "            self.model.reset_states()\n",
    "        \n",
    "model_state_resetter_callback = ModelStateResetter()"
   ]
  },
  {
   "cell_type": "code",
   "execution_count": 82,
   "metadata": {},
   "outputs": [
    {
     "name": "stdout",
     "output_type": "stream",
     "text": [
      "Epoch 1/12\n",
      "4938/4938 [==============================] - 308s 62ms/step - loss: 0.4330 - average_batch_length: 126.5282\n",
      "Epoch 2/12\n",
      "4730/4730 [==============================] - 295s 62ms/step - loss: 0.4335 - average_batch_length: 126.5421\n",
      "Epoch 3/12\n",
      "4975/4975 [==============================] - 311s 62ms/step - loss: 0.3984 - average_batch_length: 126.5495\n",
      "Epoch 4/12\n",
      "4858/4858 [==============================] - 300s 62ms/step - loss: 0.3988 - average_batch_length: 126.5216\n",
      "Epoch 5/12\n",
      "4592/4592 [==============================] - 285s 62ms/step - loss: 0.4131 - average_batch_length: 126.5094\n",
      "Epoch 6/12\n",
      "4720/4720 [==============================] - 295s 63ms/step - loss: 0.3964 - average_batch_length: 126.5038\n",
      "Epoch 7/12\n",
      "4554/4554 [==============================] - 285s 63ms/step - loss: 0.4051 - average_batch_length: 126.5553\n",
      "Epoch 8/12\n",
      "4747/4747 [==============================] - 297s 63ms/step - loss: 0.3851 - average_batch_length: 126.4609\n",
      "Epoch 9/12\n",
      "4785/4785 [==============================] - 300s 63ms/step - loss: 0.3803 - average_batch_length: 126.6303\n",
      "Epoch 10/12\n",
      "4579/4579 [==============================] - 286s 63ms/step - loss: 0.3952 - average_batch_length: 126.5685\n",
      "Epoch 11/12\n",
      "4990/4990 [==============================] - 317s 64ms/step - loss: 0.3619 - average_batch_length: 126.5397\n",
      "Epoch 12/12\n",
      "4924/4924 [==============================] - 317s 64ms/step - loss: 0.3662 - average_batch_length: 126.5575\n"
     ]
    }
   ],
   "source": [
    "total_epochs = 12\n",
    "\n",
    "for epoch in range(total_epochs):\n",
    "    print('Epoch %d/%d' % (epoch + 1, total_epochs))\n",
    "    model.reset_states()\n",
    "    history = model.fit(dataset, callbacks=[checkpoint_callback, model_state_resetter_callback])"
   ]
  },
  {
   "cell_type": "code",
   "execution_count": 83,
   "metadata": {},
   "outputs": [
    {
     "data": {
      "text/plain": [
       "25541"
      ]
     },
     "execution_count": 83,
     "metadata": {},
     "output_type": "execute_result"
    }
   ],
   "source": [
    "with open('page_revisions_text', 'rb') as text_file:\n",
    "    data = text_file.read()\n",
    "\n",
    "articles = data.split(b'\\0')[:2000]\n",
    "del data\n",
    "\n",
    "article = articles[120]\n",
    "del articles\n",
    "\n",
    "len(article)"
   ]
  },
  {
   "cell_type": "code",
   "execution_count": 84,
   "metadata": {},
   "outputs": [],
   "source": [
    "import huffman\n",
    "\n",
    "def huffman_archive_size(model, text):\n",
    "    archived_size = 0\n",
    "    ones = 0\n",
    "    input_eval = [s for s in b' ']\n",
    "    input_eval = tf.expand_dims(input_eval, 0)\n",
    "  \n",
    "    # Empty string to store our results\n",
    "    text_generated = []\n",
    "\n",
    "    model.reset_states()\n",
    "\n",
    "    for byte in text:\n",
    "        predictions = model(input_eval)\n",
    "        # remove the batch dimension\n",
    "        predictions = tf.squeeze(predictions, 0)\n",
    "  \n",
    "        probabilities = tf.nn.softmax(predictions[0])\n",
    "        codebook = huffman.codebook([index, tensor.numpy()] for index, tensor in enumerate(probabilities))\n",
    "\n",
    "        code = codebook[byte]\n",
    "        ones += code.count('1')\n",
    "        archived_size += len(code)\n",
    "\n",
    "        input_eval = tf.expand_dims([byte], 0)\n",
    "  \n",
    "    return ones, archived_size"
   ]
  },
  {
   "cell_type": "code",
   "execution_count": 85,
   "metadata": {},
   "outputs": [],
   "source": [
    "tf.train.latest_checkpoint(checkpoint_dir)\n",
    "model = build_model(vocab_size, embedding_dim, rnn_units, batch_size=1)\n",
    "model.load_weights(tf.train.latest_checkpoint(checkpoint_dir))\n",
    "model.build(tf.TensorShape([1, None]))"
   ]
  },
  {
   "cell_type": "code",
   "execution_count": 86,
   "metadata": {},
   "outputs": [
    {
     "name": "stdout",
     "output_type": "stream",
     "text": [
      "\n",
      "Total length: 50077\n",
      "Compression ratio: 0.24508143768842253\n",
      "Potential compression ratio with arithmetic coding: 0.22664568670800883\n"
     ]
    }
   ],
   "source": [
    "ones, archived_size = huffman_archive_size(model, article)\n",
    "print('\\nTotal length:', archived_size)\n",
    "\n",
    "compression_ratio = archived_size / (len(article) * 8)\n",
    "print('Compression ratio:', compression_ratio)\n",
    "\n",
    "k = (ones / archived_size)\n",
    "arithmetic_compression_ratio = compression_ratio * (-k * np.log2(k) - (1-k) * np.log2(1-k))\n",
    "print('Potential compression ratio with arithmetic coding:', arithmetic_compression_ratio)"
   ]
  },
  {
   "cell_type": "code",
   "execution_count": null,
   "metadata": {},
   "outputs": [],
   "source": []
  }
 ],
 "metadata": {
  "kernelspec": {
   "display_name": "Python 3",
   "language": "python",
   "name": "python3"
  },
  "language_info": {
   "codemirror_mode": {
    "name": "ipython",
    "version": 3
   },
   "file_extension": ".py",
   "mimetype": "text/x-python",
   "name": "python",
   "nbconvert_exporter": "python",
   "pygments_lexer": "ipython3",
   "version": "3.7.5"
  }
 },
 "nbformat": 4,
 "nbformat_minor": 4
}
