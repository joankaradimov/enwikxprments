{
 "cells": [
  {
   "cell_type": "code",
   "execution_count": 1,
   "metadata": {},
   "outputs": [],
   "source": [
    "import os\n",
    "\n",
    "import tensorflow as tf\n",
    "import numpy as np"
   ]
  },
  {
   "cell_type": "code",
   "execution_count": 2,
   "metadata": {},
   "outputs": [
    {
     "data": {
      "text/plain": [
       "<MapDataset shapes: ((64, None), (64, None)), types: (tf.uint8, tf.uint8)>"
      ]
     },
     "execution_count": 2,
     "metadata": {},
     "output_type": "execute_result"
    }
   ],
   "source": [
    "BATCH_SIZE = 64\n",
    "BATCHED_ITEM_LENGTH = 128\n",
    "BUFFER_SIZE = 256\n",
    "\n",
    "with open('page_revisions_text', 'rb') as text_file:\n",
    "    data = text_file.read()\n",
    "\n",
    "articles = sorted(data.split(b'\\0')[:5000], key=len)\n",
    "\n",
    "def articles_generator():\n",
    "    for index, article in enumerate(articles):\n",
    "        yield np.frombuffer(article + b'\\0', dtype=np.uint8)\n",
    "\n",
    "    # Pad the article count to the batch size\n",
    "    # We do this to ensure that no data is dropped\n",
    "    index += 1\n",
    "    while index % BATCH_SIZE != 0:\n",
    "        yield np.frombuffer(b'\\0', dtype=np.uint8)\n",
    "        index += 1\n",
    "        \n",
    "def subbatches():\n",
    "    dataset = tf.data.Dataset.from_generator(articles_generator, output_types=tf.uint8)\n",
    "    dataset = dataset.shuffle(BUFFER_SIZE)\n",
    "    dataset = dataset.padded_batch(BATCH_SIZE, padded_shapes=([None]), drop_remainder=True)\n",
    "\n",
    "    for batch in dataset.as_numpy_iterator():\n",
    "        remaining = batch\n",
    "        while remaining.shape[1] > 1:\n",
    "            yield remaining[:, :BATCHED_ITEM_LENGTH]\n",
    "            remaining = remaining[:, BATCHED_ITEM_LENGTH-1:]\n",
    "\n",
    "dataset = tf.data.Dataset.from_generator(subbatches, output_types=tf.uint8, output_shapes=(BATCH_SIZE, None))\n",
    "dataset = dataset.map(lambda batch: (batch[:, :-1], batch[:, 1:]))\n",
    "\n",
    "dataset"
   ]
  },
  {
   "cell_type": "code",
   "execution_count": 3,
   "metadata": {},
   "outputs": [],
   "source": [
    "vocab_size = 256\n",
    "embedding_dim = 256\n",
    "rnn_units = 2048\n",
    "\n",
    "def build_model(vocab_size, embedding_dim, rnn_units, batch_size):\n",
    "    return tf.keras.Sequential([\n",
    "        tf.keras.layers.Embedding(vocab_size, embedding_dim, batch_input_shape=[batch_size, None]),\n",
    "        tf.keras.layers.LSTM(rnn_units, return_sequences=True, stateful=True, recurrent_initializer='glorot_uniform'),\n",
    "        tf.keras.layers.Dense(vocab_size),\n",
    "    ])"
   ]
  },
  {
   "cell_type": "code",
   "execution_count": 4,
   "metadata": {},
   "outputs": [],
   "source": [
    "def loss(labels, logits):\n",
    "    return tf.keras.losses.sparse_categorical_crossentropy(labels, logits, from_logits=True)\n",
    "\n",
    "def average_batch_length(true_labels, predictions):\n",
    "    return tf.shape(true_labels)[1]\n",
    "\n",
    "model = build_model(vocab_size = vocab_size, embedding_dim=embedding_dim, rnn_units=rnn_units, batch_size=BATCH_SIZE)\n",
    "model.compile(optimizer='adam', loss=loss, metrics=[average_batch_length])"
   ]
  },
  {
   "cell_type": "code",
   "execution_count": 5,
   "metadata": {},
   "outputs": [],
   "source": [
    "checkpoint_dir = './training_checkpoints' # Directory where the checkpoints will be saved\n",
    "checkpoint_prefix = os.path.join(checkpoint_dir, \"ckpt_{epoch}\") # Name of the checkpoint files\n",
    "\n",
    "checkpoint_callback = tf.keras.callbacks.ModelCheckpoint(filepath=checkpoint_prefix, save_weights_only=True)"
   ]
  },
  {
   "cell_type": "code",
   "execution_count": 6,
   "metadata": {},
   "outputs": [],
   "source": [
    "class ModelStateResetter(tf.keras.callbacks.Callback):\n",
    "    def __init__(self):\n",
    "        self.last_total_length = 0\n",
    "\n",
    "    def on_batch_end(self, batch, logs={}):\n",
    "        total_length = int(round(logs['average_batch_length'] * (batch + 1)))\n",
    "        current_batch_length = total_length - self.last_total_length\n",
    "        self.last_total_length = total_length\n",
    "        \n",
    "        if current_batch_length < BATCHED_ITEM_LENGTH - 1:\n",
    "            self.model.reset_states()\n",
    "        \n",
    "model_state_resetter_callback = ModelStateResetter()"
   ]
  },
  {
   "cell_type": "code",
   "execution_count": 7,
   "metadata": {},
   "outputs": [
    {
     "name": "stdout",
     "output_type": "stream",
     "text": [
      "Epoch 1/30\n",
      "7761/7761 [==============================] - 1439s 185ms/step - loss: 0.9129 - average_batch_length: 126.3130\n",
      "Epoch 2/30\n",
      "7927/7927 [==============================] - 1474s 186ms/step - loss: 0.6755 - average_batch_length: 126.2893\n",
      "Epoch 3/30\n",
      "7831/7831 [==============================] - 1405s 179ms/step - loss: 0.6377 - average_batch_length: 126.3185\n",
      "Epoch 4/30\n",
      "7703/7703 [==============================] - 1336s 173ms/step - loss: 0.6216 - average_batch_length: 126.3495\n",
      "Epoch 5/30\n",
      "7821/7821 [==============================] - 1357s 173ms/step - loss: 0.5952 - average_batch_length: 126.2472\n",
      "Epoch 6/30\n",
      "7874/7874 [==============================] - 1371s 174ms/step - loss: 0.5807 - average_batch_length: 126.3387\n",
      "Epoch 7/30\n",
      "7945/7945 [==============================] - 1376s 173ms/step - loss: 0.5677 - average_batch_length: 126.2974\n",
      "Epoch 8/30\n",
      "7826/7826 [==============================] - 1378s 176ms/step - loss: 0.5717 - average_batch_length: 126.3016\n",
      "Epoch 9/30\n",
      "7922/7922 [==============================] - 1391s 176ms/step - loss: 0.5634 - average_batch_length: 126.2775\n",
      "Epoch 10/30\n",
      "7976/7976 [==============================] - 1381s 173ms/step - loss: 0.5721 - average_batch_length: 126.3345.5723 - average_batch_length: 12\n",
      "Epoch 11/30\n",
      "7881/7881 [==============================] - 1365s 173ms/step - loss: 0.5629 - average_batch_length: 126.3506\n",
      "Epoch 12/30\n",
      "7970/7970 [==============================] - 1379s 173ms/step - loss: 0.5995 - average_batch_length: 126.3279\n",
      "Epoch 13/30\n",
      "7934/7934 [==============================] - 1372s 173ms/step - loss: 0.6011 - average_batch_length: 126.2904\n",
      "Epoch 14/30\n",
      "7785/7785 [==============================] - 1348s 173ms/step - loss: 0.6364 - average_batch_length: 126.2773\n",
      "Epoch 15/30\n",
      "7867/7867 [==============================] - 1356s 172ms/step - loss: 1.1742 - average_batch_length: 126.3041\n",
      "Epoch 16/30\n",
      "7898/7898 [==============================] - 1362s 172ms/step - loss: 0.9759 - average_batch_length: 126.3276\n",
      "Epoch 17/30\n",
      "7655/7655 [==============================] - 1319s 172ms/step - loss: 0.8496 - average_batch_length: 126.3023\n",
      "Epoch 18/30\n",
      "7834/7834 [==============================] - 1350s 172ms/step - loss: 0.7698 - average_batch_length: 126.3244\n",
      "Epoch 19/30\n",
      "7868/7868 [==============================] - 1357s 172ms/step - loss: 0.7374 - average_batch_length: 126.2905\n",
      "Epoch 20/30\n",
      "7952/7952 [==============================] - 1368s 172ms/step - loss: 0.7104 - average_batch_length: 126.2684\n",
      "Epoch 21/30\n",
      "7875/7875 [==============================] - 1353s 172ms/step - loss: 0.7039 - average_batch_length: 126.3082\n",
      "Epoch 22/30\n",
      "7819/7819 [==============================] - 1342s 172ms/step - loss: 0.6976 - average_batch_length: 126.2986\n",
      "Epoch 23/30\n",
      "7911/7911 [==============================] - 1358s 172ms/step - loss: 0.6806 - average_batch_length: 126.2566\n",
      "Epoch 24/30\n",
      "7944/7944 [==============================] - 1370s 172ms/step - loss: 0.6706 - average_batch_length: 126.3075\n",
      "Epoch 25/30\n",
      "7949/7949 [==============================] - 1366s 172ms/step - loss: 0.6642 - average_batch_length: 126.2924\n",
      "Epoch 26/30\n",
      "7894/7894 [==============================] - 1363s 173ms/step - loss: 0.6632 - average_batch_length: 126.2987\n",
      "Epoch 27/30\n",
      "7841/7841 [==============================] - 1359s 173ms/step - loss: 0.6631 - average_batch_length: 126.2830\n",
      "Epoch 28/30\n",
      "7956/7956 [==============================] - 1378s 173ms/step - loss: 0.6498 - average_batch_length: 126.3479\n",
      "Epoch 29/30\n",
      "7853/7853 [==============================] - 1362s 173ms/step - loss: 0.6539 - average_batch_length: 126.2324\n",
      "Epoch 30/30\n",
      "7841/7841 [==============================] - 1362s 174ms/step - loss: 0.6519 - average_batch_length: 126.2773\n"
     ]
    }
   ],
   "source": [
    "total_epochs = 30\n",
    "\n",
    "for epoch in range(total_epochs):\n",
    "    print('Epoch %d/%d' % (epoch + 1, total_epochs))\n",
    "    model.fit(dataset, callbacks=[checkpoint_callback, model_state_resetter_callback])"
   ]
  },
  {
   "cell_type": "code",
   "execution_count": 8,
   "metadata": {},
   "outputs": [
    {
     "data": {
      "text/plain": [
       "25541"
      ]
     },
     "execution_count": 8,
     "metadata": {},
     "output_type": "execute_result"
    }
   ],
   "source": [
    "with open('page_revisions_text', 'rb') as text_file:\n",
    "    data = text_file.read()\n",
    "\n",
    "articles = data.split(b'\\0')[:2000]\n",
    "del data\n",
    "\n",
    "article = articles[120]\n",
    "del articles\n",
    "\n",
    "len(article)"
   ]
  },
  {
   "cell_type": "code",
   "execution_count": 9,
   "metadata": {},
   "outputs": [],
   "source": [
    "import huffman\n",
    "\n",
    "def huffman_archive_size(model, text):\n",
    "    archived_size = 0\n",
    "    ones = 0\n",
    "    input_eval = [s for s in b' ']\n",
    "    input_eval = tf.expand_dims(input_eval, 0)\n",
    "  \n",
    "    # Empty string to store our results\n",
    "    text_generated = []\n",
    "\n",
    "    model.reset_states()\n",
    "\n",
    "    for byte in text:\n",
    "        predictions = model(input_eval)\n",
    "        # remove the batch dimension\n",
    "        predictions = tf.squeeze(predictions, 0)\n",
    "  \n",
    "        probabilities = tf.nn.softmax(predictions[0])\n",
    "        codebook = huffman.codebook([index, tensor.numpy()] for index, tensor in enumerate(probabilities))\n",
    "\n",
    "        code = codebook[byte]\n",
    "        ones += code.count('1')\n",
    "        archived_size += len(code)\n",
    "\n",
    "        input_eval = tf.expand_dims([byte], 0)\n",
    "  \n",
    "    return ones, archived_size"
   ]
  },
  {
   "cell_type": "code",
   "execution_count": 10,
   "metadata": {},
   "outputs": [],
   "source": [
    "tf.train.latest_checkpoint(checkpoint_dir)\n",
    "model = build_model(vocab_size, embedding_dim, rnn_units, batch_size=1)\n",
    "model.load_weights(tf.train.latest_checkpoint(checkpoint_dir))\n",
    "model.build(tf.TensorShape([1, None]))"
   ]
  },
  {
   "cell_type": "code",
   "execution_count": 11,
   "metadata": {},
   "outputs": [
    {
     "name": "stdout",
     "output_type": "stream",
     "text": [
      "\n",
      "Total length: 51319\n",
      "Compression ratio: 0.2511598997689989\n",
      "Potential compression ratio with arithmetic coding: 0.2336302716066208\n"
     ]
    }
   ],
   "source": [
    "ones, archived_size = huffman_archive_size(model, article)\n",
    "print('\\nTotal length:', archived_size)\n",
    "\n",
    "compression_ratio = archived_size / (len(article) * 8)\n",
    "print('Compression ratio:', compression_ratio)\n",
    "\n",
    "k = (ones / archived_size)\n",
    "arithmetic_compression_ratio = compression_ratio * (-k * np.log2(k) - (1-k) * np.log2(1-k))\n",
    "print('Potential compression ratio with arithmetic coding:', arithmetic_compression_ratio)"
   ]
  },
  {
   "cell_type": "code",
   "execution_count": null,
   "metadata": {},
   "outputs": [],
   "source": []
  }
 ],
 "metadata": {
  "kernelspec": {
   "display_name": "Python 3",
   "language": "python",
   "name": "python3"
  },
  "language_info": {
   "codemirror_mode": {
    "name": "ipython",
    "version": 3
   },
   "file_extension": ".py",
   "mimetype": "text/x-python",
   "name": "python",
   "nbconvert_exporter": "python",
   "pygments_lexer": "ipython3",
   "version": "3.7.5"
  }
 },
 "nbformat": 4,
 "nbformat_minor": 4
}
