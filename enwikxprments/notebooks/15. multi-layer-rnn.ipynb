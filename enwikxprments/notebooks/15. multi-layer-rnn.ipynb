{
 "cells": [
  {
   "cell_type": "code",
   "execution_count": 1,
   "metadata": {},
   "outputs": [],
   "source": [
    "import tensorflow as tf\n",
    "import tensorflow_datasets as tfds"
   ]
  },
  {
   "cell_type": "code",
   "execution_count": 2,
   "metadata": {},
   "outputs": [],
   "source": [
    "def articles():\n",
    "    with open('page_revisions_text', 'rb') as text_file:\n",
    "        pending_article_data = b''\n",
    "        while True:\n",
    "            data = text_file.read(1024 * 1024)\n",
    "            if len(data) == 0:\n",
    "                break\n",
    "\n",
    "            articles = data.split(b'\\0')\n",
    "            articles[0] = pending_article_data + articles[0]\n",
    "            for index, article in enumerate(articles):\n",
    "                if index + 1 == len(articles):\n",
    "                    pending_article_data = article\n",
    "                else:\n",
    "                    yield article\n",
    "\n",
    "        print(pending_article_data)\n",
    "        if len(pending_article_data) != 0:\n",
    "            yield pending_article_data"
   ]
  },
  {
   "cell_type": "code",
   "execution_count": 3,
   "metadata": {},
   "outputs": [],
   "source": [
    "subword_text_encoder = tfds.features.text.SubwordTextEncoder.load_from_file('vocab_4096')"
   ]
  },
  {
   "cell_type": "markdown",
   "metadata": {},
   "source": [
    "Да видим как би изглеждало обучение с кодираните статии..."
   ]
  },
  {
   "cell_type": "code",
   "execution_count": 4,
   "metadata": {},
   "outputs": [],
   "source": [
    "import os\n",
    "\n",
    "import numpy as np\n",
    "import itertools"
   ]
  },
  {
   "cell_type": "code",
   "execution_count": 5,
   "metadata": {},
   "outputs": [
    {
     "data": {
      "text/plain": [
       "<MapDataset shapes: ((64, None), (64, None)), types: (tf.uint16, tf.uint16)>"
      ]
     },
     "execution_count": 5,
     "metadata": {},
     "output_type": "execute_result"
    }
   ],
   "source": [
    "BATCH_SIZE = 64\n",
    "BATCHED_ITEM_LENGTH = 128\n",
    "BUFFER_SIZE = 256\n",
    "TYPE=np.uint16\n",
    "\n",
    "def articles_generator():\n",
    "    for index, article in enumerate(itertools.islice(articles(), 0, 2000)):\n",
    "        yield np.array(subword_text_encoder.encode(article + b'\\0'), dtype=TYPE)\n",
    "\n",
    "    # Pad the article count to the batch size\n",
    "    # We do this to ensure that no data is dropped\n",
    "    index += 1\n",
    "    while index % BATCH_SIZE != 0:\n",
    "        yield np.array([0], dtype=TYPE)\n",
    "        index += 1\n",
    "\n",
    "def subbatches():\n",
    "    dataset = tf.data.Dataset.from_generator(articles_generator, output_types=TYPE)\n",
    "    dataset = dataset.shuffle(BUFFER_SIZE)\n",
    "    dataset = dataset.padded_batch(BATCH_SIZE, padded_shapes=([None]), drop_remainder=True)\n",
    "\n",
    "    for batch in dataset.as_numpy_iterator():\n",
    "        remaining = batch\n",
    "        while remaining.shape[1] > 1:\n",
    "            yield remaining[:, :BATCHED_ITEM_LENGTH]\n",
    "            remaining = remaining[:, BATCHED_ITEM_LENGTH-1:]\n",
    "\n",
    "dataset = tf.data.Dataset.from_generator(subbatches, output_types=TYPE, output_shapes=(BATCH_SIZE, None))\n",
    "dataset = dataset.map(lambda batch: (batch[:, :-1], batch[:, 1:]))\n",
    "\n",
    "dataset"
   ]
  },
  {
   "cell_type": "code",
   "execution_count": 6,
   "metadata": {},
   "outputs": [],
   "source": [
    "def build_model(vocab_size, embedding_dim, rnn_units, batch_size):\n",
    "    return tf.keras.Sequential([\n",
    "        tf.keras.layers.Embedding(vocab_size, embedding_dim, batch_input_shape=[batch_size, None]),\n",
    "        tf.keras.layers.LSTM(rnn_units, return_sequences=True, stateful=True, recurrent_initializer='glorot_uniform'),\n",
    "        tf.keras.layers.LSTM(rnn_units, return_sequences=True, stateful=True, recurrent_initializer='glorot_uniform'),\n",
    "        tf.keras.layers.LSTM(rnn_units, return_sequences=True, stateful=True, recurrent_initializer='glorot_uniform'),\n",
    "        tf.keras.layers.LSTM(rnn_units, return_sequences=True, stateful=True, recurrent_initializer='glorot_uniform'),\n",
    "        tf.keras.layers.Dense(vocab_size),\n",
    "    ])"
   ]
  },
  {
   "cell_type": "code",
   "execution_count": 7,
   "metadata": {},
   "outputs": [],
   "source": [
    "def loss(labels, logits):\n",
    "    return tf.keras.losses.sparse_categorical_crossentropy(labels, logits, from_logits=True)\n",
    "\n",
    "def average_batch_length(true_labels, predictions):\n",
    "    return tf.shape(true_labels)[1]\n",
    "\n",
    "model = build_model(vocab_size = subword_text_encoder.vocab_size, embedding_dim=512, rnn_units=512, batch_size=BATCH_SIZE)\n",
    "model.compile(optimizer='adam', loss=loss, metrics=[average_batch_length])"
   ]
  },
  {
   "cell_type": "code",
   "execution_count": 8,
   "metadata": {},
   "outputs": [],
   "source": [
    "checkpoint_dir = './training_checkpoints' # Directory where the checkpoints will be saved\n",
    "checkpoint_prefix = os.path.join(checkpoint_dir, \"ckpt_{epoch}\") # Name of the checkpoint files\n",
    "\n",
    "checkpoint_callback = tf.keras.callbacks.ModelCheckpoint(filepath=checkpoint_prefix, save_weights_only=True)"
   ]
  },
  {
   "cell_type": "code",
   "execution_count": 9,
   "metadata": {},
   "outputs": [],
   "source": [
    "class ModelStateResetter(tf.keras.callbacks.Callback):\n",
    "    def __init__(self):\n",
    "        self.last_total_length = 0\n",
    "\n",
    "    def on_batch_end(self, batch, logs={}):\n",
    "        average_batch_length = logs.get('average_batch_length', 0)\n",
    "        total_length = int(round(average_batch_length * (batch + 1)))\n",
    "        current_batch_length = total_length - self.last_total_length\n",
    "        self.last_total_length = total_length\n",
    "        \n",
    "        if current_batch_length < BATCHED_ITEM_LENGTH - 1:\n",
    "            self.model.reset_states()\n",
    "        \n",
    "model_state_resetter_callback = ModelStateResetter()"
   ]
  },
  {
   "cell_type": "code",
   "execution_count": 31,
   "metadata": {},
   "outputs": [
    {
     "name": "stdout",
     "output_type": "stream",
     "text": [
      "Epoch 1/17\n",
      "4743/4743 [==============================] - 661s 139ms/step - loss: 0.8891 - average_batch_length: 126.5903\n",
      "Epoch 2/17\n",
      "4490/4490 [==============================] - 622s 139ms/step - loss: 0.6846 - average_batch_length: 126.5501\n",
      "Epoch 3/17\n",
      "4631/4631 [==============================] - 643s 139ms/step - loss: 0.5910 - average_batch_length: 126.6079\n",
      "Epoch 4/17\n",
      "4587/4587 [==============================] - 630s 137ms/step - loss: 0.5472 - average_batch_length: 126.5332\n",
      "Epoch 5/17\n",
      "4548/4548 [==============================] - 628s 138ms/step - loss: 0.5189 - average_batch_length: 126.5330\n",
      "Epoch 6/17\n",
      "4482/4482 [==============================] - 615s 137ms/step - loss: 0.5020 - average_batch_length: 126.4880\n",
      "Epoch 7/17\n",
      "4502/4502 [==============================] - 618s 137ms/step - loss: 0.4818 - average_batch_length: 126.5498\n",
      "Epoch 8/17\n",
      "4405/4405 [==============================] - 602s 137ms/step - loss: 0.4778 - average_batch_length: 126.5317\n",
      "Epoch 9/17\n",
      "4534/4534 [==============================] - 629s 139ms/step - loss: 0.4529 - average_batch_length: 126.6226\n",
      "Epoch 10/17\n",
      "4472/4472 [==============================] - 608s 136ms/step - loss: 0.4482 - average_batch_length: 126.5564\n",
      "Epoch 11/17\n",
      "4449/4449 [==============================] - 600s 135ms/step - loss: 0.4420 - average_batch_length: 126.5639\n",
      "Epoch 12/17\n",
      "4823/4823 [==============================] - 649s 135ms/step - loss: 0.4005 - average_batch_length: 126.5673\n",
      "Epoch 13/17\n",
      "4529/4529 [==============================] - 615s 136ms/step - loss: 0.4186 - average_batch_length: 126.5019\n",
      "Epoch 14/17\n",
      "4594/4594 [==============================] - 627s 136ms/step - loss: 0.4062 - average_batch_length: 126.5623\n",
      "Epoch 15/17\n",
      "4448/4448 [==============================] - 604s 136ms/step - loss: 0.4145 - average_batch_length: 126.5499\n",
      "Epoch 16/17\n",
      "4652/4652 [==============================] - 628s 135ms/step - loss: 0.3907 - average_batch_length: 126.5346\n",
      "Epoch 17/17\n",
      "4754/4754 [==============================] - 655s 138ms/step - loss: 0.3773 - average_batch_length: 126.5271\n"
     ]
    }
   ],
   "source": [
    "total_epochs = 17\n",
    "\n",
    "for epoch in range(total_epochs):\n",
    "    print('Epoch %d/%d' % (epoch + 1, total_epochs))\n",
    "    model.fit(dataset, callbacks=[checkpoint_callback, model_state_resetter_callback])"
   ]
  },
  {
   "cell_type": "code",
   "execution_count": 32,
   "metadata": {},
   "outputs": [
    {
     "name": "stdout",
     "output_type": "stream",
     "text": [
      "Raw: 25541\n",
      "Encoded: 8222\n"
     ]
    }
   ],
   "source": [
    "with open('page_revisions_text', 'rb') as text_file:\n",
    "    data = text_file.read()\n",
    "\n",
    "article = data.split(b'\\0')[120]\n",
    "del data\n",
    "\n",
    "encoded_article = np.array(subword_text_encoder.encode(article + b'\\0'), dtype=TYPE)\n",
    "\n",
    "print('Raw:', len(article))\n",
    "print('Encoded:', len(encoded_article))"
   ]
  },
  {
   "cell_type": "code",
   "execution_count": 345,
   "metadata": {},
   "outputs": [],
   "source": [
    "import ctypes\n",
    "\n",
    "class Huffman:\n",
    "    huffman = ctypes.CDLL('x64/Release/huffman')\n",
    "    \n",
    "    huffman.create_tree.restype = ctypes.c_void_p\n",
    "    huffman.destroy_tree.restype = None\n",
    "    huffman.load_weights.restype = None\n",
    "    huffman.create_code_string.restype = ctypes.c_char_p\n",
    "    \n",
    "    def __init__(self, category_count):\n",
    "        self.tree = ctypes.c_void_p(self.huffman.create_tree(category_count))\n",
    "\n",
    "    def __del__(self):\n",
    "        self.huffman.destroy_tree(self.tree)\n",
    "        \n",
    "    def load_weights(self, weights):\n",
    "        self.huffman.load_weights(self.tree, weights.ctypes.data_as(ctypes.POINTER(ctypes.c_float)))\n",
    "    \n",
    "    def get_code_length(self, category):\n",
    "        return self.huffman.get_code_length(self.tree, category)\n",
    "\n",
    "    def get_code_zero_count(self, category):\n",
    "        return self.huffman.get_code_zero_count(self.tree, category)"
   ]
  },
  {
   "cell_type": "code",
   "execution_count": 332,
   "metadata": {},
   "outputs": [],
   "source": [
    "def huffman_archive_size(model, text):\n",
    "    archived_size = 0\n",
    "    zeros = 0\n",
    "    input_eval = np.array([[0]], dtype=TYPE)\n",
    "    huffman_tree = Huffman(subword_text_encoder.vocab_size)\n",
    "\n",
    "    text_generated = []\n",
    "\n",
    "    model.reset_states()\n",
    "\n",
    "    for index, byte in enumerate(text):\n",
    "        predictions = model(input_eval)\n",
    "        predictions = tf.squeeze(predictions, 0) # remove the batch dimension\n",
    "\n",
    "        weights = tf.nn.softmax(predictions[0]).numpy()\n",
    "        huffman_tree.load_weights(weights)\n",
    "        zeros += huffman_tree.get_code_zero_count(byte.item())\n",
    "        archived_size += huffman_tree.get_code_length(byte.item())\n",
    "\n",
    "        input_eval = tf.expand_dims([byte], 0)\n",
    "  \n",
    "    return archived_size, zeros"
   ]
  },
  {
   "cell_type": "code",
   "execution_count": 333,
   "metadata": {},
   "outputs": [],
   "source": [
    "tf.train.latest_checkpoint(checkpoint_dir)\n",
    "model = build_model(vocab_size = subword_text_encoder.vocab_size, embedding_dim=512, rnn_units=512, batch_size=1)\n",
    "model.load_weights(tf.train.latest_checkpoint(checkpoint_dir))\n",
    "model.build(tf.TensorShape([1, None]))"
   ]
  },
  {
   "cell_type": "code",
   "execution_count": 335,
   "metadata": {
    "scrolled": false
   },
   "outputs": [
    {
     "name": "stdout",
     "output_type": "stream",
     "text": [
      "Compressed length: 41754\n",
      "Compression ratio for encoded: 0.6347908051568961\n",
      "Compression ratio for raw: 0.20434791120159743\n",
      "Potential compression ratio with arithmetic coding: 0.20341159341828602\n"
     ]
    }
   ],
   "source": [
    "archived_size, zeros = huffman_archive_size(model, encoded_article)\n",
    "print('Compressed length:', archived_size)\n",
    "\n",
    "compression_ratio = archived_size / (len(encoded_article) * 8)\n",
    "print('Compression ratio for encoded:', compression_ratio)\n",
    "\n",
    "compression_ratio = archived_size / (len(article) * 8)\n",
    "print('Compression ratio for raw:', compression_ratio)\n",
    "\n",
    "k = (zeros / archived_size)\n",
    "compression_ratio = compression_ratio * (-k * np.log2(k) - (1-k) * np.log2(1-k))\n",
    "print('Potential compression ratio with arithmetic coding:', compression_ratio)"
   ]
  },
  {
   "cell_type": "markdown",
   "metadata": {},
   "source": [
    "Ще се възползваме от натренирания модел и реалните данни, за да опитаме да направим микрооптимизации по C++ кода за дървета на Хъфман."
   ]
  },
  {
   "cell_type": "code",
   "execution_count": 338,
   "metadata": {},
   "outputs": [
    {
     "name": "stdout",
     "output_type": "stream",
     "text": [
      "Completed in 58.676098 seconds\n",
      "Completed in 58.564450 seconds\n",
      "Completed in 58.636290 seconds\n"
     ]
    }
   ],
   "source": [
    "import time\n",
    "import contextlib\n",
    "\n",
    "@contextlib.contextmanager\n",
    "def time_measure():\n",
    "    start = time.perf_counter()\n",
    "    yield\n",
    "    end = time.perf_counter()\n",
    "    print('Completed in %f seconds' % (end - start))\n",
    "\n",
    "with time_measure():\n",
    "    huffman_archive_size(model, encoded_article)\n",
    "\n",
    "with time_measure():\n",
    "    huffman_archive_size(model, encoded_article)\n",
    "\n",
    "with time_measure():\n",
    "    huffman_archive_size(model, encoded_article)"
   ]
  },
  {
   "cell_type": "markdown",
   "metadata": {},
   "source": [
    "Тъй като Windows е малко капризен на тема заредени файлове, ще трябва да освободим C++ библиотеката преди да я рекомпилираме."
   ]
  },
  {
   "cell_type": "code",
   "execution_count": 342,
   "metadata": {},
   "outputs": [
    {
     "data": {
      "text/plain": [
       "0"
      ]
     },
     "execution_count": 342,
     "metadata": {},
     "output_type": "execute_result"
    }
   ],
   "source": [
    "ctypes.windll.kernel32.FreeLibrary(ctypes.c_void_p(Huffman.huffman._handle))"
   ]
  },
  {
   "cell_type": "markdown",
   "metadata": {},
   "source": [
    "Правим промяна в C++ кода - ползваме битови полета, за да смъкнем размера на възлите в дървото от 12 байта до 8 байта. Така би трябвало да се възползваме по-ефективно от кеша на процесора. След това презареждаме и тестваме..."
   ]
  },
  {
   "cell_type": "code",
   "execution_count": 343,
   "metadata": {},
   "outputs": [],
   "source": [
    "class Huffman:\n",
    "    huffman = ctypes.CDLL('x64/Release/huffman')\n",
    "    \n",
    "    huffman.create_tree.restype = ctypes.c_void_p\n",
    "    huffman.destroy_tree.restype = None\n",
    "    huffman.load_weights.restype = None\n",
    "    huffman.create_code_string.restype = ctypes.c_char_p\n",
    "    \n",
    "    def __init__(self, category_count):\n",
    "        self.tree = ctypes.c_void_p(self.huffman.create_tree(category_count))\n",
    "\n",
    "    def __del__(self):\n",
    "        self.huffman.destroy_tree(self.tree)\n",
    "        \n",
    "    def load_weights(self, weights):\n",
    "        self.huffman.load_weights(self.tree, weights.ctypes.data_as(ctypes.POINTER(ctypes.c_float)))\n",
    "    \n",
    "    def get_code_length(self, category):\n",
    "        return self.huffman.get_code_length(self.tree, category)\n",
    "\n",
    "    def get_code_zero_count(self, category):\n",
    "        return self.huffman.get_code_zero_count(self.tree, category)"
   ]
  },
  {
   "cell_type": "code",
   "execution_count": 346,
   "metadata": {},
   "outputs": [
    {
     "name": "stdout",
     "output_type": "stream",
     "text": [
      "Completed in 58.123267 seconds\n",
      "Completed in 58.124431 seconds\n",
      "Completed in 57.691206 seconds\n"
     ]
    }
   ],
   "source": [
    "with time_measure():\n",
    "    huffman_archive_size(model, encoded_article)\n",
    "\n",
    "with time_measure():\n",
    "    huffman_archive_size(model, encoded_article)\n",
    "\n",
    "with time_measure():\n",
    "    huffman_archive_size(model, encoded_article)"
   ]
  },
  {
   "cell_type": "markdown",
   "metadata": {},
   "source": [
    "Маргинално по-добре. Но все пак - по-добре.\n",
    "\n",
    "Ще опитаме една малко по-странна оптимизация. При инициализация на тегла, за категории с вероятност над 50% от оставащата, ще слагаме възли в корена на дървото на Хъфман. Останалата част от дървото ще генерираме мързеливо при пъвво поискване."
   ]
  },
  {
   "cell_type": "code",
   "execution_count": 393,
   "metadata": {},
   "outputs": [
    {
     "data": {
      "text/plain": [
       "0"
      ]
     },
     "execution_count": 393,
     "metadata": {},
     "output_type": "execute_result"
    }
   ],
   "source": [
    "ctypes.windll.kernel32.FreeLibrary(ctypes.c_void_p(Huffman.huffman._handle))"
   ]
  },
  {
   "cell_type": "code",
   "execution_count": 394,
   "metadata": {},
   "outputs": [],
   "source": [
    "class Huffman:\n",
    "    huffman = ctypes.CDLL('x64/Release/huffman')\n",
    "\n",
    "    huffman.create_tree.restype = ctypes.c_void_p\n",
    "    huffman.destroy_tree.restype = None\n",
    "    huffman.load_weights.restype = None\n",
    "    huffman.create_code_string.restype = ctypes.c_char_p\n",
    "\n",
    "    def __init__(self, category_count):\n",
    "        self.tree = ctypes.c_void_p(self.huffman.create_tree(category_count))\n",
    "\n",
    "    def __del__(self):\n",
    "        self.huffman.destroy_tree(self.tree)\n",
    "\n",
    "    def load_weights(self, weights):\n",
    "        self.huffman.load_weights(self.tree, weights.ctypes.data_as(ctypes.POINTER(ctypes.c_float)))\n",
    "\n",
    "    def get_code_length(self, category):\n",
    "        return self.huffman.get_code_length(self.tree, category)\n",
    "\n",
    "    def get_code_zero_count(self, category):\n",
    "        return self.huffman.get_code_zero_count(self.tree, category)"
   ]
  },
  {
   "cell_type": "code",
   "execution_count": 388,
   "metadata": {},
   "outputs": [
    {
     "name": "stdout",
     "output_type": "stream",
     "text": [
      "Completed in 57.132601 seconds\n",
      "Completed in 57.169302 seconds\n",
      "Completed in 57.840507 seconds\n"
     ]
    }
   ],
   "source": [
    "with time_measure():\n",
    "    huffman_archive_size(model, encoded_article)\n",
    "\n",
    "with time_measure():\n",
    "    huffman_archive_size(model, encoded_article)\n",
    "\n",
    "with time_measure():\n",
    "    huffman_archive_size(model, encoded_article)"
   ]
  },
  {
   "cell_type": "markdown",
   "metadata": {},
   "source": [
    "Отново - не твърде впечатляващо. Но пък тази оптимизация, би станала по-осезаема при по-добре тренирани модели.\n",
    "\n",
    "Това беше невпечатляващо. Нека се върнем към тренирането на модела."
   ]
  },
  {
   "cell_type": "code",
   "execution_count": 10,
   "metadata": {},
   "outputs": [],
   "source": [
    "tf.train.latest_checkpoint(checkpoint_dir)\n",
    "model = build_model(vocab_size = subword_text_encoder.vocab_size, embedding_dim=512, rnn_units=512, batch_size=BATCH_SIZE)\n",
    "model.load_weights(tf.train.latest_checkpoint(checkpoint_dir))\n",
    "model.compile(optimizer='adam', loss=loss, metrics=[average_batch_length])"
   ]
  },
  {
   "cell_type": "code",
   "execution_count": 11,
   "metadata": {},
   "outputs": [
    {
     "name": "stdout",
     "output_type": "stream",
     "text": [
      "Epoch 1/10\n",
      "4688/4688 [==============================] - 659s 141ms/step - loss: 0.3787 - average_batch_length: 126.5565\n",
      "Epoch 2/10\n",
      "4551/4551 [==============================] - 618s 136ms/step - loss: 0.3857 - average_batch_length: 126.5592\n",
      "Epoch 3/10\n",
      "4326/4326 [==============================] - 588s 136ms/step - loss: 0.3999 - average_batch_length: 126.5035\n",
      "Epoch 4/10\n",
      "4396/4396 [==============================] - 596s 135ms/step - loss: 0.3901 - average_batch_length: 126.5660\n",
      "Epoch 5/10\n",
      "4488/4488 [==============================] - 610s 136ms/step - loss: 0.3783 - average_batch_length: 126.5911\n",
      "Epoch 6/10\n",
      "4412/4412 [==============================] - 601s 136ms/step - loss: 0.3812 - average_batch_length: 126.5378\n",
      "Epoch 7/10\n",
      "4478/4478 [==============================] - 608s 136ms/step - loss: 0.3727 - average_batch_length: 126.5337\n",
      "Epoch 8/10\n",
      "4478/4478 [==============================] - 612s 137ms/step - loss: 0.3694 - average_batch_length: 126.5663\n",
      "Epoch 9/10\n",
      "4578/4578 [==============================] - 631s 138ms/step - loss: 0.3585 - average_batch_length: 126.5979\n",
      "Epoch 10/10\n",
      "4543/4543 [==============================] - 632s 139ms/step - loss: 0.3587 - average_batch_length: 126.5287\n"
     ]
    }
   ],
   "source": [
    "total_epochs = 10\n",
    "\n",
    "for epoch in range(total_epochs):\n",
    "    print('Epoch %d/%d' % (epoch + 1, total_epochs))\n",
    "    model.fit(dataset, callbacks=[checkpoint_callback, model_state_resetter_callback])"
   ]
  },
  {
   "cell_type": "code",
   "execution_count": 12,
   "metadata": {},
   "outputs": [
    {
     "name": "stdout",
     "output_type": "stream",
     "text": [
      "Epoch 1/5\n",
      "4518/4518 [==============================] - 619s 137ms/step - loss: 0.3570 - average_batch_length: 126.5865\n",
      "Epoch 2/5\n",
      "4478/4478 [==============================] - 609s 136ms/step - loss: 0.3584 - average_batch_length: 126.5808\n",
      "Epoch 3/5\n",
      "4386/4386 [==============================] - 595s 136ms/step - loss: 0.3624 - average_batch_length: 126.5661\n",
      "Epoch 4/5\n",
      "4714/4714 [==============================] - 636s 135ms/step - loss: 0.3354 - average_batch_length: 126.5204\n",
      "Epoch 5/5\n",
      "4620/4620 [==============================] - 624s 135ms/step - loss: 0.3397 - average_batch_length: 126.5400\n"
     ]
    }
   ],
   "source": [
    "total_epochs = 5\n",
    "\n",
    "for epoch in range(total_epochs):\n",
    "    print('Epoch %d/%d' % (epoch + 1, total_epochs))\n",
    "    model.fit(dataset, callbacks=[checkpoint_callback, model_state_resetter_callback])"
   ]
  },
  {
   "cell_type": "code",
   "execution_count": 13,
   "metadata": {},
   "outputs": [
    {
     "name": "stdout",
     "output_type": "stream",
     "text": [
      "Epoch 1/5\n",
      "4433/4433 [==============================] - 600s 135ms/step - loss: 0.3518 - average_batch_length: 126.5256\n",
      "Epoch 2/5\n",
      "4625/4625 [==============================] - 627s 136ms/step - loss: 0.3347 - average_batch_length: 126.5046\n",
      "Epoch 3/5\n",
      "4621/4621 [==============================] - 636s 138ms/step - loss: 0.3339 - average_batch_length: 126.5451\n",
      "Epoch 4/5\n",
      "4572/4572 [==============================] - 632s 138ms/step - loss: 0.3344 - average_batch_length: 126.5228\n",
      "Epoch 5/5\n",
      "4701/4701 [==============================] - 650s 138ms/step - loss: 0.3241 - average_batch_length: 126.5080\n"
     ]
    }
   ],
   "source": [
    "total_epochs = 5\n",
    "\n",
    "for epoch in range(total_epochs):\n",
    "    print('Epoch %d/%d' % (epoch + 1, total_epochs))\n",
    "    model.fit(dataset, callbacks=[checkpoint_callback, model_state_resetter_callback])"
   ]
  },
  {
   "cell_type": "code",
   "execution_count": 14,
   "metadata": {},
   "outputs": [],
   "source": [
    "tf.train.latest_checkpoint(checkpoint_dir)\n",
    "model = build_model(vocab_size = subword_text_encoder.vocab_size, embedding_dim=512, rnn_units=512, batch_size=1)\n",
    "model.load_weights(tf.train.latest_checkpoint(checkpoint_dir))\n",
    "model.build(tf.TensorShape([1, None]))"
   ]
  },
  {
   "cell_type": "code",
   "execution_count": 20,
   "metadata": {},
   "outputs": [
    {
     "name": "stdout",
     "output_type": "stream",
     "text": [
      "Compressed length: 37199\n",
      "Compression ratio for encoded: 0.565540622719533\n",
      "Compression ratio for raw: 0.1820553228142986\n",
      "Potential compression ratio with arithmetic coding: 0.18082959868885462\n"
     ]
    }
   ],
   "source": [
    "archived_size, zeros = huffman_archive_size(model, encoded_article)\n",
    "print('Compressed length:', archived_size)\n",
    "\n",
    "compression_ratio = archived_size / (len(encoded_article) * 8)\n",
    "print('Compression ratio for encoded:', compression_ratio)\n",
    "\n",
    "compression_ratio = archived_size / (len(article) * 8)\n",
    "print('Compression ratio for raw:', compression_ratio)\n",
    "\n",
    "k = (zeros / archived_size)\n",
    "compression_ratio = compression_ratio * (-k * np.log2(k) - (1-k) * np.log2(1-k))\n",
    "print('Potential compression ratio with arithmetic coding:', compression_ratio)"
   ]
  },
  {
   "cell_type": "markdown",
   "metadata": {},
   "source": [
    "Какво ли би станало, ако сменим loss функцията в движение?"
   ]
  },
  {
   "cell_type": "code",
   "execution_count": 24,
   "metadata": {},
   "outputs": [],
   "source": [
    "from tensorflow.python.eager import context\n",
    "from tensorflow.python.keras import backend_config\n",
    "from tensorflow.python.framework import constant_op\n",
    "from tensorflow.python.framework import ops\n",
    "from tensorflow.python.framework import tensor_util\n",
    "from tensorflow.python.ops import array_ops\n",
    "from tensorflow.python.ops import nn\n",
    "from tensorflow.python.ops import clip_ops\n",
    "from tensorflow.python.ops import math_ops\n",
    "from tensorflow.python.ops import variables as variables_module\n",
    "\n",
    "epsilon = backend_config.epsilon\n",
    "\n",
    "def get_graph():\n",
    "    if context.executing_eagerly():\n",
    "        global _GRAPH\n",
    "        if _GRAPH is None:\n",
    "            _GRAPH = func_graph.FuncGraph('keras_graph')\n",
    "        return _GRAPH\n",
    "    else:\n",
    "        return ops.get_default_graph()\n",
    "\n",
    "def flatten(x):\n",
    "    return array_ops.reshape(x, [-1])\n",
    "\n",
    "def cast(x, dtype):\n",
    "    return math_ops.cast(x, dtype)\n",
    "  \n",
    "def _is_symbolic_tensor(x):\n",
    "    return tensor_util.is_tensor(x) and not isinstance(x, ops.EagerTensor)\n",
    "\n",
    "# This is based around the `sparse_categorical_crossentropy` implementation in Keras:\n",
    "# https://github.com/tensorflow/tensorflow/blob/v2.1.0/tensorflow/python/keras/backend.py#L4507-L4582\n",
    "def loss(target, output, from_logits=False, axis=-1):\n",
    "    if not from_logits:\n",
    "        if (isinstance(output, (ops.EagerTensor, variables_module.Variable)) or output.op.type != 'Softmax'):\n",
    "            epsilon_ = constant_op.constant(epsilon(), dtype=output.dtype.base_dtype)\n",
    "            output = clip_ops.clip_by_value(output, epsilon_, 1 - epsilon_)\n",
    "            output = math_ops.log(output)\n",
    "        else:\n",
    "            # When softmax activation function is used for output operation, we\n",
    "            # use logits from the softmax function directly to compute loss in order\n",
    "            # to prevent collapsing zero when training.\n",
    "            # See b/117284466\n",
    "            assert len(output.op.inputs) == 1\n",
    "            output = output.op.inputs[0]\n",
    "  \n",
    "    if isinstance(output.shape, (tuple, list)):\n",
    "        output_rank = len(output.shape)\n",
    "    else:\n",
    "        output_rank = output.shape.ndims\n",
    "\n",
    "    if output_rank is not None:\n",
    "        axis %= output_rank\n",
    "        if axis != output_rank - 1:\n",
    "            permutation = list(itertools.chain(range(axis), range(axis + 1, output_rank), [axis]))\n",
    "            output = array_ops.transpose(output, perm=permutation)\n",
    "    elif axis != -1:\n",
    "        raise ValueError(\n",
    "            'Cannot compute sparse categorical crossentropy with `axis={}` on an '\n",
    "            'output tensor with unknown rank'.format(axis))\n",
    "  \n",
    "    target = cast(target, 'int64')\n",
    "  \n",
    "    # Try to adjust the shape so that rank of labels = rank of logits - 1.\n",
    "    output_shape = array_ops.shape_v2(output)\n",
    "    target_rank = target.shape.ndims\n",
    "  \n",
    "    update_shape = (target_rank is not None and output_rank is not None and target_rank != output_rank - 1)\n",
    "    if update_shape:\n",
    "        target = flatten(target)\n",
    "        output = array_ops.reshape(output, [-1, output_shape[-1]])\n",
    "  \n",
    "    if __builtins__.any([_is_symbolic_tensor(v) for v in [target, output]]):\n",
    "        with get_graph().as_default():\n",
    "            res = huffman_code_lengths(labels=target, logits=output)\n",
    "    else:\n",
    "        res = huffman_code_lengths(labels=target, logits=output)\n",
    "  \n",
    "    if update_shape and output_rank >= 3:\n",
    "        # If our output includes timesteps or spatial dimensions we need to reshape\n",
    "        return array_ops.reshape(res, output_shape[:-1])\n",
    "    else:\n",
    "        return res\n",
    "\n",
    "def huffman_code_lengths(labels, logits):\n",
    "    category_count = logits.shape[-1] or 0\n",
    "    return tf.reduce_mean(-tf.math.log(tf.one_hot(labels, depth=category_count) * tf.nn.softmax(logits) + 0.0001), axis=-1)"
   ]
  },
  {
   "cell_type": "code",
   "execution_count": 25,
   "metadata": {},
   "outputs": [],
   "source": [
    "model = build_model(vocab_size = subword_text_encoder.vocab_size, embedding_dim=512, rnn_units=512, batch_size=BATCH_SIZE)\n",
    "model.load_weights(tf.train.latest_checkpoint(checkpoint_dir))\n",
    "model.compile(optimizer='adam', loss=loss, metrics=[average_batch_length])"
   ]
  },
  {
   "cell_type": "code",
   "execution_count": 26,
   "metadata": {},
   "outputs": [
    {
     "name": "stdout",
     "output_type": "stream",
     "text": [
      "WARNING:tensorflow:Unresolved object in checkpoint: (root).optimizer\n",
      "WARNING:tensorflow:Unresolved object in checkpoint: (root).optimizer.iter\n",
      "WARNING:tensorflow:Unresolved object in checkpoint: (root).optimizer.beta_1\n",
      "WARNING:tensorflow:Unresolved object in checkpoint: (root).optimizer.beta_2\n",
      "WARNING:tensorflow:Unresolved object in checkpoint: (root).optimizer.decay\n",
      "WARNING:tensorflow:Unresolved object in checkpoint: (root).optimizer.learning_rate\n",
      "WARNING:tensorflow:Unresolved object in checkpoint: (root).optimizer's state 'm' for (root).layer_with_weights-0.embeddings\n",
      "WARNING:tensorflow:Unresolved object in checkpoint: (root).optimizer's state 'm' for (root).layer_with_weights-5.kernel\n",
      "WARNING:tensorflow:Unresolved object in checkpoint: (root).optimizer's state 'm' for (root).layer_with_weights-5.bias\n",
      "WARNING:tensorflow:Unresolved object in checkpoint: (root).optimizer's state 'm' for (root).layer_with_weights-1.cell.kernel\n",
      "WARNING:tensorflow:Unresolved object in checkpoint: (root).optimizer's state 'm' for (root).layer_with_weights-1.cell.recurrent_kernel\n",
      "WARNING:tensorflow:Unresolved object in checkpoint: (root).optimizer's state 'm' for (root).layer_with_weights-1.cell.bias\n",
      "WARNING:tensorflow:Unresolved object in checkpoint: (root).optimizer's state 'm' for (root).layer_with_weights-2.cell.kernel\n",
      "WARNING:tensorflow:Unresolved object in checkpoint: (root).optimizer's state 'm' for (root).layer_with_weights-2.cell.recurrent_kernel\n",
      "WARNING:tensorflow:Unresolved object in checkpoint: (root).optimizer's state 'm' for (root).layer_with_weights-2.cell.bias\n",
      "WARNING:tensorflow:Unresolved object in checkpoint: (root).optimizer's state 'm' for (root).layer_with_weights-3.cell.kernel\n",
      "WARNING:tensorflow:Unresolved object in checkpoint: (root).optimizer's state 'm' for (root).layer_with_weights-3.cell.recurrent_kernel\n",
      "WARNING:tensorflow:Unresolved object in checkpoint: (root).optimizer's state 'm' for (root).layer_with_weights-3.cell.bias\n",
      "WARNING:tensorflow:Unresolved object in checkpoint: (root).optimizer's state 'm' for (root).layer_with_weights-4.cell.kernel\n",
      "WARNING:tensorflow:Unresolved object in checkpoint: (root).optimizer's state 'm' for (root).layer_with_weights-4.cell.recurrent_kernel\n",
      "WARNING:tensorflow:Unresolved object in checkpoint: (root).optimizer's state 'm' for (root).layer_with_weights-4.cell.bias\n",
      "WARNING:tensorflow:Unresolved object in checkpoint: (root).optimizer's state 'v' for (root).layer_with_weights-0.embeddings\n",
      "WARNING:tensorflow:Unresolved object in checkpoint: (root).optimizer's state 'v' for (root).layer_with_weights-5.kernel\n",
      "WARNING:tensorflow:Unresolved object in checkpoint: (root).optimizer's state 'v' for (root).layer_with_weights-5.bias\n",
      "WARNING:tensorflow:Unresolved object in checkpoint: (root).optimizer's state 'v' for (root).layer_with_weights-1.cell.kernel\n",
      "WARNING:tensorflow:Unresolved object in checkpoint: (root).optimizer's state 'v' for (root).layer_with_weights-1.cell.recurrent_kernel\n",
      "WARNING:tensorflow:Unresolved object in checkpoint: (root).optimizer's state 'v' for (root).layer_with_weights-1.cell.bias\n",
      "WARNING:tensorflow:Unresolved object in checkpoint: (root).optimizer's state 'v' for (root).layer_with_weights-2.cell.kernel\n",
      "WARNING:tensorflow:Unresolved object in checkpoint: (root).optimizer's state 'v' for (root).layer_with_weights-2.cell.recurrent_kernel\n",
      "WARNING:tensorflow:Unresolved object in checkpoint: (root).optimizer's state 'v' for (root).layer_with_weights-2.cell.bias\n",
      "WARNING:tensorflow:Unresolved object in checkpoint: (root).optimizer's state 'v' for (root).layer_with_weights-3.cell.kernel\n",
      "WARNING:tensorflow:Unresolved object in checkpoint: (root).optimizer's state 'v' for (root).layer_with_weights-3.cell.recurrent_kernel\n",
      "WARNING:tensorflow:Unresolved object in checkpoint: (root).optimizer's state 'v' for (root).layer_with_weights-3.cell.bias\n",
      "WARNING:tensorflow:Unresolved object in checkpoint: (root).optimizer's state 'v' for (root).layer_with_weights-4.cell.kernel\n",
      "WARNING:tensorflow:Unresolved object in checkpoint: (root).optimizer's state 'v' for (root).layer_with_weights-4.cell.recurrent_kernel\n",
      "WARNING:tensorflow:Unresolved object in checkpoint: (root).optimizer's state 'v' for (root).layer_with_weights-4.cell.bias\n",
      "WARNING:tensorflow:A checkpoint was restored (e.g. tf.train.Checkpoint.restore or tf.keras.Model.load_weights) but not all checkpointed values were used. See above for specific issues. Use expect_partial() on the load status object, e.g. tf.train.Checkpoint.restore(...).expect_partial(), to silence these warnings, or use assert_consumed() to make the check explicit. See https://www.tensorflow.org/guide/checkpoint#loading_mechanics for details.\n",
      "4576/4576 [==============================] - 689s 151ms/step - loss: 9.2100 - average_batch_length: 126.4878\n"
     ]
    },
    {
     "data": {
      "text/plain": [
       "<tensorflow.python.keras.callbacks.History at 0x143185dc348>"
      ]
     },
     "execution_count": 26,
     "metadata": {},
     "output_type": "execute_result"
    }
   ],
   "source": [
    "model.fit(dataset, callbacks=[checkpoint_callback, model_state_resetter_callback])"
   ]
  },
  {
   "cell_type": "markdown",
   "metadata": {},
   "source": [
    "Нищо. Отново. Loss-а не се промени въобще."
   ]
  }
 ],
 "metadata": {
  "kernelspec": {
   "display_name": "Python 3",
   "language": "python",
   "name": "python3"
  },
  "language_info": {
   "codemirror_mode": {
    "name": "ipython",
    "version": 3
   },
   "file_extension": ".py",
   "mimetype": "text/x-python",
   "name": "python",
   "nbconvert_exporter": "python",
   "pygments_lexer": "ipython3",
   "version": "3.7.5"
  }
 },
 "nbformat": 4,
 "nbformat_minor": 4
}
