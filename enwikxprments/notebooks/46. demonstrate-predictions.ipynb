{
 "cells": [
  {
   "cell_type": "code",
   "execution_count": 1,
   "metadata": {},
   "outputs": [],
   "source": [
    "import html\n",
    "import re\n",
    "\n",
    "import tensorflow_datasets as tfds\n",
    "\n",
    "class SubalphabetSubwordTextEncoder:\n",
    "    HTML_ESCAPE_PATTERN = re.compile('&(((#\\d+)|([A-Za-z]+));&?)+')\n",
    "    SPECIAL_CHAR = 'X'\n",
    "\n",
    "    def __init__(self, subalphabet, vocab_list=None):\n",
    "        self._subword_text_encoder = tfds.features.text.SubwordTextEncoder(vocab_list)\n",
    "        self._subalphabet = subalphabet\n",
    "\n",
    "    def encode(self, s):\n",
    "        subword_max_code = len(self.subwords)\n",
    "        codes = self._build_encoding_dict(self._subalphabet)\n",
    "        preprocessed_string = self.preprocess_string(s)\n",
    "\n",
    "        result = []\n",
    "        unicode_buffer = bytearray()\n",
    "        for id in self._subword_text_encoder.encode(preprocessed_string):\n",
    "            if id <= subword_max_code:\n",
    "                result.append(id)\n",
    "            else:\n",
    "                unicode_buffer.append(id - subword_max_code - 1)\n",
    "                try:\n",
    "                    id = ord(unicode_buffer.decode())\n",
    "                    result.append(subword_max_code + codes[id] + 1)\n",
    "                    unicode_buffer = bytearray()\n",
    "                except UnicodeDecodeError:\n",
    "                    pass\n",
    "        return result\n",
    "\n",
    "    def decode(self, ids):\n",
    "        subword_max_code = len(self.subwords)\n",
    "\n",
    "        processed_ids = []\n",
    "        for id in ids:\n",
    "            if id <= subword_max_code:\n",
    "                processed_ids.append(id)\n",
    "            else:\n",
    "                char = self._subalphabet[id - subword_max_code - 1].encode()\n",
    "                processed_ids += [codepoint + subword_max_code + 1 for codepoint in char]\n",
    "\n",
    "        return self._subword_text_encoder.decode(processed_ids)\n",
    "    \n",
    "    @classmethod\n",
    "    def build_from_corpus(cls, corpus_generator, subalphabet_size, target_vocab_size, max_subword_length=20, max_corpus_chars=None, reserved_tokens=None):\n",
    "        simplified_strings = []\n",
    "        char_counts = defaultdict(lambda: 0)\n",
    "\n",
    "        for string in corpus_generator:\n",
    "            simplified_string = cls._unescape_string(string.lower())\n",
    "            simplified_strings.append(simplified_string)\n",
    "            for char in simplified_string:\n",
    "                char_counts[char] += 1\n",
    "\n",
    "        sorted_char_counts = sorted(char_counts.items(), key = lambda item: item[1], reverse = True)\n",
    "        chars = [char for char, char_count in sorted_char_counts[:subalphabet_size - 1]]\n",
    "        chars = list(reversed(chars)) # We reverse the chars so that the most common ones are last\n",
    "        chars = cls._ensure_special_character_presence(chars)\n",
    "\n",
    "        def simplified_corpus():\n",
    "            for string in simplified_strings:\n",
    "                yield cls._compact_string(chars, string)\n",
    "\n",
    "        subword_text_encoder = tfds.features.text.SubwordTextEncoder.build_from_corpus(simplified_corpus(), target_vocab_size + 256 - subalphabet_size)\n",
    "        \n",
    "        return cls(chars, subword_text_encoder.subwords)\n",
    "    \n",
    "    @classmethod\n",
    "    def load_from_file(cls, filename_prefix):\n",
    "        subword_text_encoder = tfds.features.text.SubwordTextEncoder.load_from_file(filename_prefix)\n",
    "        with open(filename_prefix + '.subalphabet', 'rb') as text_file:\n",
    "            subalphabet = ['\\0', cls.SPECIAL_CHAR] + text_file.read().decode().split('\\0')\n",
    "\n",
    "        return cls(subalphabet, subword_text_encoder.subwords)\n",
    "    \n",
    "    def save_to_file(self, filename_prefix):\n",
    "        self._subword_text_encoder.save_to_file(filename_prefix)\n",
    "        with open(filename_prefix + '.subalphabet', 'wb') as text_file:\n",
    "            text_file.write('\\0'.join(self._subalphabet[2:]).encode())\n",
    "\n",
    "    def preprocess_string(self, string):\n",
    "        return self._compact_string(self._subalphabet, self._unescape_string(string.lower()))\n",
    "\n",
    "    @property\n",
    "    def vocab_size(self):\n",
    "        return self._subword_text_encoder.vocab_size - 256 + len(self._subalphabet)\n",
    "    \n",
    "    @property\n",
    "    def subwords(self):\n",
    "        return self._subword_text_encoder.subwords\n",
    "\n",
    "    @classmethod\n",
    "    def _ensure_special_character_presence(cls, chars):\n",
    "        if '\\0' in chars:\n",
    "            chars = [char for char in chars if char != '\\0']\n",
    "        else:\n",
    "            chars = chars[1:]\n",
    "\n",
    "        return ['\\0', cls.SPECIAL_CHAR] + chars\n",
    "    \n",
    "    @classmethod\n",
    "    def _unescape_html_symbol(cls, escaped):\n",
    "        escaped_symbols = escaped.group(0).split(';')\n",
    "        escaped_symbols = escaped_symbols[:-1] # strip the last string empty string\n",
    "        escaped_symbols = (escaped_symbol + ';' for escaped_symbol in escaped_symbols)\n",
    "        result = ''\n",
    "\n",
    "        for escaped_symbol in escaped_symbols:\n",
    "            code = escaped_symbol[1:] if escaped_symbol[0] == '&' else escaped_symbol\n",
    "\n",
    "            if code[0] == '#':\n",
    "                result += chr(int(code[1:-1]))\n",
    "            elif code in html.entities.html5:\n",
    "                result += html.entities.html5[code]\n",
    "            else:\n",
    "                result += escaped_symbol\n",
    "\n",
    "        return result\n",
    "    \n",
    "    @classmethod\n",
    "    def _unescape_string(cls, string):\n",
    "        return cls.HTML_ESCAPE_PATTERN.sub(cls._unescape_html_symbol, string)\n",
    "    \n",
    "    @classmethod\n",
    "    def _compact_string(cls, chars, string):\n",
    "        if len(string) == 0:\n",
    "            return string\n",
    "        else:\n",
    "            compacted_string = string[0]\n",
    "\n",
    "            for char in string[1:]:\n",
    "                if char not in chars or char == cls.SPECIAL_CHAR:\n",
    "                    if compacted_string[-1] != cls.SPECIAL_CHAR:\n",
    "                        compacted_string += cls.SPECIAL_CHAR\n",
    "                else:\n",
    "                    compacted_string += char\n",
    "\n",
    "            return compacted_string\n",
    "    \n",
    "    @classmethod\n",
    "    def _build_encoding_dict(cls, chars):\n",
    "        return {ord(char): index for index, char in enumerate(chars)}"
   ]
  },
  {
   "cell_type": "code",
   "execution_count": 2,
   "metadata": {},
   "outputs": [],
   "source": [
    "encoder = SubalphabetSubwordTextEncoder.load_from_file('72_256')"
   ]
  },
  {
   "cell_type": "code",
   "execution_count": 3,
   "metadata": {},
   "outputs": [],
   "source": [
    "import itertools\n",
    "import math\n",
    "import os\n",
    "\n",
    "import numpy as np\n",
    "import tensorflow as tf\n",
    "import tensorflow_datasets as tfds\n",
    "\n",
    "from checkpointing import checkpointable\n",
    "\n",
    "physical_devices = tf.config.list_physical_devices('GPU')\n",
    "for physical_device in physical_devices:\n",
    "    tf.config.experimental.set_memory_growth(physical_device, enable=True)"
   ]
  },
  {
   "cell_type": "code",
   "execution_count": 4,
   "metadata": {},
   "outputs": [],
   "source": [
    "TYPE=np.int16\n",
    "\n",
    "class Articles:\n",
    "    EMPTY_ARTICLE = np.array([], dtype=TYPE) # used for padding\n",
    "    \n",
    "    def __init__(self, path):\n",
    "        with open(path, 'rb') as text_file:\n",
    "            data = text_file.read().decode()\n",
    "\n",
    "        self.articles = sorted(set(data.split('\\0')), key=len)\n",
    "        self._encoded_articles = None\n",
    "\n",
    "    @property\n",
    "    def encoded_articles(self):\n",
    "        if self._encoded_articles == None:\n",
    "            self._encoded_articles = [np.array(encoder.encode(article), dtype=TYPE) for article in self.articles]\n",
    "        \n",
    "        return self._encoded_articles\n",
    "\n",
    "    def articles_generator(self, batch_size = 1, start = 0, end = None):\n",
    "        end = end or len(self.articles)\n",
    "\n",
    "        for _ in range(batch_size - ((end - start - 1) % batch_size + 1)):\n",
    "            yield self.EMPTY_ARTICLE\n",
    "\n",
    "        for article in itertools.islice(self.encoded_articles, start, end):\n",
    "            yield article\n",
    "\n",
    "    def subbatch_generator(self, batch_size, batch_length, start = 0, end = None):\n",
    "        end = end or len(self.articles)\n",
    "\n",
    "        dataset = tf.data.Dataset.from_generator(self.articles_generator, args=(batch_size, start, end), output_types=TYPE)\n",
    "        dataset = dataset.padded_batch(batch_size, padded_shapes=([None]), drop_remainder=True)\n",
    "        dataset = dataset.shuffle(100)\n",
    "\n",
    "        for batch in dataset.as_numpy_iterator():\n",
    "            remaining = batch\n",
    "            while remaining.shape[1] > batch_length + 1:\n",
    "                yield remaining[:, :batch_length + 1]\n",
    "                remaining = remaining[:, batch_length:]\n",
    "\n",
    "            if remaining.shape[1] == batch_length + 1:\n",
    "                yield remaining\n",
    "                yield np.zeros((batch_size, batch_length + 1), dtype=TYPE)\n",
    "            else:\n",
    "                yield np.hstack([remaining, np.zeros([batch_size, batch_length - remaining.shape[1] + 1])])\n",
    "\n",
    "    def steps(self, batch_size, batch_length):\n",
    "        articles = self.articles_generator(batch_size, batch_length)\n",
    "        return sum(math.ceil(len(article) / batch_length + 1) for i, article in enumerate(articles) if (i + 1) % batch_size == 0)\n",
    "\n",
    "    def dataset(self, batch_size, batch_length, start = 0, end = None):\n",
    "        end = end or len(self.articles)\n",
    "\n",
    "        dataset = tf.data.Dataset.from_generator(self.subbatch_generator, args=(batch_size, batch_length, start, end), output_types=TYPE, output_shapes=(batch_size, batch_length + 1))\n",
    "        return dataset.map(lambda batch: (batch[:, :-1], batch[:, 1:]))"
   ]
  },
  {
   "cell_type": "code",
   "execution_count": 5,
   "metadata": {},
   "outputs": [],
   "source": [
    "def loss(labels, logits):\n",
    "    return tf.keras.losses.sparse_categorical_crossentropy(labels, logits)\n",
    "\n",
    "def average_final_batch_ratio(true_labels, predictions):\n",
    "    return 0 ** tf.math.abs(true_labels[-1, -1])\n",
    "\n",
    "class ModelStateResetter(tf.keras.callbacks.Callback):\n",
    "    def __init__(self):\n",
    "        pass\n",
    "\n",
    "    def on_epoch_begin(self, epoch, logs=None):\n",
    "        self.last_final_batch_count = 0\n",
    "        \n",
    "    def on_batch_end(self, batch, logs={}):\n",
    "        average_final_batch_ratio = logs.get('average_final_batch_ratio', 0)\n",
    "        final_batch_count = int(round(average_final_batch_ratio * (batch + 1)))\n",
    "        is_final = final_batch_count - self.last_final_batch_count\n",
    "        self.last_final_batch_count = final_batch_count\n",
    "        \n",
    "        if is_final:\n",
    "            self.model.reset_states()\n",
    "\n",
    "class Model:\n",
    "    def __init__(self, articles, checkpoint_dir, vocab_size, embedding_dim, rnn_units):\n",
    "        self._articles = articles\n",
    "        self._batch_size = None\n",
    "        self._batched_item_length = None\n",
    "        self._training_model = None\n",
    "        self._predicting_model = None\n",
    "        self._vocab_size = vocab_size\n",
    "        self._embedding_dim = embedding_dim\n",
    "        self._rnn_units = rnn_units\n",
    "\n",
    "        self._checkpoint_dir = checkpoint_dir\n",
    "        self._checkpoint_prefix = os.path.join(checkpoint_dir, \"ckpt_{epoch}\") # Name of the checkpoint files\n",
    "\n",
    "    def training_model(self, batch_size, batched_item_length):\n",
    "        if self._training_model == None or batch_size != self._batch_size or batched_item_length != self._batched_item_length:\n",
    "            self._batch_size = batch_size\n",
    "            self._batched_item_length = batched_item_length\n",
    "            self._training_model = tf.keras.Sequential([\n",
    "                checkpointable(tf.keras.layers.Masking)(mask_value=0, batch_input_shape=[batch_size, batched_item_length]),\n",
    "                checkpointable(tf.keras.layers.Embedding)(self._vocab_size, self._embedding_dim),\n",
    "                checkpointable(tf.keras.layers.GRU)(self._rnn_units, return_sequences=True, stateful=True, recurrent_initializer='glorot_uniform'),\n",
    "                checkpointable(tf.keras.layers.GRU)(self._rnn_units, return_sequences=True, stateful=True, recurrent_initializer='glorot_uniform'),\n",
    "                checkpointable(tf.keras.layers.Dense)(self._vocab_size, activation='softmax'),\n",
    "            ])\n",
    "\n",
    "            if os.path.isdir(self._checkpoint_dir):\n",
    "                self._training_model.load_weights(tf.train.latest_checkpoint(self._checkpoint_dir))\n",
    "\n",
    "            self._training_model.compile(optimizer='adam', loss=loss, metrics=[average_final_batch_ratio])\n",
    "            self._predicting_model = None\n",
    "        \n",
    "        return self._training_model\n",
    "\n",
    "    @property\n",
    "    def callbacks(self):\n",
    "        checkpoint_callback = tf.keras.callbacks.ModelCheckpoint(filepath=self._checkpoint_prefix, save_weights_only=True)\n",
    "        model_state_resetter_callback = ModelStateResetter()\n",
    "        \n",
    "        return [checkpoint_callback, model_state_resetter_callback]\n",
    "    \n",
    "    def train(self, batch_size, batched_item_length, epochs=1):\n",
    "        dataset = self._articles.dataset(batch_size, batched_item_length)\n",
    "\n",
    "        model = self.training_model(batch_size, batched_item_length)\n",
    "\n",
    "        model.fit(dataset, epochs=epochs, callbacks=self.callbacks)\n",
    "    \n",
    "    @property\n",
    "    def predicting_model(self):\n",
    "        if self._predicting_model == None:\n",
    "            self._predicting_model = tf.keras.Sequential([\n",
    "                checkpointable(tf.keras.layers.Masking)(mask_value=0, batch_input_shape=[1, 1]),\n",
    "                checkpointable(tf.keras.layers.Embedding)(self._vocab_size, self._embedding_dim),\n",
    "                checkpointable(tf.keras.layers.GRU)(self._rnn_units, stateful=True, return_sequences=True),\n",
    "                checkpointable(tf.keras.layers.GRU)(self._rnn_units, stateful=True, return_sequences=True),\n",
    "                checkpointable(tf.keras.layers.Dense)(self._vocab_size, activation='softmax'),\n",
    "            ])\n",
    "            \n",
    "            self._predicting_model.load_weights(tf.train.latest_checkpoint(self._checkpoint_dir))\n",
    "            self._training_model = None\n",
    "        \n",
    "        return self._predicting_model\n",
    "    \n",
    "    def predict(self, input_eval):\n",
    "        return self.predicting_model(input_eval)"
   ]
  },
  {
   "cell_type": "code",
   "execution_count": 6,
   "metadata": {},
   "outputs": [],
   "source": [
    "articles = Articles('page_revisions_text_with_title')"
   ]
  },
  {
   "cell_type": "code",
   "execution_count": 7,
   "metadata": {},
   "outputs": [],
   "source": [
    "model = Model(articles, './training_checkpoints-33', vocab_size = encoder.vocab_size, embedding_dim=128, rnn_units=1280)"
   ]
  },
  {
   "cell_type": "code",
   "execution_count": 8,
   "metadata": {},
   "outputs": [
    {
     "name": "stdout",
     "output_type": "stream",
     "text": [
      "Model: \"sequential\"\n",
      "_________________________________________________________________\n",
      "Layer (type)                 Output Shape              Param #   \n",
      "=================================================================\n",
      "masking (Masking)            (384, 128)                0         \n",
      "_________________________________________________________________\n",
      "embedding (Embedding)        (384, 128, 128)           32640     \n",
      "_________________________________________________________________\n",
      "gru (GRU)                    (384, 128, 1280)          5414400   \n",
      "_________________________________________________________________\n",
      "gru_1 (GRU)                  (384, 128, 1280)          9838080   \n",
      "_________________________________________________________________\n",
      "dense (Dense)                (384, 128, 255)           326655    \n",
      "=================================================================\n",
      "Total params: 15,611,775\n",
      "Trainable params: 15,611,775\n",
      "Non-trainable params: 0\n",
      "_________________________________________________________________\n"
     ]
    }
   ],
   "source": [
    "model.training_model(384, 128).summary()"
   ]
  },
  {
   "cell_type": "code",
   "execution_count": 9,
   "metadata": {},
   "outputs": [
    {
     "name": "stdout",
     "output_type": "stream",
     "text": [
      "Epoch 1/10\n",
      "17559/17559 [==============================] - 14929s 850ms/step - loss: 1.8252 - average_final_batch_ratio: 0.2253\n",
      "Epoch 2/10\n",
      "17559/17559 [==============================] - 13384s 762ms/step - loss: 1.1359 - average_final_batch_ratio: 0.2253\n",
      "Epoch 3/10\n",
      "17559/17559 [==============================] - 13398s 763ms/step - loss: 1.0749 - average_final_batch_ratio: 0.2253\n",
      "Epoch 4/10\n",
      "   87/17559 [..............................] - ETA: 3:43:27 - loss: 0.3599 - average_final_batch_ratio: 1.0000"
     ]
    },
    {
     "ename": "KeyboardInterrupt",
     "evalue": "",
     "output_type": "error",
     "traceback": [
      "\u001b[1;31m---------------------------------------------------------------------------\u001b[0m",
      "\u001b[1;31mKeyboardInterrupt\u001b[0m                         Traceback (most recent call last)",
      "\u001b[1;32m<ipython-input-9-eb22b866d8b6>\u001b[0m in \u001b[0;36m<module>\u001b[1;34m\u001b[0m\n\u001b[1;32m----> 1\u001b[1;33m \u001b[0mmodel\u001b[0m\u001b[1;33m.\u001b[0m\u001b[0mtrain\u001b[0m\u001b[1;33m(\u001b[0m\u001b[1;36m384\u001b[0m\u001b[1;33m,\u001b[0m \u001b[1;36m128\u001b[0m\u001b[1;33m,\u001b[0m \u001b[0mepochs\u001b[0m\u001b[1;33m=\u001b[0m\u001b[1;36m10\u001b[0m\u001b[1;33m)\u001b[0m\u001b[1;33m\u001b[0m\u001b[1;33m\u001b[0m\u001b[0m\n\u001b[0m",
      "\u001b[1;32m<ipython-input-5-64806dd143e4>\u001b[0m in \u001b[0;36mtrain\u001b[1;34m(self, batch_size, batched_item_length, epochs)\u001b[0m\n\u001b[0;32m     67\u001b[0m         \u001b[0mmodel\u001b[0m \u001b[1;33m=\u001b[0m \u001b[0mself\u001b[0m\u001b[1;33m.\u001b[0m\u001b[0mtraining_model\u001b[0m\u001b[1;33m(\u001b[0m\u001b[0mbatch_size\u001b[0m\u001b[1;33m,\u001b[0m \u001b[0mbatched_item_length\u001b[0m\u001b[1;33m)\u001b[0m\u001b[1;33m\u001b[0m\u001b[1;33m\u001b[0m\u001b[0m\n\u001b[0;32m     68\u001b[0m \u001b[1;33m\u001b[0m\u001b[0m\n\u001b[1;32m---> 69\u001b[1;33m         \u001b[0mmodel\u001b[0m\u001b[1;33m.\u001b[0m\u001b[0mfit\u001b[0m\u001b[1;33m(\u001b[0m\u001b[0mdataset\u001b[0m\u001b[1;33m,\u001b[0m \u001b[0mepochs\u001b[0m\u001b[1;33m=\u001b[0m\u001b[0mepochs\u001b[0m\u001b[1;33m,\u001b[0m \u001b[0mcallbacks\u001b[0m\u001b[1;33m=\u001b[0m\u001b[0mself\u001b[0m\u001b[1;33m.\u001b[0m\u001b[0mcallbacks\u001b[0m\u001b[1;33m)\u001b[0m\u001b[1;33m\u001b[0m\u001b[1;33m\u001b[0m\u001b[0m\n\u001b[0m\u001b[0;32m     70\u001b[0m \u001b[1;33m\u001b[0m\u001b[0m\n\u001b[0;32m     71\u001b[0m     \u001b[1;33m@\u001b[0m\u001b[0mproperty\u001b[0m\u001b[1;33m\u001b[0m\u001b[1;33m\u001b[0m\u001b[0m\n",
      "\u001b[1;32mc:\\users\\joank_000\\desktop\\rnn-enwik-predictor\\env\\lib\\site-packages\\tensorflow_core\\python\\keras\\engine\\training.py\u001b[0m in \u001b[0;36mfit\u001b[1;34m(self, x, y, batch_size, epochs, verbose, callbacks, validation_split, validation_data, shuffle, class_weight, sample_weight, initial_epoch, steps_per_epoch, validation_steps, validation_freq, max_queue_size, workers, use_multiprocessing, **kwargs)\u001b[0m\n\u001b[0;32m    817\u001b[0m         \u001b[0mmax_queue_size\u001b[0m\u001b[1;33m=\u001b[0m\u001b[0mmax_queue_size\u001b[0m\u001b[1;33m,\u001b[0m\u001b[1;33m\u001b[0m\u001b[1;33m\u001b[0m\u001b[0m\n\u001b[0;32m    818\u001b[0m         \u001b[0mworkers\u001b[0m\u001b[1;33m=\u001b[0m\u001b[0mworkers\u001b[0m\u001b[1;33m,\u001b[0m\u001b[1;33m\u001b[0m\u001b[1;33m\u001b[0m\u001b[0m\n\u001b[1;32m--> 819\u001b[1;33m         use_multiprocessing=use_multiprocessing)\n\u001b[0m\u001b[0;32m    820\u001b[0m \u001b[1;33m\u001b[0m\u001b[0m\n\u001b[0;32m    821\u001b[0m   def evaluate(self,\n",
      "\u001b[1;32mc:\\users\\joank_000\\desktop\\rnn-enwik-predictor\\env\\lib\\site-packages\\tensorflow_core\\python\\keras\\engine\\training_v2.py\u001b[0m in \u001b[0;36mfit\u001b[1;34m(self, model, x, y, batch_size, epochs, verbose, callbacks, validation_split, validation_data, shuffle, class_weight, sample_weight, initial_epoch, steps_per_epoch, validation_steps, validation_freq, max_queue_size, workers, use_multiprocessing, **kwargs)\u001b[0m\n\u001b[0;32m    340\u001b[0m                 \u001b[0mmode\u001b[0m\u001b[1;33m=\u001b[0m\u001b[0mModeKeys\u001b[0m\u001b[1;33m.\u001b[0m\u001b[0mTRAIN\u001b[0m\u001b[1;33m,\u001b[0m\u001b[1;33m\u001b[0m\u001b[1;33m\u001b[0m\u001b[0m\n\u001b[0;32m    341\u001b[0m                 \u001b[0mtraining_context\u001b[0m\u001b[1;33m=\u001b[0m\u001b[0mtraining_context\u001b[0m\u001b[1;33m,\u001b[0m\u001b[1;33m\u001b[0m\u001b[1;33m\u001b[0m\u001b[0m\n\u001b[1;32m--> 342\u001b[1;33m                 total_epochs=epochs)\n\u001b[0m\u001b[0;32m    343\u001b[0m             \u001b[0mcbks\u001b[0m\u001b[1;33m.\u001b[0m\u001b[0mmake_logs\u001b[0m\u001b[1;33m(\u001b[0m\u001b[0mmodel\u001b[0m\u001b[1;33m,\u001b[0m \u001b[0mepoch_logs\u001b[0m\u001b[1;33m,\u001b[0m \u001b[0mtraining_result\u001b[0m\u001b[1;33m,\u001b[0m \u001b[0mModeKeys\u001b[0m\u001b[1;33m.\u001b[0m\u001b[0mTRAIN\u001b[0m\u001b[1;33m)\u001b[0m\u001b[1;33m\u001b[0m\u001b[1;33m\u001b[0m\u001b[0m\n\u001b[0;32m    344\u001b[0m \u001b[1;33m\u001b[0m\u001b[0m\n",
      "\u001b[1;32mc:\\users\\joank_000\\desktop\\rnn-enwik-predictor\\env\\lib\\site-packages\\tensorflow_core\\python\\keras\\engine\\training_v2.py\u001b[0m in \u001b[0;36mrun_one_epoch\u001b[1;34m(model, iterator, execution_function, dataset_size, batch_size, strategy, steps_per_epoch, num_samples, mode, training_context, total_epochs)\u001b[0m\n\u001b[0;32m    126\u001b[0m         step=step, mode=mode, size=current_batch_size) as batch_logs:\n\u001b[0;32m    127\u001b[0m       \u001b[1;32mtry\u001b[0m\u001b[1;33m:\u001b[0m\u001b[1;33m\u001b[0m\u001b[1;33m\u001b[0m\u001b[0m\n\u001b[1;32m--> 128\u001b[1;33m         \u001b[0mbatch_outs\u001b[0m \u001b[1;33m=\u001b[0m \u001b[0mexecution_function\u001b[0m\u001b[1;33m(\u001b[0m\u001b[0miterator\u001b[0m\u001b[1;33m)\u001b[0m\u001b[1;33m\u001b[0m\u001b[1;33m\u001b[0m\u001b[0m\n\u001b[0m\u001b[0;32m    129\u001b[0m       \u001b[1;32mexcept\u001b[0m \u001b[1;33m(\u001b[0m\u001b[0mStopIteration\u001b[0m\u001b[1;33m,\u001b[0m \u001b[0merrors\u001b[0m\u001b[1;33m.\u001b[0m\u001b[0mOutOfRangeError\u001b[0m\u001b[1;33m)\u001b[0m\u001b[1;33m:\u001b[0m\u001b[1;33m\u001b[0m\u001b[1;33m\u001b[0m\u001b[0m\n\u001b[0;32m    130\u001b[0m         \u001b[1;31m# TODO(kaftan): File bug about tf function and errors.OutOfRangeError?\u001b[0m\u001b[1;33m\u001b[0m\u001b[1;33m\u001b[0m\u001b[1;33m\u001b[0m\u001b[0m\n",
      "\u001b[1;32mc:\\users\\joank_000\\desktop\\rnn-enwik-predictor\\env\\lib\\site-packages\\tensorflow_core\\python\\keras\\engine\\training_v2_utils.py\u001b[0m in \u001b[0;36mexecution_function\u001b[1;34m(input_fn)\u001b[0m\n\u001b[0;32m     96\u001b[0m     \u001b[1;31m# `numpy` translates Tensors to values in Eager mode.\u001b[0m\u001b[1;33m\u001b[0m\u001b[1;33m\u001b[0m\u001b[1;33m\u001b[0m\u001b[0m\n\u001b[0;32m     97\u001b[0m     return nest.map_structure(_non_none_constant_value,\n\u001b[1;32m---> 98\u001b[1;33m                               distributed_function(input_fn))\n\u001b[0m\u001b[0;32m     99\u001b[0m \u001b[1;33m\u001b[0m\u001b[0m\n\u001b[0;32m    100\u001b[0m   \u001b[1;32mreturn\u001b[0m \u001b[0mexecution_function\u001b[0m\u001b[1;33m\u001b[0m\u001b[1;33m\u001b[0m\u001b[0m\n",
      "\u001b[1;32mc:\\users\\joank_000\\desktop\\rnn-enwik-predictor\\env\\lib\\site-packages\\tensorflow_core\\python\\eager\\def_function.py\u001b[0m in \u001b[0;36m__call__\u001b[1;34m(self, *args, **kwds)\u001b[0m\n\u001b[0;32m    566\u001b[0m         \u001b[0mxla_context\u001b[0m\u001b[1;33m.\u001b[0m\u001b[0mExit\u001b[0m\u001b[1;33m(\u001b[0m\u001b[1;33m)\u001b[0m\u001b[1;33m\u001b[0m\u001b[1;33m\u001b[0m\u001b[0m\n\u001b[0;32m    567\u001b[0m     \u001b[1;32melse\u001b[0m\u001b[1;33m:\u001b[0m\u001b[1;33m\u001b[0m\u001b[1;33m\u001b[0m\u001b[0m\n\u001b[1;32m--> 568\u001b[1;33m       \u001b[0mresult\u001b[0m \u001b[1;33m=\u001b[0m \u001b[0mself\u001b[0m\u001b[1;33m.\u001b[0m\u001b[0m_call\u001b[0m\u001b[1;33m(\u001b[0m\u001b[1;33m*\u001b[0m\u001b[0margs\u001b[0m\u001b[1;33m,\u001b[0m \u001b[1;33m**\u001b[0m\u001b[0mkwds\u001b[0m\u001b[1;33m)\u001b[0m\u001b[1;33m\u001b[0m\u001b[1;33m\u001b[0m\u001b[0m\n\u001b[0m\u001b[0;32m    569\u001b[0m \u001b[1;33m\u001b[0m\u001b[0m\n\u001b[0;32m    570\u001b[0m     \u001b[1;32mif\u001b[0m \u001b[0mtracing_count\u001b[0m \u001b[1;33m==\u001b[0m \u001b[0mself\u001b[0m\u001b[1;33m.\u001b[0m\u001b[0m_get_tracing_count\u001b[0m\u001b[1;33m(\u001b[0m\u001b[1;33m)\u001b[0m\u001b[1;33m:\u001b[0m\u001b[1;33m\u001b[0m\u001b[1;33m\u001b[0m\u001b[0m\n",
      "\u001b[1;32mc:\\users\\joank_000\\desktop\\rnn-enwik-predictor\\env\\lib\\site-packages\\tensorflow_core\\python\\eager\\def_function.py\u001b[0m in \u001b[0;36m_call\u001b[1;34m(self, *args, **kwds)\u001b[0m\n\u001b[0;32m    597\u001b[0m       \u001b[1;31m# In this case we have created variables on the first call, so we run the\u001b[0m\u001b[1;33m\u001b[0m\u001b[1;33m\u001b[0m\u001b[1;33m\u001b[0m\u001b[0m\n\u001b[0;32m    598\u001b[0m       \u001b[1;31m# defunned version which is guaranteed to never create variables.\u001b[0m\u001b[1;33m\u001b[0m\u001b[1;33m\u001b[0m\u001b[1;33m\u001b[0m\u001b[0m\n\u001b[1;32m--> 599\u001b[1;33m       \u001b[1;32mreturn\u001b[0m \u001b[0mself\u001b[0m\u001b[1;33m.\u001b[0m\u001b[0m_stateless_fn\u001b[0m\u001b[1;33m(\u001b[0m\u001b[1;33m*\u001b[0m\u001b[0margs\u001b[0m\u001b[1;33m,\u001b[0m \u001b[1;33m**\u001b[0m\u001b[0mkwds\u001b[0m\u001b[1;33m)\u001b[0m  \u001b[1;31m# pylint: disable=not-callable\u001b[0m\u001b[1;33m\u001b[0m\u001b[1;33m\u001b[0m\u001b[0m\n\u001b[0m\u001b[0;32m    600\u001b[0m     \u001b[1;32melif\u001b[0m \u001b[0mself\u001b[0m\u001b[1;33m.\u001b[0m\u001b[0m_stateful_fn\u001b[0m \u001b[1;32mis\u001b[0m \u001b[1;32mnot\u001b[0m \u001b[1;32mNone\u001b[0m\u001b[1;33m:\u001b[0m\u001b[1;33m\u001b[0m\u001b[1;33m\u001b[0m\u001b[0m\n\u001b[0;32m    601\u001b[0m       \u001b[1;31m# Release the lock early so that multiple threads can perform the call\u001b[0m\u001b[1;33m\u001b[0m\u001b[1;33m\u001b[0m\u001b[1;33m\u001b[0m\u001b[0m\n",
      "\u001b[1;32mc:\\users\\joank_000\\desktop\\rnn-enwik-predictor\\env\\lib\\site-packages\\tensorflow_core\\python\\eager\\function.py\u001b[0m in \u001b[0;36m__call__\u001b[1;34m(self, *args, **kwargs)\u001b[0m\n\u001b[0;32m   2361\u001b[0m     \u001b[1;32mwith\u001b[0m \u001b[0mself\u001b[0m\u001b[1;33m.\u001b[0m\u001b[0m_lock\u001b[0m\u001b[1;33m:\u001b[0m\u001b[1;33m\u001b[0m\u001b[1;33m\u001b[0m\u001b[0m\n\u001b[0;32m   2362\u001b[0m       \u001b[0mgraph_function\u001b[0m\u001b[1;33m,\u001b[0m \u001b[0margs\u001b[0m\u001b[1;33m,\u001b[0m \u001b[0mkwargs\u001b[0m \u001b[1;33m=\u001b[0m \u001b[0mself\u001b[0m\u001b[1;33m.\u001b[0m\u001b[0m_maybe_define_function\u001b[0m\u001b[1;33m(\u001b[0m\u001b[0margs\u001b[0m\u001b[1;33m,\u001b[0m \u001b[0mkwargs\u001b[0m\u001b[1;33m)\u001b[0m\u001b[1;33m\u001b[0m\u001b[1;33m\u001b[0m\u001b[0m\n\u001b[1;32m-> 2363\u001b[1;33m     \u001b[1;32mreturn\u001b[0m \u001b[0mgraph_function\u001b[0m\u001b[1;33m.\u001b[0m\u001b[0m_filtered_call\u001b[0m\u001b[1;33m(\u001b[0m\u001b[0margs\u001b[0m\u001b[1;33m,\u001b[0m \u001b[0mkwargs\u001b[0m\u001b[1;33m)\u001b[0m  \u001b[1;31m# pylint: disable=protected-access\u001b[0m\u001b[1;33m\u001b[0m\u001b[1;33m\u001b[0m\u001b[0m\n\u001b[0m\u001b[0;32m   2364\u001b[0m \u001b[1;33m\u001b[0m\u001b[0m\n\u001b[0;32m   2365\u001b[0m   \u001b[1;33m@\u001b[0m\u001b[0mproperty\u001b[0m\u001b[1;33m\u001b[0m\u001b[1;33m\u001b[0m\u001b[0m\n",
      "\u001b[1;32mc:\\users\\joank_000\\desktop\\rnn-enwik-predictor\\env\\lib\\site-packages\\tensorflow_core\\python\\eager\\function.py\u001b[0m in \u001b[0;36m_filtered_call\u001b[1;34m(self, args, kwargs)\u001b[0m\n\u001b[0;32m   1609\u001b[0m          if isinstance(t, (ops.Tensor,\n\u001b[0;32m   1610\u001b[0m                            resource_variable_ops.BaseResourceVariable))),\n\u001b[1;32m-> 1611\u001b[1;33m         self.captured_inputs)\n\u001b[0m\u001b[0;32m   1612\u001b[0m \u001b[1;33m\u001b[0m\u001b[0m\n\u001b[0;32m   1613\u001b[0m   \u001b[1;32mdef\u001b[0m \u001b[0m_call_flat\u001b[0m\u001b[1;33m(\u001b[0m\u001b[0mself\u001b[0m\u001b[1;33m,\u001b[0m \u001b[0margs\u001b[0m\u001b[1;33m,\u001b[0m \u001b[0mcaptured_inputs\u001b[0m\u001b[1;33m,\u001b[0m \u001b[0mcancellation_manager\u001b[0m\u001b[1;33m=\u001b[0m\u001b[1;32mNone\u001b[0m\u001b[1;33m)\u001b[0m\u001b[1;33m:\u001b[0m\u001b[1;33m\u001b[0m\u001b[1;33m\u001b[0m\u001b[0m\n",
      "\u001b[1;32mc:\\users\\joank_000\\desktop\\rnn-enwik-predictor\\env\\lib\\site-packages\\tensorflow_core\\python\\eager\\function.py\u001b[0m in \u001b[0;36m_call_flat\u001b[1;34m(self, args, captured_inputs, cancellation_manager)\u001b[0m\n\u001b[0;32m   1690\u001b[0m       \u001b[1;31m# No tape is watching; skip to running the function.\u001b[0m\u001b[1;33m\u001b[0m\u001b[1;33m\u001b[0m\u001b[1;33m\u001b[0m\u001b[0m\n\u001b[0;32m   1691\u001b[0m       return self._build_call_outputs(self._inference_function.call(\n\u001b[1;32m-> 1692\u001b[1;33m           ctx, args, cancellation_manager=cancellation_manager))\n\u001b[0m\u001b[0;32m   1693\u001b[0m     forward_backward = self._select_forward_and_backward_functions(\n\u001b[0;32m   1694\u001b[0m         \u001b[0margs\u001b[0m\u001b[1;33m,\u001b[0m\u001b[1;33m\u001b[0m\u001b[1;33m\u001b[0m\u001b[0m\n",
      "\u001b[1;32mc:\\users\\joank_000\\desktop\\rnn-enwik-predictor\\env\\lib\\site-packages\\tensorflow_core\\python\\eager\\function.py\u001b[0m in \u001b[0;36mcall\u001b[1;34m(self, ctx, args, cancellation_manager)\u001b[0m\n\u001b[0;32m    543\u001b[0m               \u001b[0minputs\u001b[0m\u001b[1;33m=\u001b[0m\u001b[0margs\u001b[0m\u001b[1;33m,\u001b[0m\u001b[1;33m\u001b[0m\u001b[1;33m\u001b[0m\u001b[0m\n\u001b[0;32m    544\u001b[0m               \u001b[0mattrs\u001b[0m\u001b[1;33m=\u001b[0m\u001b[1;33m(\u001b[0m\u001b[1;34m\"executor_type\"\u001b[0m\u001b[1;33m,\u001b[0m \u001b[0mexecutor_type\u001b[0m\u001b[1;33m,\u001b[0m \u001b[1;34m\"config_proto\"\u001b[0m\u001b[1;33m,\u001b[0m \u001b[0mconfig\u001b[0m\u001b[1;33m)\u001b[0m\u001b[1;33m,\u001b[0m\u001b[1;33m\u001b[0m\u001b[1;33m\u001b[0m\u001b[0m\n\u001b[1;32m--> 545\u001b[1;33m               ctx=ctx)\n\u001b[0m\u001b[0;32m    546\u001b[0m         \u001b[1;32melse\u001b[0m\u001b[1;33m:\u001b[0m\u001b[1;33m\u001b[0m\u001b[1;33m\u001b[0m\u001b[0m\n\u001b[0;32m    547\u001b[0m           outputs = execute.execute_with_cancellation(\n",
      "\u001b[1;32mc:\\users\\joank_000\\desktop\\rnn-enwik-predictor\\env\\lib\\site-packages\\tensorflow_core\\python\\eager\\execute.py\u001b[0m in \u001b[0;36mquick_execute\u001b[1;34m(op_name, num_outputs, inputs, attrs, ctx, name)\u001b[0m\n\u001b[0;32m     59\u001b[0m     tensors = pywrap_tensorflow.TFE_Py_Execute(ctx._handle, device_name,\n\u001b[0;32m     60\u001b[0m                                                \u001b[0mop_name\u001b[0m\u001b[1;33m,\u001b[0m \u001b[0minputs\u001b[0m\u001b[1;33m,\u001b[0m \u001b[0mattrs\u001b[0m\u001b[1;33m,\u001b[0m\u001b[1;33m\u001b[0m\u001b[1;33m\u001b[0m\u001b[0m\n\u001b[1;32m---> 61\u001b[1;33m                                                num_outputs)\n\u001b[0m\u001b[0;32m     62\u001b[0m   \u001b[1;32mexcept\u001b[0m \u001b[0mcore\u001b[0m\u001b[1;33m.\u001b[0m\u001b[0m_NotOkStatusException\u001b[0m \u001b[1;32mas\u001b[0m \u001b[0me\u001b[0m\u001b[1;33m:\u001b[0m\u001b[1;33m\u001b[0m\u001b[1;33m\u001b[0m\u001b[0m\n\u001b[0;32m     63\u001b[0m     \u001b[1;32mif\u001b[0m \u001b[0mname\u001b[0m \u001b[1;32mis\u001b[0m \u001b[1;32mnot\u001b[0m \u001b[1;32mNone\u001b[0m\u001b[1;33m:\u001b[0m\u001b[1;33m\u001b[0m\u001b[1;33m\u001b[0m\u001b[0m\n",
      "\u001b[1;31mKeyboardInterrupt\u001b[0m: "
     ]
    }
   ],
   "source": [
    "model.train(384, 128, epochs=10)"
   ]
  },
  {
   "cell_type": "markdown",
   "metadata": {},
   "source": [
    "Прекъснахме обучението, за да проверим резултата до тук"
   ]
  },
  {
   "cell_type": "code",
   "execution_count": 11,
   "metadata": {},
   "outputs": [],
   "source": [
    "import ctypes\n",
    "\n",
    "class Huffman:\n",
    "    huffman = ctypes.CDLL('x64/Release/huffman')\n",
    "    \n",
    "    huffman.create_tree.restype = ctypes.c_void_p\n",
    "    huffman.destroy_tree.restype = None\n",
    "    huffman.load_weights.restype = None\n",
    "    huffman.create_code_string.restype = ctypes.c_char_p\n",
    "    \n",
    "    def __init__(self, category_count):\n",
    "        self.category_count = category_count\n",
    "        self.tree = ctypes.c_void_p(self.huffman.create_tree(category_count))\n",
    "\n",
    "    def __del__(self):\n",
    "        self.huffman.destroy_tree(self.tree)\n",
    "        \n",
    "    def load_weights(self, weights):\n",
    "        self.huffman.load_weights(self.tree, weights.ctypes.data_as(ctypes.POINTER(ctypes.c_float)))\n",
    "    \n",
    "    def get_code_length(self, category):\n",
    "        return self.huffman.get_code_length(self.tree, category)\n",
    "\n",
    "    def get_code_zero_count(self, category):\n",
    "        return self.huffman.get_code_zero_count(self.tree, category)\n",
    "    \n",
    "    def archive_size(self, model, text):\n",
    "        archived_size = 0\n",
    "        input_eval = np.array([[text[0]]], dtype=TYPE)\n",
    "\n",
    "        model.predicting_model.reset_states()\n",
    "\n",
    "        for byte in text[1:]:\n",
    "            predictions = model.predict(input_eval)\n",
    "            predictions = tf.squeeze(predictions, 0) # remove the batch dimension\n",
    "\n",
    "            weights = predictions[0].numpy()\n",
    "            self.load_weights(weights)\n",
    "            archived_size += self.get_code_length(byte.item())\n",
    "\n",
    "            input_eval = tf.expand_dims([byte], 0)\n",
    "\n",
    "        return archived_size"
   ]
  },
  {
   "cell_type": "code",
   "execution_count": 13,
   "metadata": {},
   "outputs": [
    {
     "name": "stdout",
     "output_type": "stream",
     "text": [
      "Article 10000:\tLength: 35\tAvg Compression: 0.225000\n",
      "Article 20000:\tLength: 41\tAvg Compression: 0.175987\n",
      "Article 30000:\tLength: 46\tAvg Compression: 0.168033\n",
      "Article 40000:\tLength: 51\tAvg Compression: 0.171965\n",
      "Article 50000:\tLength: 57\tAvg Compression: 0.165217\n",
      "Article 60000:\tLength: 67\tAvg Compression: 0.166667\n",
      "Article 70000:\tLength: 85\tAvg Compression: 0.169175\n",
      "Article 80000:\tLength: 185\tAvg Compression: 0.177910\n",
      "Article 90000:\tLength: 467\tAvg Compression: 0.209260\n",
      "Article 100000:\tLength: 820\tAvg Compression: 0.209614\n",
      "Article 110000:\tLength: 1144\tAvg Compression: 0.204428\n",
      "Article 120000:\tLength: 1587\tAvg Compression: 0.214858\n",
      "Article 130000:\tLength: 2096\tAvg Compression: 0.219597\n",
      "Article 140000:\tLength: 2541\tAvg Compression: 0.184504\n",
      "Article 150000:\tLength: 2648\tAvg Compression: 0.166386\n",
      "Article 160000:\tLength: 2769\tAvg Compression: 0.153340\n",
      "Article 170000:\tLength: 3065\tAvg Compression: 0.169354\n",
      "Article 180000:\tLength: 3582\tAvg Compression: 0.163693\n",
      "Article 190000:\tLength: 4281\tAvg Compression: 0.175216\n",
      "Article 200000:\tLength: 5311\tAvg Compression: 0.171287\n",
      "Article 210000:\tLength: 6900\tAvg Compression: 0.174093\n",
      "Article 220000:\tLength: 9407\tAvg Compression: 0.194657\n",
      "Article 230000:\tLength: 14213\tAvg Compression: 0.204559\n",
      "Article 240000:\tLength: 29637\tAvg Compression: 0.213448\n"
     ]
    }
   ],
   "source": [
    "total_raw = 0\n",
    "total_compressed = 0\n",
    "\n",
    "huffman = Huffman(encoder.vocab_size)\n",
    "for index, encoded_article in enumerate(articles.articles_generator(1)):\n",
    "    if index % 10000 == 0 and len(encoded_article) != 0:\n",
    "        article = encoder.decode(encoded_article)\n",
    "        total_raw += len(article) * 8\n",
    "        total_compressed += huffman.archive_size(model, encoded_article)\n",
    "        print('Article %d:\\tLength: %d\\tAvg Compression: %f' % (index, len(article), total_compressed/total_raw))"
   ]
  },
  {
   "cell_type": "code",
   "execution_count": 14,
   "metadata": {},
   "outputs": [
    {
     "name": "stdout",
     "output_type": "stream",
     "text": [
      "Epoch 1/7\n",
      "17559/17559 [==============================] - 13489s 768ms/step - loss: 1.0375 - average_final_batch_ratio: 0.2253\n",
      "Epoch 2/7\n",
      "17559/17559 [==============================] - 13509s 769ms/step - loss: 1.0280 - average_final_batch_ratio: 0.2253\n",
      "Epoch 3/7\n",
      "    1/17559 [..............................] - ETA: 6:52:54"
     ]
    },
    {
     "ename": "InternalError",
     "evalue": "Failed copying input tensor from /job:localhost/replica:0/task:0/device:GPU:0 to /job:localhost/replica:0/task:0/device:CPU:0 in order to run Identity: GPU sync failed [Op:Identity]",
     "output_type": "error",
     "traceback": [
      "\u001b[1;31m---------------------------------------------------------------------------\u001b[0m",
      "\u001b[1;31mInternalError\u001b[0m                             Traceback (most recent call last)",
      "\u001b[1;32m<ipython-input-14-7df4549c2809>\u001b[0m in \u001b[0;36m<module>\u001b[1;34m\u001b[0m\n\u001b[1;32m----> 1\u001b[1;33m \u001b[0mmodel\u001b[0m\u001b[1;33m.\u001b[0m\u001b[0mtrain\u001b[0m\u001b[1;33m(\u001b[0m\u001b[1;36m384\u001b[0m\u001b[1;33m,\u001b[0m \u001b[1;36m128\u001b[0m\u001b[1;33m,\u001b[0m \u001b[0mepochs\u001b[0m\u001b[1;33m=\u001b[0m\u001b[1;36m7\u001b[0m\u001b[1;33m)\u001b[0m\u001b[1;33m\u001b[0m\u001b[1;33m\u001b[0m\u001b[0m\n\u001b[0m",
      "\u001b[1;32m<ipython-input-5-64806dd143e4>\u001b[0m in \u001b[0;36mtrain\u001b[1;34m(self, batch_size, batched_item_length, epochs)\u001b[0m\n\u001b[0;32m     67\u001b[0m         \u001b[0mmodel\u001b[0m \u001b[1;33m=\u001b[0m \u001b[0mself\u001b[0m\u001b[1;33m.\u001b[0m\u001b[0mtraining_model\u001b[0m\u001b[1;33m(\u001b[0m\u001b[0mbatch_size\u001b[0m\u001b[1;33m,\u001b[0m \u001b[0mbatched_item_length\u001b[0m\u001b[1;33m)\u001b[0m\u001b[1;33m\u001b[0m\u001b[1;33m\u001b[0m\u001b[0m\n\u001b[0;32m     68\u001b[0m \u001b[1;33m\u001b[0m\u001b[0m\n\u001b[1;32m---> 69\u001b[1;33m         \u001b[0mmodel\u001b[0m\u001b[1;33m.\u001b[0m\u001b[0mfit\u001b[0m\u001b[1;33m(\u001b[0m\u001b[0mdataset\u001b[0m\u001b[1;33m,\u001b[0m \u001b[0mepochs\u001b[0m\u001b[1;33m=\u001b[0m\u001b[0mepochs\u001b[0m\u001b[1;33m,\u001b[0m \u001b[0mcallbacks\u001b[0m\u001b[1;33m=\u001b[0m\u001b[0mself\u001b[0m\u001b[1;33m.\u001b[0m\u001b[0mcallbacks\u001b[0m\u001b[1;33m)\u001b[0m\u001b[1;33m\u001b[0m\u001b[1;33m\u001b[0m\u001b[0m\n\u001b[0m\u001b[0;32m     70\u001b[0m \u001b[1;33m\u001b[0m\u001b[0m\n\u001b[0;32m     71\u001b[0m     \u001b[1;33m@\u001b[0m\u001b[0mproperty\u001b[0m\u001b[1;33m\u001b[0m\u001b[1;33m\u001b[0m\u001b[0m\n",
      "\u001b[1;32mc:\\users\\joank_000\\desktop\\rnn-enwik-predictor\\env\\lib\\site-packages\\tensorflow_core\\python\\keras\\engine\\training.py\u001b[0m in \u001b[0;36mfit\u001b[1;34m(self, x, y, batch_size, epochs, verbose, callbacks, validation_split, validation_data, shuffle, class_weight, sample_weight, initial_epoch, steps_per_epoch, validation_steps, validation_freq, max_queue_size, workers, use_multiprocessing, **kwargs)\u001b[0m\n\u001b[0;32m    817\u001b[0m         \u001b[0mmax_queue_size\u001b[0m\u001b[1;33m=\u001b[0m\u001b[0mmax_queue_size\u001b[0m\u001b[1;33m,\u001b[0m\u001b[1;33m\u001b[0m\u001b[1;33m\u001b[0m\u001b[0m\n\u001b[0;32m    818\u001b[0m         \u001b[0mworkers\u001b[0m\u001b[1;33m=\u001b[0m\u001b[0mworkers\u001b[0m\u001b[1;33m,\u001b[0m\u001b[1;33m\u001b[0m\u001b[1;33m\u001b[0m\u001b[0m\n\u001b[1;32m--> 819\u001b[1;33m         use_multiprocessing=use_multiprocessing)\n\u001b[0m\u001b[0;32m    820\u001b[0m \u001b[1;33m\u001b[0m\u001b[0m\n\u001b[0;32m    821\u001b[0m   def evaluate(self,\n",
      "\u001b[1;32mc:\\users\\joank_000\\desktop\\rnn-enwik-predictor\\env\\lib\\site-packages\\tensorflow_core\\python\\keras\\engine\\training_v2.py\u001b[0m in \u001b[0;36mfit\u001b[1;34m(self, model, x, y, batch_size, epochs, verbose, callbacks, validation_split, validation_data, shuffle, class_weight, sample_weight, initial_epoch, steps_per_epoch, validation_steps, validation_freq, max_queue_size, workers, use_multiprocessing, **kwargs)\u001b[0m\n\u001b[0;32m    395\u001b[0m                       total_epochs=1)\n\u001b[0;32m    396\u001b[0m                   cbks.make_logs(model, epoch_logs, eval_result, ModeKeys.TEST,\n\u001b[1;32m--> 397\u001b[1;33m                                  prefix='val_')\n\u001b[0m\u001b[0;32m    398\u001b[0m \u001b[1;33m\u001b[0m\u001b[0m\n\u001b[0;32m    399\u001b[0m     \u001b[1;32mreturn\u001b[0m \u001b[0mmodel\u001b[0m\u001b[1;33m.\u001b[0m\u001b[0mhistory\u001b[0m\u001b[1;33m\u001b[0m\u001b[1;33m\u001b[0m\u001b[0m\n",
      "\u001b[1;32mC:\\Program Files (x86)\\Microsoft Visual Studio\\Shared\\Python37_64\\lib\\contextlib.py\u001b[0m in \u001b[0;36m__exit__\u001b[1;34m(self, type, value, traceback)\u001b[0m\n\u001b[0;32m    128\u001b[0m                 \u001b[0mvalue\u001b[0m \u001b[1;33m=\u001b[0m \u001b[0mtype\u001b[0m\u001b[1;33m(\u001b[0m\u001b[1;33m)\u001b[0m\u001b[1;33m\u001b[0m\u001b[1;33m\u001b[0m\u001b[0m\n\u001b[0;32m    129\u001b[0m             \u001b[1;32mtry\u001b[0m\u001b[1;33m:\u001b[0m\u001b[1;33m\u001b[0m\u001b[1;33m\u001b[0m\u001b[0m\n\u001b[1;32m--> 130\u001b[1;33m                 \u001b[0mself\u001b[0m\u001b[1;33m.\u001b[0m\u001b[0mgen\u001b[0m\u001b[1;33m.\u001b[0m\u001b[0mthrow\u001b[0m\u001b[1;33m(\u001b[0m\u001b[0mtype\u001b[0m\u001b[1;33m,\u001b[0m \u001b[0mvalue\u001b[0m\u001b[1;33m,\u001b[0m \u001b[0mtraceback\u001b[0m\u001b[1;33m)\u001b[0m\u001b[1;33m\u001b[0m\u001b[1;33m\u001b[0m\u001b[0m\n\u001b[0m\u001b[0;32m    131\u001b[0m             \u001b[1;32mexcept\u001b[0m \u001b[0mStopIteration\u001b[0m \u001b[1;32mas\u001b[0m \u001b[0mexc\u001b[0m\u001b[1;33m:\u001b[0m\u001b[1;33m\u001b[0m\u001b[1;33m\u001b[0m\u001b[0m\n\u001b[0;32m    132\u001b[0m                 \u001b[1;31m# Suppress StopIteration *unless* it's the same exception that\u001b[0m\u001b[1;33m\u001b[0m\u001b[1;33m\u001b[0m\u001b[1;33m\u001b[0m\u001b[0m\n",
      "\u001b[1;32mc:\\users\\joank_000\\desktop\\rnn-enwik-predictor\\env\\lib\\site-packages\\tensorflow_core\\python\\keras\\engine\\training_v2.py\u001b[0m in \u001b[0;36mon_epoch\u001b[1;34m(self, epoch, mode)\u001b[0m\n\u001b[0;32m    769\u001b[0m       \u001b[1;32mif\u001b[0m \u001b[0mmode\u001b[0m \u001b[1;33m==\u001b[0m \u001b[0mModeKeys\u001b[0m\u001b[1;33m.\u001b[0m\u001b[0mTRAIN\u001b[0m\u001b[1;33m:\u001b[0m\u001b[1;33m\u001b[0m\u001b[1;33m\u001b[0m\u001b[0m\n\u001b[0;32m    770\u001b[0m         \u001b[1;31m# Epochs only apply to `fit`.\u001b[0m\u001b[1;33m\u001b[0m\u001b[1;33m\u001b[0m\u001b[1;33m\u001b[0m\u001b[0m\n\u001b[1;32m--> 771\u001b[1;33m         \u001b[0mself\u001b[0m\u001b[1;33m.\u001b[0m\u001b[0mcallbacks\u001b[0m\u001b[1;33m.\u001b[0m\u001b[0mon_epoch_end\u001b[0m\u001b[1;33m(\u001b[0m\u001b[0mepoch\u001b[0m\u001b[1;33m,\u001b[0m \u001b[0mepoch_logs\u001b[0m\u001b[1;33m)\u001b[0m\u001b[1;33m\u001b[0m\u001b[1;33m\u001b[0m\u001b[0m\n\u001b[0m\u001b[0;32m    772\u001b[0m       \u001b[0mself\u001b[0m\u001b[1;33m.\u001b[0m\u001b[0mprogbar\u001b[0m\u001b[1;33m.\u001b[0m\u001b[0mon_epoch_end\u001b[0m\u001b[1;33m(\u001b[0m\u001b[0mepoch\u001b[0m\u001b[1;33m,\u001b[0m \u001b[0mepoch_logs\u001b[0m\u001b[1;33m)\u001b[0m\u001b[1;33m\u001b[0m\u001b[1;33m\u001b[0m\u001b[0m\n\u001b[0;32m    773\u001b[0m \u001b[1;33m\u001b[0m\u001b[0m\n",
      "\u001b[1;32mc:\\users\\joank_000\\desktop\\rnn-enwik-predictor\\env\\lib\\site-packages\\tensorflow_core\\python\\keras\\callbacks.py\u001b[0m in \u001b[0;36mon_epoch_end\u001b[1;34m(self, epoch, logs)\u001b[0m\n\u001b[0;32m    300\u001b[0m     \u001b[0mlogs\u001b[0m \u001b[1;33m=\u001b[0m \u001b[0mlogs\u001b[0m \u001b[1;32mor\u001b[0m \u001b[1;33m{\u001b[0m\u001b[1;33m}\u001b[0m\u001b[1;33m\u001b[0m\u001b[1;33m\u001b[0m\u001b[0m\n\u001b[0;32m    301\u001b[0m     \u001b[1;32mfor\u001b[0m \u001b[0mcallback\u001b[0m \u001b[1;32min\u001b[0m \u001b[0mself\u001b[0m\u001b[1;33m.\u001b[0m\u001b[0mcallbacks\u001b[0m\u001b[1;33m:\u001b[0m\u001b[1;33m\u001b[0m\u001b[1;33m\u001b[0m\u001b[0m\n\u001b[1;32m--> 302\u001b[1;33m       \u001b[0mcallback\u001b[0m\u001b[1;33m.\u001b[0m\u001b[0mon_epoch_end\u001b[0m\u001b[1;33m(\u001b[0m\u001b[0mepoch\u001b[0m\u001b[1;33m,\u001b[0m \u001b[0mlogs\u001b[0m\u001b[1;33m)\u001b[0m\u001b[1;33m\u001b[0m\u001b[1;33m\u001b[0m\u001b[0m\n\u001b[0m\u001b[0;32m    303\u001b[0m \u001b[1;33m\u001b[0m\u001b[0m\n\u001b[0;32m    304\u001b[0m   \u001b[1;32mdef\u001b[0m \u001b[0mon_train_batch_begin\u001b[0m\u001b[1;33m(\u001b[0m\u001b[0mself\u001b[0m\u001b[1;33m,\u001b[0m \u001b[0mbatch\u001b[0m\u001b[1;33m,\u001b[0m \u001b[0mlogs\u001b[0m\u001b[1;33m=\u001b[0m\u001b[1;32mNone\u001b[0m\u001b[1;33m)\u001b[0m\u001b[1;33m:\u001b[0m\u001b[1;33m\u001b[0m\u001b[1;33m\u001b[0m\u001b[0m\n",
      "\u001b[1;32mc:\\users\\joank_000\\desktop\\rnn-enwik-predictor\\env\\lib\\site-packages\\tensorflow_core\\python\\keras\\callbacks.py\u001b[0m in \u001b[0;36mon_epoch_end\u001b[1;34m(self, epoch, logs)\u001b[0m\n\u001b[0;32m    990\u001b[0m           \u001b[0mself\u001b[0m\u001b[1;33m.\u001b[0m\u001b[0m_save_model\u001b[0m\u001b[1;33m(\u001b[0m\u001b[0mepoch\u001b[0m\u001b[1;33m=\u001b[0m\u001b[0mepoch\u001b[0m\u001b[1;33m,\u001b[0m \u001b[0mlogs\u001b[0m\u001b[1;33m=\u001b[0m\u001b[0mlogs\u001b[0m\u001b[1;33m)\u001b[0m\u001b[1;33m\u001b[0m\u001b[1;33m\u001b[0m\u001b[0m\n\u001b[0;32m    991\u001b[0m       \u001b[1;32melse\u001b[0m\u001b[1;33m:\u001b[0m\u001b[1;33m\u001b[0m\u001b[1;33m\u001b[0m\u001b[0m\n\u001b[1;32m--> 992\u001b[1;33m         \u001b[0mself\u001b[0m\u001b[1;33m.\u001b[0m\u001b[0m_save_model\u001b[0m\u001b[1;33m(\u001b[0m\u001b[0mepoch\u001b[0m\u001b[1;33m=\u001b[0m\u001b[0mepoch\u001b[0m\u001b[1;33m,\u001b[0m \u001b[0mlogs\u001b[0m\u001b[1;33m=\u001b[0m\u001b[0mlogs\u001b[0m\u001b[1;33m)\u001b[0m\u001b[1;33m\u001b[0m\u001b[1;33m\u001b[0m\u001b[0m\n\u001b[0m\u001b[0;32m    993\u001b[0m     \u001b[1;32mif\u001b[0m \u001b[0mself\u001b[0m\u001b[1;33m.\u001b[0m\u001b[0mmodel\u001b[0m\u001b[1;33m.\u001b[0m\u001b[0m_in_multi_worker_mode\u001b[0m\u001b[1;33m(\u001b[0m\u001b[1;33m)\u001b[0m\u001b[1;33m:\u001b[0m\u001b[1;33m\u001b[0m\u001b[1;33m\u001b[0m\u001b[0m\n\u001b[0;32m    994\u001b[0m       \u001b[1;31m# For multi-worker training, back up the weights and current training\u001b[0m\u001b[1;33m\u001b[0m\u001b[1;33m\u001b[0m\u001b[1;33m\u001b[0m\u001b[0m\n",
      "\u001b[1;32mc:\\users\\joank_000\\desktop\\rnn-enwik-predictor\\env\\lib\\site-packages\\tensorflow_core\\python\\keras\\callbacks.py\u001b[0m in \u001b[0;36m_save_model\u001b[1;34m(self, epoch, logs)\u001b[0m\n\u001b[0;32m   1036\u001b[0m             \u001b[0mprint\u001b[0m\u001b[1;33m(\u001b[0m\u001b[1;34m'\\nEpoch %05d: saving model to %s'\u001b[0m \u001b[1;33m%\u001b[0m \u001b[1;33m(\u001b[0m\u001b[0mepoch\u001b[0m \u001b[1;33m+\u001b[0m \u001b[1;36m1\u001b[0m\u001b[1;33m,\u001b[0m \u001b[0mfilepath\u001b[0m\u001b[1;33m)\u001b[0m\u001b[1;33m)\u001b[0m\u001b[1;33m\u001b[0m\u001b[1;33m\u001b[0m\u001b[0m\n\u001b[0;32m   1037\u001b[0m           \u001b[1;32mif\u001b[0m \u001b[0mself\u001b[0m\u001b[1;33m.\u001b[0m\u001b[0msave_weights_only\u001b[0m\u001b[1;33m:\u001b[0m\u001b[1;33m\u001b[0m\u001b[1;33m\u001b[0m\u001b[0m\n\u001b[1;32m-> 1038\u001b[1;33m             \u001b[0mself\u001b[0m\u001b[1;33m.\u001b[0m\u001b[0mmodel\u001b[0m\u001b[1;33m.\u001b[0m\u001b[0msave_weights\u001b[0m\u001b[1;33m(\u001b[0m\u001b[0mfilepath\u001b[0m\u001b[1;33m,\u001b[0m \u001b[0moverwrite\u001b[0m\u001b[1;33m=\u001b[0m\u001b[1;32mTrue\u001b[0m\u001b[1;33m)\u001b[0m\u001b[1;33m\u001b[0m\u001b[1;33m\u001b[0m\u001b[0m\n\u001b[0m\u001b[0;32m   1039\u001b[0m           \u001b[1;32melse\u001b[0m\u001b[1;33m:\u001b[0m\u001b[1;33m\u001b[0m\u001b[1;33m\u001b[0m\u001b[0m\n\u001b[0;32m   1040\u001b[0m             \u001b[0mself\u001b[0m\u001b[1;33m.\u001b[0m\u001b[0mmodel\u001b[0m\u001b[1;33m.\u001b[0m\u001b[0msave\u001b[0m\u001b[1;33m(\u001b[0m\u001b[0mfilepath\u001b[0m\u001b[1;33m,\u001b[0m \u001b[0moverwrite\u001b[0m\u001b[1;33m=\u001b[0m\u001b[1;32mTrue\u001b[0m\u001b[1;33m)\u001b[0m\u001b[1;33m\u001b[0m\u001b[1;33m\u001b[0m\u001b[0m\n",
      "\u001b[1;32mc:\\users\\joank_000\\desktop\\rnn-enwik-predictor\\env\\lib\\site-packages\\tensorflow_core\\python\\keras\\engine\\network.py\u001b[0m in \u001b[0;36msave_weights\u001b[1;34m(self, filepath, overwrite, save_format)\u001b[0m\n\u001b[0;32m   1121\u001b[0m              'saved.\\n\\nConsider using a TensorFlow optimizer from `tf.train`.')\n\u001b[0;32m   1122\u001b[0m             % (optimizer,))\n\u001b[1;32m-> 1123\u001b[1;33m       \u001b[0mself\u001b[0m\u001b[1;33m.\u001b[0m\u001b[0m_trackable_saver\u001b[0m\u001b[1;33m.\u001b[0m\u001b[0msave\u001b[0m\u001b[1;33m(\u001b[0m\u001b[0mfilepath\u001b[0m\u001b[1;33m,\u001b[0m \u001b[0msession\u001b[0m\u001b[1;33m=\u001b[0m\u001b[0msession\u001b[0m\u001b[1;33m)\u001b[0m\u001b[1;33m\u001b[0m\u001b[1;33m\u001b[0m\u001b[0m\n\u001b[0m\u001b[0;32m   1124\u001b[0m       \u001b[1;31m# Record this checkpoint so it's visible from tf.train.latest_checkpoint.\u001b[0m\u001b[1;33m\u001b[0m\u001b[1;33m\u001b[0m\u001b[1;33m\u001b[0m\u001b[0m\n\u001b[0;32m   1125\u001b[0m       checkpoint_management.update_checkpoint_state_internal(\n",
      "\u001b[1;32mc:\\users\\joank_000\\desktop\\rnn-enwik-predictor\\env\\lib\\site-packages\\tensorflow_core\\python\\training\\tracking\\util.py\u001b[0m in \u001b[0;36msave\u001b[1;34m(self, file_prefix, checkpoint_number, session)\u001b[0m\n\u001b[0;32m   1166\u001b[0m     \u001b[0mfile_io\u001b[0m\u001b[1;33m.\u001b[0m\u001b[0mrecursive_create_dir\u001b[0m\u001b[1;33m(\u001b[0m\u001b[0mos\u001b[0m\u001b[1;33m.\u001b[0m\u001b[0mpath\u001b[0m\u001b[1;33m.\u001b[0m\u001b[0mdirname\u001b[0m\u001b[1;33m(\u001b[0m\u001b[0mfile_prefix\u001b[0m\u001b[1;33m)\u001b[0m\u001b[1;33m)\u001b[0m\u001b[1;33m\u001b[0m\u001b[1;33m\u001b[0m\u001b[0m\n\u001b[0;32m   1167\u001b[0m     save_path, new_feed_additions = self._save_cached_when_graph_building(\n\u001b[1;32m-> 1168\u001b[1;33m         file_prefix=file_prefix_tensor, object_graph_tensor=object_graph_tensor)\n\u001b[0m\u001b[0;32m   1169\u001b[0m     \u001b[1;32mif\u001b[0m \u001b[0mnew_feed_additions\u001b[0m\u001b[1;33m:\u001b[0m\u001b[1;33m\u001b[0m\u001b[1;33m\u001b[0m\u001b[0m\n\u001b[0;32m   1170\u001b[0m       \u001b[0mfeed_dict\u001b[0m\u001b[1;33m.\u001b[0m\u001b[0mupdate\u001b[0m\u001b[1;33m(\u001b[0m\u001b[0mnew_feed_additions\u001b[0m\u001b[1;33m)\u001b[0m\u001b[1;33m\u001b[0m\u001b[1;33m\u001b[0m\u001b[0m\n",
      "\u001b[1;32mc:\\users\\joank_000\\desktop\\rnn-enwik-predictor\\env\\lib\\site-packages\\tensorflow_core\\python\\training\\tracking\\util.py\u001b[0m in \u001b[0;36m_save_cached_when_graph_building\u001b[1;34m(self, file_prefix, object_graph_tensor)\u001b[0m\n\u001b[0;32m   1114\u001b[0m         or context.executing_eagerly() or ops.inside_function()):\n\u001b[0;32m   1115\u001b[0m       \u001b[0msaver\u001b[0m \u001b[1;33m=\u001b[0m \u001b[0mfunctional_saver\u001b[0m\u001b[1;33m.\u001b[0m\u001b[0mMultiDeviceSaver\u001b[0m\u001b[1;33m(\u001b[0m\u001b[0mnamed_saveable_objects\u001b[0m\u001b[1;33m)\u001b[0m\u001b[1;33m\u001b[0m\u001b[1;33m\u001b[0m\u001b[0m\n\u001b[1;32m-> 1116\u001b[1;33m       \u001b[0msave_op\u001b[0m \u001b[1;33m=\u001b[0m \u001b[0msaver\u001b[0m\u001b[1;33m.\u001b[0m\u001b[0msave\u001b[0m\u001b[1;33m(\u001b[0m\u001b[0mfile_prefix\u001b[0m\u001b[1;33m)\u001b[0m\u001b[1;33m\u001b[0m\u001b[1;33m\u001b[0m\u001b[0m\n\u001b[0m\u001b[0;32m   1117\u001b[0m       \u001b[1;32mwith\u001b[0m \u001b[0mops\u001b[0m\u001b[1;33m.\u001b[0m\u001b[0mdevice\u001b[0m\u001b[1;33m(\u001b[0m\u001b[1;34m\"/cpu:0\"\u001b[0m\u001b[1;33m)\u001b[0m\u001b[1;33m:\u001b[0m\u001b[1;33m\u001b[0m\u001b[1;33m\u001b[0m\u001b[0m\n\u001b[0;32m   1118\u001b[0m         \u001b[1;32mwith\u001b[0m \u001b[0mops\u001b[0m\u001b[1;33m.\u001b[0m\u001b[0mcontrol_dependencies\u001b[0m\u001b[1;33m(\u001b[0m\u001b[1;33m[\u001b[0m\u001b[0msave_op\u001b[0m\u001b[1;33m]\u001b[0m\u001b[1;33m)\u001b[0m\u001b[1;33m:\u001b[0m\u001b[1;33m\u001b[0m\u001b[1;33m\u001b[0m\u001b[0m\n",
      "\u001b[1;32mc:\\users\\joank_000\\desktop\\rnn-enwik-predictor\\env\\lib\\site-packages\\tensorflow_core\\python\\training\\saving\\functional_saver.py\u001b[0m in \u001b[0;36msave\u001b[1;34m(self, file_prefix)\u001b[0m\n\u001b[0;32m    228\u001b[0m         \u001b[1;31m# _SingleDeviceSaver will use the CPU device when necessary, but initial\u001b[0m\u001b[1;33m\u001b[0m\u001b[1;33m\u001b[0m\u001b[1;33m\u001b[0m\u001b[0m\n\u001b[0;32m    229\u001b[0m         \u001b[1;31m# read operations should be placed on the SaveableObject's device.\u001b[0m\u001b[1;33m\u001b[0m\u001b[1;33m\u001b[0m\u001b[1;33m\u001b[0m\u001b[0m\n\u001b[1;32m--> 230\u001b[1;33m         \u001b[0msharded_saves\u001b[0m\u001b[1;33m.\u001b[0m\u001b[0mappend\u001b[0m\u001b[1;33m(\u001b[0m\u001b[0msaver\u001b[0m\u001b[1;33m.\u001b[0m\u001b[0msave\u001b[0m\u001b[1;33m(\u001b[0m\u001b[0mshard_prefix\u001b[0m\u001b[1;33m)\u001b[0m\u001b[1;33m)\u001b[0m\u001b[1;33m\u001b[0m\u001b[1;33m\u001b[0m\u001b[0m\n\u001b[0m\u001b[0;32m    231\u001b[0m \u001b[1;33m\u001b[0m\u001b[0m\n\u001b[0;32m    232\u001b[0m     \u001b[1;32mwith\u001b[0m \u001b[0mops\u001b[0m\u001b[1;33m.\u001b[0m\u001b[0mcontrol_dependencies\u001b[0m\u001b[1;33m(\u001b[0m\u001b[0msharded_saves\u001b[0m\u001b[1;33m)\u001b[0m\u001b[1;33m:\u001b[0m\u001b[1;33m\u001b[0m\u001b[1;33m\u001b[0m\u001b[0m\n",
      "\u001b[1;32mc:\\users\\joank_000\\desktop\\rnn-enwik-predictor\\env\\lib\\site-packages\\tensorflow_core\\python\\training\\saving\\functional_saver.py\u001b[0m in \u001b[0;36msave\u001b[1;34m(self, file_prefix)\u001b[0m\n\u001b[0;32m     67\u001b[0m       \u001b[1;32mfor\u001b[0m \u001b[0mspec\u001b[0m \u001b[1;32min\u001b[0m \u001b[0msaveable\u001b[0m\u001b[1;33m.\u001b[0m\u001b[0mspecs\u001b[0m\u001b[1;33m:\u001b[0m\u001b[1;33m\u001b[0m\u001b[1;33m\u001b[0m\u001b[0m\n\u001b[0;32m     68\u001b[0m         \u001b[0mtensor_names\u001b[0m\u001b[1;33m.\u001b[0m\u001b[0mappend\u001b[0m\u001b[1;33m(\u001b[0m\u001b[0mspec\u001b[0m\u001b[1;33m.\u001b[0m\u001b[0mname\u001b[0m\u001b[1;33m)\u001b[0m\u001b[1;33m\u001b[0m\u001b[1;33m\u001b[0m\u001b[0m\n\u001b[1;32m---> 69\u001b[1;33m         \u001b[0mtensors\u001b[0m\u001b[1;33m.\u001b[0m\u001b[0mappend\u001b[0m\u001b[1;33m(\u001b[0m\u001b[0mspec\u001b[0m\u001b[1;33m.\u001b[0m\u001b[0mtensor\u001b[0m\u001b[1;33m)\u001b[0m\u001b[1;33m\u001b[0m\u001b[1;33m\u001b[0m\u001b[0m\n\u001b[0m\u001b[0;32m     70\u001b[0m         \u001b[0mtensor_slices\u001b[0m\u001b[1;33m.\u001b[0m\u001b[0mappend\u001b[0m\u001b[1;33m(\u001b[0m\u001b[0mspec\u001b[0m\u001b[1;33m.\u001b[0m\u001b[0mslice_spec\u001b[0m\u001b[1;33m)\u001b[0m\u001b[1;33m\u001b[0m\u001b[1;33m\u001b[0m\u001b[0m\n\u001b[0;32m     71\u001b[0m     \u001b[1;32mwith\u001b[0m \u001b[0mops\u001b[0m\u001b[1;33m.\u001b[0m\u001b[0mdevice\u001b[0m\u001b[1;33m(\u001b[0m\u001b[1;34m\"cpu:0\"\u001b[0m\u001b[1;33m)\u001b[0m\u001b[1;33m:\u001b[0m\u001b[1;33m\u001b[0m\u001b[1;33m\u001b[0m\u001b[0m\n",
      "\u001b[1;32mc:\\users\\joank_000\\desktop\\rnn-enwik-predictor\\env\\lib\\site-packages\\tensorflow_core\\python\\training\\saving\\saveable_object.py\u001b[0m in \u001b[0;36mtensor\u001b[1;34m(self)\u001b[0m\n\u001b[0;32m     50\u001b[0m   \u001b[1;33m@\u001b[0m\u001b[0mproperty\u001b[0m\u001b[1;33m\u001b[0m\u001b[1;33m\u001b[0m\u001b[0m\n\u001b[0;32m     51\u001b[0m   \u001b[1;32mdef\u001b[0m \u001b[0mtensor\u001b[0m\u001b[1;33m(\u001b[0m\u001b[0mself\u001b[0m\u001b[1;33m)\u001b[0m\u001b[1;33m:\u001b[0m\u001b[1;33m\u001b[0m\u001b[1;33m\u001b[0m\u001b[0m\n\u001b[1;32m---> 52\u001b[1;33m     \u001b[1;32mreturn\u001b[0m \u001b[0mself\u001b[0m\u001b[1;33m.\u001b[0m\u001b[0m_tensor\u001b[0m\u001b[1;33m(\u001b[0m\u001b[1;33m)\u001b[0m \u001b[1;32mif\u001b[0m \u001b[0mcallable\u001b[0m\u001b[1;33m(\u001b[0m\u001b[0mself\u001b[0m\u001b[1;33m.\u001b[0m\u001b[0m_tensor\u001b[0m\u001b[1;33m)\u001b[0m \u001b[1;32melse\u001b[0m \u001b[0mself\u001b[0m\u001b[1;33m.\u001b[0m\u001b[0m_tensor\u001b[0m\u001b[1;33m\u001b[0m\u001b[1;33m\u001b[0m\u001b[0m\n\u001b[0m\u001b[0;32m     53\u001b[0m \u001b[1;33m\u001b[0m\u001b[0m\n\u001b[0;32m     54\u001b[0m \u001b[1;33m\u001b[0m\u001b[0m\n",
      "\u001b[1;32mc:\\users\\joank_000\\desktop\\rnn-enwik-predictor\\env\\lib\\site-packages\\tensorflow_core\\python\\training\\saving\\saveable_object_util.py\u001b[0m in \u001b[0;36mf\u001b[1;34m()\u001b[0m\n\u001b[0;32m     93\u001b[0m             \u001b[1;31m# we copy them to CPU on the same machine first.\u001b[0m\u001b[1;33m\u001b[0m\u001b[1;33m\u001b[0m\u001b[1;33m\u001b[0m\u001b[0m\n\u001b[0;32m     94\u001b[0m             \u001b[1;32mwith\u001b[0m \u001b[0mops\u001b[0m\u001b[1;33m.\u001b[0m\u001b[0mdevice\u001b[0m\u001b[1;33m(\u001b[0m\u001b[1;34m\"/device:CPU:0\"\u001b[0m\u001b[1;33m)\u001b[0m\u001b[1;33m:\u001b[0m\u001b[1;33m\u001b[0m\u001b[1;33m\u001b[0m\u001b[0m\n\u001b[1;32m---> 95\u001b[1;33m               \u001b[1;32mreturn\u001b[0m \u001b[0marray_ops\u001b[0m\u001b[1;33m.\u001b[0m\u001b[0midentity\u001b[0m\u001b[1;33m(\u001b[0m\u001b[0mx\u001b[0m\u001b[1;33m)\u001b[0m\u001b[1;33m\u001b[0m\u001b[1;33m\u001b[0m\u001b[0m\n\u001b[0m\u001b[0;32m     96\u001b[0m         \u001b[1;32mreturn\u001b[0m \u001b[0mf\u001b[0m\u001b[1;33m\u001b[0m\u001b[1;33m\u001b[0m\u001b[0m\n\u001b[0;32m     97\u001b[0m \u001b[1;33m\u001b[0m\u001b[0m\n",
      "\u001b[1;32mc:\\users\\joank_000\\desktop\\rnn-enwik-predictor\\env\\lib\\site-packages\\tensorflow_core\\python\\util\\dispatch.py\u001b[0m in \u001b[0;36mwrapper\u001b[1;34m(*args, **kwargs)\u001b[0m\n\u001b[0;32m    178\u001b[0m     \u001b[1;34m\"\"\"Call target, and fall back on dispatchers if there is a TypeError.\"\"\"\u001b[0m\u001b[1;33m\u001b[0m\u001b[1;33m\u001b[0m\u001b[0m\n\u001b[0;32m    179\u001b[0m     \u001b[1;32mtry\u001b[0m\u001b[1;33m:\u001b[0m\u001b[1;33m\u001b[0m\u001b[1;33m\u001b[0m\u001b[0m\n\u001b[1;32m--> 180\u001b[1;33m       \u001b[1;32mreturn\u001b[0m \u001b[0mtarget\u001b[0m\u001b[1;33m(\u001b[0m\u001b[1;33m*\u001b[0m\u001b[0margs\u001b[0m\u001b[1;33m,\u001b[0m \u001b[1;33m**\u001b[0m\u001b[0mkwargs\u001b[0m\u001b[1;33m)\u001b[0m\u001b[1;33m\u001b[0m\u001b[1;33m\u001b[0m\u001b[0m\n\u001b[0m\u001b[0;32m    181\u001b[0m     \u001b[1;32mexcept\u001b[0m \u001b[1;33m(\u001b[0m\u001b[0mTypeError\u001b[0m\u001b[1;33m,\u001b[0m \u001b[0mValueError\u001b[0m\u001b[1;33m)\u001b[0m\u001b[1;33m:\u001b[0m\u001b[1;33m\u001b[0m\u001b[1;33m\u001b[0m\u001b[0m\n\u001b[0;32m    182\u001b[0m       \u001b[1;31m# Note: convert_to_eager_tensor currently raises a ValueError, not a\u001b[0m\u001b[1;33m\u001b[0m\u001b[1;33m\u001b[0m\u001b[1;33m\u001b[0m\u001b[0m\n",
      "\u001b[1;32mc:\\users\\joank_000\\desktop\\rnn-enwik-predictor\\env\\lib\\site-packages\\tensorflow_core\\python\\ops\\array_ops.py\u001b[0m in \u001b[0;36midentity\u001b[1;34m(input, name)\u001b[0m\n\u001b[0;32m    265\u001b[0m     \u001b[1;31m# variables. Variables have correct handle data when graph building.\u001b[0m\u001b[1;33m\u001b[0m\u001b[1;33m\u001b[0m\u001b[1;33m\u001b[0m\u001b[0m\n\u001b[0;32m    266\u001b[0m     \u001b[0minput\u001b[0m \u001b[1;33m=\u001b[0m \u001b[0mops\u001b[0m\u001b[1;33m.\u001b[0m\u001b[0mconvert_to_tensor\u001b[0m\u001b[1;33m(\u001b[0m\u001b[0minput\u001b[0m\u001b[1;33m)\u001b[0m\u001b[1;33m\u001b[0m\u001b[1;33m\u001b[0m\u001b[0m\n\u001b[1;32m--> 267\u001b[1;33m   \u001b[0mret\u001b[0m \u001b[1;33m=\u001b[0m \u001b[0mgen_array_ops\u001b[0m\u001b[1;33m.\u001b[0m\u001b[0midentity\u001b[0m\u001b[1;33m(\u001b[0m\u001b[0minput\u001b[0m\u001b[1;33m,\u001b[0m \u001b[0mname\u001b[0m\u001b[1;33m=\u001b[0m\u001b[0mname\u001b[0m\u001b[1;33m)\u001b[0m\u001b[1;33m\u001b[0m\u001b[1;33m\u001b[0m\u001b[0m\n\u001b[0m\u001b[0;32m    268\u001b[0m   \u001b[1;31m# Propagate handle data for happier shape inference for resource variables.\u001b[0m\u001b[1;33m\u001b[0m\u001b[1;33m\u001b[0m\u001b[1;33m\u001b[0m\u001b[0m\n\u001b[0;32m    269\u001b[0m   \u001b[1;32mif\u001b[0m \u001b[0mhasattr\u001b[0m\u001b[1;33m(\u001b[0m\u001b[0minput\u001b[0m\u001b[1;33m,\u001b[0m \u001b[1;34m\"_handle_data\"\u001b[0m\u001b[1;33m)\u001b[0m\u001b[1;33m:\u001b[0m\u001b[1;33m\u001b[0m\u001b[1;33m\u001b[0m\u001b[0m\n",
      "\u001b[1;32mc:\\users\\joank_000\\desktop\\rnn-enwik-predictor\\env\\lib\\site-packages\\tensorflow_core\\python\\ops\\gen_array_ops.py\u001b[0m in \u001b[0;36midentity\u001b[1;34m(input, name)\u001b[0m\n\u001b[0;32m   3824\u001b[0m         \u001b[1;32mpass\u001b[0m  \u001b[1;31m# Add nodes to the TensorFlow graph.\u001b[0m\u001b[1;33m\u001b[0m\u001b[1;33m\u001b[0m\u001b[0m\n\u001b[0;32m   3825\u001b[0m     \u001b[1;32mexcept\u001b[0m \u001b[0m_core\u001b[0m\u001b[1;33m.\u001b[0m\u001b[0m_NotOkStatusException\u001b[0m \u001b[1;32mas\u001b[0m \u001b[0me\u001b[0m\u001b[1;33m:\u001b[0m\u001b[1;33m\u001b[0m\u001b[1;33m\u001b[0m\u001b[0m\n\u001b[1;32m-> 3826\u001b[1;33m       \u001b[0m_ops\u001b[0m\u001b[1;33m.\u001b[0m\u001b[0mraise_from_not_ok_status\u001b[0m\u001b[1;33m(\u001b[0m\u001b[0me\u001b[0m\u001b[1;33m,\u001b[0m \u001b[0mname\u001b[0m\u001b[1;33m)\u001b[0m\u001b[1;33m\u001b[0m\u001b[1;33m\u001b[0m\u001b[0m\n\u001b[0m\u001b[0;32m   3827\u001b[0m   \u001b[1;31m# Add nodes to the TensorFlow graph.\u001b[0m\u001b[1;33m\u001b[0m\u001b[1;33m\u001b[0m\u001b[1;33m\u001b[0m\u001b[0m\n\u001b[0;32m   3828\u001b[0m   _, _, _op, _outputs = _op_def_library._apply_op_helper(\n",
      "\u001b[1;32mc:\\users\\joank_000\\desktop\\rnn-enwik-predictor\\env\\lib\\site-packages\\tensorflow_core\\python\\framework\\ops.py\u001b[0m in \u001b[0;36mraise_from_not_ok_status\u001b[1;34m(e, name)\u001b[0m\n\u001b[0;32m   6604\u001b[0m   \u001b[0mmessage\u001b[0m \u001b[1;33m=\u001b[0m \u001b[0me\u001b[0m\u001b[1;33m.\u001b[0m\u001b[0mmessage\u001b[0m \u001b[1;33m+\u001b[0m \u001b[1;33m(\u001b[0m\u001b[1;34m\" name: \"\u001b[0m \u001b[1;33m+\u001b[0m \u001b[0mname\u001b[0m \u001b[1;32mif\u001b[0m \u001b[0mname\u001b[0m \u001b[1;32mis\u001b[0m \u001b[1;32mnot\u001b[0m \u001b[1;32mNone\u001b[0m \u001b[1;32melse\u001b[0m \u001b[1;34m\"\"\u001b[0m\u001b[1;33m)\u001b[0m\u001b[1;33m\u001b[0m\u001b[1;33m\u001b[0m\u001b[0m\n\u001b[0;32m   6605\u001b[0m   \u001b[1;31m# pylint: disable=protected-access\u001b[0m\u001b[1;33m\u001b[0m\u001b[1;33m\u001b[0m\u001b[1;33m\u001b[0m\u001b[0m\n\u001b[1;32m-> 6606\u001b[1;33m   \u001b[0msix\u001b[0m\u001b[1;33m.\u001b[0m\u001b[0mraise_from\u001b[0m\u001b[1;33m(\u001b[0m\u001b[0mcore\u001b[0m\u001b[1;33m.\u001b[0m\u001b[0m_status_to_exception\u001b[0m\u001b[1;33m(\u001b[0m\u001b[0me\u001b[0m\u001b[1;33m.\u001b[0m\u001b[0mcode\u001b[0m\u001b[1;33m,\u001b[0m \u001b[0mmessage\u001b[0m\u001b[1;33m)\u001b[0m\u001b[1;33m,\u001b[0m \u001b[1;32mNone\u001b[0m\u001b[1;33m)\u001b[0m\u001b[1;33m\u001b[0m\u001b[1;33m\u001b[0m\u001b[0m\n\u001b[0m\u001b[0;32m   6607\u001b[0m   \u001b[1;31m# pylint: enable=protected-access\u001b[0m\u001b[1;33m\u001b[0m\u001b[1;33m\u001b[0m\u001b[1;33m\u001b[0m\u001b[0m\n\u001b[0;32m   6608\u001b[0m \u001b[1;33m\u001b[0m\u001b[0m\n",
      "\u001b[1;32mc:\\users\\joank_000\\desktop\\rnn-enwik-predictor\\env\\lib\\site-packages\\six.py\u001b[0m in \u001b[0;36mraise_from\u001b[1;34m(value, from_value)\u001b[0m\n",
      "\u001b[1;31mInternalError\u001b[0m: Failed copying input tensor from /job:localhost/replica:0/task:0/device:GPU:0 to /job:localhost/replica:0/task:0/device:CPU:0 in order to run Identity: GPU sync failed [Op:Identity]"
     ]
    }
   ],
   "source": [
    "model.train(384, 128, epochs=7)"
   ]
  },
  {
   "cell_type": "code",
   "execution_count": 13,
   "metadata": {},
   "outputs": [
    {
     "name": "stdout",
     "output_type": "stream",
     "text": [
      "WARNING:tensorflow:Inconsistent references when loading the checkpoint into this object graph. Either the Trackable object references in the Python program have changed in an incompatible way, or the checkpoint was generated in an incompatible program.\n",
      "\n",
      "Two checkpoint references resolved to different objects (<tensorflow.python.keras.layers.embeddings.Embedding object at 0x000001CE4DECE7C8> and <tensorflow.python.keras.layers.recurrent_v2.GRU object at 0x000001CE58700C48>).\n",
      "WARNING:tensorflow:Inconsistent references when loading the checkpoint into this object graph. Either the Trackable object references in the Python program have changed in an incompatible way, or the checkpoint was generated in an incompatible program.\n",
      "\n",
      "Two checkpoint references resolved to different objects (<tensorflow.python.keras.layers.recurrent_v2.GRU object at 0x000001CE58700C48> and <tensorflow.python.keras.layers.recurrent_v2.GRU object at 0x000001CE8286F288>).\n",
      "WARNING:tensorflow:Inconsistent references when loading the checkpoint into this object graph. Either the Trackable object references in the Python program have changed in an incompatible way, or the checkpoint was generated in an incompatible program.\n",
      "\n",
      "Two checkpoint references resolved to different objects (<tensorflow.python.keras.layers.recurrent_v2.GRU object at 0x000001CE8286F288> and <tensorflow.python.keras.layers.core.Dense object at 0x000001CE59B8FF48>).\n",
      "Article 10000:\tLength: 35\tAvg Compression: 0.217857\n",
      "Article 20000:\tLength: 41\tAvg Compression: 0.207237\n",
      "Article 30000:\tLength: 46\tAvg Compression: 0.207992\n",
      "Article 40000:\tLength: 51\tAvg Compression: 0.232659\n",
      "Article 50000:\tLength: 57\tAvg Compression: 0.240217\n",
      "Article 60000:\tLength: 67\tAvg Compression: 0.227273\n",
      "Article 70000:\tLength: 85\tAvg Compression: 0.225458\n",
      "Article 80000:\tLength: 185\tAvg Compression: 0.231922\n",
      "Article 90000:\tLength: 467\tAvg Compression: 0.216393\n",
      "Article 100000:\tLength: 820\tAvg Compression: 0.202805\n",
      "Article 110000:\tLength: 1144\tAvg Compression: 0.218020\n",
      "Article 120000:\tLength: 1587\tAvg Compression: 0.200818\n",
      "Article 130000:\tLength: 2096\tAvg Compression: 0.206013\n",
      "Article 140000:\tLength: 2541\tAvg Compression: 0.174827\n",
      "Article 150000:\tLength: 2648\tAvg Compression: 0.157551\n",
      "Article 160000:\tLength: 2746\tAvg Compression: 0.172354\n",
      "Article 170000:\tLength: 2871\tAvg Compression: 0.190048\n",
      "Article 180000:\tLength: 3568\tAvg Compression: 0.207795\n",
      "Article 190000:\tLength: 4265\tAvg Compression: 0.209434\n",
      "Article 200000:\tLength: 5329\tAvg Compression: 0.214828\n",
      "Article 210000:\tLength: 6905\tAvg Compression: 0.220722\n",
      "Article 220000:\tLength: 9407\tAvg Compression: 0.227447\n",
      "Article 230000:\tLength: 14213\tAvg Compression: 0.227807\n",
      "Article 240000:\tLength: 29637\tAvg Compression: 0.226100\n"
     ]
    }
   ],
   "source": [
    "total_raw = 0\n",
    "total_compressed = 0\n",
    "\n",
    "huffman = Huffman(encoder.vocab_size)\n",
    "for index, encoded_article in enumerate(articles.articles_generator(1)):\n",
    "    if index % 10000 == 0 and len(encoded_article) != 0:\n",
    "        article = encoder.decode(encoded_article)\n",
    "        total_raw += len(article) * 8\n",
    "        total_compressed += huffman.archive_size(model, encoded_article)\n",
    "        print('Article %d:\\tLength: %d\\tAvg Compression: %f' % (index, len(article), total_compressed/total_raw))"
   ]
  },
  {
   "cell_type": "code",
   "execution_count": 14,
   "metadata": {},
   "outputs": [
    {
     "name": "stdout",
     "output_type": "stream",
     "text": [
      "WARNING:tensorflow:Inconsistent references when loading the checkpoint into this object graph. Either the Trackable object references in the Python program have changed in an incompatible way, or the checkpoint was generated in an incompatible program.\n",
      "\n",
      "Two checkpoint references resolved to different objects (<tensorflow.python.keras.layers.embeddings.Embedding object at 0x000001CE384AF048> and <tensorflow.python.keras.layers.recurrent_v2.GRU object at 0x000001CE3485F208>).\n",
      "WARNING:tensorflow:Inconsistent references when loading the checkpoint into this object graph. Either the Trackable object references in the Python program have changed in an incompatible way, or the checkpoint was generated in an incompatible program.\n",
      "\n",
      "Two checkpoint references resolved to different objects (<tensorflow.python.keras.layers.recurrent_v2.GRU object at 0x000001CE3485F208> and <tensorflow.python.keras.layers.recurrent_v2.GRU object at 0x000001CE89AD6908>).\n",
      "WARNING:tensorflow:Inconsistent references when loading the checkpoint into this object graph. Either the Trackable object references in the Python program have changed in an incompatible way, or the checkpoint was generated in an incompatible program.\n",
      "\n",
      "Two checkpoint references resolved to different objects (<tensorflow.python.keras.layers.recurrent_v2.GRU object at 0x000001CE89AD6908> and <tensorflow.python.keras.layers.core.Dense object at 0x000001CE89AD6548>).\n",
      "Epoch 1/5\n",
      "17561/17561 [==============================] - 13477s 767ms/step - loss: 1.1719 - average_final_batch_ratio: 0.2216\n",
      "Epoch 2/5\n",
      "17561/17561 [==============================] - 13276s 756ms/step - loss: 1.0491 - average_final_batch_ratio: 0.2216\n",
      "Epoch 3/5\n",
      "17561/17561 [==============================] - 13341s 760ms/step - loss: 1.3313 - average_final_batch_ratio: 0.2216\n",
      "Epoch 4/5\n",
      "17561/17561 [==============================] - 13337s 759ms/step - loss: 1.3223 - average_final_batch_ratio: 0.2216\n",
      "Epoch 5/5\n",
      "17561/17561 [==============================] - 13461s 767ms/step - loss: 1.6442 - average_final_batch_ratio: 0.2216\n"
     ]
    }
   ],
   "source": [
    "model.train(384, 128, epochs=5)"
   ]
  },
  {
   "cell_type": "code",
   "execution_count": 15,
   "metadata": {},
   "outputs": [
    {
     "name": "stdout",
     "output_type": "stream",
     "text": [
      "Article 10000:\tLength: 35\tAvg Compression: 0.400000\n",
      "Article 20000:\tLength: 41\tAvg Compression: 0.399671\n",
      "Article 30000:\tLength: 46\tAvg Compression: 0.371926\n",
      "Article 40000:\tLength: 51\tAvg Compression: 0.372832\n",
      "Article 50000:\tLength: 57\tAvg Compression: 0.395109\n",
      "Article 60000:\tLength: 67\tAvg Compression: 0.399411\n",
      "Article 70000:\tLength: 85\tAvg Compression: 0.389725\n",
      "Article 80000:\tLength: 185\tAvg Compression: 0.382055\n",
      "Article 90000:\tLength: 467\tAvg Compression: 0.340788\n",
      "Article 100000:\tLength: 820\tAvg Compression: 0.310545\n",
      "Article 110000:\tLength: 1144\tAvg Compression: 0.320297\n",
      "Article 120000:\tLength: 1587\tAvg Compression: 0.305943\n",
      "Article 130000:\tLength: 2096\tAvg Compression: 0.308150\n",
      "Article 140000:\tLength: 2541\tAvg Compression: 0.253199\n",
      "Article 150000:\tLength: 2648\tAvg Compression: 0.224000\n",
      "Article 160000:\tLength: 2746\tAvg Compression: 0.244116\n",
      "Article 170000:\tLength: 2871\tAvg Compression: 0.272166\n",
      "Article 180000:\tLength: 3568\tAvg Compression: 0.289272\n",
      "Article 190000:\tLength: 4265\tAvg Compression: 0.291217\n",
      "Article 200000:\tLength: 5329\tAvg Compression: 0.298064\n",
      "Article 210000:\tLength: 6905\tAvg Compression: 0.301040\n",
      "Article 220000:\tLength: 9407\tAvg Compression: 0.312041\n",
      "Article 230000:\tLength: 14213\tAvg Compression: 0.309572\n",
      "Article 240000:\tLength: 29637\tAvg Compression: 0.307911\n"
     ]
    }
   ],
   "source": [
    "total_raw = 0\n",
    "total_compressed = 0\n",
    "\n",
    "huffman = Huffman(encoder.vocab_size)\n",
    "for index, encoded_article in enumerate(articles.articles_generator(1)):\n",
    "    if index % 10000 == 0 and len(encoded_article) != 0:\n",
    "        article = encoder.decode(encoded_article)\n",
    "        total_raw += len(article) * 8\n",
    "        total_compressed += huffman.archive_size(model, encoded_article)\n",
    "        print('Article %d:\\tLength: %d\\tAvg Compression: %f' % (index, len(article), total_compressed/total_raw))"
   ]
  },
  {
   "cell_type": "code",
   "execution_count": 16,
   "metadata": {},
   "outputs": [
    {
     "name": "stdout",
     "output_type": "stream",
     "text": [
      "Epoch 1/2\n",
      "17561/17561 [==============================] - 13329s 759ms/step - loss: 1.4073 - average_final_batch_ratio: 0.2216\n",
      "Epoch 2/2\n",
      "17561/17561 [==============================] - 13243s 754ms/step - loss: 1.3938 - average_final_batch_ratio: 0.2216\n"
     ]
    }
   ],
   "source": [
    "model.train(384, 128, epochs=2)"
   ]
  },
  {
   "cell_type": "code",
   "execution_count": 17,
   "metadata": {},
   "outputs": [
    {
     "name": "stdout",
     "output_type": "stream",
     "text": [
      "Article 10000:\tLength: 35\tAvg Compression: 0.317857\n",
      "Article 20000:\tLength: 41\tAvg Compression: 0.302632\n",
      "Article 30000:\tLength: 46\tAvg Compression: 0.284836\n",
      "Article 40000:\tLength: 51\tAvg Compression: 0.306358\n",
      "Article 50000:\tLength: 57\tAvg Compression: 0.320652\n",
      "Article 60000:\tLength: 67\tAvg Compression: 0.311448\n",
      "Article 70000:\tLength: 85\tAvg Compression: 0.307592\n",
      "Article 80000:\tLength: 185\tAvg Compression: 0.309083\n",
      "Article 90000:\tLength: 467\tAvg Compression: 0.280343\n",
      "Article 100000:\tLength: 820\tAvg Compression: 0.254989\n",
      "Article 110000:\tLength: 1144\tAvg Compression: 0.267345\n",
      "Article 120000:\tLength: 1587\tAvg Compression: 0.260823\n",
      "Article 130000:\tLength: 2096\tAvg Compression: 0.262928\n",
      "Article 140000:\tLength: 2541\tAvg Compression: 0.218120\n",
      "Article 150000:\tLength: 2648\tAvg Compression: 0.193134\n",
      "Article 160000:\tLength: 2746\tAvg Compression: 0.211284\n",
      "Article 170000:\tLength: 2871\tAvg Compression: 0.239099\n",
      "Article 180000:\tLength: 3568\tAvg Compression: 0.255598\n",
      "Article 190000:\tLength: 4265\tAvg Compression: 0.256250\n",
      "Article 200000:\tLength: 5329\tAvg Compression: 0.262248\n",
      "Article 210000:\tLength: 6905\tAvg Compression: 0.266606\n",
      "Article 220000:\tLength: 9407\tAvg Compression: 0.274741\n",
      "Article 230000:\tLength: 14213\tAvg Compression: 0.272736\n",
      "Article 240000:\tLength: 29637\tAvg Compression: 0.270405\n"
     ]
    }
   ],
   "source": [
    "total_raw = 0\n",
    "total_compressed = 0\n",
    "\n",
    "huffman = Huffman(encoder.vocab_size)\n",
    "for index, encoded_article in enumerate(articles.articles_generator(1)):\n",
    "    if index % 10000 == 0 and len(encoded_article) != 0:\n",
    "        article = encoder.decode(encoded_article)\n",
    "        total_raw += len(article) * 8\n",
    "        total_compressed += huffman.archive_size(model, encoded_article)\n",
    "        print('Article %d:\\tLength: %d\\tAvg Compression: %f' % (index, len(article), total_compressed/total_raw))"
   ]
  },
  {
   "cell_type": "code",
   "execution_count": 18,
   "metadata": {},
   "outputs": [
    {
     "name": "stdout",
     "output_type": "stream",
     "text": [
      "Epoch 1/2\n",
      "17561/17561 [==============================] - 13298s 757ms/step - loss: 1.2863 - average_final_batch_ratio: 0.2216\n",
      "Epoch 2/2\n",
      "17561/17561 [==============================] - 13107s 746ms/step - loss: 1.2500 - average_final_batch_ratio: 0.2216\n"
     ]
    }
   ],
   "source": [
    "model.train(384, 128, epochs=2)"
   ]
  },
  {
   "cell_type": "code",
   "execution_count": 19,
   "metadata": {
    "scrolled": true
   },
   "outputs": [
    {
     "name": "stdout",
     "output_type": "stream",
     "text": [
      "Article 5000:\tLength: 32\tAvg Compression: 0.312500\n",
      "Article 10000:\tLength: 35\tAvg Compression: 0.276119\n",
      "Article 15000:\tLength: 38\tAvg Compression: 0.294048\n",
      "Article 20000:\tLength: 41\tAvg Compression: 0.267979\n",
      "Article 25000:\tLength: 43\tAvg Compression: 0.271825\n",
      "Article 30000:\tLength: 46\tAvg Compression: 0.260638\n",
      "Article 35000:\tLength: 48\tAvg Compression: 0.274735\n",
      "Article 40000:\tLength: 51\tAvg Compression: 0.281063\n",
      "Article 45000:\tLength: 54\tAvg Compression: 0.280606\n",
      "Article 50000:\tLength: 57\tAvg Compression: 0.283427\n",
      "Article 55000:\tLength: 61\tAvg Compression: 0.272727\n",
      "Article 60000:\tLength: 67\tAvg Compression: 0.268979\n",
      "Article 65000:\tLength: 74\tAvg Compression: 0.276275\n",
      "Article 70000:\tLength: 85\tAvg Compression: 0.275102\n",
      "Article 75000:\tLength: 108\tAvg Compression: 0.283036\n",
      "Article 80000:\tLength: 185\tAvg Compression: 0.282439\n",
      "Article 85000:\tLength: 292\tAvg Compression: 0.258827\n",
      "Article 90000:\tLength: 467\tAvg Compression: 0.253293\n",
      "Article 95000:\tLength: 637\tAvg Compression: 0.263992\n",
      "Article 100000:\tLength: 820\tAvg Compression: 0.252276\n",
      "Article 105000:\tLength: 946\tAvg Compression: 0.261882\n",
      "Article 110000:\tLength: 1144\tAvg Compression: 0.265499\n",
      "Article 115000:\tLength: 1355\tAvg Compression: 0.262620\n",
      "Article 120000:\tLength: 1587\tAvg Compression: 0.255228\n",
      "Article 125000:\tLength: 1814\tAvg Compression: 0.258030\n",
      "Article 130000:\tLength: 2096\tAvg Compression: 0.258342\n",
      "Article 135000:\tLength: 2378\tAvg Compression: 0.256104\n",
      "Article 140000:\tLength: 2541\tAvg Compression: 0.231976\n",
      "Article 145000:\tLength: 2598\tAvg Compression: 0.214657\n",
      "Article 150000:\tLength: 2648\tAvg Compression: 0.201573\n",
      "Article 155000:\tLength: 2700\tAvg Compression: 0.210531\n",
      "Article 160000:\tLength: 2746\tAvg Compression: 0.217048\n",
      "Article 165000:\tLength: 2877\tAvg Compression: 0.207309\n",
      "Article 170000:\tLength: 2871\tAvg Compression: 0.220332\n",
      "Article 175000:\tLength: 3305\tAvg Compression: 0.212497\n",
      "Article 180000:\tLength: 3568\tAvg Compression: 0.222451\n",
      "Article 185000:\tLength: 3913\tAvg Compression: 0.215758\n",
      "Article 190000:\tLength: 4265\tAvg Compression: 0.219082\n",
      "Article 195000:\tLength: 4576\tAvg Compression: 0.225749\n",
      "Article 200000:\tLength: 5329\tAvg Compression: 0.231004\n",
      "Article 205000:\tLength: 6013\tAvg Compression: 0.234423\n",
      "Article 210000:\tLength: 6905\tAvg Compression: 0.238856\n",
      "Article 215000:\tLength: 7943\tAvg Compression: 0.244870\n",
      "Article 220000:\tLength: 9407\tAvg Compression: 0.250514\n",
      "Article 225000:\tLength: 11374\tAvg Compression: 0.252489\n",
      "Article 230000:\tLength: 14213\tAvg Compression: 0.253301\n",
      "Article 235000:\tLength: 18958\tAvg Compression: 0.255837\n",
      "Article 240000:\tLength: 29637\tAvg Compression: 0.256545\n"
     ]
    }
   ],
   "source": [
    "total_raw = 0\n",
    "total_compressed = 0\n",
    "\n",
    "huffman = Huffman(encoder.vocab_size)\n",
    "for index, encoded_article in enumerate(articles.articles_generator(1)):\n",
    "    if index % 5000 == 0 and len(encoded_article) != 0:\n",
    "        article = encoder.decode(encoded_article)\n",
    "        total_raw += len(article) * 8\n",
    "        total_compressed += huffman.archive_size(model, encoded_article)\n",
    "        print('Article %d:\\tLength: %d\\tAvg Compression: %f' % (index, len(article), total_compressed/total_raw))"
   ]
  },
  {
   "cell_type": "code",
   "execution_count": 62,
   "metadata": {
    "scrolled": true
   },
   "outputs": [
    {
     "name": "stdout",
     "output_type": "stream",
     "text": [
      "Article 1000:\tLength: 18\tEntropy: 72.172832, Compression: 0.334133\n",
      "Article 2000:\tLength: 24\tEntropy: 71.550512, Compression: 0.308407\n",
      "Article 3000:\tLength: 22\tEntropy: 60.982851, Compression: 0.254095\n",
      "Article 4000:\tLength: 20\tEntropy: 119.177123, Compression: 0.480553\n",
      "Article 5000:\tLength: 21\tEntropy: 88.774634, Compression: 0.346776\n",
      "Article 6000:\tLength: 18\tEntropy: 68.004441, Compression: 0.265642\n",
      "Article 7000:\tLength: 20\tEntropy: 79.379912, Compression: 0.300681\n",
      "Article 8000:\tLength: 21\tEntropy: 94.901665, Compression: 0.348903\n",
      "Article 9000:\tLength: 19\tEntropy: 63.467661, Compression: 0.233337\n",
      "Article 10000:\tLength: 24\tEntropy: 60.501720, Compression: 0.216078\n",
      "Article 11000:\tLength: 20\tEntropy: 82.704572, Compression: 0.287169\n",
      "Article 12000:\tLength: 25\tEntropy: 80.247285, Compression: 0.278636\n",
      "Article 13000:\tLength: 26\tEntropy: 106.932477, Compression: 0.361258\n",
      "Article 14000:\tLength: 22\tEntropy: 72.892050, Compression: 0.239776\n",
      "Article 15000:\tLength: 28\tEntropy: 96.386192, Compression: 0.317060\n",
      "Article 16000:\tLength: 28\tEntropy: 98.610386, Compression: 0.316059\n",
      "Article 17000:\tLength: 26\tEntropy: 90.524805, Compression: 0.290144\n",
      "Article 18000:\tLength: 26\tEntropy: 76.022484, Compression: 0.237570\n",
      "Article 19000:\tLength: 22\tEntropy: 71.641179, Compression: 0.223879\n",
      "Article 20000:\tLength: 25\tEntropy: 59.095871, Compression: 0.180170\n",
      "Article 21000:\tLength: 26\tEntropy: 69.225953, Compression: 0.211055\n",
      "Article 22000:\tLength: 24\tEntropy: 82.778371, Compression: 0.246364\n",
      "Article 23000:\tLength: 28\tEntropy: 67.308439, Compression: 0.200323\n",
      "Article 24000:\tLength: 27\tEntropy: 53.695453, Compression: 0.156091\n",
      "Article 25000:\tLength: 28\tEntropy: 94.685322, Compression: 0.275248\n",
      "Article 26000:\tLength: 28\tEntropy: 109.715733, Compression: 0.311692\n",
      "Article 27000:\tLength: 23\tEntropy: 58.135499, Compression: 0.165158\n",
      "Article 28000:\tLength: 28\tEntropy: 92.270694, Compression: 0.256307\n",
      "Article 29000:\tLength: 26\tEntropy: 89.436849, Compression: 0.248436\n",
      "Article 30000:\tLength: 30\tEntropy: 77.268310, Compression: 0.209968\n",
      "Article 31000:\tLength: 29\tEntropy: 90.764214, Compression: 0.246642\n",
      "Article 32000:\tLength: 27\tEntropy: 86.576666, Compression: 0.230257\n",
      "Article 33000:\tLength: 28\tEntropy: 119.611261, Compression: 0.318115\n",
      "Article 34000:\tLength: 29\tEntropy: 102.285240, Compression: 0.266368\n",
      "Article 35000:\tLength: 29\tEntropy: 132.783697, Compression: 0.345791\n",
      "Article 36000:\tLength: 30\tEntropy: 88.437010, Compression: 0.225605\n",
      "Article 37000:\tLength: 30\tEntropy: 87.359280, Compression: 0.222855\n",
      "Article 38000:\tLength: 34\tEntropy: 114.292031, Compression: 0.285730\n",
      "Article 39000:\tLength: 28\tEntropy: 105.830851, Compression: 0.259389\n",
      "Article 40000:\tLength: 29\tEntropy: 122.372305, Compression: 0.299932\n",
      "Article 41000:\tLength: 27\tEntropy: 112.799232, Compression: 0.271152\n",
      "Article 42000:\tLength: 31\tEntropy: 134.700814, Compression: 0.323800\n",
      "Article 43000:\tLength: 32\tEntropy: 75.282547, Compression: 0.177553\n",
      "Article 44000:\tLength: 32\tEntropy: 97.679244, Compression: 0.230376\n",
      "Article 45000:\tLength: 36\tEntropy: 112.744302, Compression: 0.260982\n",
      "Article 46000:\tLength: 32\tEntropy: 136.841110, Compression: 0.316762\n",
      "Article 47000:\tLength: 35\tEntropy: 131.410139, Compression: 0.298659\n",
      "Article 48000:\tLength: 37\tEntropy: 163.635048, Compression: 0.365257\n",
      "Article 49000:\tLength: 33\tEntropy: 138.239132, Compression: 0.308569\n",
      "Article 50000:\tLength: 37\tEntropy: 135.897653, Compression: 0.298021\n",
      "Article 51000:\tLength: 35\tEntropy: 144.125247, Compression: 0.310615\n",
      "Article 52000:\tLength: 28\tEntropy: 66.249131, Compression: 0.140358\n",
      "Article 53000:\tLength: 36\tEntropy: 143.905883, Compression: 0.299804\n",
      "Article 54000:\tLength: 35\tEntropy: 109.465066, Compression: 0.224314\n",
      "Article 55000:\tLength: 36\tEntropy: 86.134176, Compression: 0.176504\n",
      "Article 56000:\tLength: 35\tEntropy: 81.972749, Compression: 0.165268\n",
      "Article 57000:\tLength: 35\tEntropy: 91.391644, Compression: 0.181333\n",
      "Article 58000:\tLength: 45\tEntropy: 227.376357, Compression: 0.444094\n",
      "Article 59000:\tLength: 39\tEntropy: 127.034197, Compression: 0.244297\n",
      "Article 60000:\tLength: 42\tEntropy: 119.166995, Compression: 0.222326\n",
      "Article 61000:\tLength: 39\tEntropy: 120.955123, Compression: 0.222344\n",
      "Article 62000:\tLength: 42\tEntropy: 124.697459, Compression: 0.225901\n",
      "Article 63000:\tLength: 47\tEntropy: 233.138090, Compression: 0.410454\n",
      "Article 64000:\tLength: 40\tEntropy: 99.434500, Compression: 0.170265\n",
      "Article 65000:\tLength: 51\tEntropy: 185.026434, Compression: 0.312545\n",
      "Article 66000:\tLength: 48\tEntropy: 117.283245, Compression: 0.192900\n",
      "Article 67000:\tLength: 47\tEntropy: 122.038029, Compression: 0.195574\n",
      "Article 68000:\tLength: 51\tEntropy: 227.700973, Compression: 0.355783\n",
      "Article 69000:\tLength: 47\tEntropy: 137.712502, Compression: 0.207398\n",
      "Article 70000:\tLength: 46\tEntropy: 172.977974, Compression: 0.254379\n",
      "Article 71000:\tLength: 48\tEntropy: 179.651476, Compression: 0.255187\n",
      "Article 72000:\tLength: 60\tEntropy: 134.533005, Compression: 0.184798\n",
      "Article 73000:\tLength: 55\tEntropy: 182.633977, Compression: 0.240308\n",
      "Article 74000:\tLength: 63\tEntropy: 255.076904, Compression: 0.318846\n",
      "Article 75000:\tLength: 66\tEntropy: 285.880636, Compression: 0.330880\n",
      "Article 76000:\tLength: 85\tEntropy: 395.259554, Compression: 0.415189\n",
      "Article 77000:\tLength: 83\tEntropy: 310.269416, Compression: 0.291607\n",
      "Article 78000:\tLength: 96\tEntropy: 411.674753, Compression: 0.343062\n",
      "Article 79000:\tLength: 103\tEntropy: 347.249613, Compression: 0.259917\n",
      "Article 80000:\tLength: 109\tEntropy: 398.951191, Compression: 0.269562\n",
      "Article 81000:\tLength: 118\tEntropy: 279.916206, Compression: 0.170681\n",
      "Article 82000:\tLength: 134\tEntropy: 484.848534, Compression: 0.264655\n",
      "Article 83000:\tLength: 153\tEntropy: 358.875494, Compression: 0.184607\n",
      "Article 84000:\tLength: 154\tEntropy: 513.597897, Compression: 0.245976\n",
      "Article 85000:\tLength: 180\tEntropy: 315.322809, Compression: 0.134984\n",
      "Article 86000:\tLength: 191\tEntropy: 688.373486, Compression: 0.280282\n",
      "Article 87000:\tLength: 193\tEntropy: 591.938611, Compression: 0.206682\n",
      "Article 88000:\tLength: 236\tEntropy: 929.035807, Compression: 0.296249\n",
      "Article 89000:\tLength: 266\tEntropy: 1121.120486, Compression: 0.331300\n",
      "Article 90000:\tLength: 272\tEntropy: 842.661080, Compression: 0.225552\n",
      "Article 91000:\tLength: 284\tEntropy: 1008.418857, Compression: 0.251100\n",
      "Article 92000:\tLength: 313\tEntropy: 1013.508057, Compression: 0.235919\n",
      "Article 93000:\tLength: 351\tEntropy: 1173.501900, Compression: 0.256896\n",
      "Article 94000:\tLength: 339\tEntropy: 1242.854576, Compression: 0.256788\n",
      "Article 95000:\tLength: 379\tEntropy: 1442.485158, Compression: 0.283062\n",
      "Article 96000:\tLength: 334\tEntropy: 1037.276422, Compression: 0.193522\n",
      "Article 97000:\tLength: 360\tEntropy: 1368.954828, Compression: 0.242722\n",
      "Article 98000:\tLength: 428\tEntropy: 1428.579464, Compression: 0.242626\n",
      "Article 99000:\tLength: 430\tEntropy: 1559.609676, Compression: 0.249617\n",
      "Article 100000:\tLength: 450\tEntropy: 1367.599979, Compression: 0.208476\n",
      "Article 101000:\tLength: 475\tEntropy: 1557.021066, Compression: 0.227103\n",
      "Article 102000:\tLength: 504\tEntropy: 1376.956263, Compression: 0.192098\n",
      "Article 103000:\tLength: 546\tEntropy: 1804.570898, Compression: 0.246796\n",
      "Article 104000:\tLength: 551\tEntropy: 1829.851089, Compression: 0.248082\n",
      "Article 105000:\tLength: 597\tEntropy: 2136.144049, Compression: 0.282260\n",
      "Article 106000:\tLength: 581\tEntropy: 1341.349478, Compression: 0.170742\n",
      "Article 107000:\tLength: 587\tEntropy: 2329.953292, Compression: 0.284975\n",
      "Article 108000:\tLength: 721\tEntropy: 2478.748198, Compression: 0.291755\n",
      "Article 109000:\tLength: 603\tEntropy: 2230.881862, Compression: 0.253049\n",
      "Article 110000:\tLength: 659\tEntropy: 2437.265732, Compression: 0.266310\n",
      "Article 111000:\tLength: 848\tEntropy: 3194.715369, Compression: 0.338998\n",
      "Article 112000:\tLength: 715\tEntropy: 2638.624353, Compression: 0.282871\n",
      "Article 113000:\tLength: 790\tEntropy: 2965.963129, Compression: 0.292848\n",
      "Article 114000:\tLength: 683\tEntropy: 2295.655934, Compression: 0.219051\n",
      "Article 115000:\tLength: 728\tEntropy: 2625.090851, Compression: 0.242167\n",
      "Article 116000:\tLength: 698\tEntropy: 2757.332504, Compression: 0.265741\n",
      "Article 117000:\tLength: 821\tEntropy: 2712.443731, Compression: 0.234478\n",
      "Article 118000:\tLength: 820\tEntropy: 3161.221104, Compression: 0.264848\n",
      "Article 119000:\tLength: 896\tEntropy: 2791.792856, Compression: 0.226607\n"
     ]
    },
    {
     "name": "stdout",
     "output_type": "stream",
     "text": [
      "Article 120000:\tLength: 1098\tEntropy: 2491.864352, Compression: 0.196272\n",
      "Article 121000:\tLength: 986\tEntropy: 3931.361511, Compression: 0.300931\n",
      "Article 122000:\tLength: 992\tEntropy: 3529.465223, Compression: 0.262765\n",
      "Article 123000:\tLength: 1000\tEntropy: 3453.325366, Compression: 0.253921\n",
      "Article 124000:\tLength: 958\tEntropy: 3032.591963, Compression: 0.214287\n",
      "Article 125000:\tLength: 1023\tEntropy: 3712.768558, Compression: 0.255841\n",
      "Article 126000:\tLength: 1078\tEntropy: 4052.444891, Compression: 0.269588\n",
      "Article 127000:\tLength: 1099\tEntropy: 4288.789123, Compression: 0.277484\n",
      "Article 128000:\tLength: 1060\tEntropy: 3854.072015, Compression: 0.242455\n",
      "Article 129000:\tLength: 1188\tEntropy: 3934.100112, Compression: 0.240706\n",
      "Article 130000:\tLength: 1150\tEntropy: 4167.638633, Compression: 0.248547\n",
      "Article 131000:\tLength: 1454\tEntropy: 5379.546020, Compression: 0.312619\n",
      "Article 132000:\tLength: 1360\tEntropy: 5297.139555, Compression: 0.299748\n",
      "Article 133000:\tLength: 1237\tEntropy: 4113.120355, Compression: 0.226693\n",
      "Article 134000:\tLength: 1317\tEntropy: 987.158854, Compression: 0.053302\n",
      "Article 135000:\tLength: 1274\tEntropy: 4445.211501, Compression: 0.233663\n",
      "Article 136000:\tLength: 1326\tEntropy: 5456.830296, Compression: 0.281280\n",
      "Article 137000:\tLength: 1402\tEntropy: 1177.288617, Compression: 0.059555\n",
      "Article 138000:\tLength: 1411\tEntropy: 754.606446, Compression: 0.037670\n",
      "Article 139000:\tLength: 1420\tEntropy: 730.438667, Compression: 0.036103\n",
      "Article 140000:\tLength: 1438\tEntropy: 761.500909, Compression: 0.037461\n",
      "Article 141000:\tLength: 1452\tEntropy: 775.439306, Compression: 0.038012\n",
      "Article 142000:\tLength: 1515\tEntropy: 5620.313366, Compression: 0.274215\n",
      "Article 143000:\tLength: 1449\tEntropy: 1414.129685, Compression: 0.068620\n",
      "Article 144000:\tLength: 1477\tEntropy: 746.897353, Compression: 0.036033\n",
      "Article 145000:\tLength: 1468\tEntropy: 944.432345, Compression: 0.045440\n",
      "Article 146000:\tLength: 1490\tEntropy: 1083.501863, Compression: 0.051852\n",
      "Article 147000:\tLength: 1502\tEntropy: 979.645633, Compression: 0.046685\n",
      "Article 148000:\tLength: 1490\tEntropy: 1074.154928, Compression: 0.050860\n",
      "Article 149000:\tLength: 1511\tEntropy: 1016.481410, Compression: 0.048129\n",
      "Article 150000:\tLength: 1499\tEntropy: 1052.080625, Compression: 0.049664\n",
      "Article 151000:\tLength: 1530\tEntropy: 1240.526236, Compression: 0.058383\n",
      "Article 152000:\tLength: 1519\tEntropy: 1128.094741, Compression: 0.052932\n",
      "Article 153000:\tLength: 1513\tEntropy: 1174.881308, Compression: 0.054963\n",
      "Article 154000:\tLength: 1544\tEntropy: 1124.984205, Compression: 0.052432\n",
      "Article 155000:\tLength: 1565\tEntropy: 6006.444622, Compression: 0.278076\n",
      "Article 156000:\tLength: 1594\tEntropy: 5147.377085, Compression: 0.237688\n",
      "Article 157000:\tLength: 1559\tEntropy: 1276.873596, Compression: 0.058745\n",
      "Article 158000:\tLength: 1570\tEntropy: 1194.558558, Compression: 0.054676\n",
      "Article 159000:\tLength: 1574\tEntropy: 1191.999514, Compression: 0.054280\n",
      "Article 160000:\tLength: 1607\tEntropy: 5798.431697, Compression: 0.263949\n",
      "Article 161000:\tLength: 1572\tEntropy: 5513.342051, Compression: 0.247191\n",
      "Article 162000:\tLength: 1616\tEntropy: 1384.316171, Compression: 0.061800\n",
      "Article 163000:\tLength: 1622\tEntropy: 1369.936773, Compression: 0.060660\n",
      "Article 164000:\tLength: 1633\tEntropy: 1412.831423, Compression: 0.061988\n",
      "Article 165000:\tLength: 1638\tEntropy: 1454.094405, Compression: 0.063178\n",
      "Article 166000:\tLength: 1659\tEntropy: 1506.129096, Compression: 0.064719\n",
      "Article 167000:\tLength: 1683\tEntropy: 1660.545175, Compression: 0.070529\n",
      "Article 168000:\tLength: 1702\tEntropy: 1758.319612, Compression: 0.073780\n",
      "Article 169000:\tLength: 1624\tEntropy: 6096.008842, Compression: 0.251652\n",
      "Article 170000:\tLength: 1819\tEntropy: 8035.404970, Compression: 0.349852\n",
      "Article 171000:\tLength: 1761\tEntropy: 6743.978394, Compression: 0.270625\n",
      "Article 172000:\tLength: 1673\tEntropy: 5598.081394, Compression: 0.221233\n",
      "Article 173000:\tLength: 1846\tEntropy: 6873.445768, Compression: 0.267324\n",
      "Article 174000:\tLength: 1872\tEntropy: 2714.151247, Compression: 0.103975\n",
      "Article 175000:\tLength: 1861\tEntropy: 2321.063757, Compression: 0.087786\n",
      "Article 176000:\tLength: 1813\tEntropy: 6814.351335, Compression: 0.276108\n",
      "Article 177000:\tLength: 2030\tEntropy: 2313.183603, Compression: 0.084944\n",
      "Article 178000:\tLength: 1916\tEntropy: 2382.501790, Compression: 0.085726\n",
      "Article 179000:\tLength: 1994\tEntropy: 2290.330064, Compression: 0.081079\n",
      "Article 180000:\tLength: 2123\tEntropy: 9060.797957, Compression: 0.317433\n",
      "Article 181000:\tLength: 2111\tEntropy: 7421.969019, Compression: 0.255789\n",
      "Article 182000:\tLength: 2178\tEntropy: 8374.901206, Compression: 0.282097\n",
      "Article 183000:\tLength: 2148\tEntropy: 3038.604269, Compression: 0.100776\n",
      "Article 184000:\tLength: 2122\tEntropy: 7110.516142, Compression: 0.231342\n",
      "Article 185000:\tLength: 2276\tEntropy: 3351.503199, Compression: 0.107063\n",
      "Article 186000:\tLength: 2272\tEntropy: 3570.263733, Compression: 0.111935\n",
      "Article 187000:\tLength: 2421\tEntropy: 7594.054927, Compression: 0.234442\n",
      "Article 188000:\tLength: 2274\tEntropy: 7254.337021, Compression: 0.220149\n",
      "Article 189000:\tLength: 2243\tEntropy: 8290.898568, Compression: 0.247401\n",
      "Article 190000:\tLength: 2457\tEntropy: 8166.800165, Compression: 0.239355\n",
      "Article 191000:\tLength: 2441\tEntropy: 4273.254744, Compression: 0.121565\n",
      "Article 192000:\tLength: 2667\tEntropy: 4594.676823, Compression: 0.128573\n",
      "Article 193000:\tLength: 2685\tEntropy: 9671.673591, Compression: 0.264600\n",
      "Article 194000:\tLength: 2696\tEntropy: 9469.872143, Compression: 0.254676\n",
      "Article 195000:\tLength: 2636\tEntropy: 10585.822949, Compression: 0.289167\n",
      "Article 196000:\tLength: 2995\tEntropy: 9771.363019, Compression: 0.250908\n",
      "Article 197000:\tLength: 2663\tEntropy: 10063.514002, Compression: 0.253106\n",
      "Article 198000:\tLength: 2807\tEntropy: 9098.003698, Compression: 0.223297\n",
      "Article 199000:\tLength: 2902\tEntropy: 10284.449587, Compression: 0.247127\n",
      "Article 200000:\tLength: 2934\tEntropy: 11711.548668, Compression: 0.274713\n",
      "Article 201000:\tLength: 3015\tEntropy: 11412.103467, Compression: 0.261697\n",
      "Article 202000:\tLength: 3023\tEntropy: 10512.726702, Compression: 0.236347\n",
      "Article 203000:\tLength: 3148\tEntropy: 11596.173194, Compression: 0.254391\n",
      "Article 204000:\tLength: 3346\tEntropy: 10895.122427, Compression: 0.231851\n",
      "Article 205000:\tLength: 3306\tEntropy: 12349.796874, Compression: 0.256731\n",
      "Article 206000:\tLength: 3324\tEntropy: 11526.360239, Compression: 0.233403\n",
      "Article 207000:\tLength: 3547\tEntropy: 12015.749351, Compression: 0.235899\n",
      "Article 208000:\tLength: 3511\tEntropy: 11624.316064, Compression: 0.222347\n",
      "Article 209000:\tLength: 3543\tEntropy: 13048.970493, Compression: 0.242618\n",
      "Article 210000:\tLength: 3589\tEntropy: 15010.541423, Compression: 0.271733\n",
      "Article 211000:\tLength: 4201\tEntropy: 17559.401426, Compression: 0.309188\n",
      "Article 212000:\tLength: 4266\tEntropy: 13632.308100, Compression: 0.236147\n",
      "Article 213000:\tLength: 4277\tEntropy: 16056.872701, Compression: 0.266548\n",
      "Article 214000:\tLength: 4074\tEntropy: 15128.437760, Compression: 0.252916\n",
      "Article 215000:\tLength: 4368\tEntropy: 18505.359119, Compression: 0.291221\n",
      "Article 216000:\tLength: 4620\tEntropy: 15194.415592, Compression: 0.230666\n",
      "Article 217000:\tLength: 4755\tEntropy: 18344.696759, Compression: 0.271339\n",
      "Article 218000:\tLength: 4638\tEntropy: 14244.416775, Compression: 0.254728\n",
      "Article 219000:\tLength: 5096\tEntropy: 17282.503376, Compression: 0.237528\n",
      "Article 220000:\tLength: 5886\tEntropy: 21834.368023, Compression: 0.290135\n",
      "Article 221000:\tLength: 5183\tEntropy: 19237.572212, Compression: 0.246965\n",
      "Article 222000:\tLength: 5481\tEntropy: 21493.313578, Compression: 0.265822\n",
      "Article 223000:\tLength: 5574\tEntropy: 18830.041004, Compression: 0.223677\n",
      "Article 224000:\tLength: 5692\tEntropy: 19140.286459, Compression: 0.218636\n",
      "Article 225000:\tLength: 7000\tEntropy: 22835.585540, Compression: 0.250963\n",
      "Article 226000:\tLength: 6385\tEntropy: 22598.809086, Compression: 0.238103\n",
      "Article 227000:\tLength: 6825\tEntropy: 22899.083949, Compression: 0.230819\n",
      "Article 228000:\tLength: 7783\tEntropy: 38824.715317, Compression: 0.374409\n",
      "Article 229000:\tLength: 7564\tEntropy: 27899.527402, Compression: 0.260763\n",
      "Article 230000:\tLength: 7839\tEntropy: 28434.309270, Compression: 0.250073\n",
      "Article 231000:\tLength: 8077\tEntropy: 31249.098874, Compression: 0.264608\n"
     ]
    },
    {
     "name": "stdout",
     "output_type": "stream",
     "text": [
      "Article 232000:\tLength: 8970\tEntropy: 33988.554175, Compression: 0.271596\n",
      "Article 233000:\tLength: 9268\tEntropy: 31346.235486, Compression: 0.234221\n",
      "Article 234000:\tLength: 9918\tEntropy: 39327.029597, Compression: 0.275770\n",
      "Article 235000:\tLength: 10708\tEntropy: 39488.790058, Compression: 0.260370\n",
      "Article 236000:\tLength: 11397\tEntropy: 42813.683181, Compression: 0.261531\n",
      "Article 237000:\tLength: 11889\tEntropy: 40279.340887, Compression: 0.226911\n",
      "Article 238000:\tLength: 13270\tEntropy: 52261.628421, Compression: 0.272537\n",
      "Article 239000:\tLength: 13958\tEntropy: 52995.296967, Compression: 0.262686\n",
      "Article 240000:\tLength: 16497\tEntropy: 59139.841095, Compression: 0.249434\n",
      "Article 241000:\tLength: 19803\tEntropy: 71368.795870, Compression: 0.262934\n",
      "Article 242000:\tLength: 22883\tEntropy: 83768.062640, Compression: 0.253584\n",
      "Article 243000:\tLength: 31801\tEntropy: 132891.660840, Compression: 0.287973\n"
     ]
    }
   ],
   "source": [
    "total_raw = 0\n",
    "total_compressed = 0\n",
    "\n",
    "def information_entropy(model, text):\n",
    "    entropy = 0\n",
    "    input_eval = np.array([[text[0]]], dtype=TYPE)\n",
    "\n",
    "    model.predicting_model.reset_states()\n",
    "\n",
    "    for byte in text[1:]:\n",
    "        predictions = model.predict(input_eval)\n",
    "        predictions = tf.squeeze(predictions, 0) # remove the batch dimension\n",
    "\n",
    "        px = predictions[0, byte.item()].numpy()\n",
    "        entropy -= math.log2(px)\n",
    "        \n",
    "        input_eval = tf.expand_dims([byte], 0)\n",
    "        \n",
    "    return entropy\n",
    "\n",
    "huffman = Huffman(encoder.vocab_size)\n",
    "for index, encoded_article in enumerate(articles.articles_generator(1)):\n",
    "    if index % 1000 == 0 and len(encoded_article) != 0:\n",
    "        article = encoder.decode(encoded_article)\n",
    "        #total_raw += len(article) * 8\n",
    "        entropy = information_entropy(model, encoded_article)\n",
    "        print('Article %d:\\tLength: %d\\tEntropy: %f, Compression: %f' % (\n",
    "            index,\n",
    "            len(encoded_article),\n",
    "            entropy, entropy / (len(article) * 8))\n",
    "        )"
   ]
  },
  {
   "cell_type": "code",
   "execution_count": 68,
   "metadata": {},
   "outputs": [],
   "source": [
    "all_articles = list(articles.articles_generator(1))"
   ]
  },
  {
   "cell_type": "code",
   "execution_count": 69,
   "metadata": {},
   "outputs": [
    {
     "name": "stdout",
     "output_type": "stream",
     "text": [
      "=edwards township, minnesota=\n",
      "'''edwards township''' is a township located in [[kandiyohi county, minnesota]].  as of the [[2000]] census, the township had a total population of 304.\n",
      "\n",
      "== geography ==\n",
      "according to the [[united states census bureau]], the township has a total area of 92.6 [[square kilometer|km&sup2;]] (35.7 [[square mile|mi&sup2;]]).  91.6 km&sup2; (35.4 mi&sup2;) of it is land and 1.0 km&sup2; (0.4 mi&sup2;) of it is water.  the total area is 1.04% water.\n",
      "\n",
      "== demographics ==\n",
      "as of the [[census]][[geographic references#2|<sup>2</sup>]] of [[2000]], there are 304 people, 101 households, and 84 families residing in the township.  the [[population density]] is 3.3/km&sup2; (8.6/mi&sup2;).  there are 106 housing units at an average density of 1.2/km&sup2; (3.0/mi&sup2;).  the racial makeup of the township is 97.37% [[white (u.s. census)|white]], 1.64% [[african american (u.s. census)|african american]], 0.33% [[native american (u.s. census)|native american]], 0.00% [[asian (u.s. census)|asian]], 0.33% [[pacific islander (u.s. census)|pacific islander]], 0.33% from [[race (u.s. census)|other races]], and 0.00% from two or more races.  2.30% of the population are [[hispanic (u.s. census)|hispanic]] or [[latino (u.s. census)|latino]] of any race.\n",
      "\n",
      "there are 101 households out of which 36.6% have children under the age of 18 living with them, 78.2% are [[marriage|married couples]] living together, 2.0% have a female householder with no husband present, and 16.8% are non-families. 12.9% of all households are made up of individuals and 6.9% have someone living alone who is 65 years of age or older.  the average household size is 2.98 and the average family size is 3.32.\n",
      "\n",
      "in the township the population is spread out with 29.3% under the age of 18, 9.2% from 18 to 24, 25.3% from 25 to 44, 24.0% from 45 to 64, and 12.2% who are 65 years of age or older.  the median age is 37 years.  for every 100 females there are 109.7 males.  for every 100 females age 18 and over, there are 117.2 males.\n",
      "\n",
      "the median income for a household in the township is $44,063, and the median income for a family is $48,125. males have a median income of $26,719 versus $21,375 for females. the [[per capita income]] for the township is $16,256.  5.7% of the population and 5.5% of families are below the [[poverty line]].  out of the total population, 7.1% of those under the age of 18 and 16.7% of those 65 and older are living below the poverty line.\n",
      "[[category:kandiyohi county, minnesota]]\n",
      "[[category:townships in minnesota]]\n"
     ]
    }
   ],
   "source": [
    "print(encoder.decode(all_articles[140000]))"
   ]
  },
  {
   "cell_type": "code",
   "execution_count": 70,
   "metadata": {},
   "outputs": [
    {
     "name": "stdout",
     "output_type": "stream",
     "text": [
      "=tolna, north dakota=\n",
      "'''tolna''' is a city located in [[nelson county, north dakota]].  as of the [[2000]] census, the city had a total population of 202.\n",
      "\n",
      "== geography ==\n",
      "[[image:ndmap-doton-tolna.png|right|location of tolna, north dakota]]\n",
      "tolna is located at 47°49'36\" north, 98°26'21\" west (47.826639, -98.439236){{gr|1}}.\n",
      "\n",
      "according to the [[united states census bureau]], the city has a total area of 2.0 [[square kilometer|km&sup2;]] (0.8 [[square mile|mi&sup2;]]).  2.0 km&sup2; (0.8 mi&sup2;) of it is land and none of the area is covered with water.\n",
      "\n",
      "== demographics ==\n",
      "as of the [[census]]{{gr|2}} of [[2000]], there are 202 people, 104 households, and 50 families residing in the city.  the [[population density]] is 101.3/km&sup2; (260.8/mi&sup2;).  there are 118 housing units at an average density of 59.2/km&sup2; (152.3/mi&sup2;).  the racial makeup of the city is 99.01% [[white (u.s. census)|white]], 0.00% [[african american (u.s. census)|african american]], 0.50% [[native american (u.s. census)|native american]], 0.00% [[asian (u.s. census)|asian]], 0.00% [[pacific islander (u.s. census)|pacific islander]], 0.00% from [[race (u.s. census)|other races]], and 0.50% from two or more races.  0.00% of the population are [[hispanic (u.s. census)|hispanic]] or [[latino (u.s. census)|latino]] of any race.\n",
      "\n",
      "there are 104 households out of which 22.1% have children under the age of 18 living with them, 41.3% are [[marriage|married couples]] living together, 7.7% have a female householder with no husband present, and 51.0% are non-families. 47.1% of all households are made up of individuals and 35.6% have someone living alone who is 65 years of age or older.  the average household size is 1.94 and the average family size is 2.82.\n",
      "\n",
      "in the city the population is spread out with 20.3% under the age of 18, 4.5% from 18 to 24, 20.8% from 25 to 44, 24.8% from 45 to 64, and 29.7% who are 65 years of age or older.  the median age is 49 years.  for every 100 females there are 64.2 males.  for every 100 females age 18 and over, there are 62.6 males.\n",
      "\n",
      "the median income for a household in the city is $23,000, and the median income for a family is $45,000. males have a median income of $31,250 versus $17,188 for females. the [[per capita income]] for the city is $18,430.  11.3% of the population and 0.0% of families are below the [[poverty line]].  out of the total population, 0.0% of those under the age of 18 and 29.5% of those 65 and older are living below the poverty line.\n",
      "\n",
      "== external links ==\n",
      "{{mapit-us-cityscale|47.826639|-98.439236}}\n",
      "\n",
      "[[category:nelson county, north dakota]]\n",
      "[[category:cities in north dakota]]\n"
     ]
    }
   ],
   "source": [
    "print(encoder.decode(all_articles[150000]))"
   ]
  },
  {
   "cell_type": "code",
   "execution_count": 9,
   "metadata": {},
   "outputs": [
    {
     "name": "stdout",
     "output_type": "stream",
     "text": [
      "Epoch 1/2\n",
      "17559/17559 [==============================] - 13178s 750ms/step - loss: 1.2827 - average_final_batch_ratio: 0.2217\n",
      "Epoch 2/2\n",
      "17559/17559 [==============================] - 13161s 750ms/step - loss: 1.3465 - average_final_batch_ratio: 0.2217\n"
     ]
    }
   ],
   "source": [
    "model.train(384, 128, epochs=2)"
   ]
  },
  {
   "cell_type": "code",
   "execution_count": 12,
   "metadata": {},
   "outputs": [
    {
     "name": "stdout",
     "output_type": "stream",
     "text": [
      "Article 5000:\tLength: 32\tAvg Compression: 0.304688\n",
      "Article 10000:\tLength: 35\tAvg Compression: 0.311567\n",
      "Article 15000:\tLength: 38\tAvg Compression: 0.326190\n",
      "Article 20000:\tLength: 41\tAvg Compression: 0.326199\n",
      "Article 25000:\tLength: 43\tAvg Compression: 0.323413\n",
      "Article 30000:\tLength: 46\tAvg Compression: 0.320745\n",
      "Article 35000:\tLength: 48\tAvg Compression: 0.332597\n",
      "Article 40000:\tLength: 51\tAvg Compression: 0.326347\n",
      "Article 45000:\tLength: 54\tAvg Compression: 0.317010\n",
      "Article 50000:\tLength: 57\tAvg Compression: 0.315169\n",
      "Article 55000:\tLength: 61\tAvg Compression: 0.333992\n",
      "Article 60000:\tLength: 67\tAvg Compression: 0.330716\n",
      "Article 65000:\tLength: 74\tAvg Compression: 0.345054\n",
      "Article 70000:\tLength: 85\tAvg Compression: 0.332992\n",
      "Article 75000:\tLength: 108\tAvg Compression: 0.325893\n",
      "Article 80000:\tLength: 185\tAvg Compression: 0.345366\n",
      "Article 85000:\tLength: 292\tAvg Compression: 0.322893\n",
      "Article 90000:\tLength: 467\tAvg Compression: 0.327985\n",
      "Article 95000:\tLength: 637\tAvg Compression: 0.312216\n",
      "Article 100000:\tLength: 820\tAvg Compression: 0.296128\n",
      "Article 105000:\tLength: 907\tAvg Compression: 0.307317\n",
      "Article 110000:\tLength: 1144\tAvg Compression: 0.293556\n",
      "Article 115000:\tLength: 1332\tAvg Compression: 0.288534\n",
      "Article 120000:\tLength: 1587\tAvg Compression: 0.286993\n",
      "Article 125000:\tLength: 1827\tAvg Compression: 0.293821\n",
      "Article 130000:\tLength: 2055\tAvg Compression: 0.286819\n",
      "Article 135000:\tLength: 2366\tAvg Compression: 0.287935\n",
      "Article 140000:\tLength: 2541\tAvg Compression: 0.292169\n",
      "Article 145000:\tLength: 2606\tAvg Compression: 0.266283\n",
      "Article 150000:\tLength: 2648\tAvg Compression: 0.247281\n",
      "Article 155000:\tLength: 2692\tAvg Compression: 0.232126\n",
      "Article 160000:\tLength: 2761\tAvg Compression: 0.219944\n",
      "Article 165000:\tLength: 2877\tAvg Compression: 0.210747\n",
      "Article 170000:\tLength: 2988\tAvg Compression: 0.220764\n",
      "Article 175000:\tLength: 3297\tAvg Compression: 0.213225\n",
      "Article 180000:\tLength: 3590\tAvg Compression: 0.221706\n",
      "Article 185000:\tLength: 3913\tAvg Compression: 0.215037\n",
      "Article 190000:\tLength: 4305\tAvg Compression: 0.221950\n",
      "Article 195000:\tLength: 4761\tAvg Compression: 0.227139\n",
      "Article 200000:\tLength: 5329\tAvg Compression: 0.234111\n",
      "Article 205000:\tLength: 6034\tAvg Compression: 0.236661\n",
      "Article 210000:\tLength: 6905\tAvg Compression: 0.241662\n",
      "Article 215000:\tLength: 7943\tAvg Compression: 0.248283\n",
      "Article 220000:\tLength: 9407\tAvg Compression: 0.254378\n",
      "Article 225000:\tLength: 11350\tAvg Compression: 0.256568\n",
      "Article 230000:\tLength: 14213\tAvg Compression: 0.258069\n",
      "Article 235000:\tLength: 18958\tAvg Compression: 0.261229\n",
      "Article 240000:\tLength: 29637\tAvg Compression: 0.262761\n"
     ]
    }
   ],
   "source": [
    "total_raw = 0\n",
    "total_compressed = 0\n",
    "\n",
    "huffman = Huffman(encoder.vocab_size)\n",
    "for index, encoded_article in enumerate(articles.articles_generator(1)):\n",
    "    if index % 5000 == 0 and len(encoded_article) != 0:\n",
    "        article = encoder.decode(encoded_article)\n",
    "        total_raw += len(article) * 8\n",
    "        total_compressed += huffman.archive_size(model, encoded_article)\n",
    "        print('Article %d:\\tLength: %d\\tAvg Compression: %f' % (index, len(article), total_compressed/total_raw))"
   ]
  },
  {
   "cell_type": "code",
   "execution_count": null,
   "metadata": {},
   "outputs": [
    {
     "name": "stdout",
     "output_type": "stream",
     "text": [
      "Epoch 1/3\n",
      "   8516/Unknown - 6415s 753ms/step - loss: 1.5556 - average_final_batch_ratio: 0.2882"
     ]
    }
   ],
   "source": [
    "model.train(384, 128, epochs=3)"
   ]
  },
  {
   "cell_type": "code",
   "execution_count": 9,
   "metadata": {},
   "outputs": [],
   "source": [
    "# model = Model(articles, './training_checkpoints-33-bak', vocab_size = encoder.vocab_size, embedding_dim=128, rnn_units=1280)"
   ]
  },
  {
   "cell_type": "code",
   "execution_count": 68,
   "metadata": {},
   "outputs": [
    {
     "name": "stdout",
     "output_type": "stream",
     "text": [
      "\n",
      "'''bulgary''' was a top 10 householder to [[bulgarian law]], [[burlington county]], [[newbury town harbo]], was a [[colonial assoriat]] in the country of the town of afghan counties. \n",
      "== geogrances==\n",
      "\n",
      "=== torment ====\n",
      "\n",
      "[[image:buffalabu_county_f.png|1550]]n flag, burlinga, tombus, colombus and burungbullton, counties - centralia, near gallear\n",
      "|buffalo=\n",
      "\n",
      "|\n",
      "*columbus\n",
      "*coastal burgundy, \n",
      "*[[buffalo burcos, bufburg]],--\n",
      "*[[borlaug bufbure, bufburebus]],\n",
      "\n",
      "==see album and colling====\n",
      "\n",
      "==seal=====\n",
      "\n",
      "==== second country=====   \n",
      "\n",
      "==see around====\n",
      "*[[arnold school]]\n",
      "\n",
      "\n",
      "[[no:alasse arnold]] --\n",
      "\n",
      "[[casey-flag]]\n",
      "[[den:sardinia]]''\n",
      "\n",
      "[[note:alberto salmo]]X\n",
      "[[delXrXruX salmon]]X\n",
      "\n",
      "==de====X\n",
      "\n",
      "==see arousal art====  \n",
      "\n",
      "==season====\n",
      "===arms of salzho==\n",
      "===artisan sand==\n",
      "===artisan arms and arms= armed forces==\n",
      "\n",
      "\n",
      "\n",
      "==see article on article in the same==\n",
      "\n",
      "==seas\n"
     ]
    }
   ],
   "source": [
    "text = encoder.encode('=Bulgaria=')\n",
    "\n",
    "model.predicting_model.reset_states()\n",
    "\n",
    "for byte in text:\n",
    "    input_eval = np.array([byte], dtype=TYPE)\n",
    "    predictions = model.predict(input_eval)\n",
    "\n",
    "invented_text = []\n",
    "    \n",
    "for i in range(500):\n",
    "    n_most_likely = predictions[0, 0, 1:].numpy().argpartition(-2)[-2:]\n",
    "    next_input = n_most_likely[np.random.choice(len(n_most_likely))] + 1\n",
    "    invented_text.append(next_input)\n",
    "    input_eval = np.array([next_input], dtype=TYPE)\n",
    "    predictions = model.predict(input_eval)\n",
    "\n",
    "print(encoder.decode(invented_text))"
   ]
  },
  {
   "cell_type": "code",
   "execution_count": 22,
   "metadata": {},
   "outputs": [
    {
     "name": "stdout",
     "output_type": "stream",
     "text": [
      "the [[complicity]]-cursive communicy computated, [[alberry]] and [[albert gottfree]], was bothy in the satelite, as the ''goal'', and the governer was a govern-born-[[alberta]], and then golden home, [[san jana]] annotation commissioners had been used to describe a sentance for the senate, and also hosts a goodinghol [[saltire governang]].\n",
      "althre sailors was bought [[johnny bertha]] ([[1955]]-), and he receptorde hosted their owner of the ''[[hote and the goodwin committed took]]''.]]\n",
      "==see al seeming as militias\n",
      " military secretaries\n",
      "==\n",
      "\n",
      "== reliabing, journeys==== ==   \n",
      "\n",
      "\n",
      "[[californ]]\n",
      "\n",
      "==see links\n",
      "==\n",
      "[[catilina]]n mississites - januari jansen, \n",
      "\n",
      "[[jangle jang]]X \n",
      "[[bXlinger]]--  \n",
      "X \n",
      "==see====\n",
      "\n",
      "\n",
      "\n",
      "==evening compan=====X ==X========\n",
      "* X \n",
      "== recordes of java -==X==X\n",
      "\n",
      "[[ivan X X]]\n",
      "====\n",
      "[[johanan krajXr]]\n",
      "*[[karXn kXk]]-[[karl majerka]] \n",
      "* [[kief jasmi]]-- [[jasper karassen]],[[kase\n"
     ]
    }
   ],
   "source": [
    "text = encoder.encode('=Algorithm=\\n\\n')\n",
    "\n",
    "model.predicting_model.reset_states()\n",
    "\n",
    "for byte in text:\n",
    "    input_eval = np.array([byte], dtype=TYPE)\n",
    "    predictions = model.predict(input_eval)\n",
    "\n",
    "invented_text = []\n",
    "    \n",
    "for i in range(500):\n",
    "    n_most_likely = predictions[0, 0, 1:].numpy().argpartition(-3)[-3:]\n",
    "    next_input = n_most_likely[np.random.choice(len(n_most_likely))] + 1\n",
    "    invented_text.append(next_input)\n",
    "    input_eval = np.array([next_input], dtype=TYPE)\n",
    "    predictions = model.predict(input_eval)\n",
    "\n",
    "print(encoder.decode(invented_text))"
   ]
  },
  {
   "cell_type": "markdown",
   "metadata": {},
   "source": [
    "# Да разгледаме теглата..."
   ]
  },
  {
   "cell_type": "code",
   "execution_count": 102,
   "metadata": {},
   "outputs": [],
   "source": [
    "lstm_l1_weights = model.predicting_model.layers[2].get_weights()"
   ]
  },
  {
   "cell_type": "code",
   "execution_count": 103,
   "metadata": {},
   "outputs": [
    {
     "data": {
      "text/plain": [
       "[array([[-0.61658853,  0.72975755,  0.363116  , ...,  0.46146446,\n",
       "         -0.00500786,  0.20841216],\n",
       "        [-2.0802612 , -0.45534134, -0.14056244, ..., -0.1520076 ,\n",
       "         -0.03815596, -0.06033798],\n",
       "        [-0.7232709 ,  0.12799269,  0.29358754, ...,  0.38677433,\n",
       "          0.1140569 ,  0.24109332],\n",
       "        ...,\n",
       "        [ 0.9210486 ,  1.4241589 ,  0.70109105, ..., -0.25931033,\n",
       "         -0.5647637 ,  0.10577806],\n",
       "        [ 0.4608515 ,  1.135202  ,  0.10113834, ...,  0.06886105,\n",
       "          0.17153329,  0.10013011],\n",
       "        [ 0.16450453,  0.806323  , -0.1509538 , ...,  0.0799404 ,\n",
       "          0.41117057,  0.15320009]], dtype=float32),\n",
       " array([[-0.45253637,  0.23760839,  0.23545772, ...,  0.03210517,\n",
       "         -0.06506519, -0.15830076],\n",
       "        [ 0.2635509 , -0.6590375 ,  0.14170237, ...,  0.37725943,\n",
       "         -0.34514773, -0.25454462],\n",
       "        [ 0.10801347,  0.47912854,  0.19710395, ...,  0.18079929,\n",
       "         -0.37778682, -0.31715223],\n",
       "        ...,\n",
       "        [-0.3422092 , -0.4405797 ,  0.06563472, ..., -0.28824836,\n",
       "         -0.63411856, -0.33216906],\n",
       "        [ 0.03194223, -0.39408457, -0.23400748, ..., -0.46040753,\n",
       "         -0.6180195 ,  0.05458054],\n",
       "        [ 0.34889692,  0.39682406,  0.21969987, ..., -0.32649037,\n",
       "         -0.13118944, -0.12467103]], dtype=float32),\n",
       " array([[-0.8478317 , -0.6413733 , -4.3715167 , ...,  0.04439368,\n",
       "          0.45524827,  0.7573433 ],\n",
       "        [-0.8478317 , -0.6413733 , -4.3715167 , ..., -0.07022808,\n",
       "          0.9180858 ,  0.8043436 ]], dtype=float32)]"
      ]
     },
     "execution_count": 103,
     "metadata": {},
     "output_type": "execute_result"
    }
   ],
   "source": [
    "lstm_l1_weights"
   ]
  },
  {
   "cell_type": "code",
   "execution_count": 104,
   "metadata": {},
   "outputs": [
    {
     "data": {
      "text/plain": [
       "((128, 3840), (1280, 3840), (2, 3840))"
      ]
     },
     "execution_count": 104,
     "metadata": {},
     "output_type": "execute_result"
    }
   ],
   "source": [
    "lstm_l1_weights[0].shape, lstm_l1_weights[1].shape, lstm_l1_weights[2].shape"
   ]
  },
  {
   "cell_type": "code",
   "execution_count": 106,
   "metadata": {},
   "outputs": [
    {
     "data": {
      "image/png": "[encoded data removed]",
      "text/plain": [
       "<Figure size 1080x288 with 1 Axes>"
      ]
     },
     "metadata": {
      "needs_background": "light"
     },
     "output_type": "display_data"
    }
   ],
   "source": [
    "import matplotlib.pyplot as plt\n",
    "\n",
    "plt.figure(figsize=(15, 4))\n",
    "plt.hist(lstm_l1_weights[0].reshape([-1]), bins=3000, density=True);\n",
    "# plt.yscale('symlog', linthreshy=0.01)\n",
    "plt.show();"
   ]
  },
  {
   "cell_type": "code",
   "execution_count": 114,
   "metadata": {},
   "outputs": [
    {
     "data": {
      "image/png": "[encoded data removed]",
      "text/plain": [
       "<Figure size 1080x288 with 1 Axes>"
      ]
     },
     "metadata": {
      "needs_background": "light"
     },
     "output_type": "display_data"
    }
   ],
   "source": [
    "from scipy.stats import norm\n",
    "\n",
    "sorted_weights = sorted(lstm_l1_weights[0].reshape([-1]))\n",
    "sorted_weights = [w for w in sorted_weights if -3 < w < 3]\n",
    "mu, sigma = norm.fit(sorted_weights, loc=0)\n",
    "\n",
    "plt.figure(figsize=(15, 4))\n",
    "x = np.linspace(mu - 3*sigma, mu + 3*sigma, 100)\n",
    "plt.hist(sorted_weights, bins=3000, density=True);\n",
    "plt.plot(x, norm.pdf(x, mu, sigma))\n",
    "plt.show();"
   ]
  },
  {
   "cell_type": "code",
   "execution_count": 123,
   "metadata": {},
   "outputs": [
    {
     "name": "stdout",
     "output_type": "stream",
     "text": [
      "(4.388757432176327, -0.018675635798551964, 0.45673142374327336)\n"
     ]
    },
    {
     "data": {
      "image/png": "[encoded data removed]",
      "text/plain": [
       "<Figure size 1080x288 with 1 Axes>"
      ]
     },
     "metadata": {
      "needs_background": "light"
     },
     "output_type": "display_data"
    }
   ],
   "source": [
    "from scipy.stats import t\n",
    "\n",
    "sorted_weights = sorted(lstm_l1_weights[0].reshape([-1]))\n",
    "sorted_weights = [w for w in sorted_weights if -3 < w < 3]\n",
    "params = t.fit(sorted_weights)\n",
    "print(params)\n",
    "\n",
    "plt.figure(figsize=(15, 4))\n",
    "x = np.linspace(-3, 3, 100)\n",
    "plt.hist(sorted_weights, bins=3000, density=True);\n",
    "plt.plot(x, t.pdf(x, 4.388757432176327, -0.018675635798551964, 0.45673142374327336))\n",
    "plt.show();"
   ]
  },
  {
   "cell_type": "code",
   "execution_count": 139,
   "metadata": {},
   "outputs": [],
   "source": [
    "from scipy.stats import t\n",
    "\n",
    "def plot(matrix):\n",
    "    weights = matrix.reshape([-1])\n",
    "    params = t.fit(weights)\n",
    "\n",
    "    plt.figure(figsize=(15, 4))\n",
    "    xs = np.linspace(-3, 3, 1000)\n",
    "    plt.hist(weights, bins=3000, density=True);\n",
    "    plt.plot(xs, t.pdf(xs, *params))\n",
    "    plt.show();"
   ]
  },
  {
   "cell_type": "code",
   "execution_count": 140,
   "metadata": {},
   "outputs": [
    {
     "data": {
      "image/png": "[encoded data removed]",
      "text/plain": [
       "<Figure size 1080x288 with 1 Axes>"
      ]
     },
     "metadata": {
      "needs_background": "light"
     },
     "output_type": "display_data"
    }
   ],
   "source": [
    "plot(lstm_l2_weights[1])"
   ]
  },
  {
   "cell_type": "code",
   "execution_count": 141,
   "metadata": {},
   "outputs": [
    {
     "data": {
      "image/png": "[encoded data removed]",
      "text/plain": [
       "<Figure size 1080x288 with 1 Axes>"
      ]
     },
     "metadata": {
      "needs_background": "light"
     },
     "output_type": "display_data"
    }
   ],
   "source": [
    "plot(lstm_l1_weights[2])"
   ]
  },
  {
   "cell_type": "code",
   "execution_count": 49,
   "metadata": {},
   "outputs": [
    {
     "data": {
      "text/plain": [
       "[array([[-0.3283589 ,  0.09046551, -0.24412811, ..., -0.62480205,\n",
       "         -0.27279717,  0.24514264],\n",
       "        [ 0.06914138, -0.4823437 , -0.07496433, ..., -0.726358  ,\n",
       "         -0.5257265 , -0.04378921],\n",
       "        [-0.43972406, -0.31468207, -0.2820234 , ..., -0.40510908,\n",
       "          0.09514338, -0.16105802],\n",
       "        ...,\n",
       "        [ 0.21945599,  0.39580676,  0.0308653 , ..., -0.32669985,\n",
       "          0.24164397,  0.6604672 ],\n",
       "        [ 0.16356482,  0.09557074,  0.13882168, ...,  0.27080232,\n",
       "         -0.11237041,  0.4247634 ],\n",
       "        [-0.15497734,  0.04157725, -0.06504079, ..., -0.04206531,\n",
       "          0.09326441,  0.00332919]], dtype=float32),\n",
       " array([[-0.20036785,  0.38682827,  0.03189284, ..., -0.0163867 ,\n",
       "          0.06271102, -0.28188768],\n",
       "        [-0.01363384,  0.02853655, -0.00309315, ...,  0.14795877,\n",
       "          0.10837564,  0.20546535],\n",
       "        [ 0.06886893, -0.14185628, -0.04384421, ..., -0.08090531,\n",
       "          0.09476643, -0.09233623],\n",
       "        ...,\n",
       "        [-0.05540706, -0.09691774,  0.06612607, ...,  0.81041145,\n",
       "         -0.16194467,  0.12491092],\n",
       "        [-0.01483321, -0.01232267,  0.06852145, ..., -0.22245145,\n",
       "          0.7717607 , -0.32381907],\n",
       "        [ 0.0177982 , -0.20317745,  0.01734623, ...,  0.226421  ,\n",
       "         -0.32020295,  1.342728  ]], dtype=float32),\n",
       " array([[ 0.3958882 ,  0.36717066,  0.28309736, ...,  0.38977715,\n",
       "         -0.09471346,  0.11514916],\n",
       "        [ 0.3958882 ,  0.36717066,  0.28309736, ...,  0.5493155 ,\n",
       "         -1.0801878 , -0.25358853]], dtype=float32)]"
      ]
     },
     "execution_count": 49,
     "metadata": {},
     "output_type": "execute_result"
    }
   ],
   "source": [
    "lstm_l2_weights = model.predicting_model.layers[3].get_weights()\n",
    "lstm_l2_weights"
   ]
  },
  {
   "cell_type": "code",
   "execution_count": 52,
   "metadata": {},
   "outputs": [
    {
     "data": {
      "image/png": "[encoded data removed]",
      "text/plain": [
       "<Figure size 1080x288 with 1 Axes>"
      ]
     },
     "metadata": {
      "needs_background": "light"
     },
     "output_type": "display_data"
    }
   ],
   "source": [
    "import matplotlib.pyplot as plt\n",
    "\n",
    "plt.figure(figsize=(15, 4))\n",
    "plt.hist(lstm_l2_weights[0].reshape([-1]), bins=3000);"
   ]
  },
  {
   "cell_type": "code",
   "execution_count": 142,
   "metadata": {},
   "outputs": [
    {
     "data": {
      "image/png": "[encoded data removed]",
      "text/plain": [
       "<Figure size 1080x288 with 1 Axes>"
      ]
     },
     "metadata": {
      "needs_background": "light"
     },
     "output_type": "display_data"
    }
   ],
   "source": [
    "l1_weights = model.predicting_model.layers[1].get_weights()[0]\n",
    "\n",
    "plot(l1_weights);"
   ]
  },
  {
   "cell_type": "code",
   "execution_count": 143,
   "metadata": {},
   "outputs": [
    {
     "data": {
      "image/png": "[encoded data removed]",
      "text/plain": [
       "<Figure size 1080x288 with 1 Axes>"
      ]
     },
     "metadata": {
      "needs_background": "light"
     },
     "output_type": "display_data"
    }
   ],
   "source": [
    "l4_weights = model.predicting_model.layers[4].get_weights()[0]\n",
    "\n",
    "plot(l4_weights);"
   ]
  },
  {
   "cell_type": "code",
   "execution_count": 148,
   "metadata": {},
   "outputs": [
    {
     "data": {
      "text/plain": [
       "4761793"
      ]
     },
     "execution_count": 148,
     "metadata": {},
     "output_type": "execute_result"
    }
   ],
   "source": [
    "len(set(lstm_l1_weights[1].reshape([-1])))"
   ]
  },
  {
   "cell_type": "markdown",
   "metadata": {},
   "source": [
    "## Теглата имат конкретно разпределение. Вероятно могат да бъдат ентропийно кодирани..."
   ]
  }
 ],
 "metadata": {
  "kernelspec": {
   "display_name": "Python 3",
   "language": "python",
   "name": "python3"
  },
  "language_info": {
   "codemirror_mode": {
    "name": "ipython",
    "version": 3
   },
   "file_extension": ".py",
   "mimetype": "text/x-python",
   "name": "python",
   "nbconvert_exporter": "python",
   "pygments_lexer": "ipython3",
   "version": "3.7.5"
  }
 },
 "nbformat": 4,
 "nbformat_minor": 4
}
