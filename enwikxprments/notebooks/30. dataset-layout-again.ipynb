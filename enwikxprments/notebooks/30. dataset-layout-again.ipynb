{
 "cells": [
  {
   "cell_type": "code",
   "execution_count": 1,
   "metadata": {},
   "outputs": [],
   "source": [
    "import itertools\n",
    "import os\n",
    "\n",
    "import numpy as np\n",
    "import tensorflow as tf\n",
    "import tensorflow_datasets as tfds\n",
    "\n",
    "physical_devices = tf.config.list_physical_devices('GPU')\n",
    "for physical_device in physical_devices:\n",
    "    tf.config.experimental.set_memory_growth(physical_device, enable=True)"
   ]
  },
  {
   "cell_type": "code",
   "execution_count": 2,
   "metadata": {},
   "outputs": [],
   "source": [
    "TYPE=np.int16\n",
    "\n",
    "subword_text_encoder = tfds.features.text.SubwordTextEncoder.load_from_file('vocab_4096')\n",
    "\n",
    "class Articles:\n",
    "    EMPTY_ARTICLE = np.array([], dtype=TYPE) # used for padding\n",
    "    \n",
    "    def __init__(self, path):\n",
    "        with open(path, 'rb') as text_file:\n",
    "            data = text_file.read()\n",
    "\n",
    "        articles = set(data.split(b'\\0'))\n",
    "        articles = [np.array(subword_text_encoder.encode(article), dtype=TYPE) for article in articles]\n",
    "        self.articles = sorted(articles, key=len)\n",
    "\n",
    "    def articles_generator(self, batch_size = 1, start = 0, end = None):\n",
    "        end = end or len(self.articles)\n",
    "\n",
    "        for _ in range(batch_size - ((end - start - 1) % batch_size + 1)):\n",
    "            yield self.EMPTY_ARTICLE\n",
    "\n",
    "        for article in itertools.islice(self.articles, start, end):\n",
    "            yield article\n",
    "\n",
    "    def subbatch_generator(self, batch_size, batch_length, start = 0, end = None):\n",
    "        end = end or len(self.articles)\n",
    "\n",
    "        dataset = tf.data.Dataset.from_generator(self.articles_generator, args=(batch_size, start, end), output_types=TYPE)\n",
    "        dataset = dataset.padded_batch(batch_size, padded_shapes=([None]), drop_remainder=True)\n",
    "        dataset = dataset.shuffle(100)\n",
    "\n",
    "        for batch in dataset.as_numpy_iterator():\n",
    "            remaining = batch\n",
    "            while remaining.shape[1] > batch_length + 1:\n",
    "                yield remaining[:, :batch_length + 1]\n",
    "                remaining = remaining[:, batch_length:]\n",
    "\n",
    "            yield remaining\n",
    "            if remaining.shape[1] == batch_length + 1:\n",
    "                yield np.zeros((batch_size, 2), dtype=TYPE)\n",
    "\n",
    "    def dataset(self, batch_size, batch_length, start = 0, end = None):\n",
    "        end = end or len(self.articles)\n",
    "\n",
    "        dataset = tf.data.Dataset.from_generator(self.subbatch_generator, args=(batch_size, batch_length, start, end), output_types=TYPE, output_shapes=(batch_size, None))\n",
    "        return dataset.map(lambda batch: (batch[:, :-1], batch[:, 1:]))"
   ]
  },
  {
   "cell_type": "code",
   "execution_count": 3,
   "metadata": {},
   "outputs": [],
   "source": [
    "articles = Articles('page_revisions_text')"
   ]
  },
  {
   "cell_type": "code",
   "execution_count": 4,
   "metadata": {},
   "outputs": [],
   "source": [
    "import math\n",
    "\n",
    "def batch_count(articles, batch_size, batched_item_length):\n",
    "    return sum(math.ceil(len(x) / batched_item_length) for i, x in enumerate(articles.articles_generator(batch_size, batched_item_length)) if (i + 1) % batch_size == 0)"
   ]
  },
  {
   "cell_type": "code",
   "execution_count": 5,
   "metadata": {},
   "outputs": [
    {
     "data": {
      "text/plain": [
       "31302"
      ]
     },
     "execution_count": 5,
     "metadata": {},
     "output_type": "execute_result"
    }
   ],
   "source": [
    "batch_count(articles, 4096, 12)"
   ]
  },
  {
   "cell_type": "code",
   "execution_count": 6,
   "metadata": {},
   "outputs": [
    {
     "name": "stdout",
     "output_type": "stream",
     "text": [
      "batch size:      6\t batch item length: 8192\tsteps per epoch:  36599\n",
      "batch size:     12\t batch item length: 4096\tsteps per epoch:  20420\n",
      "batch size:     24\t batch item length: 2048\tsteps per epoch:  12715\n",
      "batch size:     48\t batch item length: 1024\tsteps per epoch:   9349\n",
      "batch size:     96\t batch item length:  512\tsteps per epoch:   8214\n",
      "batch size:    192\t batch item length:  256\tsteps per epoch:   8075\n",
      "batch size:    384\t batch item length:  128\tsteps per epoch:   8856\n",
      "batch size:    768\t batch item length:   64\tsteps per epoch:  11003\n",
      "batch size:   1536\t batch item length:   32\tsteps per epoch:  15605\n",
      "batch size:   3072\t batch item length:   16\tsteps per epoch:  24999\n",
      "batch size:   6144\t batch item length:    8\tsteps per epoch:  43949\n",
      "batch size:  12288\t batch item length:    4\tsteps per epoch:  82067\n"
     ]
    }
   ],
   "source": [
    "steps = 12\n",
    "\n",
    "for i in range(steps):\n",
    "    batch_size = 6 * 2**i\n",
    "    batch_item_length = 4 * 2**(steps - i - 1)\n",
    "    count = batch_count(articles, batch_size, batch_item_length)\n",
    "    print(\"batch size: %6d\\t batch item length: %4d\\tsteps per epoch: %6d\" % (batch_size, batch_item_length, count))"
   ]
  },
  {
   "cell_type": "code",
   "execution_count": 15,
   "metadata": {},
   "outputs": [],
   "source": [
    "BATCH_SIZE = 1536\n",
    "BATCHED_ITEM_LENGTH = 32\n",
    "\n",
    "def build_model(vocab_size, embedding_dim, rnn_units):\n",
    "    return tf.keras.Sequential([\n",
    "        tf.keras.layers.Masking(mask_value=0, batch_input_shape=[BATCH_SIZE, None]),\n",
    "        tf.keras.layers.Embedding(vocab_size, embedding_dim),\n",
    "        tf.keras.layers.GRU(rnn_units, return_sequences=True, stateful=True, recurrent_initializer='glorot_uniform'),\n",
    "        tf.keras.layers.GRU(rnn_units, return_sequences=True, stateful=True, recurrent_initializer='glorot_uniform'),\n",
    "        tf.keras.layers.Dense(vocab_size),\n",
    "    ])\n",
    "\n",
    "checkpoint_dir = './training_checkpoints-4' # Directory where the checkpoints will be saved\n",
    "checkpoint_prefix = os.path.join(checkpoint_dir, \"ckpt_{epoch}\") # Name of the checkpoint files\n",
    "\n",
    "checkpoint_callback = tf.keras.callbacks.ModelCheckpoint(filepath=checkpoint_prefix, save_weights_only=True)\n",
    "\n",
    "class ModelStateResetter(tf.keras.callbacks.Callback):\n",
    "    def __init__(self):\n",
    "        self.last_total_length = 0\n",
    "\n",
    "    def on_batch_end(self, batch, logs={}):\n",
    "        average_batch_length = logs.get('average_batch_length', 0)\n",
    "        total_length = int(round(average_batch_length * (batch + 1)))\n",
    "        current_batch_length = total_length - self.last_total_length\n",
    "        self.last_total_length = total_length\n",
    "        \n",
    "        if current_batch_length < BATCHED_ITEM_LENGTH:\n",
    "            self.model.reset_states()\n",
    "        \n",
    "model_state_resetter_callback = ModelStateResetter()\n",
    "\n",
    "def loss(labels, logits):\n",
    "    return tf.keras.losses.sparse_categorical_crossentropy(labels, logits, from_logits=True)\n",
    "\n",
    "def average_batch_length(true_labels, predictions):\n",
    "    return tf.shape(true_labels)[1]"
   ]
  },
  {
   "cell_type": "code",
   "execution_count": 16,
   "metadata": {},
   "outputs": [
    {
     "name": "stdout",
     "output_type": "stream",
     "text": [
      "Model: \"sequential_3\"\n",
      "_________________________________________________________________\n",
      "Layer (type)                 Output Shape              Param #   \n",
      "=================================================================\n",
      "masking_3 (Masking)          (1536, None)              0         \n",
      "_________________________________________________________________\n",
      "embedding_3 (Embedding)      (1536, None, 128)         518144    \n",
      "_________________________________________________________________\n",
      "gru_11 (GRU)                 (1536, None, 1024)        3545088   \n",
      "_________________________________________________________________\n",
      "gru_12 (GRU)                 (1536, None, 1024)        6297600   \n",
      "_________________________________________________________________\n",
      "dense_3 (Dense)              (1536, None, 4048)        4149200   \n",
      "=================================================================\n",
      "Total params: 14,510,032\n",
      "Trainable params: 14,510,032\n",
      "Non-trainable params: 0\n",
      "_________________________________________________________________\n"
     ]
    }
   ],
   "source": [
    "model = build_model(vocab_size = subword_text_encoder.vocab_size, embedding_dim=128, rnn_units=1024)\n",
    "# model.load_weights(tf.train.latest_checkpoint(checkpoint_dir))\n",
    "model.compile(optimizer='adam', loss=loss, metrics=[average_batch_length])\n",
    "model.summary()"
   ]
  },
  {
   "cell_type": "code",
   "execution_count": 17,
   "metadata": {},
   "outputs": [
    {
     "name": "stdout",
     "output_type": "stream",
     "text": [
      "Epoch 1/5\n",
      "15605/15605 [==============================] - 10739s 688ms/step - loss: 1.3936 - average_batch_length: 31.8435\n",
      "Epoch 2/5\n",
      "15605/15605 [==============================] - 10786s 691ms/step - loss: 1.1312 - average_batch_length: 31.8435\n",
      "Epoch 3/5\n",
      "15605/15605 [==============================] - 10712s 686ms/step - loss: 1.0768 - average_batch_length: 31.8435\n",
      "Epoch 4/5\n",
      "15605/15605 [==============================] - 10645s 682ms/step - loss: 1.0443 - average_batch_length: 31.8435\n",
      "Epoch 5/5\n",
      "15605/15605 [==============================] - 10662s 683ms/step - loss: 1.0300 - average_batch_length: 31.8435\n"
     ]
    },
    {
     "data": {
      "text/plain": [
       "<tensorflow.python.keras.callbacks.History at 0x2f679710448>"
      ]
     },
     "execution_count": 17,
     "metadata": {},
     "output_type": "execute_result"
    }
   ],
   "source": [
    "model.fit(articles.dataset(BATCH_SIZE, BATCHED_ITEM_LENGTH), epochs=5, callbacks=[checkpoint_callback, model_state_resetter_callback])"
   ]
  },
  {
   "cell_type": "code",
   "execution_count": 18,
   "metadata": {},
   "outputs": [
    {
     "name": "stdout",
     "output_type": "stream",
     "text": [
      "Epoch 1/5\n",
      "15605/15605 [==============================] - 10975s 703ms/step - loss: 1.0175 - average_batch_length: 31.8435\n",
      "Epoch 2/5\n",
      "15605/15605 [==============================] - 10979s 704ms/step - loss: 1.0041 - average_batch_length: 31.8435\n",
      "Epoch 3/5\n",
      "15605/15605 [==============================] - 10794s 692ms/step - loss: 0.9982 - average_batch_length: 31.8435\n",
      "Epoch 4/5\n",
      "15605/15605 [==============================] - 10678s 684ms/step - loss: 0.9990 - average_batch_length: 31.8435\n",
      "Epoch 5/5\n",
      "15605/15605 [==============================] - 10755s 689ms/step - loss: 0.9961 - average_batch_length: 31.8435\n"
     ]
    },
    {
     "data": {
      "text/plain": [
       "<tensorflow.python.keras.callbacks.History at 0x2f7f58bfcc8>"
      ]
     },
     "execution_count": 18,
     "metadata": {},
     "output_type": "execute_result"
    }
   ],
   "source": [
    "model.fit(articles.dataset(BATCH_SIZE, BATCHED_ITEM_LENGTH), epochs=5, callbacks=[checkpoint_callback, model_state_resetter_callback])"
   ]
  },
  {
   "cell_type": "code",
   "execution_count": 19,
   "metadata": {},
   "outputs": [
    {
     "name": "stdout",
     "output_type": "stream",
     "text": [
      "15605/15605 [==============================] - 10784s 691ms/step - loss: 0.9839 - average_batch_length: 31.8435\n"
     ]
    },
    {
     "data": {
      "text/plain": [
       "<tensorflow.python.keras.callbacks.History at 0x2f7f6c87f48>"
      ]
     },
     "execution_count": 19,
     "metadata": {},
     "output_type": "execute_result"
    }
   ],
   "source": [
    "model.fit(articles.dataset(BATCH_SIZE, BATCHED_ITEM_LENGTH), callbacks=[checkpoint_callback, model_state_resetter_callback])"
   ]
  },
  {
   "cell_type": "code",
   "execution_count": 20,
   "metadata": {},
   "outputs": [
    {
     "name": "stdout",
     "output_type": "stream",
     "text": [
      "15605/15605 [==============================] - 10914s 699ms/step - loss: 0.9817 - average_batch_length: 31.8435\n"
     ]
    },
    {
     "data": {
      "text/plain": [
       "<tensorflow.python.keras.callbacks.History at 0x2f7f58bf888>"
      ]
     },
     "execution_count": 20,
     "metadata": {},
     "output_type": "execute_result"
    }
   ],
   "source": [
    "model.fit(articles.dataset(BATCH_SIZE, BATCHED_ITEM_LENGTH), callbacks=[checkpoint_callback, model_state_resetter_callback])"
   ]
  },
  {
   "cell_type": "markdown",
   "metadata": {},
   "source": [
    "До тук добре. Числото изглежда много подобно на това, което сме виждали в предишни тетрадки с различен код, но при идентични параметри.\n",
    "\n",
    "Да видим до каква компресия ще доведе този `loss`."
   ]
  },
  {
   "cell_type": "code",
   "execution_count": 21,
   "metadata": {},
   "outputs": [],
   "source": [
    "def build_predicting_model(vocab_size, embedding_dim, rnn_units):\n",
    "    return tf.keras.Sequential([\n",
    "        tf.keras.layers.Masking(mask_value=0, batch_input_shape=[1, 1]),\n",
    "        tf.keras.layers.Embedding(vocab_size, embedding_dim),\n",
    "        tf.keras.layers.GRU(rnn_units, stateful=True, return_sequences=True),\n",
    "        tf.keras.layers.GRU(rnn_units, stateful=True, return_sequences=True),\n",
    "        tf.keras.layers.Dense(vocab_size),\n",
    "    ])\n",
    "\n",
    "model = build_predicting_model(vocab_size = subword_text_encoder.vocab_size, embedding_dim=128, rnn_units=1024)\n",
    "model.load_weights(tf.train.latest_checkpoint(checkpoint_dir))\n",
    "model.build(tf.TensorShape([1, 1]))"
   ]
  },
  {
   "cell_type": "code",
   "execution_count": 22,
   "metadata": {},
   "outputs": [],
   "source": [
    "import ctypes\n",
    "\n",
    "class Huffman:\n",
    "    huffman = ctypes.CDLL('x64/Release/huffman')\n",
    "    \n",
    "    huffman.create_tree.restype = ctypes.c_void_p\n",
    "    huffman.destroy_tree.restype = None\n",
    "    huffman.load_weights.restype = None\n",
    "    huffman.create_code_string.restype = ctypes.c_char_p\n",
    "    \n",
    "    def __init__(self, category_count):\n",
    "        self.tree = ctypes.c_void_p(self.huffman.create_tree(category_count))\n",
    "\n",
    "    def __del__(self):\n",
    "        self.huffman.destroy_tree(self.tree)\n",
    "        \n",
    "    def load_weights(self, weights):\n",
    "        self.huffman.load_weights(self.tree, weights.ctypes.data_as(ctypes.POINTER(ctypes.c_float)))\n",
    "    \n",
    "    def get_code_length(self, category):\n",
    "        return self.huffman.get_code_length(self.tree, category)\n",
    "\n",
    "    def get_code_zero_count(self, category):\n",
    "        return self.huffman.get_code_zero_count(self.tree, category)"
   ]
  },
  {
   "cell_type": "code",
   "execution_count": 23,
   "metadata": {},
   "outputs": [],
   "source": [
    "def huffman_archive_size(model, text):\n",
    "    archived_size = 0\n",
    "    zeros = 0\n",
    "    input_eval = np.array([[0]], dtype=TYPE)\n",
    "    huffman_tree = Huffman(subword_text_encoder.vocab_size)\n",
    "\n",
    "    text_generated = []\n",
    "\n",
    "    model.reset_states()\n",
    "\n",
    "    for index, byte in enumerate(text):\n",
    "        predictions = model(input_eval)\n",
    "        predictions = tf.squeeze(predictions, 0) # remove the batch dimension\n",
    "\n",
    "        weights = tf.nn.softmax(predictions[0]).numpy()\n",
    "        huffman_tree.load_weights(weights)\n",
    "        zeros += huffman_tree.get_code_zero_count(byte.item())\n",
    "        archived_size += huffman_tree.get_code_length(byte.item())\n",
    "\n",
    "        input_eval = tf.expand_dims([byte], 0)\n",
    "  \n",
    "    return archived_size, zeros"
   ]
  },
  {
   "cell_type": "code",
   "execution_count": 24,
   "metadata": {
    "scrolled": true
   },
   "outputs": [
    {
     "name": "stdout",
     "output_type": "stream",
     "text": [
      "Article 1000:\tLength: 200\tCompression: 0.290000\tAvg Compression: 0.290000\n",
      "Article 2000:\tLength: 168\tCompression: 0.291667\tAvg Compression: 0.290761\n",
      "Article 3000:\tLength: 200\tCompression: 0.385000\tAvg Compression: 0.323944\n",
      "Article 4000:\tLength: 168\tCompression: 0.434524\tAvg Compression: 0.349185\n",
      "Article 5000:\tLength: 232\tCompression: 0.267241\tAvg Compression: 0.329545\n",
      "Article 6000:\tLength: 200\tCompression: 0.310000\tAvg Compression: 0.326199\n",
      "Article 7000:\tLength: 192\tCompression: 0.333333\tAvg Compression: 0.327206\n",
      "Article 8000:\tLength: 192\tCompression: 0.354167\tAvg Compression: 0.330541\n",
      "Article 9000:\tLength: 192\tCompression: 0.286458\tAvg Compression: 0.325688\n",
      "Article 10000:\tLength: 176\tCompression: 0.443182\tAvg Compression: 0.336458\n",
      "Article 11000:\tLength: 192\tCompression: 0.427083\tAvg Compression: 0.344697\n",
      "Article 12000:\tLength: 160\tCompression: 0.543750\tAvg Compression: 0.358715\n",
      "Article 13000:\tLength: 192\tCompression: 0.401042\tAvg Compression: 0.362013\n",
      "Article 14000:\tLength: 264\tCompression: 0.268939\tAvg Compression: 0.353006\n",
      "Article 15000:\tLength: 216\tCompression: 0.393519\tAvg Compression: 0.355978\n",
      "Article 16000:\tLength: 168\tCompression: 0.422619\tAvg Compression: 0.359576\n",
      "Article 17000:\tLength: 248\tCompression: 0.387097\tAvg Compression: 0.361607\n",
      "Article 18000:\tLength: 192\tCompression: 0.489583\tAvg Compression: 0.368525\n",
      "Article 19000:\tLength: 224\tCompression: 0.370536\tAvg Compression: 0.368644\n",
      "Article 20000:\tLength: 280\tCompression: 0.264286\tAvg Compression: 0.361440\n",
      "Article 21000:\tLength: 248\tCompression: 0.419355\tAvg Compression: 0.364777\n",
      "Article 22000:\tLength: 192\tCompression: 0.625000\tAvg Compression: 0.375890\n",
      "Article 23000:\tLength: 208\tCompression: 0.365385\tAvg Compression: 0.375425\n",
      "Article 24000:\tLength: 272\tCompression: 0.338235\tAvg Compression: 0.373392\n",
      "Article 25000:\tLength: 216\tCompression: 0.273148\tAvg Compression: 0.369222\n",
      "Article 26000:\tLength: 312\tCompression: 0.272436\tAvg Compression: 0.363735\n",
      "Article 27000:\tLength: 224\tCompression: 0.450893\tAvg Compression: 0.367144\n",
      "Article 28000:\tLength: 224\tCompression: 0.357143\tAvg Compression: 0.366767\n",
      "Article 29000:\tLength: 192\tCompression: 0.526042\tAvg Compression: 0.371745\n",
      "Article 30000:\tLength: 304\tCompression: 0.279605\tAvg Compression: 0.367401\n",
      "Article 31000:\tLength: 200\tCompression: 0.525000\tAvg Compression: 0.372142\n",
      "Article 32000:\tLength: 256\tCompression: 0.386719\tAvg Compression: 0.372683\n",
      "Article 33000:\tLength: 280\tCompression: 0.360714\tAvg Compression: 0.372216\n",
      "Article 34000:\tLength: 216\tCompression: 0.685185\tAvg Compression: 0.381351\n",
      "Article 35000:\tLength: 272\tCompression: 0.338235\tAvg Compression: 0.379823\n",
      "Article 36000:\tLength: 240\tCompression: 0.404167\tAvg Compression: 0.380561\n",
      "Article 37000:\tLength: 240\tCompression: 0.375000\tAvg Compression: 0.380397\n",
      "Article 38000:\tLength: 336\tCompression: 0.252976\tAvg Compression: 0.375353\n",
      "Article 39000:\tLength: 232\tCompression: 0.418103\tAvg Compression: 0.376491\n",
      "Article 40000:\tLength: 256\tCompression: 0.363281\tAvg Compression: 0.376114\n",
      "Article 41000:\tLength: 216\tCompression: 0.611111\tAvg Compression: 0.381636\n",
      "Article 42000:\tLength: 312\tCompression: 0.381410\tAvg Compression: 0.381629\n",
      "Article 43000:\tLength: 328\tCompression: 0.286585\tAvg Compression: 0.378458\n",
      "Article 44000:\tLength: 376\tCompression: 0.244681\tAvg Compression: 0.373531\n",
      "Article 45000:\tLength: 328\tCompression: 0.283537\tAvg Compression: 0.370729\n",
      "Article 46000:\tLength: 256\tCompression: 0.437500\tAvg Compression: 0.372313\n",
      "Article 47000:\tLength: 416\tCompression: 0.264423\tAvg Compression: 0.368308\n",
      "Article 48000:\tLength: 216\tCompression: 0.620370\tAvg Compression: 0.373074\n",
      "Article 49000:\tLength: 360\tCompression: 0.380556\tAvg Compression: 0.373303\n",
      "Article 50000:\tLength: 416\tCompression: 0.201923\tAvg Compression: 0.367459\n",
      "Article 51000:\tLength: 480\tCompression: 0.231250\tAvg Compression: 0.362303\n",
      "Article 52000:\tLength: 424\tCompression: 0.450472\tAvg Compression: 0.365156\n",
      "Article 53000:\tLength: 424\tCompression: 0.495283\tAvg Compression: 0.369234\n",
      "Article 54000:\tLength: 600\tCompression: 0.255000\tAvg Compression: 0.364383\n",
      "Article 55000:\tLength: 448\tCompression: 0.470982\tAvg Compression: 0.367659\n",
      "Article 56000:\tLength: 768\tCompression: 0.423177\tAvg Compression: 0.370438\n",
      "Article 57000:\tLength: 968\tCompression: 0.363636\tAvg Compression: 0.370034\n",
      "Article 58000:\tLength: 1128\tCompression: 0.260638\tAvg Compression: 0.362959\n",
      "Article 59000:\tLength: 952\tCompression: 0.321429\tAvg Compression: 0.360809\n",
      "Article 60000:\tLength: 1616\tCompression: 0.131188\tAvg Compression: 0.342263\n",
      "Article 61000:\tLength: 1752\tCompression: 0.279110\tAvg Compression: 0.337178\n",
      "Article 62000:\tLength: 1288\tCompression: 0.256988\tAvg Compression: 0.332697\n",
      "Article 63000:\tLength: 1496\tCompression: 0.341578\tAvg Compression: 0.333238\n",
      "Article 64000:\tLength: 2048\tCompression: 0.258301\tAvg Compression: 0.327467\n",
      "Article 65000:\tLength: 2296\tCompression: 0.226045\tAvg Compression: 0.319406\n",
      "Article 66000:\tLength: 2768\tCompression: 0.221460\tAvg Compression: 0.310842\n",
      "Article 67000:\tLength: 3320\tCompression: 0.237048\tAvg Compression: 0.303837\n",
      "Article 68000:\tLength: 3920\tCompression: 0.185969\tAvg Compression: 0.291958\n",
      "Article 69000:\tLength: 3512\tCompression: 0.194761\tAvg Compression: 0.283909\n",
      "Article 70000:\tLength: 3792\tCompression: 0.168776\tAvg Compression: 0.274459\n",
      "Article 71000:\tLength: 4616\tCompression: 0.170061\tAvg Compression: 0.264976\n",
      "Article 72000:\tLength: 6000\tCompression: 0.154000\tAvg Compression: 0.253256\n",
      "Article 73000:\tLength: 4912\tCompression: 0.194015\tAvg Compression: 0.248542\n",
      "Article 74000:\tLength: 4872\tCompression: 0.259852\tAvg Compression: 0.249369\n",
      "Article 75000:\tLength: 6144\tCompression: 0.160482\tAvg Compression: 0.241862\n",
      "Article 76000:\tLength: 5920\tCompression: 0.191723\tAvg Compression: 0.238089\n",
      "Article 77000:\tLength: 5664\tCompression: 0.113701\tAvg Compression: 0.229734\n",
      "Article 78000:\tLength: 6456\tCompression: 0.179523\tAvg Compression: 0.226163\n",
      "Article 79000:\tLength: 5808\tCompression: 0.254993\tAvg Compression: 0.227897\n",
      "Article 80000:\tLength: 6480\tCompression: 0.233333\tAvg Compression: 0.228239\n",
      "Article 81000:\tLength: 7984\tCompression: 0.199399\tAvg Compression: 0.226165\n",
      "Article 82000:\tLength: 8392\tCompression: 0.165991\tAvg Compression: 0.221938\n",
      "Article 83000:\tLength: 8456\tCompression: 0.174669\tAvg Compression: 0.218813\n",
      "Article 84000:\tLength: 8824\tCompression: 0.171238\tAvg Compression: 0.215742\n",
      "Article 85000:\tLength: 9152\tCompression: 0.165101\tAvg Compression: 0.212565\n",
      "Article 86000:\tLength: 9352\tCompression: 0.196429\tAvg Compression: 0.211593\n",
      "Article 87000:\tLength: 7224\tCompression: 0.229928\tAvg Compression: 0.212408\n",
      "Article 88000:\tLength: 9720\tCompression: 0.189506\tAvg Compression: 0.211115\n",
      "Article 89000:\tLength: 11472\tCompression: 0.158821\tAvg Compression: 0.207849\n",
      "Article 90000:\tLength: 7856\tCompression: 0.143712\tAvg Compression: 0.205218\n",
      "Article 91000:\tLength: 8552\tCompression: 0.138798\tAvg Compression: 0.202378\n",
      "Article 92000:\tLength: 10944\tCompression: 0.181926\tAvg Compression: 0.201318\n",
      "Article 93000:\tLength: 12664\tCompression: 0.195989\tAvg Compression: 0.201016\n",
      "Article 94000:\tLength: 11456\tCompression: 0.167510\tAvg Compression: 0.199383\n",
      "Article 95000:\tLength: 12008\tCompression: 0.173301\tAvg Compression: 0.198116\n",
      "Article 96000:\tLength: 12344\tCompression: 0.169637\tAvg Compression: 0.196761\n",
      "Article 97000:\tLength: 12720\tCompression: 0.228459\tAvg Compression: 0.198242\n",
      "Article 98000:\tLength: 13928\tCompression: 0.189259\tAvg Compression: 0.197805\n",
      "Article 99000:\tLength: 10664\tCompression: 0.116279\tAvg Compression: 0.194876\n",
      "Article 100000:\tLength: 12560\tCompression: 0.194347\tAvg Compression: 0.194854\n",
      "Article 101000:\tLength: 13584\tCompression: 0.234688\tAvg Compression: 0.196530\n",
      "Article 102000:\tLength: 14976\tCompression: 0.172009\tAvg Compression: 0.195443\n",
      "Article 103000:\tLength: 14480\tCompression: 0.185221\tAvg Compression: 0.195023\n",
      "Article 104000:\tLength: 15848\tCompression: 0.186080\tAvg Compression: 0.194638\n",
      "Article 105000:\tLength: 19656\tCompression: 0.056726\tAvg Compression: 0.187650\n",
      "Article 106000:\tLength: 13488\tCompression: 0.179493\tAvg Compression: 0.187375\n",
      "Article 107000:\tLength: 15048\tCompression: 0.159888\tAvg Compression: 0.186382\n",
      "Article 108000:\tLength: 20104\tCompression: 0.060983\tAvg Compression: 0.180607\n",
      "Article 109000:\tLength: 20168\tCompression: 0.058806\tAvg Compression: 0.175228\n"
     ]
    },
    {
     "name": "stdout",
     "output_type": "stream",
     "text": [
      "Article 110000:\tLength: 14384\tCompression: 0.137653\tAvg Compression: 0.174081\n",
      "Article 111000:\tLength: 17920\tCompression: 0.168304\tAvg Compression: 0.173869\n",
      "Article 112000:\tLength: 14072\tCompression: 0.115833\tAvg Compression: 0.172246\n",
      "Article 113000:\tLength: 20200\tCompression: 0.061584\tAvg Compression: 0.167974\n",
      "Article 114000:\tLength: 20384\tCompression: 0.062402\tAvg Compression: 0.164015\n",
      "Article 115000:\tLength: 20704\tCompression: 0.068103\tAvg Compression: 0.160497\n",
      "Article 116000:\tLength: 20632\tCompression: 0.066644\tAvg Compression: 0.157187\n",
      "Article 117000:\tLength: 16792\tCompression: 0.190984\tAvg Compression: 0.158130\n",
      "Article 118000:\tLength: 20896\tCompression: 0.069248\tAvg Compression: 0.155147\n",
      "Article 119000:\tLength: 21136\tCompression: 0.062737\tAvg Compression: 0.152113\n",
      "Article 120000:\tLength: 18768\tCompression: 0.210358\tAvg Compression: 0.153763\n",
      "Article 121000:\tLength: 21112\tCompression: 0.067260\tAvg Compression: 0.151092\n",
      "Article 122000:\tLength: 21496\tCompression: 0.066710\tAvg Compression: 0.148520\n",
      "Article 123000:\tLength: 21120\tCompression: 0.074148\tAvg Compression: 0.146357\n",
      "Article 124000:\tLength: 21344\tCompression: 0.074494\tAvg Compression: 0.144306\n",
      "Article 125000:\tLength: 21264\tCompression: 0.069695\tAvg Compression: 0.142242\n",
      "Article 126000:\tLength: 21432\tCompression: 0.067143\tAvg Compression: 0.140206\n",
      "Article 127000:\tLength: 21752\tCompression: 0.073786\tAvg Compression: 0.138427\n",
      "Article 128000:\tLength: 21384\tCompression: 0.074355\tAvg Compression: 0.136783\n",
      "Article 129000:\tLength: 21728\tCompression: 0.070784\tAvg Compression: 0.135106\n",
      "Article 130000:\tLength: 21584\tCompression: 0.074407\tAvg Compression: 0.133612\n",
      "Article 131000:\tLength: 22256\tCompression: 0.071172\tAvg Compression: 0.132066\n",
      "Article 132000:\tLength: 21848\tCompression: 0.074561\tAvg Compression: 0.130702\n",
      "Article 133000:\tLength: 22192\tCompression: 0.069169\tAvg Compression: 0.129254\n",
      "Article 134000:\tLength: 22720\tCompression: 0.069190\tAvg Compression: 0.127841\n",
      "Article 135000:\tLength: 22400\tCompression: 0.070268\tAvg Compression: 0.126536\n",
      "Article 136000:\tLength: 22704\tCompression: 0.080691\tAvg Compression: 0.125506\n",
      "Article 137000:\tLength: 22448\tCompression: 0.080542\tAvg Compression: 0.124530\n",
      "Article 138000:\tLength: 23712\tCompression: 0.084641\tAvg Compression: 0.123635\n",
      "Article 139000:\tLength: 19936\tCompression: 0.175461\tAvg Compression: 0.124594\n",
      "Article 140000:\tLength: 24328\tCompression: 0.084018\tAvg Compression: 0.123698\n",
      "Article 141000:\tLength: 20288\tCompression: 0.214708\tAvg Compression: 0.125344\n",
      "Article 142000:\tLength: 23216\tCompression: 0.185002\tAvg Compression: 0.126554\n",
      "Article 143000:\tLength: 24120\tCompression: 0.086070\tAvg Compression: 0.125719\n",
      "Article 144000:\tLength: 24512\tCompression: 0.176771\tAvg Compression: 0.126767\n",
      "Article 145000:\tLength: 24592\tCompression: 0.160093\tAvg Compression: 0.127440\n",
      "Article 146000:\tLength: 26552\tCompression: 0.074834\tAvg Compression: 0.126318\n",
      "Article 147000:\tLength: 19672\tCompression: 0.154026\tAvg Compression: 0.126749\n",
      "Article 148000:\tLength: 26712\tCompression: 0.088537\tAvg Compression: 0.125958\n",
      "Article 149000:\tLength: 25808\tCompression: 0.168901\tAvg Compression: 0.126800\n",
      "Article 150000:\tLength: 23880\tCompression: 0.162437\tAvg Compression: 0.127435\n",
      "Article 151000:\tLength: 27592\tCompression: 0.087815\tAvg Compression: 0.126636\n",
      "Article 152000:\tLength: 23424\tCompression: 0.189250\tAvg Compression: 0.127689\n",
      "Article 153000:\tLength: 28192\tCompression: 0.076156\tAvg Compression: 0.126666\n",
      "Article 154000:\tLength: 28784\tCompression: 0.073548\tAvg Compression: 0.125611\n",
      "Article 155000:\tLength: 31336\tCompression: 0.104480\tAvg Compression: 0.125164\n",
      "Article 156000:\tLength: 28496\tCompression: 0.195220\tAvg Compression: 0.126487\n",
      "Article 157000:\tLength: 26216\tCompression: 0.192745\tAvg Compression: 0.127619\n",
      "Article 158000:\tLength: 26712\tCompression: 0.210842\tAvg Compression: 0.129042\n",
      "Article 159000:\tLength: 27448\tCompression: 0.195788\tAvg Compression: 0.130195\n",
      "Article 160000:\tLength: 32344\tCompression: 0.120146\tAvg Compression: 0.129995\n",
      "Article 161000:\tLength: 31808\tCompression: 0.092272\tAvg Compression: 0.129269\n",
      "Article 162000:\tLength: 25040\tCompression: 0.113339\tAvg Compression: 0.129031\n",
      "Article 163000:\tLength: 32104\tCompression: 0.238568\tAvg Compression: 0.131088\n",
      "Article 164000:\tLength: 34408\tCompression: 0.193967\tAvg Compression: 0.132328\n",
      "Article 165000:\tLength: 33720\tCompression: 0.191074\tAvg Compression: 0.133442\n",
      "Article 166000:\tLength: 32744\tCompression: 0.186385\tAvg Compression: 0.134399\n",
      "Article 167000:\tLength: 35464\tCompression: 0.174515\tAvg Compression: 0.135169\n",
      "Article 168000:\tLength: 38104\tCompression: 0.198299\tAvg Compression: 0.136446\n",
      "Article 169000:\tLength: 34072\tCompression: 0.170345\tAvg Compression: 0.137048\n",
      "Article 170000:\tLength: 36872\tCompression: 0.221360\tAvg Compression: 0.138637\n",
      "Article 171000:\tLength: 36744\tCompression: 0.189745\tAvg Compression: 0.139580\n",
      "Article 172000:\tLength: 40416\tCompression: 0.192597\tAvg Compression: 0.140634\n",
      "Article 173000:\tLength: 42688\tCompression: 0.096936\tAvg Compression: 0.139735\n",
      "Article 174000:\tLength: 38680\tCompression: 0.188185\tAvg Compression: 0.140622\n",
      "Article 175000:\tLength: 44288\tCompression: 0.140670\tAvg Compression: 0.140623\n",
      "Article 176000:\tLength: 36808\tCompression: 0.202728\tAvg Compression: 0.141664\n",
      "Article 177000:\tLength: 43872\tCompression: 0.112669\tAvg Compression: 0.141096\n",
      "Article 178000:\tLength: 47360\tCompression: 0.181820\tAvg Compression: 0.141939\n",
      "Article 179000:\tLength: 48840\tCompression: 0.184029\tAvg Compression: 0.142820\n",
      "Article 180000:\tLength: 51936\tCompression: 0.168823\tAvg Compression: 0.143385\n",
      "Article 181000:\tLength: 42088\tCompression: 0.201435\tAvg Compression: 0.144391\n",
      "Article 182000:\tLength: 53808\tCompression: 0.127806\tAvg Compression: 0.144032\n",
      "Article 183000:\tLength: 49912\tCompression: 0.222011\tAvg Compression: 0.145568\n",
      "Article 184000:\tLength: 52128\tCompression: 0.125058\tAvg Compression: 0.145155\n",
      "Article 185000:\tLength: 57680\tCompression: 0.186130\tAvg Compression: 0.146049\n",
      "Article 186000:\tLength: 58328\tCompression: 0.184594\tAvg Compression: 0.146881\n",
      "Article 187000:\tLength: 59888\tCompression: 0.181823\tAvg Compression: 0.147639\n",
      "Article 188000:\tLength: 56248\tCompression: 0.184753\tAvg Compression: 0.148380\n",
      "Article 189000:\tLength: 62760\tCompression: 0.149458\tAvg Compression: 0.148404\n",
      "Article 190000:\tLength: 61168\tCompression: 0.194007\tAvg Compression: 0.149352\n",
      "Article 191000:\tLength: 63728\tCompression: 0.198108\tAvg Compression: 0.150386\n",
      "Article 192000:\tLength: 68600\tCompression: 0.136297\tAvg Compression: 0.150072\n",
      "Article 193000:\tLength: 66728\tCompression: 0.185589\tAvg Compression: 0.150826\n",
      "Article 194000:\tLength: 68432\tCompression: 0.184007\tAvg Compression: 0.151534\n",
      "Article 195000:\tLength: 69072\tCompression: 0.216948\tAvg Compression: 0.152913\n",
      "Article 196000:\tLength: 70040\tCompression: 0.204355\tAvg Compression: 0.153989\n",
      "Article 197000:\tLength: 65960\tCompression: 0.207141\tAvg Compression: 0.155016\n",
      "Article 198000:\tLength: 72528\tCompression: 0.152893\tAvg Compression: 0.154972\n",
      "Article 199000:\tLength: 90768\tCompression: 0.211892\tAvg Compression: 0.156416\n",
      "Article 200000:\tLength: 79640\tCompression: 0.207346\tAvg Compression: 0.157525\n",
      "Article 201000:\tLength: 95104\tCompression: 0.190181\tAvg Compression: 0.158353\n",
      "Article 202000:\tLength: 90904\tCompression: 0.171148\tAvg Compression: 0.158656\n",
      "Article 203000:\tLength: 94912\tCompression: 0.177575\tAvg Compression: 0.159112\n",
      "Article 204000:\tLength: 101480\tCompression: 0.187121\tAvg Compression: 0.159815\n",
      "Article 205000:\tLength: 112136\tCompression: 0.185587\tAvg Compression: 0.160511\n",
      "Article 206000:\tLength: 116704\tCompression: 0.196026\tAvg Compression: 0.161483\n",
      "Article 207000:\tLength: 115136\tCompression: 0.179101\tAvg Compression: 0.161945\n",
      "Article 208000:\tLength: 119576\tCompression: 0.183674\tAvg Compression: 0.162522\n",
      "Article 209000:\tLength: 140056\tCompression: 0.167105\tAvg Compression: 0.162661\n",
      "Article 210000:\tLength: 143896\tCompression: 0.190450\tAvg Compression: 0.163496\n",
      "Article 211000:\tLength: 133280\tCompression: 0.190689\tAvg Compression: 0.164233\n",
      "Article 212000:\tLength: 151024\tCompression: 0.172284\tAvg Compression: 0.164473\n",
      "Article 213000:\tLength: 156488\tCompression: 0.211972\tAvg Compression: 0.165894\n",
      "Article 214000:\tLength: 163000\tCompression: 0.229233\tAvg Compression: 0.167810\n"
     ]
    },
    {
     "name": "stdout",
     "output_type": "stream",
     "text": [
      "Article 215000:\tLength: 199728\tCompression: 0.189227\tAvg Compression: 0.168575\n",
      "Article 216000:\tLength: 210688\tCompression: 0.170133\tAvg Compression: 0.168632\n",
      "Article 217000:\tLength: 243208\tCompression: 0.182634\tAvg Compression: 0.169195\n",
      "Article 218000:\tLength: 259328\tCompression: 0.178049\tAvg Compression: 0.169559\n",
      "Article 219000:\tLength: 348592\tCompression: 0.192601\tAvg Compression: 0.170767\n",
      "Article 220000:\tLength: 461312\tCompression: 0.217889\tAvg Compression: 0.173823\n"
     ]
    }
   ],
   "source": [
    "total_raw = 0\n",
    "total_compressed = 0\n",
    "\n",
    "for index, encoded_article in enumerate(articles.articles_generator(1)):\n",
    "    if index % 1000 == 0:\n",
    "        article = subword_text_encoder.decode(encoded_article)\n",
    "        raw = len(article) * 8\n",
    "        if raw == 0:\n",
    "            continue\n",
    "        compressed, _ = huffman_archive_size(model, encoded_article)\n",
    "        total_raw += raw\n",
    "        total_compressed += compressed\n",
    "\n",
    "        print('Article %d:\\tLength: %d\\tCompression: %f\\tAvg Compression: %f' % (index, raw, compressed/raw, total_compressed/total_raw))"
   ]
  }
 ],
 "metadata": {
  "kernelspec": {
   "display_name": "Python 3",
   "language": "python",
   "name": "python3"
  },
  "language_info": {
   "codemirror_mode": {
    "name": "ipython",
    "version": 3
   },
   "file_extension": ".py",
   "mimetype": "text/x-python",
   "name": "python",
   "nbconvert_exporter": "python",
   "pygments_lexer": "ipython3",
   "version": "3.7.5"
  }
 },
 "nbformat": 4,
 "nbformat_minor": 4
}
