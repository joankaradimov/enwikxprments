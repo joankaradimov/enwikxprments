{
 "cells": [
  {
   "cell_type": "markdown",
   "metadata": {},
   "source": [
    "Базирано на [примерите в документацията](https://www.tensorflow.org/tutorials/text/text_generation) на Tensorflow."
   ]
  },
  {
   "cell_type": "code",
   "execution_count": 1,
   "metadata": {},
   "outputs": [],
   "source": [
    "import tensorflow as tf\n",
    "\n",
    "import numpy as np\n",
    "import os\n",
    "import time"
   ]
  },
  {
   "cell_type": "code",
   "execution_count": 2,
   "metadata": {},
   "outputs": [],
   "source": [
    "with open('page_revisions_text', 'rb') as text_file:\n",
    "    data = text_file.read()"
   ]
  },
  {
   "cell_type": "code",
   "execution_count": 3,
   "metadata": {},
   "outputs": [],
   "source": [
    "articles = data.split(b'\\0')"
   ]
  },
  {
   "cell_type": "code",
   "execution_count": 4,
   "metadata": {},
   "outputs": [
    {
     "data": {
      "text/plain": [
       "243427"
      ]
     },
     "execution_count": 4,
     "metadata": {},
     "output_type": "execute_result"
    }
   ],
   "source": [
    "len(articles)"
   ]
  },
  {
   "cell_type": "code",
   "execution_count": 6,
   "metadata": {},
   "outputs": [
    {
     "data": {
      "text/plain": [
       "2075336"
      ]
     },
     "execution_count": 6,
     "metadata": {},
     "output_type": "execute_result"
    }
   ],
   "source": [
    "sum(len(a) for a in articles[:300])"
   ]
  },
  {
   "cell_type": "code",
   "execution_count": 37,
   "metadata": {},
   "outputs": [],
   "source": [
    "first_articles = '. '.join(a.decode('utf-8') for a in articles[:300])\n",
    "del data"
   ]
  },
  {
   "cell_type": "code",
   "execution_count": 38,
   "metadata": {},
   "outputs": [
    {
     "name": "stdout",
     "output_type": "stream",
     "text": [
      "1113 unique characters\n"
     ]
    }
   ],
   "source": [
    "# The unique characters in the file\n",
    "vocab = sorted(set(first_articles))\n",
    "print ('{} unique characters'.format(len(vocab)))"
   ]
  },
  {
   "cell_type": "code",
   "execution_count": 39,
   "metadata": {},
   "outputs": [],
   "source": [
    "char2idx = {u: i for i, u in enumerate(vocab)}\n",
    "idx2char = np.array(vocab)\n",
    "\n",
    "text_as_int = np.array([char2idx[c] for c in first_articles])"
   ]
  },
  {
   "cell_type": "code",
   "execution_count": 40,
   "metadata": {},
   "outputs": [
    {
     "name": "stdout",
     "output_type": "stream",
     "text": [
      "{\n",
      "  '\\t':   0,\n",
      "  '\\n':   1,\n",
      "  ' ' :   2,\n",
      "  '!' :   3,\n",
      "  '\"' :   4,\n",
      "  '#' :   5,\n",
      "  '$' :   6,\n",
      "  '%' :   7,\n",
      "  '&' :   8,\n",
      "  \"'\" :   9,\n",
      "  '(' :  10,\n",
      "  ')' :  11,\n",
      "  '*' :  12,\n",
      "  '+' :  13,\n",
      "  ',' :  14,\n",
      "  '-' :  15,\n",
      "  '.' :  16,\n",
      "  '/' :  17,\n",
      "  '0' :  18,\n",
      "  '1' :  19,\n",
      "  ...\n",
      "}\n"
     ]
    }
   ],
   "source": [
    "print('{')\n",
    "for char,_ in zip(char2idx, range(20)):\n",
    "    print('  {:4s}: {:3d},'.format(repr(char), char2idx[char]))\n",
    "print('  ...\\n}')"
   ]
  },
  {
   "cell_type": "code",
   "execution_count": 41,
   "metadata": {},
   "outputs": [],
   "source": [
    "# Create training examples / targets\n",
    "char_dataset = tf.data.Dataset.from_tensor_slices(text_as_int)"
   ]
  },
  {
   "cell_type": "code",
   "execution_count": 46,
   "metadata": {},
   "outputs": [
    {
     "name": "stdout",
     "output_type": "stream",
     "text": [
      "#\n",
      "R\n",
      "E\n",
      "D\n",
      "I\n"
     ]
    }
   ],
   "source": [
    "seq_length = 100\n",
    "examples_per_epoch = len(first_articles) // (seq_length+1)\n",
    "\n",
    "# Create training examples / targets\n",
    "char_dataset = tf.data.Dataset.from_tensor_slices(text_as_int)\n",
    "\n",
    "for i in char_dataset.take(5):\n",
    "  print(idx2char[i.numpy()])"
   ]
  },
  {
   "cell_type": "code",
   "execution_count": 47,
   "metadata": {},
   "outputs": [
    {
     "name": "stdout",
     "output_type": "stream",
     "text": [
      "'#REDIRECT [[AAA]]. #REDIRECT [[Algeria]]{{R from CamelCase}}. #REDIRECT [[American Samoa]]{{R from Ca'\n",
      "'melCase}}. #REDIRECT [[Applied ethics]]\\n. #REDIRECT [[Accessible_computing]]. #REDIRECT [[Ada program'\n",
      "\"ming language]]. {{Anarchism}}\\n'''Anarchism''' originated as a term of abuse first used against early\"\n",
      "' [[working class]] [[radical]]s including the [[Diggers]] of the [[English Revolution]] and the [[san'\n",
      "\"s-culotte|''sans-culottes'']] of the [[French Revolution]].[http://uk.encarta.msn.com/encyclopedia_76\"\n"
     ]
    }
   ],
   "source": [
    "sequences = char_dataset.batch(seq_length+1, drop_remainder=True)\n",
    "\n",
    "for item in sequences.take(5):\n",
    "  print(repr(''.join(idx2char[item.numpy()])))"
   ]
  },
  {
   "cell_type": "code",
   "execution_count": 48,
   "metadata": {},
   "outputs": [],
   "source": [
    "def split_input_target(chunk):\n",
    "    input_text = chunk[:-1]\n",
    "    target_text = chunk[1:]\n",
    "    return input_text, target_text\n",
    "\n",
    "dataset = sequences.map(split_input_target)"
   ]
  },
  {
   "cell_type": "code",
   "execution_count": 49,
   "metadata": {},
   "outputs": [
    {
     "name": "stdout",
     "output_type": "stream",
     "text": [
      "Input data:  '#REDIRECT [[AAA]]. #REDIRECT [[Algeria]]{{R from CamelCase}}. #REDIRECT [[American Samoa]]{{R from C'\n",
      "Target data: 'REDIRECT [[AAA]]. #REDIRECT [[Algeria]]{{R from CamelCase}}. #REDIRECT [[American Samoa]]{{R from Ca'\n"
     ]
    }
   ],
   "source": [
    "for input_example, target_example in  dataset.take(1):\n",
    "  print ('Input data: ', repr(''.join(idx2char[input_example.numpy()])))\n",
    "  print ('Target data:', repr(''.join(idx2char[target_example.numpy()])))"
   ]
  },
  {
   "cell_type": "code",
   "execution_count": 50,
   "metadata": {},
   "outputs": [
    {
     "name": "stdout",
     "output_type": "stream",
     "text": [
      "Step    0\n",
      "  input: 5 ('#')\n",
      "  expected output: 52 ('R')\n",
      "Step    1\n",
      "  input: 52 ('R')\n",
      "  expected output: 39 ('E')\n",
      "Step    2\n",
      "  input: 39 ('E')\n",
      "  expected output: 38 ('D')\n",
      "Step    3\n",
      "  input: 38 ('D')\n",
      "  expected output: 43 ('I')\n",
      "Step    4\n",
      "  input: 43 ('I')\n",
      "  expected output: 52 ('R')\n"
     ]
    }
   ],
   "source": [
    "for i, (input_idx, target_idx) in enumerate(zip(input_example[:5], target_example[:5])):\n",
    "    print(\"Step {:4d}\".format(i))\n",
    "    print(\"  input: {} ({:s})\".format(input_idx, repr(idx2char[input_idx])))\n",
    "    print(\"  expected output: {} ({:s})\".format(target_idx, repr(idx2char[target_idx])))"
   ]
  },
  {
   "cell_type": "code",
   "execution_count": 51,
   "metadata": {},
   "outputs": [
    {
     "data": {
      "text/plain": [
       "<BatchDataset shapes: ((64, 100), (64, 100)), types: (tf.int32, tf.int32)>"
      ]
     },
     "execution_count": 51,
     "metadata": {},
     "output_type": "execute_result"
    }
   ],
   "source": [
    "# Batch size\n",
    "BATCH_SIZE = 64\n",
    "\n",
    "# Buffer size to shuffle the dataset\n",
    "# (TF data is designed to work with possibly infinite sequences,\n",
    "# so it doesn't attempt to shuffle the entire sequence in memory. Instead,\n",
    "# it maintains a buffer in which it shuffles elements).\n",
    "BUFFER_SIZE = 10000\n",
    "\n",
    "dataset = dataset.shuffle(BUFFER_SIZE).batch(BATCH_SIZE, drop_remainder=True)\n",
    "\n",
    "dataset"
   ]
  },
  {
   "cell_type": "code",
   "execution_count": 54,
   "metadata": {},
   "outputs": [],
   "source": [
    "# Length of the vocabulary in chars\n",
    "vocab_size = len(vocab)\n",
    "\n",
    "# The embedding dimension\n",
    "embedding_dim = 256\n",
    "\n",
    "# Number of RNN units\n",
    "rnn_units = 1024"
   ]
  },
  {
   "cell_type": "code",
   "execution_count": 55,
   "metadata": {},
   "outputs": [],
   "source": [
    "def build_model(vocab_size, embedding_dim, rnn_units, batch_size):\n",
    "  model = tf.keras.Sequential([\n",
    "    tf.keras.layers.Embedding(vocab_size, embedding_dim, batch_input_shape=[batch_size, None]),\n",
    "    tf.keras.layers.GRU(rnn_units, return_sequences=True, stateful=True, recurrent_initializer='glorot_uniform'),\n",
    "    tf.keras.layers.Dense(vocab_size)\n",
    "  ])\n",
    "  return model"
   ]
  },
  {
   "cell_type": "code",
   "execution_count": 56,
   "metadata": {},
   "outputs": [],
   "source": [
    "model = build_model(\n",
    "  vocab_size = len(vocab),\n",
    "  embedding_dim=embedding_dim,\n",
    "  rnn_units=rnn_units,\n",
    "  batch_size=BATCH_SIZE)"
   ]
  },
  {
   "cell_type": "code",
   "execution_count": 57,
   "metadata": {},
   "outputs": [
    {
     "name": "stdout",
     "output_type": "stream",
     "text": [
      "(64, 100, 1113) # (batch_size, sequence_length, vocab_size)\n"
     ]
    }
   ],
   "source": [
    "for input_example_batch, target_example_batch in dataset.take(1):\n",
    "  example_batch_predictions = model(input_example_batch)\n",
    "  print(example_batch_predictions.shape, \"# (batch_size, sequence_length, vocab_size)\")"
   ]
  },
  {
   "cell_type": "code",
   "execution_count": 58,
   "metadata": {},
   "outputs": [
    {
     "name": "stdout",
     "output_type": "stream",
     "text": [
      "Model: \"sequential\"\n",
      "_________________________________________________________________\n",
      "Layer (type)                 Output Shape              Param #   \n",
      "=================================================================\n",
      "embedding (Embedding)        (64, None, 256)           284928    \n",
      "_________________________________________________________________\n",
      "gru (GRU)                    (64, None, 1024)          3938304   \n",
      "_________________________________________________________________\n",
      "dense (Dense)                (64, None, 1113)          1140825   \n",
      "=================================================================\n",
      "Total params: 5,364,057\n",
      "Trainable params: 5,364,057\n",
      "Non-trainable params: 0\n",
      "_________________________________________________________________\n"
     ]
    }
   ],
   "source": [
    "model.summary()"
   ]
  },
  {
   "cell_type": "code",
   "execution_count": 59,
   "metadata": {},
   "outputs": [],
   "source": [
    "sampled_indices = tf.random.categorical(example_batch_predictions[0], num_samples=1)\n",
    "sampled_indices = tf.squeeze(sampled_indices,axis=-1).numpy()"
   ]
  },
  {
   "cell_type": "code",
   "execution_count": 60,
   "metadata": {},
   "outputs": [
    {
     "data": {
      "text/plain": [
       "array([ 692, 1082,   49,  930, 1081,  758,  800,  230,  154,  711,  631,\n",
       "        227,  633,  769,  223, 1050,  620,  721,   34,  722,  363,  217,\n",
       "        508,  494,  940,  124,  116,  627,  351,  426,  591,  170,  284,\n",
       "         24,  272,  657,  739,  810, 1057,  333,  474,  184,  385, 1058,\n",
       "        193,  792,  558,  526,  219,  447,  460,  499,  864,  534,  598,\n",
       "        401,  573,  511,  978,  221,   18,  268,  210,  573,  283,  836,\n",
       "        469,  162,  510,  140,  895,  542,  256,  508,  860,   15,  605,\n",
       "        806,  768,   60,   30,  377,  262,  766, 1110,  504,  945,  762,\n",
       "        154,   56,  378,  409,  253,  387,  835,   50,  627,  751,  579,\n",
       "        697], dtype=int64)"
      ]
     },
     "execution_count": 60,
     "metadata": {},
     "output_type": "execute_result"
    }
   ],
   "source": [
    "sampled_indices"
   ]
  },
  {
   "cell_type": "code",
   "execution_count": 61,
   "metadata": {},
   "outputs": [
    {
     "name": "stdout",
     "output_type": "stream",
     "text": [
      "Input: \n",
      " 'rein the industrialists of America go on strike and retreat to a mountainous hideaway. The American '\n",
      "\n",
      "Next Char Predictions: \n",
      " '−지O第증ム勸έûんᐅΠᐱ・Ά속ንカ@ガثˈெப者×ÅᎸתेაěи6Тậテ号알זફőى앙ų准ยಸ́বূல戈സთआุொ錬̅0Мɹุз媽કčைë業จόெ府-რ原ンZ<فДレ호ா臥ョûVقटχً女PᎸフไあ'\n"
     ]
    }
   ],
   "source": [
    "print(\"Input: \\n\", repr(\"\".join(idx2char[input_example_batch[0]])))\n",
    "print()\n",
    "print(\"Next Char Predictions: \\n\", repr(\"\".join(idx2char[sampled_indices ])))"
   ]
  },
  {
   "cell_type": "code",
   "execution_count": 62,
   "metadata": {},
   "outputs": [
    {
     "name": "stdout",
     "output_type": "stream",
     "text": [
      "Prediction shape:  (64, 100, 1113)  # (batch_size, sequence_length, vocab_size)\n",
      "scalar_loss:       7.0163283\n"
     ]
    }
   ],
   "source": [
    "def loss(labels, logits):\n",
    "  return tf.keras.losses.sparse_categorical_crossentropy(labels, logits, from_logits=True)\n",
    "\n",
    "example_batch_loss  = loss(target_example_batch, example_batch_predictions)\n",
    "print(\"Prediction shape: \", example_batch_predictions.shape, \" # (batch_size, sequence_length, vocab_size)\")\n",
    "print(\"scalar_loss:      \", example_batch_loss.numpy().mean())"
   ]
  },
  {
   "cell_type": "code",
   "execution_count": 63,
   "metadata": {},
   "outputs": [],
   "source": [
    "model.compile(optimizer='adam', loss=loss)"
   ]
  },
  {
   "cell_type": "code",
   "execution_count": 64,
   "metadata": {},
   "outputs": [],
   "source": [
    "# Directory where the checkpoints will be saved\n",
    "checkpoint_dir = './training_checkpoints'\n",
    "# Name of the checkpoint files\n",
    "checkpoint_prefix = os.path.join(checkpoint_dir, \"ckpt_{epoch}\")\n",
    "\n",
    "checkpoint_callback=tf.keras.callbacks.ModelCheckpoint(\n",
    "    filepath=checkpoint_prefix,\n",
    "    save_weights_only=True)"
   ]
  },
  {
   "cell_type": "code",
   "execution_count": 65,
   "metadata": {},
   "outputs": [],
   "source": [
    "EPOCHS=10"
   ]
  },
  {
   "cell_type": "code",
   "execution_count": 66,
   "metadata": {},
   "outputs": [
    {
     "name": "stdout",
     "output_type": "stream",
     "text": [
      "Train for 319 steps\n",
      "Epoch 1/10\n",
      "319/319 [==============================] - 5735s 18s/step - loss: 2.6419\n",
      "Epoch 2/10\n",
      "319/319 [==============================] - 5122s 16s/step - loss: 1.8965\n",
      "Epoch 3/10\n",
      "319/319 [==============================] - 5116s 16s/step - loss: 1.6315\n",
      "Epoch 4/10\n",
      "319/319 [==============================] - 5116s 16s/step - loss: 1.5061\n",
      "Epoch 5/10\n",
      "319/319 [==============================] - 5099s 16s/step - loss: 1.4266\n",
      "Epoch 6/10\n",
      "319/319 [==============================] - 5149s 16s/step - loss: 1.3684\n",
      "Epoch 7/10\n",
      "319/319 [==============================] - 5097s 16s/step - loss: 1.3209\n",
      "Epoch 8/10\n",
      "319/319 [==============================] - 5103s 16s/step - loss: 1.2803\n",
      "Epoch 9/10\n",
      "319/319 [==============================] - 5112s 16s/step - loss: 1.2444\n",
      "Epoch 10/10\n",
      "319/319 [==============================] - 5104s 16s/step - loss: 1.2136\n"
     ]
    }
   ],
   "source": [
    "history = model.fit(dataset, epochs=EPOCHS, callbacks=[checkpoint_callback])"
   ]
  },
  {
   "cell_type": "code",
   "execution_count": 68,
   "metadata": {},
   "outputs": [
    {
     "data": {
      "text/plain": [
       "'./training_checkpoints\\\\ckpt_10'"
      ]
     },
     "execution_count": 68,
     "metadata": {},
     "output_type": "execute_result"
    }
   ],
   "source": [
    "tf.train.latest_checkpoint(checkpoint_dir)"
   ]
  },
  {
   "cell_type": "code",
   "execution_count": 69,
   "metadata": {},
   "outputs": [],
   "source": [
    "model = build_model(vocab_size, embedding_dim, rnn_units, batch_size=1)\n",
    "\n",
    "model.load_weights(tf.train.latest_checkpoint(checkpoint_dir))\n",
    "\n",
    "model.build(tf.TensorShape([1, None]))"
   ]
  },
  {
   "cell_type": "code",
   "execution_count": 70,
   "metadata": {},
   "outputs": [
    {
     "name": "stdout",
     "output_type": "stream",
     "text": [
      "Model: \"sequential_1\"\n",
      "_________________________________________________________________\n",
      "Layer (type)                 Output Shape              Param #   \n",
      "=================================================================\n",
      "embedding_1 (Embedding)      (1, None, 256)            284928    \n",
      "_________________________________________________________________\n",
      "gru_1 (GRU)                  (1, None, 1024)           3938304   \n",
      "_________________________________________________________________\n",
      "dense_1 (Dense)              (1, None, 1113)           1140825   \n",
      "=================================================================\n",
      "Total params: 5,364,057\n",
      "Trainable params: 5,364,057\n",
      "Non-trainable params: 0\n",
      "_________________________________________________________________\n"
     ]
    }
   ],
   "source": [
    "model.summary()"
   ]
  },
  {
   "cell_type": "code",
   "execution_count": 71,
   "metadata": {},
   "outputs": [],
   "source": [
    "def generate_text(model, start_string):\n",
    "  # Evaluation step (generating text using the learned model)\n",
    "\n",
    "  # Number of characters to generate\n",
    "  num_generate = 1000\n",
    "\n",
    "  # Converting our start string to numbers (vectorizing)\n",
    "  input_eval = [char2idx[s] for s in start_string]\n",
    "  input_eval = tf.expand_dims(input_eval, 0)\n",
    "\n",
    "  # Empty string to store our results\n",
    "  text_generated = []\n",
    "\n",
    "  # Low temperatures results in more predictable text.\n",
    "  # Higher temperatures results in more surprising text.\n",
    "  # Experiment to find the best setting.\n",
    "  temperature = 1.0\n",
    "\n",
    "  # Here batch size == 1\n",
    "  model.reset_states()\n",
    "  for i in range(num_generate):\n",
    "      predictions = model(input_eval)\n",
    "      # remove the batch dimension\n",
    "      predictions = tf.squeeze(predictions, 0)\n",
    "\n",
    "      # using a categorical distribution to predict the character returned by the model\n",
    "      predictions = predictions / temperature\n",
    "      predicted_id = tf.random.categorical(predictions, num_samples=1)[-1,0].numpy()\n",
    "\n",
    "      # We pass the predicted character as the next input to the model\n",
    "      # along with the previous hidden state\n",
    "      input_eval = tf.expand_dims([predicted_id], 0)\n",
    "\n",
    "      text_generated.append(idx2char[predicted_id])\n",
    "\n",
    "  return (start_string + ''.join(text_generated))"
   ]
  },
  {
   "cell_type": "code",
   "execution_count": 121,
   "metadata": {},
   "outputs": [
    {
     "name": "stdout",
     "output_type": "stream",
     "text": [
      "Anarchy; this is runned to the human being in the human ure [[history conceutoda]]s canned off the name of [[philosopher|EVP]] continued to spell research with [[wild programmings with autism ambiguity that homestical crisis]] tay planned to become [[Alaska Constitution is fuel (just and parks). Novelite also hope to upper and sometimes early commonly satellite [[general left anather winder than 'Hand's one eastern part of King, American Samol, and a he termed in a cure signson sates|USA]].\n",
      "\n",
      "=== Errong to==\n",
      "*''[[Agave decendency|topics''.\n",
      "\n",
      "==Origins of the most Templeoses was described by [[Yull montaジ]]; [[Space Space Factbook]] and [[Lincoln Congo]] (GUC) on the court as a [[mythology|ethane]]. However, it doesings from the soon. When the Moon by the [[Pollierés dent, [[Athana]] in [[1004 service]] ordinations out of three gives in 40.5 increased vitami² of the SCS-context.\n",
      "\n",
      "== Albania]\n",
      "* [http://www.imdb.png Militana The Machina of Program Hilleresm Pagmetry with domestic anthropology.\n",
      "\n",
      "Al\n"
     ]
    }
   ],
   "source": [
    "print(generate_text(model, start_string=u\"Anarchy\"))"
   ]
  },
  {
   "cell_type": "code",
   "execution_count": 127,
   "metadata": {},
   "outputs": [],
   "source": [
    "def predict_chars(model, start_string):\n",
    "  # Converting our start string to numbers (vectorizing)\n",
    "  input_eval = [char2idx[s] for s in start_string]\n",
    "  input_eval = tf.expand_dims(input_eval, 0)\n",
    "\n",
    "  # Here batch size == 1\n",
    "  model.reset_states()\n",
    "\n",
    "  predictions = model(input_eval)\n",
    "  predictions = tf.squeeze(predictions, 0)\n",
    "    \n",
    "  return predictions\n",
    "\n",
    "logit_predictions = predict_chars(model, 'Albania')\n",
    "prediction = tf.nn.softmax(logit_predictions[-1])"
   ]
  },
  {
   "cell_type": "code",
   "execution_count": 128,
   "metadata": {},
   "outputs": [
    {
     "data": {
      "text/plain": [
       "0.9999993"
      ]
     },
     "execution_count": 128,
     "metadata": {},
     "output_type": "execute_result"
    }
   ],
   "source": [
    "sum(prediction).numpy()"
   ]
  },
  {
   "cell_type": "code",
   "execution_count": 129,
   "metadata": {},
   "outputs": [
    {
     "data": {
      "image/png": "[encoded data removed]",
      "text/plain": [
       "<Figure size 1440x1080 with 1 Axes>"
      ]
     },
     "metadata": {
      "needs_background": "light"
     },
     "output_type": "display_data"
    }
   ],
   "source": [
    "import matplotlib.pyplot as plt\n",
    "\n",
    "plt.figure(figsize=(20, 15))\n",
    "plt.bar(range(len(prediction)), prediction);"
   ]
  },
  {
   "cell_type": "code",
   "execution_count": 130,
   "metadata": {},
   "outputs": [
    {
     "data": {
      "text/plain": [
       "[[' ', 0.037231553], [']', 0.020161152], ['n', 0.83898], ['|', 0.036699034]]"
      ]
     },
     "execution_count": 130,
     "metadata": {},
     "output_type": "execute_result"
    }
   ],
   "source": [
    "[[idx2char[index], tensor.numpy()] for index, tensor in enumerate(prediction) if tensor.numpy() > .02]"
   ]
  },
  {
   "cell_type": "code",
   "execution_count": 131,
   "metadata": {},
   "outputs": [],
   "source": [
    "import huffman"
   ]
  },
  {
   "cell_type": "code",
   "execution_count": 132,
   "metadata": {},
   "outputs": [
    {
     "data": {
      "text/plain": [
       "{'\\t': '0111100101001111110',\n",
       " '\\n': '011111010',\n",
       " ' ': '001',\n",
       " '!': '01110100111',\n",
       " '\"': '0111010011011100',\n",
       " '#': '0111100001',\n",
       " '$': '01111111101110001100',\n",
       " '%': '010100111110110',\n",
       " '&': '0101001101011',\n",
       " \"'\": '01010010',\n",
       " '(': '01111001001101',\n",
       " ')': '011110010000',\n",
       " '*': '01111100101001000',\n",
       " '+': '0101001100001100',\n",
       " ',': '01111110',\n",
       " '-': '011110010101',\n",
       " '.': '011111110',\n",
       " '/': '0111111110011',\n",
       " '0': '0111110010010010001',\n",
       " '1': '0111110010101111111',\n",
       " '2': '010100111111101011',\n",
       " '3': '01111111101100000010',\n",
       " '4': '01110100110111101111001',\n",
       " '5': '01111001001110011101101',\n",
       " '6': '011111111011100000010',\n",
       " '7': '0101001100111010100',\n",
       " '8': '0101001100010101001100',\n",
       " '9': '01111001010000001101010',\n",
       " ':': '011111001011001',\n",
       " ';': '01010011011100',\n",
       " '<': '0111000110000',\n",
       " '=': '0111100101101',\n",
       " '>': '0111110010110111',\n",
       " '?': '011110010100111110',\n",
       " '@': '01010011111011101010',\n",
       " 'A': '0111010010110',\n",
       " 'B': '0101001111100101001',\n",
       " 'C': '01111001010000101',\n",
       " 'D': '01010011110000',\n",
       " 'E': '010100110001001011',\n",
       " 'F': '0101001111010111110',\n",
       " 'G': '011110010100100101',\n",
       " 'H': '0101001101111100111',\n",
       " 'I': '011111001011011000',\n",
       " 'J': '01010011010011101',\n",
       " 'K': '011100011001000011',\n",
       " 'L': '011110010100000001',\n",
       " 'M': '01110001100010000',\n",
       " 'N': '011101001100',\n",
       " 'O': '01111001011101010001',\n",
       " 'P': '010100111100110',\n",
       " 'Q': '01010011000100100',\n",
       " 'R': '0111110010010111',\n",
       " 'S': '01111001011001011',\n",
       " 'T': '01110100110110',\n",
       " 'U': '01010011010010011',\n",
       " 'V': '010100110100110',\n",
       " 'W': '01111100101101001',\n",
       " 'X': '0111100100111001100010',\n",
       " 'Y': '010100111111010111100',\n",
       " 'Z': '01110001101110101111',\n",
       " '[': '0101001100001010',\n",
       " '\\\\': '0111000110011011101',\n",
       " ']': '0110',\n",
       " '^': '011110010110010100',\n",
       " '_': '01010011101',\n",
       " '`': '01010011111101001',\n",
       " 'a': '011111001000',\n",
       " 'b': '01011',\n",
       " 'c': '01110101',\n",
       " 'd': '011110011',\n",
       " 'e': '011111000',\n",
       " 'f': '011111111000',\n",
       " 'g': '0111100000',\n",
       " 'h': '0111111110101',\n",
       " 'i': '011111011',\n",
       " 'j': '0101001100101',\n",
       " 'k': '011110010001011',\n",
       " 'l': '0111101',\n",
       " 'm': '01110000',\n",
       " 'n': '1',\n",
       " 'o': '01110100100',\n",
       " 'p': '011100011001111',\n",
       " 'q': '0111111110010',\n",
       " 'r': '0101000',\n",
       " 's': '0111011',\n",
       " 't': '010101',\n",
       " 'u': '011101000',\n",
       " 'v': '011100010',\n",
       " 'w': '0111001',\n",
       " 'x': '0111000111',\n",
       " 'y': '0111111111',\n",
       " 'z': '011110001',\n",
       " '{': '0101001111010100111',\n",
       " '|': '000',\n",
       " '}': '0100',\n",
       " '~': '0111100101110001100110011',\n",
       " '\\xa0': '011100011001000001',\n",
       " '£': '0101001111100010101',\n",
       " '§': '01111100100111100011',\n",
       " 'ª': '011100011011110010000',\n",
       " '®': '011111001001101101',\n",
       " '°': '011100011011000',\n",
       " '±': '0111010010101101110',\n",
       " '²': '01111100100100101',\n",
       " '³': '01110001101000101',\n",
       " '´': '0111000110001001',\n",
       " 'µ': '01111001011101010000',\n",
       " '·': '0111100101001101110100',\n",
       " 'º': '011111111010011010',\n",
       " '½': '01110001101001110000',\n",
       " 'À': '01110001101001110001',\n",
       " 'Á': '011111111011100110',\n",
       " 'Â': '01111100100110101011',\n",
       " 'Ã': '01110100110111110',\n",
       " 'Ä': '0111000110111010111000',\n",
       " 'Å': '0111111110111001111',\n",
       " 'Æ': '0101001101100111010',\n",
       " 'Ç': '0111110010011110001010',\n",
       " 'É': '0111010011010110',\n",
       " 'Î': '0101001100010010101',\n",
       " 'Ò': '011101001101111010',\n",
       " 'Ó': '011110010111010101',\n",
       " 'Ö': '0111000110101100010',\n",
       " '×': '0111010011010101',\n",
       " 'Ø': '010100111101010010',\n",
       " 'Ú': '0101001100010100',\n",
       " 'Ü': '01110001100100001001011',\n",
       " 'ß': '0111100101111010101011',\n",
       " 'à': '01111001011111',\n",
       " 'á': '011100011010100',\n",
       " 'â': '010100111111010100',\n",
       " 'ã': '01110001101011100001',\n",
       " 'ä': '01010011110110111001100',\n",
       " 'å': '011110010100000011011',\n",
       " 'æ': '01010011111101011111',\n",
       " 'ç': '0111110010010110',\n",
       " 'è': '01010011010000100111',\n",
       " 'é': '011111001010001',\n",
       " 'ê': '01010011001000111',\n",
       " 'ë': '0111000110101100011',\n",
       " 'ì': '0101001101000111101',\n",
       " 'í': '0111110011',\n",
       " 'î': '01110100110111010100',\n",
       " 'ï': '0111100101100011',\n",
       " 'ð': '01111001000100010',\n",
       " 'ñ': '01010011111110001',\n",
       " 'ò': '01110001101101',\n",
       " 'ó': '011101001101000001011011',\n",
       " 'ô': '0111010011011111101110',\n",
       " 'õ': '01111100101011111011000',\n",
       " 'ö': '0111000110111010111001001',\n",
       " 'ø': '0111000110011010101',\n",
       " 'ú': '01010011011110',\n",
       " 'û': '01111100100110010',\n",
       " 'ü': '01111001001110011011',\n",
       " 'ý': '011110010011100101',\n",
       " 'þ': '01111001001100101',\n",
       " 'Ā': '01111111101110000000',\n",
       " 'ā': '0111110010011111',\n",
       " 'ă': '011111001011011001',\n",
       " 'ć': '01111001001100000',\n",
       " 'č': '011100011001110',\n",
       " 'Đ': '0101001111101111',\n",
       " 'đ': '011101001101111011101',\n",
       " 'Ē': '01010011110110111000',\n",
       " 'ē': '01111001000101011',\n",
       " 'ĕ': '011100011010001111',\n",
       " 'ė': '01111100101110011110',\n",
       " 'ę': '01111001010011011100',\n",
       " 'ě': '0111010011010100001',\n",
       " 'ĝ': '010100111111011001',\n",
       " 'ğ': '0111110010101111110',\n",
       " 'ģ': '0111000110010101',\n",
       " 'ĥ': '01110001101111000',\n",
       " 'ī': '0101001100110111',\n",
       " 'İ': '0111010011011111110',\n",
       " 'ı': '01111001001100110011',\n",
       " 'ļ': '011100011001011010',\n",
       " 'ľ': '01110100110111111010',\n",
       " 'Ł': '01111001001111100000',\n",
       " 'ł': '01111001011101011',\n",
       " 'ń': '01111111101001100110',\n",
       " 'ō': '011111111010010',\n",
       " 'ő': '0111110010111000010010',\n",
       " 'ş': '0101001101000000',\n",
       " 'Š': '010100111110100100',\n",
       " 'š': '01111001000111000',\n",
       " 'ţ': '01010011001110111100',\n",
       " 'ť': '0111100100111100101',\n",
       " 'ū': '010100110011101001',\n",
       " 'ŭ': '011100011011101100',\n",
       " 'Ű': '01111100101101010011',\n",
       " 'ų': '01010011000100111',\n",
       " 'ź': '010100110000110100001',\n",
       " 'ż': '011100011010110000011',\n",
       " 'Ž': '011100011001011111',\n",
       " 'ž': '0111000110101010000',\n",
       " 'ơ': '011100011011110010010',\n",
       " 'ư': '010100111110100001',\n",
       " 'ǐ': '01010011010000101',\n",
       " 'ǔ': '011111001011100100',\n",
       " 'ɐ': '0111100101100101010101',\n",
       " 'ɑ': '0111000110100000100',\n",
       " 'ɔ': '0101001100110011000',\n",
       " 'ə': '0111110010011001101000',\n",
       " 'ɛ': '0111100101110011',\n",
       " 'ɣ': '01110001101011100000',\n",
       " 'ɨ': '01010011010001111100',\n",
       " 'ɪ': '011110010011110100',\n",
       " 'ɹ': '0101001111101110010',\n",
       " 'ɾ': '010100111110101101',\n",
       " 'ʁ': '010100111110100010',\n",
       " 'ʃ': '0111000110001010100',\n",
       " 'ʲ': '010100110111110010',\n",
       " 'ʻ': '0101001101100111000',\n",
       " 'ʾ': '01111100100110100',\n",
       " 'ˈ': '0111010010101011',\n",
       " 'ː': '011110010011100100',\n",
       " '́': '01111001001100100',\n",
       " '̃': '01010011111110110010',\n",
       " '̅': '0101001100011',\n",
       " '̍': '0111100100011111',\n",
       " 'Ά': '011111111011100111000',\n",
       " 'Α': '0101001111010111111',\n",
       " 'Ζ': '01010011011111100',\n",
       " 'Κ': '01111111101001101110',\n",
       " 'Π': '0101001101100111110',\n",
       " 'Ω': '011111111010011100',\n",
       " 'ά': '010100110010000',\n",
       " 'έ': '0111010010101010',\n",
       " 'ή': '0111110010011101',\n",
       " 'ί': '011111001010110111001',\n",
       " 'α': '01010011001000110',\n",
       " 'β': '010100110111110111100',\n",
       " 'γ': '0101001111100100111',\n",
       " 'δ': '011100011000101111',\n",
       " 'ε': '01010011011000010000',\n",
       " 'η': '01111100101001001',\n",
       " 'θ': '011111001011100101001',\n",
       " 'ι': '01010011011111011101',\n",
       " 'κ': '011100011011110010011',\n",
       " 'λ': '0101001111110111',\n",
       " 'μ': '0111000110111001',\n",
       " 'ν': '01010011011011100',\n",
       " 'ο': '01010011010001110',\n",
       " 'π': '01111100101100010',\n",
       " 'ρ': '011110010001110100',\n",
       " 'ς': '0101001111110101110',\n",
       " 'σ': '0101001100001011',\n",
       " 'τ': '01111001010010110',\n",
       " 'υ': '0101001111111011000',\n",
       " 'φ': '01010011111001010000',\n",
       " 'χ': '011100011001010011',\n",
       " 'ω': '0111000110111010011',\n",
       " 'ϊ': '0111000110111010110',\n",
       " 'ό': '010100111110000',\n",
       " 'ύ': '01111001010010011',\n",
       " 'ώ': '010100110011001011',\n",
       " 'А': '0101001111111011001101',\n",
       " 'В': '01111001011100011110',\n",
       " 'Г': '01111001010011011111',\n",
       " 'Д': '0111110010010010000',\n",
       " 'Е': '01010011011011010',\n",
       " 'Ж': '011100011001001000',\n",
       " 'З': '01010011111010111101',\n",
       " 'К': '0101001111010000001011',\n",
       " 'Л': '01010011111101100010',\n",
       " 'М': '01111001001111111',\n",
       " 'О': '01010011000011010001',\n",
       " 'П': '011100011010111001',\n",
       " 'С': '011111001001111010100',\n",
       " 'Т': '01110001101001100',\n",
       " 'Х': '0111000110111100111',\n",
       " 'Ш': '0111010010101001110',\n",
       " 'Э': '010100110011001111',\n",
       " 'а': '010100110011100',\n",
       " 'б': '0101001111100100110',\n",
       " 'в': '0101001101001010',\n",
       " 'г': '01010011111111',\n",
       " 'д': '011100011011001',\n",
       " 'е': '0101001101111100110',\n",
       " 'ж': '01111111101100101',\n",
       " 'з': '01010011110001',\n",
       " 'и': '011111111011000010',\n",
       " 'й': '011111001001001100',\n",
       " 'к': '01010011001001',\n",
       " 'л': '010100110011000',\n",
       " 'м': '011111111010001',\n",
       " 'н': '01111001010011010',\n",
       " 'о': '01111111101110011101',\n",
       " 'п': '0111110010101111100',\n",
       " 'р': '01010011111010111000',\n",
       " 'с': '0111110010011100',\n",
       " 'т': '01010011011011011',\n",
       " 'у': '011100011010101011',\n",
       " 'ф': '011111001010011010',\n",
       " 'х': '011100011001101000',\n",
       " 'ц': '01010011111011101001',\n",
       " 'ч': '01111100101001100100',\n",
       " 'ш': '01111100100100000',\n",
       " 'щ': '0111000110101010101',\n",
       " 'ъ': '0101001111011010000001',\n",
       " 'ы': '0111100101001011101',\n",
       " 'ь': '01111001011100010',\n",
       " 'э': '0111100100111001100011',\n",
       " 'я': '010100111101001110',\n",
       " 'і': '01111100101110011101',\n",
       " 'ї': '01111111101101',\n",
       " 'ј': '01111111101000001',\n",
       " 'љ': '011110010011101',\n",
       " 'њ': '01010011011001011',\n",
       " 'ў': '0111100101110001101',\n",
       " 'ғ': '011111111011000001',\n",
       " 'ҷ': '011111001010101110',\n",
       " 'Ա': '0101001111010101110',\n",
       " 'ա': '01111100101100011000',\n",
       " 'բ': '01010011111101000',\n",
       " 'գ': '011111001001111010101000',\n",
       " 'ե': '01111001010011111110',\n",
       " 'ի': '01111001000100000001',\n",
       " 'լ': '0111111110110011',\n",
       " 'ն': '0111010011011101000010',\n",
       " 'տ': '010100111110100011100',\n",
       " 'ր': '010100110001001010001',\n",
       " 'ַ': '010100110001010100111',\n",
       " 'ֿ': '01111100100100100101',\n",
       " 'א': '010100111101000000100',\n",
       " 'ב': '011111111010011001001001',\n",
       " 'ג': '01010011011000010100',\n",
       " 'ד': '01111100101110100100',\n",
       " 'ה': '01110100110100110',\n",
       " 'ו': '01110100101011001101',\n",
       " 'ז': '01111001010010100',\n",
       " 'ח': '0101001101001000',\n",
       " 'ט': '0111111110100110010010001',\n",
       " 'י': '010100110110000100011',\n",
       " 'ך': '0101001101000111100',\n",
       " 'כ': '01111001011001110111',\n",
       " 'ל': '010100110001001010000011',\n",
       " 'ם': '011101001101000010',\n",
       " 'מ': '010100110001001010000010',\n",
       " 'ן': '011111001010111110111',\n",
       " 'נ': '010100111101101110010',\n",
       " 'ס': '011111111011100000011',\n",
       " 'ע': '0111000110010000100100',\n",
       " 'פ': '01010011000100101000000',\n",
       " 'צ': '01010011111010011',\n",
       " 'ק': '0101001101001111011101',\n",
       " 'ר': '01111001011100011001101',\n",
       " 'ש': '010100111101011101',\n",
       " 'ת': '0111000110111101101111',\n",
       " 'ױ': '010100110011101000111',\n",
       " '،': '010100110011101011',\n",
       " 'ء': '01110001100010100',\n",
       " 'آ': '01111100101110110',\n",
       " 'أ': '01111111101111',\n",
       " 'إ': '010100110011001101',\n",
       " 'ئ': '010100111101011010',\n",
       " 'ا': '011110010110011001',\n",
       " 'ب': '0111110010011010100',\n",
       " 'ة': '01110001101111010',\n",
       " 'ت': '0101001101000010010',\n",
       " 'ث': '01110001101110000',\n",
       " 'ج': '0101001101001111001',\n",
       " 'ح': '011100011011101010',\n",
       " 'خ': '011111111010000000001',\n",
       " 'د': '01111001000110',\n",
       " 'ذ': '01111100101101011',\n",
       " 'ر': '01010011001100111001',\n",
       " 'ز': '01010011110010000',\n",
       " 'س': '011110010111101010100',\n",
       " 'ش': '0111100100010100111',\n",
       " 'ط': '0101001100001101001',\n",
       " 'ظ': '011101001101000000',\n",
       " 'ع': '01110001101010110',\n",
       " 'غ': '011110010111011',\n",
       " 'ف': '0101001111011010001',\n",
       " 'ق': '0101001111010000010',\n",
       " 'ك': '0111010010100',\n",
       " 'ل': '01111100101011110',\n",
       " 'م': '0111110010100110011',\n",
       " 'ن': '0111000110100110111',\n",
       " 'ه': '01110001100011000',\n",
       " 'و': '0111110010010010011',\n",
       " 'ى': '01110001100101111000',\n",
       " 'ي': '0101001100010101000',\n",
       " 'ً': '010100111101010011001',\n",
       " 'َ': '010100110100011111011',\n",
       " 'ُ': '011111111011100001000',\n",
       " 'ِ': '0111110010011110100',\n",
       " 'ّ': '011111001010101100',\n",
       " 'ْ': '0101001111101011111',\n",
       " 'پ': '0111100101000000001',\n",
       " 'چ': '0111100101100010',\n",
       " 'ډ': '0101001101100010',\n",
       " 'ک': '011110010011110011',\n",
       " 'گ': '01110001100110111001101',\n",
       " 'ی': '0101001101101111',\n",
       " 'ं': '01110100110100000101100',\n",
       " 'अ': '011111111011101101',\n",
       " 'आ': '011110010011001100101',\n",
       " 'ई': '01111001011100011100',\n",
       " 'ए': '010100110111110001',\n",
       " 'ऑ': '0111100100110011000',\n",
       " 'क': '011101001101000011',\n",
       " 'ग': '011111001010100',\n",
       " 'ज': '01010011111101101101',\n",
       " 'ञ': '011110010111010001001',\n",
       " 'ट': '0101001111001000100',\n",
       " 'ड': '01111001000101000',\n",
       " 'त': '010100111101001111000',\n",
       " 'थ': '0111100101000000101',\n",
       " 'न': '011100011010110000001',\n",
       " 'फ': '0111010011011101001',\n",
       " 'ब': '0111010011010010',\n",
       " 'म': '011110010001111001',\n",
       " 'य': '011110010100111111110',\n",
       " 'र': '01111111101110000101',\n",
       " 'ल': '0111000110101010001',\n",
       " 'व': '0101001101001110010',\n",
       " 'श': '011111001011101000',\n",
       " 'स': '0101001101111100001',\n",
       " 'ा': '01010011001110110',\n",
       " 'ि': '0111100101100101010100',\n",
       " 'ी': '01110001100110011',\n",
       " 'े': '010100111100100011101',\n",
       " 'ो': '0101001101000110',\n",
       " '्': '010100110011101000110',\n",
       " 'অ': '0111110010111000011',\n",
       " 'আ': '010100111101101000001',\n",
       " 'ই': '010100111101011011',\n",
       " 'উ': '01111001011100011101',\n",
       " 'এ': '01110001100101000',\n",
       " 'ক': '011110010001010101',\n",
       " 'গ': '0111010010101101111',\n",
       " 'ঙ': '011110010110011111',\n",
       " 'চ': '011111001001111010101001',\n",
       " 'জ': '01010011000010011',\n",
       " 'ট': '010100111101011110',\n",
       " 'ড': '011111001011100010',\n",
       " 'ণ': '0111110010111010011',\n",
       " 'ত': '0101001101101110111',\n",
       " 'দ': '010100110110011101100',\n",
       " 'ন': '010100111101001111001',\n",
       " 'প': '011100011001101001',\n",
       " 'ফ': '0111100101001010110',\n",
       " 'ব': '01010011110110110',\n",
       " 'ম': '0111000110111000110',\n",
       " 'য': '0111110010111000010011',\n",
       " 'র': '01111001001110011010',\n",
       " 'ল': '01010011010010110010',\n",
       " 'শ': '011111001001101011',\n",
       " 'স': '011110010100111000',\n",
       " 'হ': '01110001101011000001000',\n",
       " '়': '01010011011001110010111111',\n",
       " 'া': '01010011011001110010111110',\n",
       " 'ি': '011100011011101011100101',\n",
       " 'ী': '011101001101110100000',\n",
       " 'ু': '010100111111101100111',\n",
       " 'ূ': '01111001010010101000',\n",
       " 'ৃ': '0101001101001011000',\n",
       " 'ে': '011111001010110110',\n",
       " 'ো': '010100110100111110',\n",
       " '্': '01111001001110000',\n",
       " 'અ': '011100011010001110',\n",
       " 'આ': '01110001101110111',\n",
       " 'ઍ': '011111001011000111',\n",
       " 'એ': '0111111110111000111',\n",
       " 'ક': '011111111011100111001',\n",
       " 'ઘ': '011111001011100111111',\n",
       " 'ટ': '011100011001000010011',\n",
       " 'ત': '01010011111101100011',\n",
       " 'ન': '0111110010010001',\n",
       " 'ફ': '0101001101000001',\n",
       " 'ય': '011111001010111110100',\n",
       " 'ર': '01110001100110110',\n",
       " 'શ': '01010011110100000011',\n",
       " 'સ': '0101001101000111111',\n",
       " 'ા': '0111111110111000010011',\n",
       " 'િ': '0101001101001111011100',\n",
       " '્': '0101001101100101000',\n",
       " 'அ': '010100110110010101',\n",
       " 'ஆ': '0101001100010000',\n",
       " 'எ': '01111001001100001',\n",
       " 'ஐ': '0101001111101010',\n",
       " 'க': '0111010010111',\n",
       " 'ங': '01110001101000110101',\n",
       " 'ச': '0111110010100111',\n",
       " 'ஜ': '011111111011101111',\n",
       " 'ட': '0111100101110000',\n",
       " 'ண': '011101001010100110',\n",
       " 'த': '01010011110010001111',\n",
       " 'ன': '011110010111100',\n",
       " 'ப': '01111001010000111',\n",
       " 'ம': '010100111100111',\n",
       " 'ய': '01010011001000100111',\n",
       " 'ர': '0101001101101100',\n",
       " 'ற': '01110100110111010101',\n",
       " 'ல': '0111010010101001001',\n",
       " 'ள': '0111000110010001',\n",
       " 'ழ': '01010011001110100010',\n",
       " 'வ': '01111001000100000010',\n",
       " 'ஸ': '01110001100010001',\n",
       " 'ா': '011100011011111',\n",
       " 'ி': '0111100101110101001',\n",
       " 'ீ': '0111000110001110',\n",
       " 'ு': '0111010011011111101111',\n",
       " 'ெ': '010100111110111000',\n",
       " 'ே': '011110010011100010',\n",
       " 'ை': '0111111110100001',\n",
       " 'ொ': '0111000110111100101',\n",
       " 'ோ': '011111001001101100',\n",
       " '்': '01010011110111',\n",
       " 'ಆ': '0101001111101011000',\n",
       " 'ಐ': '0111100101000000111',\n",
       " 'ಕ': '01110001101011110',\n",
       " 'ಟ': '010100111111000',\n",
       " 'ತ': '01010011011011101100',\n",
       " 'ನ': '01111100101110111',\n",
       " 'ಪ': '011101001101011100',\n",
       " 'ಫ': '0101001111100010100',\n",
       " 'ಬ': '011101001101111011100',\n",
       " 'ರ': '010100110110011100100',\n",
       " 'ಲ': '011101001101111110110',\n",
       " 'ಶ': '0111100101111010101010',\n",
       " 'ಸ': '01010011001000100110',\n",
       " 'ಿ': '011111001011100101010',\n",
       " '್': '01111001011100011111',\n",
       " 'അ': '0111000110111011010',\n",
       " 'ഗ': '011110010100000000010',\n",
       " 'ഥ': '0101001101001111011110',\n",
       " 'ന': '0111100100111101010',\n",
       " 'ഫ': '01110001101111001000111',\n",
       " 'സ': '010100110011001110000',\n",
       " 'ാ': '010100110111110000010',\n",
       " 'ി': '011110010001000001',\n",
       " '്': '0111000110011011100111',\n",
       " 'ก': '01010011000011011',\n",
       " 'ข': '010100111101001011',\n",
       " 'ค': '01010011111011101011',\n",
       " 'ง': '011110010111000110011000',\n",
       " 'จ': '010100110011010',\n",
       " 'ช': '0111100100111001110111',\n",
       " 'ซ': '011110010100110111011',\n",
       " 'ฐ': '0111111110110000000',\n",
       " 'ณ': '0101001100111011100',\n",
       " 'ด': '01010011010100',\n",
       " 'ต': '01110001101011000001001',\n",
       " 'ถ': '0111100101001101101',\n",
       " 'ท': '0111010011011110111101',\n",
       " 'ธ': '0101001100100010001',\n",
       " 'น': '011110010110010101011',\n",
       " 'บ': '01111100100110011010011',\n",
       " 'ป': '0111000110100001',\n",
       " 'ฟ': '011111001001100110101',\n",
       " 'ภ': '010100110000110101',\n",
       " 'ม': '011111001011010100100',\n",
       " 'ย': '011101001010110101',\n",
       " 'ร': '011100011001101110010',\n",
       " 'ล': '0111110010101101110001',\n",
       " 'ว': '01010011111110100',\n",
       " 'ศ': '011110010010',\n",
       " 'ษ': '011111001001001111',\n",
       " 'ส': '0111000110111100100010',\n",
       " 'ห': '01010011010001111101000',\n",
       " 'อ': '011110010001000110110',\n",
       " 'ฮ': '010100110001010101',\n",
       " 'ะ': '011111001011100111000',\n",
       " 'ั': '010100111110100011101',\n",
       " 'า': '011110010100111111111',\n",
       " 'ิ': '01110001101011001',\n",
       " 'ี': '0111110010011000',\n",
       " 'ุ': '010100111101010011000',\n",
       " 'ู': '0111100101001100',\n",
       " 'ฺ': '0101001111010001',\n",
       " 'เ': '011101001010111',\n",
       " 'แ': '0101001100010101001101',\n",
       " 'โ': '0111100100111101011',\n",
       " 'ไ': '010100111110100011001',\n",
       " '่': '011100011010010',\n",
       " '์': '01010011110010101',\n",
       " 'က': '0111100100111110001',\n",
       " 'တ': '0111010010101001111100',\n",
       " 'ရ': '010100111111011010',\n",
       " 'ဟ': '0111100100111000110',\n",
       " 'အ': '0111000110010111101',\n",
       " 'ာ': '0101001101100110',\n",
       " 'ိ': '0111100100010001100',\n",
       " 'ု': '01010011110100100',\n",
       " '္': '01111001010010000100',\n",
       " 'ა': '011110010001000110111',\n",
       " 'ბ': '01010011010101',\n",
       " 'გ': '011110010110000',\n",
       " 'დ': '0101001100111100',\n",
       " 'ე': '0111111110110010001',\n",
       " 'ვ': '0111100101100100',\n",
       " 'ზ': '01110100110100111',\n",
       " 'თ': '010100110011111001',\n",
       " 'ი': '0101001111010000000',\n",
       " 'კ': '01010011111101101100',\n",
       " 'ლ': '0111100101000011011',\n",
       " 'მ': '01010011000101010010',\n",
       " 'ნ': '0111110010101100101',\n",
       " 'ო': '01110001101110100100',\n",
       " 'რ': '0101001101001111011111',\n",
       " 'ს': '010100111101101011',\n",
       " 'ტ': '010100110011001110001',\n",
       " 'უ': '0101001111010000001010',\n",
       " 'ფ': '010100110110001100',\n",
       " 'ქ': '011110010001110101',\n",
       " 'ღ': '0101001111100110',\n",
       " 'ყ': '01010011011111011111',\n",
       " 'შ': '0101001111111011001100',\n",
       " 'წ': '01010011111001111',\n",
       " 'ჰ': '011100011010001001',\n",
       " 'ላ': '01110001100101001000',\n",
       " 'ል': '01110100110111011',\n",
       " 'ሪ': '011110010111000110010',\n",
       " 'ቃ': '011111001001111011',\n",
       " 'ን': '0111000110011000',\n",
       " 'አ': '010100111101001010',\n",
       " 'ያ': '01110100110111100',\n",
       " 'ጄ': '0101001111101000000',\n",
       " 'ጎ': '0101001111001000101',\n",
       " 'ፍ': '0111111110100000011',\n",
       " 'Ꭰ': '011100011010011010',\n",
       " 'Ꮈ': '011100011011101000',\n",
       " 'Ꮒ': '0111000110100011011',\n",
       " 'Ꮗ': '0111100100011100110',\n",
       " 'Ꮿ': '0111100100011110100',\n",
       " 'ᐅ': '0101001101111111',\n",
       " 'ᐊ': '01010011110100110',\n",
       " 'ᐱ': '01110001100011001',\n",
       " 'ᑎ': '01111100101110011100100',\n",
       " 'ᑦ': '010100111110001011',\n",
       " 'ᑲ': '011100011010011110',\n",
       " 'ᒃ': '01010011110110111110',\n",
       " 'ᒋ': '01111100101110011100101',\n",
       " 'ᓂ': '01110100101010011110',\n",
       " 'ᓕ': '01010011001110111101',\n",
       " 'ᓗ': '0101001111111010101',\n",
       " 'ᓛ': '011110010100100000',\n",
       " 'ᓪ': '0111100100111000111111',\n",
       " 'ᓯ': '010100111111101101',\n",
       " 'ᓰ': '01110001100110010001',\n",
       " 'ᓴ': '01010011000101011',\n",
       " 'ᕆ': '010100110100101100110',\n",
       " 'ᕈ': '01010011110110000',\n",
       " 'ᕐ': '01110001101111011010',\n",
       " 'ᖅ': '0111110010010011010',\n",
       " 'ḥ': '0111111110100000010',\n",
       " 'ṣ': '0111100101110001100111',\n",
       " 'ạ': '011110010001110010',\n",
       " 'ả': '01111100101001100101',\n",
       " 'ầ': '011111111010011000',\n",
       " 'ẫ': '0111111110100000001',\n",
       " 'ậ': '0101001111110110000',\n",
       " 'ề': '01010011110110001',\n",
       " 'ệ': '01010011011000010101',\n",
       " 'ọ': '0111100100011110001',\n",
       " 'ổ': '0111000110100111001',\n",
       " 'ộ': '0111000110111000111',\n",
       " 'ờ': '011110010111010000',\n",
       " 'ữ': '011111001001001101110',\n",
       " 'ự': '0111000110001010101',\n",
       " 'ἀ': '01111001010011110',\n",
       " 'ἄ': '011111111010011110',\n",
       " 'Ἀ': '011110010100101111',\n",
       " 'ἔ': '01111001011101000101',\n",
       " 'ἣ': '011110010100001100',\n",
       " 'ὐ': '010100111110010100011',\n",
       " 'ὰ': '0111100101000001110',\n",
       " 'ῆ': '011110010111010001000',\n",
       " 'ῖ': '0111110010101011011',\n",
       " '\\u200c': '0101001100010001',\n",
       " '\\u200d': '011101001010110000',\n",
       " '‐': '0101001111011010100',\n",
       " '–': '011111111011000011',\n",
       " '—': '01010011100',\n",
       " '‘': '01010011001101101',\n",
       " '’': '01111100101111',\n",
       " '“': '0111110010101111101101',\n",
       " '”': '01111001010001',\n",
       " '•': '011100011010000011',\n",
       " '…': '01110100101010000',\n",
       " 'ⁿ': '01010011110010100',\n",
       " '™': '0101001111110101010',\n",
       " '←': '0111110010011001100',\n",
       " '→': '01110100101010011111010',\n",
       " '↵': '01111001010000000000',\n",
       " '∀': '0101001100100010000',\n",
       " '−': '01111001011110101001',\n",
       " '≈': '01111100100100001',\n",
       " '○': '0111000110010000000',\n",
       " '●': '01111001011101001',\n",
       " '\\u3000': '010100111110101110010',\n",
       " 'あ': '011100011010111111',\n",
       " 'く': '011111001001111000100',\n",
       " 'さ': '01110100101011001100',\n",
       " 'す': '0111000110101010100',\n",
       " 'そ': '011111001011101010',\n",
       " 'と': '010100110110011101101',\n",
       " 'の': '0111000110011001001',\n",
       " 'ば': '011101001101111011111',\n",
       " 'み': '010100110011001000',\n",
       " 'め': '0101001101100111001010',\n",
       " 'ゆ': '011110010011001100100',\n",
       " 'る': '01110001100110111000',\n",
       " 'ろ': '0111110010101101111',\n",
       " 'を': '010100110011001001',\n",
       " 'ん': '0111110010011110001011',\n",
       " 'ァ': '011111001011100110',\n",
       " 'ア': '0111110010111001011',\n",
       " 'ィ': '01010011011000010110',\n",
       " 'イ': '0111111110110001',\n",
       " 'ゥ': '010100110100111000',\n",
       " 'ウ': '0111100100011110101',\n",
       " 'ェ': '01010011011010',\n",
       " 'エ': '0111000110011001010',\n",
       " 'オ': '0111110010110101010',\n",
       " 'カ': '011111001001101110',\n",
       " 'ガ': '01110001100010111011',\n",
       " 'キ': '0111010011010000010111',\n",
       " 'ク': '0111110010100101',\n",
       " 'ケ': '0101001100000',\n",
       " 'コ': '0101001100001000',\n",
       " 'ゴ': '0101001111111001',\n",
       " 'サ': '011110010111101011',\n",
       " 'シ': '0111100100110001',\n",
       " 'ジ': '01010011011000011',\n",
       " 'ス': '01110001100110111001100',\n",
       " 'ズ': '011111111010011001000',\n",
       " 'ゼ': '0101001101001111010',\n",
       " 'タ': '0111111110110010000',\n",
       " 'ダ': '011111111010011101001',\n",
       " 'チ': '01010011010011110110',\n",
       " 'ッ': '0111000110010100101',\n",
       " 'ツ': '0111010011011111100',\n",
       " 'テ': '01111111101110010',\n",
       " 'デ': '0111100101110001100110010',\n",
       " 'ト': '011111001011101011',\n",
       " 'ド': '01110001101000110100',\n",
       " 'ナ': '011110010011110111',\n",
       " 'ニ': '0111100100010100110',\n",
       " 'ヌ': '011111111011100010',\n",
       " 'ネ': '011100011001011011',\n",
       " 'ハ': '011111111011101011',\n",
       " 'バ': '0101001111001011',\n",
       " 'パ': '011100011010101001',\n",
       " 'ビ': '01111001001110011101100',\n",
       " 'フ': '01111100101011011101',\n",
       " 'ブ': '0101001101100111111',\n",
       " 'ベ': '01111111101000000001',\n",
       " 'ペ': '0111111110100110110',\n",
       " 'ポ': '011111001010011000',\n",
       " 'マ': '0101001100100010010',\n",
       " 'ミ': '0101001101000011',\n",
       " 'ム': '01111100100111101010101',\n",
       " 'メ': '01010011110110100001',\n",
       " 'モ': '0101001100111010000',\n",
       " 'ュ': '011110010011100011110',\n",
       " 'ョ': '01110100110111010001',\n",
       " 'ラ': '011110010001010100',\n",
       " 'リ': '01110001101010111',\n",
       " 'ル': '0101001111101110011',\n",
       " 'レ': '010100110111110111101',\n",
       " 'ロ': '01110100110111101111000',\n",
       " 'ン': '01010011110101110010',\n",
       " '・': '0111010011010001',\n",
       " 'ー': '0101001111111010100',\n",
       " '一': '0111111110110000001110',\n",
       " '上': '01111111101001101111',\n",
       " '下': '0111000110101100000101',\n",
       " '业': '01111100101011000',\n",
       " '両': '01010011111001110',\n",
       " '两': '010100110011111000',\n",
       " '主': '0101001111110101011',\n",
       " '义': '010100111110111011',\n",
       " '亚': '011111111011101100',\n",
       " '亜': '0101001101100101001',\n",
       " '亞': '0101001100110011001',\n",
       " '人': '0101001101000111110101',\n",
       " '会': '011110010001110110',\n",
       " '伯': '0111000110010000001',\n",
       " '像': '011101001010100101',\n",
       " '元': '0111000110011001011',\n",
       " '克': '01111111101001100101',\n",
       " '六': '01010011110100111101',\n",
       " '兰': '011101001101010001',\n",
       " '农': '011100011000110111',\n",
       " '冰': '0111110010111001110011',\n",
       " '准': '011101001010110001',\n",
       " '击': '0111111110111000010010',\n",
       " '列': '01110001101110100101',\n",
       " '利': '01111001000111001110',\n",
       " '剖': '01010011011001110111',\n",
       " '加': '0111000110101101',\n",
       " '动': '01010011111010001101',\n",
       " '動': '01010011110101100',\n",
       " '勸': '011100011010111110001',\n",
       " '北': '01010011110101000100',\n",
       " '午': '0111100101000000110100',\n",
       " '华': '0111111110111000011',\n",
       " '南': '01111001000100000000',\n",
       " '卡': '011100011000101011',\n",
       " '原': '0101001111011011101',\n",
       " '及': '01111001010011011110',\n",
       " '叔': '0111100101000000100',\n",
       " '古': '010100111110100101',\n",
       " '号': '0111111110100110010010000',\n",
       " '含': '01111001010000001101011',\n",
       " '告': '011110010001000111',\n",
       " '员': '01110001100010111010',\n",
       " '哥': '01111001010000100',\n",
       " '喜': '0111000110011010100',\n",
       " '回': '01111001011100011000',\n",
       " '因': '011111001011010101100',\n",
       " '园': '010100110100001000',\n",
       " '国': '010100110110111010',\n",
       " '地': '010100111110100011000',\n",
       " '坂': '01111001010000010',\n",
       " '均': '01110001100110010000',\n",
       " '坦': '010100111101010110',\n",
       " '基': '01111001001111101',\n",
       " '場': '01010011111110000',\n",
       " '塩': '0111100101100111010',\n",
       " '士': '011111001010111110101',\n",
       " '外': '011111001001111001',\n",
       " '多': '011100011000110110',\n",
       " '大': '0101001111011010101',\n",
       " '天': '01110100101010011111011',\n",
       " '太': '0111000110111101101110',\n",
       " '奖': '01110001100101001001',\n",
       " '奥': '0101001111110110111',\n",
       " '女': '011101001101000001011010',\n",
       " '媽': '010100111111010110',\n",
       " '子': '0111000110001111',\n",
       " '孔': '0111010010101001000',\n",
       " '字': '011111111011001001',\n",
       " '学': '011100011011110110110',\n",
       " '學': '01010011011001110011',\n",
       " '宇': '0101001101100001001',\n",
       " '安': '01010011110101001101',\n",
       " '宙': '0101001101111110111',\n",
       " '宴': '01110001101011101',\n",
       " '家': '010100110111110110',\n",
       " '富': '01110100110101000000',\n",
       " '小': '01111111101001100111',\n",
       " '少': '01010011000010010',\n",
       " '尔': '01010011010010111',\n",
       " '尼': '0111111110100111011',\n",
       " '属': '0111100100111001111',\n",
       " '屬': '011111001010110011',\n",
       " '州': '01111001010011101',\n",
       " '巴': '011110010001001',\n",
       " '布': '011101001010110110',\n",
       " '平': '011111001001001110',\n",
       " '庄': '0111110010111000001',\n",
       " '序': '01111001001111001000',\n",
       " '府': '011101001010110100',\n",
       " '廷': '0111111110111010100',\n",
       " '德': '0111000110111101100',\n",
       " '懶': '010100111110010010011',\n",
       " '戈': '0111111110110000001111',\n",
       " '手': '0111100100011110110',\n",
       " '扎': '01010011110100001',\n",
       " '抗': '01010011111001001000',\n",
       " '拉': '0111110010101110',\n",
       " '推': '0111000110001011100',\n",
       " '摆': '010100110100111111',\n",
       " '摩': '01010011000100101001',\n",
       " '政': '011110010110011110',\n",
       " '散': '01110001101111001000110',\n",
       " '数': '010100110111110000011',\n",
       " '文': '010100110100101100111',\n",
       " '斯': '0101001111010111000',\n",
       " '族': '01110001100100001001010',\n",
       " '无': '0101001111011001',\n",
       " '星': '011111001001010',\n",
       " '昧': '01110001100101110',\n",
       " '昱': '01110001101110101110011',\n",
       " '時': '011111001011010100101',\n",
       " '曖': '01111001001110011100',\n",
       " '期': '0101001111101011001',\n",
       " '本': '01111001000100000011',\n",
       " '术': '0101001111100011',\n",
       " '李': '010100111100100011100',\n",
       " '条': '0111010011011111111',\n",
       " '极': '0111010011011101000011',\n",
       " '林': '010100110110001101',\n",
       " '枪': '01111001010010000101',\n",
       " '标': '0111000110010010011',\n",
       " '栖': '0111000110101100001',\n",
       " '根': '0111110010111000000',\n",
       " '業': '01010011111001000',\n",
       " '極': '0101001101100111001011110',\n",
       " '步': '01111001010000001100',\n",
       " '母': '011111111011101000',\n",
       " '比': '0111100101111011',\n",
       " '汗': '011110010001010010',\n",
       " '河': '011111001010101111',\n",
       " '治': '01111001010010001',\n",
       " '法': '0111110010011110000',\n",
       " '波': '01010011000100110',\n",
       " '洋': '0111000110011011110',\n",
       " '洲': '010100110001011',\n",
       " '海': '01111001011110100',\n",
       " '漁': '01111001001111100001',\n",
       " '澳': '011100011011110111',\n",
       " '炼': '011111111010011111',\n",
       " '烃': '01010011110101010',\n",
       " '烈': '011110010110011100',\n",
       " '烷': '011110010110011000',\n",
       " '爱': '011101001101000001010',\n",
       " '物': '010100111111001',\n",
       " '特': '01010011011111011100',\n",
       " '琉': '010100110000111',\n",
       " '瑟': '011101001101011101',\n",
       " '生': '0101001101001111000',\n",
       " '男': '01111111101001110101110',\n",
       " '画': '011111001001100111',\n",
       " '番': '01010011110101110011',\n",
       " '症': '01010011011101',\n",
       " '的': '0111111110100110010011',\n",
       " '盘': '01010011001111101',\n",
       " '碱': '011110010100000110',\n",
       " '社': '01111100101011111011001',\n",
       " '空': '01010011010010010',\n",
       " '突': '01111001011110101000',\n",
       " '第': '0111110010101100100',\n",
       " '算': '0111000110010000101',\n",
       " '类': '010100110100101101',\n",
       " '系': '011111001001001101111',\n",
       " '素': '01110100110101000001',\n",
       " '綱': '0111110010110101000',\n",
       " '罕': '0111100100011110000',\n",
       " '罗': '0111110010011110101011',\n",
       " '美': '011111111011101110',\n",
       " '考': '01111100100110011011',\n",
       " '者': '011100011011100010',\n",
       " '肩': '0111100101110100011',\n",
       " '肯': '011100011010001000',\n",
       " '脇': '0111100101001000011',\n",
       " '脱': '0101001111100100101',\n",
       " '臥': '0111100101000001111',\n",
       " '自': '01111100100100100100',\n",
       " '舌': '0111000110111011011',\n",
       " '航': '01110001100011010',\n",
       " '艾': '01110100110100000100',\n",
       " '茵': '01110001100101100',\n",
       " '草': '0101001101100100',\n",
       " '薩': '010100111101010000',\n",
       " '藏': '0111010011010100111',\n",
       " '藻': '011100011010011111',\n",
       " '蘭': '011110010011110110',\n",
       " '虎': '01110100101010001',\n",
       " '行': '010100110110000100010',\n",
       " '術': '0101001100111011101',\n",
       " '表': '0101001111101000001',\n",
       " '西': '0111000110111100110',\n",
       " '解': '0111010011010000011',\n",
       " '訴': '0111111110100111010110',\n",
       " '語': '01111001011100100',\n",
       " '语': '011111001011010101101',\n",
       " '賞': '011111001011100001000',\n",
       " '负': '01010011011111010',\n",
       " '赵': '010100110000110100000',\n",
       " '輻': '0111100101001101100',\n",
       " '農': '01111001011001010100',\n",
       " '达': '0111110010101011010',\n",
       " '造': '0111000110100000101',\n",
       " '道': '01110001100100101',\n",
       " '避': '01111100101101010111',\n",
       " '酸': '011110010011111001',\n",
       " '里': '01010011111110111',\n",
       " '重': '0101001111001000110',\n",
       " '金': '011100011011101011101',\n",
       " '錬': '01010011001000101',\n",
       " '閉': '011111001011100011',\n",
       " '間': '01111001010010101001',\n",
       " '闪': '0101001111011011110',\n",
       " '阿': '0101001101111110110',\n",
       " '院': '01010011111010111100',\n",
       " '陳': '010100111110010101',\n",
       " '陸': '011111001010011011',\n",
       " '際': '0101001111010101111',\n",
       " '非': '0111110010101101110000',\n",
       " '領': '01111001001110001110',\n",
       " '類': '0111110010101010',\n",
       " '飛': '011111001011100111110',\n",
       " '食': '0101001111011011100111',\n",
       " '飲': '01111100101110100101',\n",
       " '馬': '01010011110110111111',\n",
       " '魚': '0101001100111111',\n",
       " '魯': '011101001010110010',\n",
       " '鰭': '0101001101001110011',\n",
       " '龍': '01111100101100011010',\n",
       " '가': '01110001100100001000',\n",
       " '격': '0111010011011110110',\n",
       " ...}"
      ]
     },
     "execution_count": 132,
     "metadata": {},
     "output_type": "execute_result"
    }
   ],
   "source": [
    "huffman.codebook([idx2char[index], tensor.numpy()] for index, tensor in enumerate(prediction))"
   ]
  },
  {
   "cell_type": "code",
   "execution_count": 150,
   "metadata": {},
   "outputs": [
    {
     "data": {
      "text/plain": [
       "25524"
      ]
     },
     "execution_count": 150,
     "metadata": {},
     "output_type": "execute_result"
    }
   ],
   "source": [
    "article = articles[120].decode('utf-8')\n",
    "len(article)"
   ]
  },
  {
   "cell_type": "code",
   "execution_count": 192,
   "metadata": {},
   "outputs": [
    {
     "name": "stdout",
     "output_type": "stream",
     "text": [
      "10001010100001101110011111111110110101010111111111001011001111011101111111000110011000111110100111111100111100110110111100111110111110110111110010011111011110100001100011111111001011111111111011110001111100100111111010101100110111111111101111111111110001110101001010100111111001110111111100100111111011111011111111001011100011110010010100011110101011101101011111010000001111111111101111101111000111111001011011111011111101010101111111001110110000110001110101100111111100111111011111011010100010011101110111011111100111100011100101111101110111111111000010110111111100000111111111000011111111111111000010110011111111001111101111110111001101110111101010111101001101111111011101111110011010101111101101011111111010001111101111111111011101011000111110111010001011100111111101101011110111111111111011111000110111101101101001100010111111111111111000101010011101101101101000111011100110110100011000111110101110110101111111000100111111001010111001110111111111011111011111111111101010111011100000000111111101111101011011100111111110100011001011101000111011010111101111111001101011011011100101101110111100011111101000101110111110111000111010010011111111100100011101110111111100110101100000010011111101011011111101011111110110111111011011111011011000111011111111111100100101010110001111010001110101110001111111110010001110001001111111011100110011111111110010111100110111011011100000111101111001011111111011100111101110011001111111110001000111111011100101001111100110111111100001111111111111110100110000110010101111111000111100101111110111111001011000101001110111010100001110000100011001011111110110001111111110111111001010110011111010011110111011000111111011100111100010111001111011111111111110110110111001110101101101110101101101111111110110111110100111101101110111111000100110001110111111101101101101011001100011111100111111100100110011101001101000001011100100011110101100011000111111000111111011011111111100101110111100010111111111001011110101110000010000111011110101111101110111010111011111111111110111001010011100111111001111111111111111101010001111111101110000110101111110010111111011111101111111111011101011111110111101111011110011101111111111111110101101101111111111101011101111111110111101011110101110101111010001000111111111110011110111110001101101111011110101111111101111010111011111001101001111011110111110110111110011010111010100001011111011111001111110101011111001101010101010011111000000011100010111110100110010010011111101101110000110111111111010011111001010111100000001111111000100101110110000110110100011011111111100011011111001101010111011101011101111111001111001111111101100010110011111111011100011001011011111010111101110011111101101011111011010111100110111111111101111111011011010010011111011100010011010111111011111101101111100111010111100001100100000001111110000100011101110100010000110111111111111111010111111101111000101001011101111111101101110101101011011101010101010111110011001111101110100010010100111101111111111010111111101111011011001110011110011100111111101101111011110011011011110000111110110001001101011011111010111100001110011110001100111100111111100101010100110111111010101111001000111111111001101101111111101010011111101001111110110110111010110011010001110101101111010000001110011101111100111001111100111011010011100001000010110111001001110011111111111111001010000001111111100100011111110010111011011111101001101011110111000011111111101110001111101101111111000101100110010001011001100011111101100010100111111110111011110110010111101101100001011111001100110011111110111010011111111110010111101111010110101010111010110110110110111110100011111101111001100110110111110010111111111111111111001110110010011111110111101001011011111110010111111100101110010111110111011011111111101111111101001100111000000110010111010010011111110111111101110001100111101001010100011000000010011101111111110100001101100011111100101111111111000011010111111111111101000000010011110111100001001001111010101010101101110111001010111001101111110000110011111011111000110111100001101111000000100111110000011110001110111101110111010011100111110100010011111111101101001011100101011101111110100101101100001111111111111111111111111111010011010101111110111111111111111001110001001001111101101110111101101001111111111110110001111101111110110110110010111000110111111111111111011100111110111111001111110011101111111001111110111111001001111110100100110100111010111011111001011111110101001101000001110111100111011100000111011110000111110011010010100011111110100111111101100010000010011010100111100010111101111110101111011110111010010111000100011111001001010011101100111101100100010100101110100101110111010111011011111110011101101011101110011111000110010100111111111111111110011110111111011101010100100111001000001111111111101001111111110101011111111111001110000001001100110111100011111111011011111101001111011111001011010110011111000110111000\n",
      "Total length: 4823\n"
     ]
    }
   ],
   "source": [
    "def huffman_archive(model, text):\n",
    "    archived = ''\n",
    "    input_eval = [char2idx[s] for s in ' ']\n",
    "    input_eval = tf.expand_dims(input_eval, 0)\n",
    "  \n",
    "    # Empty string to store our results\n",
    "    text_generated = []\n",
    "\n",
    "    model.reset_states()\n",
    "\n",
    "    for character in text:\n",
    "        predictions = model(input_eval)\n",
    "        # remove the batch dimension\n",
    "        predictions = tf.squeeze(predictions, 0)\n",
    "  \n",
    "        probabilities = tf.nn.softmax(predictions[0])\n",
    "        codebook = huffman.codebook([index, tensor.numpy()] for index, tensor in enumerate(probabilities))\n",
    "\n",
    "        code = codebook[char2idx[character]]\n",
    "        print(code, end='')\n",
    "        archived += code\n",
    "\n",
    "        # using a categorical distribution to predict the character returned by the model\n",
    "        predicted_id = tf.random.categorical(predictions, num_samples=1)[-1,0].numpy()\n",
    "\n",
    "        input_eval = tf.expand_dims([char2idx[character]], 0)\n",
    "  \n",
    "    return archived\n",
    "\n",
    "archived = huffman_archive(model, article[:2500])\n",
    "print('\\nTotal length:', len(archived))"
   ]
  },
  {
   "cell_type": "markdown",
   "metadata": {},
   "source": [
    "Прави впечатление, че доста по-често имаме \"1\" в изхода. Използвайки [аритметично кодиране](https://en.wikipedia.org/wiki/Arithmetic_coding) бихме могли да смъкнем още малко от размера..."
   ]
  },
  {
   "cell_type": "code",
   "execution_count": 193,
   "metadata": {},
   "outputs": [
    {
     "data": {
      "text/plain": [
       "3196"
      ]
     },
     "execution_count": 193,
     "metadata": {},
     "output_type": "execute_result"
    }
   ],
   "source": [
    "len(list(filter(lambda x: x == '1', archived)))"
   ]
  },
  {
   "cell_type": "code",
   "execution_count": 207,
   "metadata": {},
   "outputs": [
    {
     "data": {
      "text/plain": [
       "0.9222523478954188"
      ]
     },
     "execution_count": 207,
     "metadata": {},
     "output_type": "execute_result"
    }
   ],
   "source": [
    "k = (3196 / 4823)\n",
    "-k * np.log2(k) - (1-k) * np.log2(1-k)"
   ]
  },
  {
   "cell_type": "markdown",
   "metadata": {},
   "source": [
    "С подобна имплементация, с текущата невронна мрежа, с кодиране на Huffman и аритметична компресия можем да предположим за размер на файла в мегабайти:"
   ]
  },
  {
   "cell_type": "code",
   "execution_count": 208,
   "metadata": {},
   "outputs": [
    {
     "data": {
      "text/plain": [
       "197.4381864"
      ]
     },
     "execution_count": 208,
     "metadata": {},
     "output_type": "execute_result"
    }
   ],
   "source": [
    "0.922 * 4823 / (2500 * 8) * 888"
   ]
  },
  {
   "cell_type": "code",
   "execution_count": 198,
   "metadata": {},
   "outputs": [
    {
     "name": "stdout",
     "output_type": "stream",
     "text": [
      "\n",
      "Total length: 50773\n"
     ]
    }
   ],
   "source": [
    "def huffman_archive_size(model, text):\n",
    "    archived_size = 0\n",
    "    input_eval = [char2idx[s] for s in ' ']\n",
    "    input_eval = tf.expand_dims(input_eval, 0)\n",
    "  \n",
    "    # Empty string to store our results\n",
    "    text_generated = []\n",
    "\n",
    "    model.reset_states()\n",
    "\n",
    "    for character in text:\n",
    "        predictions = model(input_eval)\n",
    "        # remove the batch dimension\n",
    "        predictions = tf.squeeze(predictions, 0)\n",
    "  \n",
    "        probabilities = tf.nn.softmax(predictions[0])\n",
    "        codebook = huffman.codebook([index, tensor.numpy()] for index, tensor in enumerate(probabilities))\n",
    "\n",
    "        code = codebook[char2idx[character]]\n",
    "        archived_size += len(code)\n",
    "\n",
    "        # using a categorical distribution to predict the character returned by the model\n",
    "        predicted_id = tf.random.categorical(predictions, num_samples=1)[-1,0].numpy()\n",
    "\n",
    "        input_eval = tf.expand_dims([char2idx[character]], 0)\n",
    "  \n",
    "    return archived_size\n",
    "\n",
    "archived_size = huffman_archive_size(model, article)\n",
    "print('\\nTotal length:', archived_size)"
   ]
  },
  {
   "cell_type": "markdown",
   "metadata": {},
   "source": [
    "Нека видим каква компресия сме постигнали по-дълъг текст:"
   ]
  },
  {
   "cell_type": "code",
   "execution_count": 202,
   "metadata": {},
   "outputs": [
    {
     "data": {
      "text/plain": [
       "0.2486532283341169"
      ]
     },
     "execution_count": 202,
     "metadata": {},
     "output_type": "execute_result"
    }
   ],
   "source": [
    "archived_size / (len(article) * 8)"
   ]
  },
  {
   "cell_type": "code",
   "execution_count": null,
   "metadata": {},
   "outputs": [],
   "source": []
  }
 ],
 "metadata": {
  "kernelspec": {
   "display_name": "Python 3",
   "language": "python",
   "name": "python3"
  },
  "language_info": {
   "codemirror_mode": {
    "name": "ipython",
    "version": 3
   },
   "file_extension": ".py",
   "mimetype": "text/x-python",
   "name": "python",
   "nbconvert_exporter": "python",
   "pygments_lexer": "ipython3",
   "version": "3.7.5"
  }
 },
 "nbformat": 4,
 "nbformat_minor": 4
}
