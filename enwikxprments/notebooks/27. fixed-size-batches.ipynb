{
 "cells": [
  {
   "cell_type": "code",
   "execution_count": 1,
   "metadata": {},
   "outputs": [],
   "source": [
    "import itertools\n",
    "import os\n",
    "\n",
    "import numpy as np\n",
    "import tensorflow as tf\n",
    "import tensorflow_datasets as tfds\n",
    "\n",
    "physical_devices = tf.config.list_physical_devices('GPU')\n",
    "for physical_device in physical_devices:\n",
    "    tf.config.experimental.set_memory_growth(physical_device, enable=True)"
   ]
  },
  {
   "cell_type": "code",
   "execution_count": 2,
   "metadata": {},
   "outputs": [],
   "source": [
    "BATCH_SIZE = 4096\n",
    "BATCHED_ITEM_LENGTH = 12\n",
    "TYPE=np.int16\n",
    "\n",
    "subword_text_encoder = tfds.features.text.SubwordTextEncoder.load_from_file('vocab_4096')\n",
    "\n",
    "class Articles:\n",
    "    def __init__(self, path):\n",
    "        with open(path, 'rb') as text_file:\n",
    "            articles = [subword_text_encoder.encode(article) for article in text_file.read().split(b'\\0')]\n",
    "            self.articles = sorted(articles, key=len)\n",
    "\n",
    "    def articles_generator(self, start, end):\n",
    "        for _ in range(BATCH_SIZE - ((end - start - 1) % BATCH_SIZE + 1)):\n",
    "            yield np.array([], dtype=TYPE)\n",
    "\n",
    "        for article in itertools.islice(self.articles, start, end):\n",
    "            yield np.array(article, dtype=TYPE)\n",
    "\n",
    "    def subbatch_generator(self, start, end):\n",
    "        dataset = tf.data.Dataset.from_generator(self.articles_generator, args=(start, end), output_types=TYPE)\n",
    "        dataset = dataset.padded_batch(BATCH_SIZE, padded_shapes=([None]), drop_remainder=True)\n",
    "        dataset = dataset.shuffle(50)\n",
    "\n",
    "        for batch in dataset.as_numpy_iterator():\n",
    "            remaining = batch\n",
    "            while remaining.shape[1] > 1:\n",
    "                yield remaining[:, :BATCHED_ITEM_LENGTH + 1]\n",
    "                remaining = remaining[:, BATCHED_ITEM_LENGTH:]\n",
    "\n",
    "    def dataset(self, start, end):\n",
    "        dataset = tf.data.Dataset.from_generator(self.subbatch_generator, args=(start, end), output_types=TYPE, output_shapes=(BATCH_SIZE, None))\n",
    "        return dataset.map(lambda batch: (batch[:, :-1], batch[:, 1:]))"
   ]
  },
  {
   "cell_type": "code",
   "execution_count": 3,
   "metadata": {},
   "outputs": [],
   "source": [
    "def build_model(vocab_size, embedding_dim, rnn_units):\n",
    "    return tf.keras.Sequential([\n",
    "        tf.keras.layers.Masking(mask_value=0, batch_input_shape=[BATCH_SIZE, None]),\n",
    "        tf.keras.layers.Embedding(vocab_size, embedding_dim),\n",
    "        tf.keras.layers.GRU(rnn_units, return_sequences=True, stateful=True, recurrent_initializer='glorot_uniform'),\n",
    "        tf.keras.layers.GRU(rnn_units, return_sequences=True, stateful=True, recurrent_initializer='glorot_uniform'),\n",
    "        tf.keras.layers.GRU(rnn_units, return_sequences=True, stateful=True, recurrent_initializer='glorot_uniform'),\n",
    "        tf.keras.layers.Dense(vocab_size),\n",
    "    ])"
   ]
  },
  {
   "cell_type": "code",
   "execution_count": 4,
   "metadata": {},
   "outputs": [],
   "source": [
    "checkpoint_dir = './training_checkpoints-2' # Directory where the checkpoints will be saved\n",
    "checkpoint_prefix = os.path.join(checkpoint_dir, \"ckpt_{epoch}\") # Name of the checkpoint files\n",
    "\n",
    "checkpoint_callback = tf.keras.callbacks.ModelCheckpoint(filepath=checkpoint_prefix, save_weights_only=True)\n",
    "\n",
    "class ModelStateResetter(tf.keras.callbacks.Callback):\n",
    "    def __init__(self):\n",
    "        self.last_total_length = 0\n",
    "\n",
    "    def on_batch_end(self, batch, logs={}):\n",
    "        average_batch_length = logs.get('average_batch_length', 0)\n",
    "        total_length = int(round(average_batch_length * (batch + 1)))\n",
    "        current_batch_length = total_length - self.last_total_length\n",
    "        self.last_total_length = total_length\n",
    "        \n",
    "        if current_batch_length < BATCHED_ITEM_LENGTH:\n",
    "            self.model.reset_states()\n",
    "        \n",
    "model_state_resetter_callback = ModelStateResetter()\n",
    "\n",
    "def loss(labels, logits):\n",
    "    return tf.keras.losses.sparse_categorical_crossentropy(labels, logits, from_logits=True)\n",
    "\n",
    "def average_batch_length(true_labels, predictions):\n",
    "    return tf.shape(true_labels)[1]\n",
    "\n",
    "model = build_model(vocab_size = subword_text_encoder.vocab_size, embedding_dim=512, rnn_units=768)\n",
    "# model.load_weights(tf.train.latest_checkpoint(checkpoint_dir))\n",
    "model.compile(optimizer='adam', loss=loss, metrics=[average_batch_length])"
   ]
  },
  {
   "cell_type": "code",
   "execution_count": 5,
   "metadata": {},
   "outputs": [],
   "source": [
    "articles = Articles('page_revisions_text')"
   ]
  },
  {
   "cell_type": "code",
   "execution_count": 7,
   "metadata": {},
   "outputs": [
    {
     "name": "stdout",
     "output_type": "stream",
     "text": [
      "Epoch 1/5\n",
      "2043/2043 [==============================] - 1477s 723ms/step - loss: 5.5208 - average_batch_length: 11.8811\n",
      "Epoch 2/5\n",
      "2043/2043 [==============================] - 1490s 729ms/step - loss: 3.6331 - average_batch_length: 11.8811\n",
      "Epoch 3/5\n",
      "2043/2043 [==============================] - 1448s 709ms/step - loss: 3.0572 - average_batch_length: 11.8811\n",
      "Epoch 4/5\n",
      "2043/2043 [==============================] - 1447s 708ms/step - loss: 2.8742 - average_batch_length: 11.8811\n",
      "Epoch 5/5\n",
      "2043/2043 [==============================] - 1446s 708ms/step - loss: 2.7525 - average_batch_length: 11.8811\n"
     ]
    },
    {
     "data": {
      "text/plain": [
       "<tensorflow.python.keras.callbacks.History at 0x1e5f2c07188>"
      ]
     },
     "execution_count": 7,
     "metadata": {},
     "output_type": "execute_result"
    }
   ],
   "source": [
    "model.fit(articles.dataset(0, 200000), epochs=5, callbacks=[checkpoint_callback, model_state_resetter_callback])"
   ]
  },
  {
   "cell_type": "code",
   "execution_count": 8,
   "metadata": {},
   "outputs": [
    {
     "name": "stdout",
     "output_type": "stream",
     "text": [
      "Epoch 1/5\n",
      "2043/2043 [==============================] - 1445s 707ms/step - loss: 2.6584 - average_batch_length: 11.8811\n",
      "Epoch 2/5\n",
      "2043/2043 [==============================] - 1445s 707ms/step - loss: 2.6383 - average_batch_length: 11.8811\n",
      "Epoch 3/5\n",
      "2043/2043 [==============================] - 1445s 707ms/step - loss: 2.5405 - average_batch_length: 11.8811\n",
      "Epoch 4/5\n",
      "2043/2043 [==============================] - 1445s 707ms/step - loss: 2.5072 - average_batch_length: 11.8811\n",
      "Epoch 5/5\n",
      "2043/2043 [==============================] - 1463s 716ms/step - loss: 2.4576 - average_batch_length: 11.8811\n"
     ]
    },
    {
     "data": {
      "text/plain": [
       "<tensorflow.python.keras.callbacks.History at 0x1e5f2e5a448>"
      ]
     },
     "execution_count": 8,
     "metadata": {},
     "output_type": "execute_result"
    }
   ],
   "source": [
    "model.fit(articles.dataset(0, 200000), epochs=5, callbacks=[checkpoint_callback, model_state_resetter_callback])"
   ]
  },
  {
   "cell_type": "code",
   "execution_count": 18,
   "metadata": {},
   "outputs": [
    {
     "name": "stdout",
     "output_type": "stream",
     "text": [
      "29761/29761 [==============================] - 20896s 702ms/step - loss: 0.5309 - average_batch_length: 11.9978\n"
     ]
    },
    {
     "data": {
      "text/plain": [
       "<tensorflow.python.keras.callbacks.History at 0x1e5f2ecf6c8>"
      ]
     },
     "execution_count": 18,
     "metadata": {},
     "output_type": "execute_result"
    }
   ],
   "source": [
    "model.fit(articles.dataset(200000, len(articles.articles)), callbacks=[checkpoint_callback, model_state_resetter_callback])"
   ]
  },
  {
   "cell_type": "code",
   "execution_count": 19,
   "metadata": {},
   "outputs": [
    {
     "name": "stdout",
     "output_type": "stream",
     "text": [
      "32041/32041 [==============================] - 22347s 697ms/step - loss: 0.7064 - average_batch_length: 11.9901\n"
     ]
    },
    {
     "data": {
      "text/plain": [
       "<tensorflow.python.keras.callbacks.History at 0x1e5f2f2d208>"
      ]
     },
     "execution_count": 19,
     "metadata": {},
     "output_type": "execute_result"
    }
   ],
   "source": [
    "model.fit(articles.dataset(0, len(articles.articles)), callbacks=[checkpoint_callback, model_state_resetter_callback])"
   ]
  },
  {
   "cell_type": "code",
   "execution_count": 20,
   "metadata": {},
   "outputs": [
    {
     "name": "stdout",
     "output_type": "stream",
     "text": [
      "32041/32041 [==============================] - 22645s 707ms/step - loss: 0.7042 - average_batch_length: 11.9901\n"
     ]
    },
    {
     "data": {
      "text/plain": [
       "<tensorflow.python.keras.callbacks.History at 0x1e5f2f5fbc8>"
      ]
     },
     "execution_count": 20,
     "metadata": {},
     "output_type": "execute_result"
    }
   ],
   "source": [
    "model.fit(articles.dataset(0, len(articles.articles)), callbacks=[checkpoint_callback, model_state_resetter_callback])"
   ]
  },
  {
   "cell_type": "markdown",
   "metadata": {},
   "source": [
    "Видяхме колко време отнема обработката на batch-ове с динамичен размер. GPU-тата са известни с къси pipeline-ове за инструкции и лош branch prediction. Ще е интересно да видим дали batch-ове с фиксиран размер ще доведат до expand-ване на цикъла по размерността за `BATCHED_ITEM_LENGTH` и потенциално да доведат до по-бързи итерации."
   ]
  },
  {
   "cell_type": "code",
   "execution_count": 6,
   "metadata": {},
   "outputs": [],
   "source": [
    "class Articles:\n",
    "    EMPTY_ARTICLE = np.array([], dtype=TYPE) # used for padding\n",
    "\n",
    "    def __init__(self, path):\n",
    "        with open(path, 'rb') as text_file:\n",
    "            articles = [np.array(subword_text_encoder.encode(article), dtype=TYPE) for article in text_file.read().split(b'\\0')]\n",
    "            self.articles = sorted(articles, key=len)\n",
    "\n",
    "    def articles_generator(self, start, end):\n",
    "        for _ in range(BATCH_SIZE - ((end - start - 1) % BATCH_SIZE + 1)):\n",
    "            yield self.EMPTY_ARTICLE\n",
    "\n",
    "        for article in itertools.islice(self.articles, start, end):\n",
    "            yield article\n",
    "\n",
    "    def subbatch_generator(self, start, end):\n",
    "        dataset = tf.data.Dataset.from_generator(self.articles_generator, args=(start, end), output_types=TYPE)\n",
    "        dataset = dataset.padded_batch(BATCH_SIZE, padded_shapes=([None]), drop_remainder=True)\n",
    "        dataset = dataset.shuffle(50)\n",
    "\n",
    "        for batch in dataset.as_numpy_iterator():\n",
    "            remaining = batch\n",
    "            while remaining.shape[1] >= BATCHED_ITEM_LENGTH + 1:\n",
    "                yield remaining[:, :BATCHED_ITEM_LENGTH + 1]\n",
    "                remaining = remaining[:, BATCHED_ITEM_LENGTH:]\n",
    "\n",
    "            if remaining.shape[1] != 0:\n",
    "                yield np.hstack([remaining, np.zeros([BATCH_SIZE, BATCHED_ITEM_LENGTH - remaining.shape[1] + 1])])\n",
    "\n",
    "    def dataset(self, start = None, end = None):\n",
    "        if start == None:\n",
    "            start = 0\n",
    "\n",
    "        if end == None:\n",
    "            end = len(self.articles)\n",
    "\n",
    "        dataset = tf.data.Dataset.from_generator(self.subbatch_generator, args=(start, end), output_types=TYPE, output_shapes=(BATCH_SIZE, BATCHED_ITEM_LENGTH + 1))\n",
    "        return dataset.map(lambda batch: (batch[:, :-1], batch[:, 1:]))"
   ]
  },
  {
   "cell_type": "code",
   "execution_count": 7,
   "metadata": {},
   "outputs": [],
   "source": [
    "articles = Articles('page_revisions_text')"
   ]
  },
  {
   "cell_type": "code",
   "execution_count": 8,
   "metadata": {},
   "outputs": [],
   "source": [
    "def build_model(vocab_size, embedding_dim, rnn_units):\n",
    "    return tf.keras.Sequential([\n",
    "        tf.keras.layers.Masking(mask_value=0, batch_input_shape=[BATCH_SIZE, BATCHED_ITEM_LENGTH]),\n",
    "        tf.keras.layers.Embedding(vocab_size, embedding_dim),\n",
    "        tf.keras.layers.GRU(rnn_units, return_sequences=True, stateful=True, recurrent_initializer='glorot_uniform'),\n",
    "        tf.keras.layers.GRU(rnn_units, return_sequences=True, stateful=True, recurrent_initializer='glorot_uniform'),\n",
    "        tf.keras.layers.GRU(rnn_units, return_sequences=True, stateful=True, recurrent_initializer='glorot_uniform'),\n",
    "        tf.keras.layers.Dense(vocab_size),\n",
    "    ])"
   ]
  },
  {
   "cell_type": "code",
   "execution_count": 9,
   "metadata": {},
   "outputs": [],
   "source": [
    "model = build_model(vocab_size = subword_text_encoder.vocab_size, embedding_dim=512, rnn_units=768)\n",
    "model.load_weights(tf.train.latest_checkpoint(checkpoint_dir))\n",
    "model.compile(optimizer='adam', loss=loss, metrics=[average_batch_length])"
   ]
  },
  {
   "cell_type": "code",
   "execution_count": 10,
   "metadata": {
    "scrolled": false
   },
   "outputs": [
    {
     "name": "stdout",
     "output_type": "stream",
     "text": [
      "31323/31323 [==============================] - 22103s 706ms/step - loss: 0.6863 - average_batch_length: 12.0000\n"
     ]
    },
    {
     "data": {
      "text/plain": [
       "<tensorflow.python.keras.callbacks.History at 0x1c008e798c8>"
      ]
     },
     "execution_count": 10,
     "metadata": {},
     "output_type": "execute_result"
    }
   ],
   "source": [
    "model.fit(articles.dataset(), callbacks=[checkpoint_callback, model_state_resetter_callback])"
   ]
  },
  {
   "cell_type": "code",
   "execution_count": 13,
   "metadata": {},
   "outputs": [
    {
     "name": "stdout",
     "output_type": "stream",
     "text": [
      "31323/31323 [==============================] - 22090s 705ms/step - loss: 0.6939 - average_batch_length: 12.0000\n"
     ]
    },
    {
     "data": {
      "text/plain": [
       "<tensorflow.python.keras.callbacks.History at 0x1bf97e72148>"
      ]
     },
     "execution_count": 13,
     "metadata": {},
     "output_type": "execute_result"
    }
   ],
   "source": [
    "model.fit(articles.dataset(), callbacks=[checkpoint_callback, model_state_resetter_callback])"
   ]
  },
  {
   "cell_type": "markdown",
   "metadata": {},
   "source": [
    "Никакъв ефект. Скоростта е абсолютно идентична."
   ]
  }
 ],
 "metadata": {
  "kernelspec": {
   "display_name": "Python 3",
   "language": "python",
   "name": "python3"
  },
  "language_info": {
   "codemirror_mode": {
    "name": "ipython",
    "version": 3
   },
   "file_extension": ".py",
   "mimetype": "text/x-python",
   "name": "python",
   "nbconvert_exporter": "python",
   "pygments_lexer": "ipython3",
   "version": "3.7.5"
  }
 },
 "nbformat": 4,
 "nbformat_minor": 4
}
