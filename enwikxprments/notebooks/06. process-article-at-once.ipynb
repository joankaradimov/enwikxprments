{
 "cells": [
  {
   "cell_type": "code",
   "execution_count": 1,
   "metadata": {},
   "outputs": [],
   "source": [
    "import tensorflow as tf\n",
    "\n",
    "import numpy as np\n",
    "import os\n",
    "import time"
   ]
  },
  {
   "cell_type": "code",
   "execution_count": 2,
   "metadata": {},
   "outputs": [
    {
     "data": {
      "text/plain": [
       "<MapDataset shapes: ((4, None), (4, None)), types: (tf.uint8, tf.uint8)>"
      ]
     },
     "execution_count": 2,
     "metadata": {},
     "output_type": "execute_result"
    }
   ],
   "source": [
    "BATCH_SIZE = 4\n",
    "BUFFER_SIZE = 128\n",
    "\n",
    "with open('page_revisions_text', 'rb') as text_file:\n",
    "    data = text_file.read()\n",
    "\n",
    "articles = data.split(b'\\0')[:2000]\n",
    "\n",
    "def articles_generator():\n",
    "    for article in articles:\n",
    "        yield np.frombuffer(article, dtype=np.uint8)\n",
    "\n",
    "def split_input_target(chunk):\n",
    "    return chunk[:, :-1], chunk[:, 1:]\n",
    "\n",
    "dataset = tf.data.Dataset.from_generator(articles_generator, tf.uint8)\n",
    "dataset = dataset.shuffle(BUFFER_SIZE).padded_batch(BATCH_SIZE, padded_shapes=([None]), drop_remainder=True)\n",
    "dataset = dataset.map(split_input_target)\n",
    "\n",
    "dataset"
   ]
  },
  {
   "cell_type": "code",
   "execution_count": 3,
   "metadata": {},
   "outputs": [],
   "source": [
    "vocab_size = 256\n",
    "embedding_dim = 256\n",
    "rnn_units = 384\n",
    "\n",
    "def build_model(vocab_size, embedding_dim, rnn_units, batch_size):\n",
    "    return tf.keras.Sequential([\n",
    "        tf.keras.layers.Embedding(vocab_size, embedding_dim, batch_input_shape=[batch_size, None]),\n",
    "        tf.keras.layers.LSTM(rnn_units, return_sequences=True, recurrent_initializer='glorot_uniform'),\n",
    "        tf.keras.layers.Dense(vocab_size),\n",
    "    ])"
   ]
  },
  {
   "cell_type": "code",
   "execution_count": 4,
   "metadata": {},
   "outputs": [],
   "source": [
    "def loss(labels, logits):\n",
    "    return tf.keras.losses.sparse_categorical_crossentropy(labels, logits, from_logits=True)"
   ]
  },
  {
   "cell_type": "code",
   "execution_count": 5,
   "metadata": {},
   "outputs": [],
   "source": [
    "model = build_model(vocab_size = vocab_size, embedding_dim=embedding_dim, rnn_units=rnn_units, batch_size=BATCH_SIZE)\n",
    "model.compile(optimizer='adam', loss=loss)"
   ]
  },
  {
   "cell_type": "code",
   "execution_count": 6,
   "metadata": {},
   "outputs": [],
   "source": [
    "# Directory where the checkpoints will be saved\n",
    "checkpoint_dir = './training_checkpoints'\n",
    "# Name of the checkpoint files\n",
    "checkpoint_prefix = os.path.join(checkpoint_dir, \"ckpt_{epoch}\")\n",
    "\n",
    "checkpoint_callback=tf.keras.callbacks.ModelCheckpoint(filepath=checkpoint_prefix, save_weights_only=True)"
   ]
  },
  {
   "cell_type": "code",
   "execution_count": 7,
   "metadata": {
    "scrolled": true
   },
   "outputs": [
    {
     "name": "stdout",
     "output_type": "stream",
     "text": [
      "Epoch 1/10\n",
      "500/500 [==============================] - 683s 1s/step - loss: 1.3462\n",
      "Epoch 2/10\n",
      "500/500 [==============================] - 674s 1s/step - loss: 0.9887\n",
      "Epoch 3/10\n",
      "500/500 [==============================] - 668s 1s/step - loss: 0.8993\n",
      "Epoch 4/10\n",
      "500/500 [==============================] - 674s 1s/step - loss: 0.8371\n",
      "Epoch 5/10\n",
      "500/500 [==============================] - 678s 1s/step - loss: 0.7917\n",
      "Epoch 6/10\n",
      "500/500 [==============================] - 672s 1s/step - loss: 0.7556\n",
      "Epoch 7/10\n",
      "500/500 [==============================] - 676s 1s/step - loss: 0.7082\n",
      "Epoch 8/10\n",
      "500/500 [==============================] - 671s 1s/step - loss: 0.6926\n",
      "Epoch 9/10\n",
      "500/500 [==============================] - 670s 1s/step - loss: 0.6842\n",
      "Epoch 10/10\n",
      "500/500 [==============================] - 667s 1s/step - loss: 0.6631\n"
     ]
    }
   ],
   "source": [
    "history = model.fit(dataset, epochs=10, callbacks=[checkpoint_callback])"
   ]
  },
  {
   "cell_type": "code",
   "execution_count": 8,
   "metadata": {},
   "outputs": [
    {
     "name": "stdout",
     "output_type": "stream",
     "text": [
      "Epoch 1/3\n",
      "500/500 [==============================] - 681s 1s/step - loss: 0.6439\n",
      "Epoch 2/3\n",
      "500/500 [==============================] - 676s 1s/step - loss: 0.6327\n",
      "Epoch 3/3\n",
      "500/500 [==============================] - 680s 1s/step - loss: 0.6185\n"
     ]
    }
   ],
   "source": [
    "history = model.fit(dataset, epochs=3, callbacks=[checkpoint_callback])"
   ]
  },
  {
   "cell_type": "code",
   "execution_count": 9,
   "metadata": {},
   "outputs": [
    {
     "name": "stdout",
     "output_type": "stream",
     "text": [
      "Epoch 1/2\n",
      "500/500 [==============================] - 674s 1s/step - loss: 0.6134\n",
      "Epoch 2/2\n",
      "500/500 [==============================] - 678s 1s/step - loss: 0.6027\n"
     ]
    }
   ],
   "source": [
    "history = model.fit(dataset, epochs=2, callbacks=[checkpoint_callback])"
   ]
  },
  {
   "cell_type": "code",
   "execution_count": 10,
   "metadata": {},
   "outputs": [
    {
     "name": "stdout",
     "output_type": "stream",
     "text": [
      "Epoch 1/2\n",
      "500/500 [==============================] - 670s 1s/step - loss: 0.5982\n",
      "Epoch 2/2\n",
      "500/500 [==============================] - 674s 1s/step - loss: 0.5924\n"
     ]
    }
   ],
   "source": [
    "history = model.fit(dataset, epochs=2, callbacks=[checkpoint_callback])"
   ]
  },
  {
   "cell_type": "code",
   "execution_count": 11,
   "metadata": {},
   "outputs": [
    {
     "name": "stdout",
     "output_type": "stream",
     "text": [
      "Epoch 1/2\n",
      "500/500 [==============================] - 686s 1s/step - loss: 0.5815\n",
      "Epoch 2/2\n",
      "500/500 [==============================] - 681s 1s/step - loss: 0.5725\n"
     ]
    }
   ],
   "source": [
    "history = model.fit(dataset, epochs=2, callbacks=[checkpoint_callback])"
   ]
  },
  {
   "cell_type": "code",
   "execution_count": 12,
   "metadata": {},
   "outputs": [
    {
     "name": "stdout",
     "output_type": "stream",
     "text": [
      "Epoch 1/2\n",
      "500/500 [==============================] - 680s 1s/step - loss: 0.5759\n",
      "Epoch 2/2\n",
      "500/500 [==============================] - 668s 1s/step - loss: 0.5638\n"
     ]
    }
   ],
   "source": [
    "history = model.fit(dataset, epochs=2, callbacks=[checkpoint_callback])"
   ]
  },
  {
   "cell_type": "code",
   "execution_count": 14,
   "metadata": {},
   "outputs": [
    {
     "data": {
      "text/plain": [
       "25541"
      ]
     },
     "execution_count": 14,
     "metadata": {},
     "output_type": "execute_result"
    }
   ],
   "source": [
    "with open('page_revisions_text', 'rb') as text_file:\n",
    "    data = text_file.read()\n",
    "\n",
    "articles = data.split(b'\\0')[:2000]\n",
    "del data\n",
    "\n",
    "article = articles[120]\n",
    "del articles\n",
    "\n",
    "len(article)"
   ]
  },
  {
   "cell_type": "code",
   "execution_count": 15,
   "metadata": {},
   "outputs": [],
   "source": [
    "import huffman\n",
    "\n",
    "def huffman_archive_size(model, text):\n",
    "    archived_size = 0\n",
    "    ones = 0\n",
    "    input_eval = [s for s in b' ']\n",
    "    input_eval = tf.expand_dims(input_eval, 0)\n",
    "  \n",
    "    # Empty string to store our results\n",
    "    text_generated = []\n",
    "\n",
    "    model.reset_states()\n",
    "\n",
    "    for byte in text:\n",
    "        predictions = model(input_eval)\n",
    "        # remove the batch dimension\n",
    "        predictions = tf.squeeze(predictions, 0)\n",
    "  \n",
    "        probabilities = tf.nn.softmax(predictions[0])\n",
    "        codebook = huffman.codebook([index, tensor.numpy()] for index, tensor in enumerate(probabilities))\n",
    "\n",
    "        code = codebook[byte]\n",
    "        ones += code.count('1')\n",
    "        archived_size += len(code)\n",
    "\n",
    "        input_eval = tf.expand_dims([byte], 0)\n",
    "  \n",
    "    return ones, archived_size"
   ]
  },
  {
   "cell_type": "code",
   "execution_count": 16,
   "metadata": {},
   "outputs": [],
   "source": [
    "tf.train.latest_checkpoint(checkpoint_dir)\n",
    "model = build_model(vocab_size, embedding_dim, rnn_units, batch_size=1)\n",
    "model.load_weights(tf.train.latest_checkpoint(checkpoint_dir))\n",
    "model.build(tf.TensorShape([1, None]))"
   ]
  },
  {
   "cell_type": "code",
   "execution_count": 17,
   "metadata": {},
   "outputs": [
    {
     "name": "stdout",
     "output_type": "stream",
     "text": [
      "\n",
      "Total length: 180886\n",
      "Compression ratio: 0.8852726987980111\n",
      "Potential compression ratio with arithmetic coding: 0.8852726987980111\n"
     ]
    }
   ],
   "source": [
    "ones, archived_size = huffman_archive_size(model, article)\n",
    "print('\\nTotal length:', archived_size)\n",
    "\n",
    "compression_ratio = archived_size / (len(article) * 8)\n",
    "print('Compression ratio:', compression_ratio)\n",
    "\n",
    "k = (ones / archived_size)\n",
    "compression_ratio * (-k * np.log2(k) - (1-k) * np.log2(1-k))\n",
    "print('Potential compression ratio with arithmetic coding:', compression_ratio)"
   ]
  },
  {
   "cell_type": "markdown",
   "metadata": {},
   "source": [
    "Не работи добре. Това, което не се вижда в Jupyter тетрадката е, че GPU-то е натоварено на под 50%. Това контрастира с досегашните експерименти, където се използваха над 90%."
   ]
  },
  {
   "cell_type": "code",
   "execution_count": null,
   "metadata": {},
   "outputs": [],
   "source": []
  }
 ],
 "metadata": {
  "kernelspec": {
   "display_name": "Python 3",
   "language": "python",
   "name": "python3"
  },
  "language_info": {
   "codemirror_mode": {
    "name": "ipython",
    "version": 3
   },
   "file_extension": ".py",
   "mimetype": "text/x-python",
   "name": "python",
   "nbconvert_exporter": "python",
   "pygments_lexer": "ipython3",
   "version": "3.7.5"
  }
 },
 "nbformat": 4,
 "nbformat_minor": 4
}
