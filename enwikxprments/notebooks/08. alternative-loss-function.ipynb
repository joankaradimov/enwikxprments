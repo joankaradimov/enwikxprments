{
 "cells": [
  {
   "cell_type": "code",
   "execution_count": 1,
   "metadata": {},
   "outputs": [],
   "source": [
    "import os\n",
    "\n",
    "import tensorflow as tf\n",
    "import numpy as np"
   ]
  },
  {
   "cell_type": "code",
   "execution_count": 2,
   "metadata": {},
   "outputs": [
    {
     "data": {
      "text/plain": [
       "<MapDataset shapes: ((64, None), (64, None)), types: (tf.uint8, tf.uint8)>"
      ]
     },
     "execution_count": 2,
     "metadata": {},
     "output_type": "execute_result"
    }
   ],
   "source": [
    "BATCH_SIZE = 64\n",
    "BATCHED_ITEM_LENGTH = 128\n",
    "BUFFER_SIZE = 256\n",
    "\n",
    "with open('page_revisions_text', 'rb') as text_file:\n",
    "    data = text_file.read()\n",
    "\n",
    "articles = sorted(data.split(b'\\0')[:2000], key=len)\n",
    "\n",
    "def articles_generator():\n",
    "    for index, article in enumerate(articles):\n",
    "        yield np.frombuffer(article + b'\\0', dtype=np.uint8)\n",
    "\n",
    "    # Pad the article count to the batch size\n",
    "    # We do this to ensure that no data is dropped\n",
    "    index += 1\n",
    "    while index % BATCH_SIZE != 0:\n",
    "        yield np.frombuffer(b'\\0', dtype=np.uint8)\n",
    "        index += 1\n",
    "        \n",
    "def subbatches():\n",
    "    dataset = tf.data.Dataset.from_generator(articles_generator, output_types=tf.uint8)\n",
    "    dataset = dataset.shuffle(BUFFER_SIZE)\n",
    "    dataset = dataset.padded_batch(BATCH_SIZE, padded_shapes=([None]), drop_remainder=True)\n",
    "\n",
    "    for batch in dataset.as_numpy_iterator():\n",
    "        remaining = batch\n",
    "        while remaining.shape[1] > 1:\n",
    "            yield remaining[:, :BATCHED_ITEM_LENGTH]\n",
    "            remaining = remaining[:, BATCHED_ITEM_LENGTH-1:]\n",
    "\n",
    "dataset = tf.data.Dataset.from_generator(subbatches, output_types=tf.uint8, output_shapes=(BATCH_SIZE, None))\n",
    "dataset = dataset.map(lambda batch: (batch[:, :-1], batch[:, 1:]))\n",
    "\n",
    "dataset"
   ]
  },
  {
   "cell_type": "code",
   "execution_count": 3,
   "metadata": {},
   "outputs": [],
   "source": [
    "vocab_size = 256\n",
    "embedding_dim = 256\n",
    "rnn_units = 1024\n",
    "\n",
    "def build_model(vocab_size, embedding_dim, rnn_units, batch_size):\n",
    "    return tf.keras.Sequential([\n",
    "        tf.keras.layers.Embedding(vocab_size, embedding_dim, batch_input_shape=[batch_size, None]),\n",
    "        tf.keras.layers.LSTM(rnn_units, return_sequences=True, stateful=True, recurrent_initializer='glorot_uniform'),\n",
    "        tf.keras.layers.Dense(vocab_size),\n",
    "    ])"
   ]
  },
  {
   "cell_type": "code",
   "execution_count": 8,
   "metadata": {},
   "outputs": [],
   "source": [
    "from tensorflow.python.eager import context\n",
    "from tensorflow.python.keras import backend_config\n",
    "from tensorflow.python.framework import constant_op\n",
    "from tensorflow.python.framework import ops\n",
    "from tensorflow.python.framework import tensor_util\n",
    "from tensorflow.python.ops import array_ops\n",
    "from tensorflow.python.ops import nn\n",
    "from tensorflow.python.ops import clip_ops\n",
    "from tensorflow.python.ops import math_ops\n",
    "from tensorflow.python.ops import variables as variables_module\n",
    "\n",
    "epsilon = backend_config.epsilon\n",
    "\n",
    "def get_graph():\n",
    "    if context.executing_eagerly():\n",
    "        global _GRAPH\n",
    "        if _GRAPH is None:\n",
    "            _GRAPH = func_graph.FuncGraph('keras_graph')\n",
    "        return _GRAPH\n",
    "    else:\n",
    "        return ops.get_default_graph()\n",
    "\n",
    "def flatten(x):\n",
    "    return array_ops.reshape(x, [-1])\n",
    "\n",
    "def cast(x, dtype):\n",
    "    return math_ops.cast(x, dtype)\n",
    "  \n",
    "def _is_symbolic_tensor(x):\n",
    "    return tensor_util.is_tensor(x) and not isinstance(x, ops.EagerTensor)\n",
    "\n",
    "# This is based around the `sparse_categorical_crossentropy` implementation in Keras:\n",
    "# https://github.com/tensorflow/tensorflow/blob/v2.1.0/tensorflow/python/keras/backend.py#L4507-L4582\n",
    "def loss(target, output, from_logits=False, axis=-1):\n",
    "    if not from_logits:\n",
    "        if (isinstance(output, (ops.EagerTensor, variables_module.Variable)) or output.op.type != 'Softmax'):\n",
    "            epsilon_ = constant_op.constant(epsilon(), dtype=output.dtype.base_dtype)\n",
    "            output = clip_ops.clip_by_value(output, epsilon_, 1 - epsilon_)\n",
    "            output = math_ops.log(output)\n",
    "        else:\n",
    "            # When softmax activation function is used for output operation, we\n",
    "            # use logits from the softmax function directly to compute loss in order\n",
    "            # to prevent collapsing zero when training.\n",
    "            # See b/117284466\n",
    "            assert len(output.op.inputs) == 1\n",
    "            output = output.op.inputs[0]\n",
    "  \n",
    "    if isinstance(output.shape, (tuple, list)):\n",
    "        output_rank = len(output.shape)\n",
    "    else:\n",
    "        output_rank = output.shape.ndims\n",
    "\n",
    "    if output_rank is not None:\n",
    "        axis %= output_rank\n",
    "        if axis != output_rank - 1:\n",
    "            permutation = list(itertools.chain(range(axis), range(axis + 1, output_rank), [axis]))\n",
    "            output = array_ops.transpose(output, perm=permutation)\n",
    "    elif axis != -1:\n",
    "        raise ValueError(\n",
    "            'Cannot compute sparse categorical crossentropy with `axis={}` on an '\n",
    "            'output tensor with unknown rank'.format(axis))\n",
    "  \n",
    "    target = cast(target, 'int64')\n",
    "  \n",
    "    # Try to adjust the shape so that rank of labels = rank of logits - 1.\n",
    "    output_shape = array_ops.shape_v2(output)\n",
    "    target_rank = target.shape.ndims\n",
    "  \n",
    "    update_shape = (target_rank is not None and output_rank is not None and target_rank != output_rank - 1)\n",
    "    if update_shape:\n",
    "        target = flatten(target)\n",
    "        output = array_ops.reshape(output, [-1, output_shape[-1]])\n",
    "  \n",
    "    if __builtins__.any([_is_symbolic_tensor(v) for v in [target, output]]):\n",
    "        with get_graph().as_default():\n",
    "            res = huffman_code_lengths(labels=target, logits=output)\n",
    "    else:\n",
    "        res = huffman_code_lengths(labels=target, logits=output)\n",
    "  \n",
    "    if update_shape and output_rank >= 3:\n",
    "        # If our output includes timesteps or spatial dimensions we need to reshape\n",
    "        return array_ops.reshape(res, output_shape[:-1])\n",
    "    else:\n",
    "        return res\n",
    "\n",
    "def huffman_code_lengths(labels, logits):\n",
    "    category_count = logits.shape[-1] or 0\n",
    "    return tf.reduce_sum(-tf.math.log(tf.one_hot(labels, depth=category_count) * tf.nn.softmax(logits) + 0.0001), axis=-1)"
   ]
  },
  {
   "cell_type": "code",
   "execution_count": 33,
   "metadata": {},
   "outputs": [],
   "source": [
    "def average_batch_length(true_labels, predictions):\n",
    "    return tf.shape(true_labels)[1]"
   ]
  },
  {
   "cell_type": "code",
   "execution_count": 34,
   "metadata": {},
   "outputs": [],
   "source": [
    "checkpoint_dir = './training_checkpoints' # Directory where the checkpoints will be saved\n",
    "checkpoint_prefix = os.path.join(checkpoint_dir, \"ckpt_{epoch}\") # Name of the checkpoint files\n",
    "\n",
    "checkpoint_callback = tf.keras.callbacks.ModelCheckpoint(filepath=checkpoint_prefix, save_weights_only=True)"
   ]
  },
  {
   "cell_type": "code",
   "execution_count": 35,
   "metadata": {},
   "outputs": [],
   "source": [
    "class ModelStateResetter(tf.keras.callbacks.Callback):\n",
    "    def __init__(self):\n",
    "        self.last_total_length = 0\n",
    "\n",
    "    def on_batch_end(self, batch, logs={}):\n",
    "        total_length = int(round(logs['average_batch_length'] * (batch + 1)))\n",
    "        current_batch_length = total_length - self.last_total_length\n",
    "        self.last_total_length = total_length\n",
    "        \n",
    "        if current_batch_length < BATCHED_ITEM_LENGTH - 1:\n",
    "            self.model.reset_states()\n",
    "        \n",
    "model_state_resetter_callback = ModelStateResetter()"
   ]
  },
  {
   "cell_type": "code",
   "execution_count": 38,
   "metadata": {},
   "outputs": [
    {
     "name": "stdout",
     "output_type": "stream",
     "text": [
      "Learning rate 0.100000:\n",
      "4979/4979 [==============================] - 322s 65ms/step - loss: 2349.5985 - average_batch_length: 126.5836\n",
      "Learning rate 0.300000:\n",
      "4866/4866 [==============================] - 318s 65ms/step - loss: 2349.5950 - average_batch_length: 126.4969\n",
      "Learning rate 1.000000:\n",
      "4728/4728 [==============================] - 309s 65ms/step - loss: 2352.4054 - average_batch_length: 126.5118\n",
      "Learning rate 3.000000:\n",
      "4916/4916 [==============================] - 316s 64ms/step - loss: 2352.2487 - average_batch_length: 126.5950\n",
      "Learning rate 10.000000:\n",
      "4963/4963 [==============================] - 320s 64ms/step - loss: 2353.7888 - average_batch_length: 126.5098\n"
     ]
    }
   ],
   "source": [
    "for learning_rate in [0.1, 0.3, 1, 3, 10]:\n",
    "    print('Learning rate %f:' % learning_rate)\n",
    "    optimizer = tf.keras.optimizers.Adadelta(learning_rate=learning_rate)\n",
    "\n",
    "    model = build_model(vocab_size = vocab_size, embedding_dim=embedding_dim, rnn_units=rnn_units, batch_size=BATCH_SIZE)\n",
    "    model.compile(optimizer=optimizer, loss=loss, metrics=[average_batch_length])\n",
    "    model.fit(dataset, callbacks=[checkpoint_callback, model_state_resetter_callback])"
   ]
  },
  {
   "cell_type": "code",
   "execution_count": 39,
   "metadata": {},
   "outputs": [
    {
     "name": "stdout",
     "output_type": "stream",
     "text": [
      "Learning rate 30.000000:\n",
      "4976/4976 [==============================] - 321s 65ms/step - loss: 2352.5503 - average_batch_length: 126.5695\n",
      "Learning rate 100.000000:\n",
      "4891/4891 [==============================] - 315s 64ms/step - loss: 2352.3782 - average_batch_length: 126.5551\n",
      "Learning rate 300.000000:\n",
      "4759/4759 [==============================] - 308s 65ms/step - loss: 2350.6107 - average_batch_length: 126.5592\n"
     ]
    }
   ],
   "source": [
    "for learning_rate in [30, 100, 300]:\n",
    "    print('Learning rate %f:' % learning_rate)\n",
    "    optimizer = tf.keras.optimizers.Adadelta(learning_rate=learning_rate)\n",
    "\n",
    "    model = build_model(vocab_size = vocab_size, embedding_dim=embedding_dim, rnn_units=rnn_units, batch_size=BATCH_SIZE)\n",
    "    model.compile(optimizer=optimizer, loss=loss, metrics=[average_batch_length])\n",
    "    model.fit(dataset, callbacks=[checkpoint_callback, model_state_resetter_callback])"
   ]
  },
  {
   "cell_type": "code",
   "execution_count": 49,
   "metadata": {},
   "outputs": [
    {
     "data": {
      "text/plain": [
       "7047"
      ]
     },
     "execution_count": 49,
     "metadata": {},
     "output_type": "execute_result"
    }
   ],
   "source": [
    "with open('page_revisions_text', 'rb') as text_file:\n",
    "    data = text_file.read()\n",
    "\n",
    "articles = data.split(b'\\0')[:2000]\n",
    "del data\n",
    "\n",
    "article = articles[151]\n",
    "del articles\n",
    "\n",
    "len(article)"
   ]
  },
  {
   "cell_type": "code",
   "execution_count": 50,
   "metadata": {},
   "outputs": [],
   "source": [
    "import huffman\n",
    "\n",
    "def huffman_archive_size(model, text):\n",
    "    archived_size = 0\n",
    "    ones = 0\n",
    "    input_eval = [s for s in b' ']\n",
    "    input_eval = tf.expand_dims(input_eval, 0)\n",
    "  \n",
    "    # Empty string to store our results\n",
    "    text_generated = []\n",
    "\n",
    "    model.reset_states()\n",
    "\n",
    "    for byte in text:\n",
    "        predictions = model(input_eval)\n",
    "        # remove the batch dimension\n",
    "        predictions = tf.squeeze(predictions, 0)\n",
    "  \n",
    "        probabilities = tf.nn.softmax(predictions[0])\n",
    "        codebook = huffman.codebook([index, tensor.numpy()] for index, tensor in enumerate(probabilities))\n",
    "\n",
    "        code = codebook[byte]\n",
    "        ones += code.count('1')\n",
    "        archived_size += len(code)\n",
    "\n",
    "        input_eval = tf.expand_dims([byte], 0)\n",
    "  \n",
    "    return ones, archived_size"
   ]
  },
  {
   "cell_type": "code",
   "execution_count": 51,
   "metadata": {},
   "outputs": [],
   "source": [
    "tf.train.latest_checkpoint(checkpoint_dir)\n",
    "model = build_model(vocab_size, embedding_dim, rnn_units, batch_size=1)\n",
    "model.load_weights(tf.train.latest_checkpoint(checkpoint_dir))\n",
    "model.build(tf.TensorShape([1, None]))"
   ]
  },
  {
   "cell_type": "code",
   "execution_count": 52,
   "metadata": {},
   "outputs": [
    {
     "name": "stdout",
     "output_type": "stream",
     "text": [
      "WARNING:tensorflow:Unresolved object in checkpoint: (root).optimizer\n",
      "WARNING:tensorflow:Unresolved object in checkpoint: (root).optimizer.iter\n",
      "WARNING:tensorflow:Unresolved object in checkpoint: (root).optimizer.decay\n",
      "WARNING:tensorflow:Unresolved object in checkpoint: (root).optimizer.learning_rate\n",
      "WARNING:tensorflow:Unresolved object in checkpoint: (root).optimizer.rho\n",
      "WARNING:tensorflow:Unresolved object in checkpoint: (root).optimizer's state 'accum_grad' for (root).layer_with_weights-0.embeddings\n",
      "WARNING:tensorflow:Unresolved object in checkpoint: (root).optimizer's state 'accum_grad' for (root).layer_with_weights-2.kernel\n",
      "WARNING:tensorflow:Unresolved object in checkpoint: (root).optimizer's state 'accum_grad' for (root).layer_with_weights-2.bias\n",
      "WARNING:tensorflow:Unresolved object in checkpoint: (root).optimizer's state 'accum_grad' for (root).layer_with_weights-1.cell.kernel\n",
      "WARNING:tensorflow:Unresolved object in checkpoint: (root).optimizer's state 'accum_grad' for (root).layer_with_weights-1.cell.recurrent_kernel\n",
      "WARNING:tensorflow:Unresolved object in checkpoint: (root).optimizer's state 'accum_grad' for (root).layer_with_weights-1.cell.bias\n",
      "WARNING:tensorflow:Unresolved object in checkpoint: (root).optimizer's state 'accum_var' for (root).layer_with_weights-0.embeddings\n",
      "WARNING:tensorflow:Unresolved object in checkpoint: (root).optimizer's state 'accum_var' for (root).layer_with_weights-2.kernel\n",
      "WARNING:tensorflow:Unresolved object in checkpoint: (root).optimizer's state 'accum_var' for (root).layer_with_weights-2.bias\n",
      "WARNING:tensorflow:Unresolved object in checkpoint: (root).optimizer's state 'accum_var' for (root).layer_with_weights-1.cell.kernel\n",
      "WARNING:tensorflow:Unresolved object in checkpoint: (root).optimizer's state 'accum_var' for (root).layer_with_weights-1.cell.recurrent_kernel\n",
      "WARNING:tensorflow:Unresolved object in checkpoint: (root).optimizer's state 'accum_var' for (root).layer_with_weights-1.cell.bias\n",
      "WARNING:tensorflow:A checkpoint was restored (e.g. tf.train.Checkpoint.restore or tf.keras.Model.load_weights) but not all checkpointed values were used. See above for specific issues. Use expect_partial() on the load status object, e.g. tf.train.Checkpoint.restore(...).expect_partial(), to silence these warnings, or use assert_consumed() to make the check explicit. See https://www.tensorflow.org/guide/checkpoint#loading_mechanics for details.\n",
      "\n",
      "Total length: 121289\n",
      "Compression ratio: 2.151429686391372\n",
      "Potential compression ratio with arithmetic coding: 2.115375461462686\n"
     ]
    }
   ],
   "source": [
    "ones, archived_size = huffman_archive_size(model, article)\n",
    "print('\\nTotal length:', archived_size)\n",
    "\n",
    "compression_ratio = archived_size / (len(article) * 8)\n",
    "print('Compression ratio:', compression_ratio)\n",
    "\n",
    "k = (ones / archived_size)\n",
    "arithmetic_compression_ratio = compression_ratio * (-k * np.log2(k) - (1-k) * np.log2(1-k))\n",
    "print('Potential compression ratio with arithmetic coding:', arithmetic_compression_ratio)"
   ]
  },
  {
   "cell_type": "code",
   "execution_count": null,
   "metadata": {},
   "outputs": [],
   "source": []
  }
 ],
 "metadata": {
  "kernelspec": {
   "display_name": "Python 3",
   "language": "python",
   "name": "python3"
  },
  "language_info": {
   "codemirror_mode": {
    "name": "ipython",
    "version": 3
   },
   "file_extension": ".py",
   "mimetype": "text/x-python",
   "name": "python",
   "nbconvert_exporter": "python",
   "pygments_lexer": "ipython3",
   "version": "3.7.5"
  }
 },
 "nbformat": 4,
 "nbformat_minor": 4
}
