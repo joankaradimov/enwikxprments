{
 "cells": [
  {
   "cell_type": "markdown",
   "metadata": {},
   "source": [
    "Във всеки следващ от предишните експерименти ни се налагаше да чакаме все по-дълго. От части причината са все по-големите невронни мрежи. За това не можем да направим много.\n",
    "\n",
    "Но можем да оптимизираме един друг елемент - генерирането на Хъфман кодове. До сега използвахме имплементация на Python взета от наготово от PIP. Да видим дали можем да постигнем нещо по-добро с наша имплементация - на C++.\n",
    "\n",
    "Да поготвим помощна функция за измерване на време:"
   ]
  },
  {
   "cell_type": "code",
   "execution_count": 1,
   "metadata": {},
   "outputs": [],
   "source": [
    "import time\n",
    "import contextlib\n",
    "\n",
    "@contextlib.contextmanager\n",
    "def time_measure():\n",
    "    start = time.perf_counter()\n",
    "    yield\n",
    "    end = time.perf_counter()\n",
    "    print('Completed in %f seconds' % (end - start))"
   ]
  },
  {
   "cell_type": "markdown",
   "metadata": {},
   "source": [
    "И малко помощни данни:"
   ]
  },
  {
   "cell_type": "code",
   "execution_count": 2,
   "metadata": {},
   "outputs": [],
   "source": [
    "import numpy as np\n",
    "\n",
    "weights = np.random.rand(4096)"
   ]
  },
  {
   "cell_type": "markdown",
   "metadata": {},
   "source": [
    "С текущата имплементация (от PIP) имаме:"
   ]
  },
  {
   "cell_type": "code",
   "execution_count": 5,
   "metadata": {},
   "outputs": [
    {
     "name": "stdout",
     "output_type": "stream",
     "text": [
      "Completed in 19.849414 seconds\n"
     ]
    }
   ],
   "source": [
    "import huffman\n",
    "\n",
    "with time_measure():\n",
    "    for i in range(500):\n",
    "        tree = huffman.codebook([index, weight] for index, weight in enumerate(weights))"
   ]
  },
  {
   "cell_type": "code",
   "execution_count": 11,
   "metadata": {},
   "outputs": [
    {
     "name": "stdout",
     "output_type": "stream",
     "text": [
      "Completed in 0.218483 seconds\n"
     ]
    }
   ],
   "source": [
    "with time_measure():\n",
    "    for i in range(500):\n",
    "        {i: len(tree[i]) for i in range(len(weights))}"
   ]
  },
  {
   "cell_type": "code",
   "execution_count": 12,
   "metadata": {},
   "outputs": [
    {
     "name": "stdout",
     "output_type": "stream",
     "text": [
      "Completed in 0.170745 seconds\n"
     ]
    }
   ],
   "source": [
    "with time_measure():\n",
    "    for i in range(500):\n",
    "        {i: tree[i] for i in range(len(weights))}"
   ]
  },
  {
   "cell_type": "markdown",
   "metadata": {},
   "source": [
    "Да видим какво можем да постигнем с наша имплементация на C++, ползвайки я през `ctypes` модула:"
   ]
  },
  {
   "cell_type": "code",
   "execution_count": 13,
   "metadata": {},
   "outputs": [],
   "source": [
    "import ctypes\n",
    "\n",
    "chuffman = ctypes.CDLL('x64/Release/huffman')"
   ]
  },
  {
   "cell_type": "code",
   "execution_count": 14,
   "metadata": {},
   "outputs": [
    {
     "data": {
      "text/plain": [
       "2264940910992"
      ]
     },
     "execution_count": 14,
     "metadata": {},
     "output_type": "execute_result"
    }
   ],
   "source": [
    "chuffman.create_tree.argtypes = [ctypes.c_uint]\n",
    "chuffman.create_tree.restype = ctypes.c_void_p\n",
    "\n",
    "tree = chuffman.create_tree(len(weights))\n",
    "tree"
   ]
  },
  {
   "cell_type": "code",
   "execution_count": 15,
   "metadata": {},
   "outputs": [
    {
     "name": "stdout",
     "output_type": "stream",
     "text": [
      "Completed in 0.260833 seconds\n"
     ]
    }
   ],
   "source": [
    "chuffman.create_tree.argtypes = [ctypes.c_uint, ctypes.POINTER(ctypes.c_double)]\n",
    "chuffman.load_weights.restype = None\n",
    "\n",
    "with time_measure():\n",
    "    for i in range(500):\n",
    "        chuffman.load_weights(ctypes.c_void_p(tree), weights.ctypes.data_as(ctypes.POINTER(ctypes.c_double)))"
   ]
  },
  {
   "cell_type": "code",
   "execution_count": 16,
   "metadata": {},
   "outputs": [
    {
     "name": "stdout",
     "output_type": "stream",
     "text": [
      "Completed in 1.192149 seconds\n"
     ]
    }
   ],
   "source": [
    "with time_measure():\n",
    "    for i in range(500):\n",
    "        {i: chuffman.get_code_length(ctypes.c_void_p(tree), i) for i in range(len(weights))}"
   ]
  },
  {
   "cell_type": "code",
   "execution_count": 17,
   "metadata": {},
   "outputs": [
    {
     "name": "stdout",
     "output_type": "stream",
     "text": [
      "Completed in 2.936805 seconds\n"
     ]
    }
   ],
   "source": [
    "chuffman.create_code_string.restype = ctypes.c_char_p\n",
    "\n",
    "with time_measure():\n",
    "    for i in range(500):\n",
    "        {i: chuffman.create_code_string(ctypes.c_void_p(tree), i) for i in range(len(weights))}"
   ]
  },
  {
   "cell_type": "code",
   "execution_count": 18,
   "metadata": {},
   "outputs": [],
   "source": [
    "chuffman.destroy_tree.restype = None\n",
    "\n",
    "chuffman.destroy_tree(ctypes.c_void_p(tree))"
   ]
  },
  {
   "cell_type": "markdown",
   "metadata": {},
   "source": [
    "Двете имплементации имат различен интерфейс и това води до значими разлики във времената за изпълнение при ползването им. C++ имплементацията генерира вътрешната си структура осезаемо по-бързо, но след това при взимане на кодове е по-бавна. Тази разлика може да бъде скрита с кешове и сумарно C++ имплементацията би била над 10 пъти по-бърза.\n",
    "\n",
    "Но начинът, по който ползваме Хъфман кода е:\n",
    "  - зареждаме тегла\n",
    "  - генерираме ново дърво\n",
    "  - използваме единствен код от него\n",
    "\n",
    "Кешът би имал смисъл, ако взимахме множество кодове по повече от един път. Но при това ползване, C++ имплементацията би трябвало да е около 70 пъти по-бърза."
   ]
  }
 ],
 "metadata": {
  "kernelspec": {
   "display_name": "Python 3",
   "language": "python",
   "name": "python3"
  },
  "language_info": {
   "codemirror_mode": {
    "name": "ipython",
    "version": 3
   },
   "file_extension": ".py",
   "mimetype": "text/x-python",
   "name": "python",
   "nbconvert_exporter": "python",
   "pygments_lexer": "ipython3",
   "version": "3.7.5"
  }
 },
 "nbformat": 4,
 "nbformat_minor": 4
}
